{
 "cells": [
  {
   "cell_type": "code",
   "execution_count": 1,
   "metadata": {},
   "outputs": [],
   "source": [
    "\"\"\"\n",
    "TODO:\n",
    "Anda diharuskan membuat program diskon untuk sebuah toko belanja dengan ketentuan berikut.\n",
    "- Jika pelanggan berbelanja lebih dari 500.000 ribu, mereka akan mendapat potongan harga 10%.\n",
    "- Seorang pelanggan bernama Dico telah berbelanja senilai 750.000 ribu.\n",
    "- Buat operasi aritmetika untuk menghitung total harga belanja Dico setelah mendapatkan diskon, \n",
    "  dan simpan dalam variabel bernama \"total_harga\".\n",
    "\n",
    "Tips:\n",
    "- Ingat yang dicari adalah total harga belanja setelah diskon, bukan besaran potongan harga.\n",
    "\"\"\"\n",
    "# Jangan ubah kode ini\n",
    "dico = 750000\n",
    "\n",
    "# TODO: Silakan buat kode Anda di bawah ini.\n",
    "total_harga = 0.9*dico"
   ]
  },
  {
   "cell_type": "code",
   "execution_count": 2,
   "metadata": {},
   "outputs": [
    {
     "name": "stdout",
     "output_type": "stream",
     "text": [
      "675000.0\n"
     ]
    }
   ],
   "source": [
    "print(total_harga)"
   ]
  }
 ],
 "metadata": {
  "kernelspec": {
   "display_name": "base",
   "language": "python",
   "name": "python3"
  },
  "language_info": {
   "codemirror_mode": {
    "name": "ipython",
    "version": 3
   },
   "file_extension": ".py",
   "mimetype": "text/x-python",
   "name": "python",
   "nbconvert_exporter": "python",
   "pygments_lexer": "ipython3",
   "version": "3.11.11"
  }
 },
 "nbformat": 4,
 "nbformat_minor": 2
}
