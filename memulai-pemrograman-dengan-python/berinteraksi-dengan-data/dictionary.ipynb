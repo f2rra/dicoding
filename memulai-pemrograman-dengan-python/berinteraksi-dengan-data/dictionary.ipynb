{
 "cells": [
  {
   "cell_type": "code",
   "execution_count": 1,
   "metadata": {},
   "outputs": [],
   "source": [
    "\"\"\"\n",
    "TODO:\n",
    "Buatlah variabel dictionary dengan nama \"data_diri\",\n",
    "variabel tersebut berisi identitas diri Anda berdasarkan ketentuan berikut.\n",
    "- Memiliki key bernama \"firstName\":\n",
    "    - Isi value dengan nama depan Anda, pastikan bertipe data string.\n",
    "- Memiliki key bernama \"lastName\":\n",
    "    - Isi value dengan nama terakhir Anda, pastikan bertipe data string.\n",
    "- Memiliki key bernama \"age\":\n",
    "    - Isi value dengan umur Anda, pastikan bertipe data integer.\n",
    "- Memiliki key bernama \"isMarried\":\n",
    "    - Isi value dengan status pernikahan Anda, pastikan bertipe data boolean.\n",
    "\n",
    "Catatan:\n",
    "- Value pada dictionary harus berupa nilai sesungguhnya (literal) seperti string, \n",
    "  bilangan bulat (integer), dan boolean (benar atau salah).\n",
    "\"\"\"\n",
    "\n",
    "\n",
    "# TODO: Silakan buat kode Anda di bawah ini.\n",
    "data_diri = {'firstName' : 'Fathur Rahman', 'lastName' : 'Al Farizy', 'age' : 22, 'isMarried' : False}"
   ]
  },
  {
   "cell_type": "code",
   "execution_count": 2,
   "metadata": {},
   "outputs": [
    {
     "name": "stdout",
     "output_type": "stream",
     "text": [
      "Fathur Rahman Al Farizy 22 False\n"
     ]
    }
   ],
   "source": [
    "print(data_diri['firstName'], data_diri['lastName'], data_diri['age'], data_diri['isMarried'])"
   ]
  }
 ],
 "metadata": {
  "kernelspec": {
   "display_name": "base",
   "language": "python",
   "name": "python3"
  },
  "language_info": {
   "codemirror_mode": {
    "name": "ipython",
    "version": 3
   },
   "file_extension": ".py",
   "mimetype": "text/x-python",
   "name": "python",
   "nbconvert_exporter": "python",
   "pygments_lexer": "ipython3",
   "version": "3.11.11"
  }
 },
 "nbformat": 4,
 "nbformat_minor": 2
}
