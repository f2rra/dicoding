{
 "cells": [
  {
   "cell_type": "code",
   "execution_count": 4,
   "metadata": {},
   "outputs": [],
   "source": [
    "\"\"\"\n",
    "TODO:\n",
    "Diberikan sebuah variabel berisi nilai list dengan nama \"var_list\". \n",
    "Berdasarkan list tersebut, cari hal-hal berikut ini:\n",
    "- Panjang list tersebut dan simpan dengan nama variabel \"panjang\".\n",
    "- Nilai maksimal list tersebut dan simpan dengan nama variabel \"maksimal\".\n",
    "- Nilai minimal list tersebut dan simpan dengan nama variabel \"minimal\".\n",
    "- Berapa banyak angka 605132 dalam list tersebut dan simpan dalam variabel bernama \"banyak\"\n",
    "\n",
    "Tips:\n",
    "- Anda bisa menggunakan berbagai kode yang ada di materi operasi, \n",
    "  tidak diperbolehkan memasukan nilai secara langsung.\n",
    "\"\"\"\n",
    "\n",
    "# Jangan ubah kode ini\n",
    "var_list = [792564, 465231, 203748, 981037, 857219, 314092, 608345, 123907, 736890, 985026, \n",
    "179430, 450218, 680934, 543187, 978260, 283045, 617902, 405826, 820913, 731095, \n",
    "592403, 109237, 874956, 605132, 214978, 674519, 391047, 825160, 509317, 768490, \n",
    "950283, 307491, 487610, 532198, 605132, 160984, 609873, 245016, 879043, 734126, \n",
    "351809, 670594, 920873, 605132, 596410, 135890, 804512, 683420, 290753, 931560, \n",
    "175430, 950672, 378490, 284105, 746098, 503624, 605132, 167432, 974810, 519463, \n",
    "407835, 740326, 281709, 630921, 953284, 605132, 429731, 183607, 369012, 541380, \n",
    "605132, 217605, 496803, 827309, 153607, 605132, 720459, 381904, 594031, 810235, \n",
    "673925, 492157, 835096, 260481, 956024, 540329, 806295, 320158, 751903, 980465, \n",
    "235780, 857943, 605132, 125094, 620493, 913250\n",
    "]\n",
    "\n",
    "# TODO: Buat kode Anda di bawah ini\n",
    "panjang = len(var_list)\n",
    "maksimal = max(var_list) \n",
    "minimal = min(var_list)\n",
    "banyak = var_list.count(605132)"
   ]
  },
  {
   "cell_type": "code",
   "execution_count": 5,
   "metadata": {},
   "outputs": [
    {
     "name": "stdout",
     "output_type": "stream",
     "text": [
      "96 985026 109237 8\n"
     ]
    }
   ],
   "source": [
    "print(panjang, maksimal, minimal, banyak)"
   ]
  }
 ],
 "metadata": {
  "language_info": {
   "name": "python"
  }
 },
 "nbformat": 4,
 "nbformat_minor": 2
}
