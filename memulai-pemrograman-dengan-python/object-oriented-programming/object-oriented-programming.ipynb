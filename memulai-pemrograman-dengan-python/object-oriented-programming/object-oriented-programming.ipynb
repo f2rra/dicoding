{
 "cells": [
  {
   "cell_type": "code",
   "execution_count": 1,
   "metadata": {},
   "outputs": [],
   "source": [
    "\"\"\"\n",
    "TODO:\n",
    "1. Buatlah class bernama Animal dengan ketentuan:\n",
    "    - Memiliki properti:\n",
    "      - name: string\n",
    "      - age: int\n",
    "      - species: string\n",
    "    - Memiliki constructor untuk menginisialisasi properti:\n",
    "      - name\n",
    "      - age\n",
    "      - species\n",
    "2. Buatlah class bernama Cat dengan ketentuan:\n",
    "    - Merupakan turunan dari class Animal\n",
    "    - Memiliki method:\n",
    "      - bernama \"deskripsi\" yang mengembalikan nilai string berikut ini.\n",
    "        \"{self.name} adalah kucing berjenis {self.species} yang sudah berumur {self.age} tahun\"\n",
    "      - bernama \"suara\" yang akan mengembalikan nilai string \"meow!\"\n",
    " 3. Buatlah instance dari kelas Cat bernama \"myCat\" dengan ketentuan:\n",
    "    - Atribut name bernilai: \"Neko\"\n",
    "    - Atribut age bernilai: 3\n",
    "    - Atribut species bernilai: \"Persian\".\n",
    "\"\"\"\n",
    "\n",
    "#TODO: Silakan buat kode Anda di bawah ini.\n",
    "class Animal:\n",
    "    def __init__(self, name, age, species):\n",
    "        self.name = name\n",
    "        self.age = age\n",
    "        self.species = species\n",
    "\n",
    "class Cat(Animal):\n",
    "    def deskripsi(self):\n",
    "        return f\"{self.name} adalah kucing berjenis {self.species} yang sudah berumur {self.age} tahun\"\n",
    "\n",
    "    def suara(self):\n",
    "        return \"meow!\"\n",
    "\n",
    "myCat = Cat(\"Neko\", 3, \"Persian\")"
   ]
  },
  {
   "cell_type": "code",
   "execution_count": 2,
   "metadata": {},
   "outputs": [
    {
     "name": "stdout",
     "output_type": "stream",
     "text": [
      "Neko adalah kucing berjenis Persian yang sudah berumur 3 tahun\n"
     ]
    }
   ],
   "source": [
    "print(myCat.deskripsi())"
   ]
  }
 ],
 "metadata": {
  "kernelspec": {
   "display_name": "base",
   "language": "python",
   "name": "python3"
  },
  "language_info": {
   "codemirror_mode": {
    "name": "ipython",
    "version": 3
   },
   "file_extension": ".py",
   "mimetype": "text/x-python",
   "name": "python",
   "nbconvert_exporter": "python",
   "pygments_lexer": "ipython3",
   "version": "3.11.7"
  }
 },
 "nbformat": 4,
 "nbformat_minor": 2
}
