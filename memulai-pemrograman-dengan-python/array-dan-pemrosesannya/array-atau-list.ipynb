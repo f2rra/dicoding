{
 "cells": [
  {
   "cell_type": "code",
   "execution_count": 3,
   "metadata": {},
   "outputs": [],
   "source": [
    "\"\"\"\n",
    "TODO:\n",
    "Sebuah variabel array diberikan dengan ketentuan berikut.\n",
    "- Variabel array bernama \"var_array\" dengan nilai dari 0 hingga 100.\n",
    "- Hitung nilai rata-rata dari elemen array tersebut.\n",
    "- Simpan hasil perhitungan dalam variabel bernama \"result\".\n",
    "\n",
    "Tips:\n",
    "- Rumus menghitung rata-rata adalah jumlah seluruh elemen dibagi banyaknya elemen.\n",
    "- Gunakan percabangan dan perulangan untuk mempermudah, \n",
    "  Anda tidak diperbolehkan memberikan nilai secara langsung.\n",
    "\"\"\"\n",
    "# Jangan ubah kode ini\n",
    "var_array = [i for i in range(101)]\n",
    "\n",
    "# TODO: Silakan buat kode Anda di bawah ini.\n",
    "result = sum(var_array)/len(var_array)\n"
   ]
  },
  {
   "cell_type": "code",
   "execution_count": 4,
   "metadata": {},
   "outputs": [
    {
     "name": "stdout",
     "output_type": "stream",
     "text": [
      "50.0\n"
     ]
    }
   ],
   "source": [
    "print(result)"
   ]
  }
 ],
 "metadata": {
  "kernelspec": {
   "display_name": "base",
   "language": "python",
   "name": "python3"
  },
  "language_info": {
   "codemirror_mode": {
    "name": "ipython",
    "version": 3
   },
   "file_extension": ".py",
   "mimetype": "text/x-python",
   "name": "python",
   "nbconvert_exporter": "python",
   "pygments_lexer": "ipython3",
   "version": "3.11.11"
  }
 },
 "nbformat": 4,
 "nbformat_minor": 2
}
