{
  "cells": [
    {
      "cell_type": "markdown",
      "metadata": {
        "id": "H9wADwK78DCz"
      },
      "source": [
        "# Proyek Analisis Data: E-Commerce Public Dataset\n",
        "- **Nama:** Fathur Rahman Al Farizy\n",
        "- **Email:** fathur.alfarizy02@gmail.com\n",
        "- **ID Dicoding:** fralfrzy"
      ]
    },
    {
      "cell_type": "markdown",
      "metadata": {
        "id": "eE0raob58DC0"
      },
      "source": [
        "## Menentukan Pertanyaan Bisnis"
      ]
    },
    {
      "cell_type": "markdown",
      "metadata": {
        "id": "GmQeQ5YF8DC0"
      },
      "source": [
        "1. Bagaimana perkembangan total penjualan seluruh produk tiap bulannya pada periode 2016-2018?\n",
        "2. Kategori produk apa yang mendapatkan hasil penjualan tertinggi selama periode 2016-2018?\n",
        "3. Kategori produk apa yang mendapatkan hasil penjualan terendah selama periode 2016-2018?\n",
        "4. Kategori produk apa yang mendapatkan rata-rata skor review terendah dan tertinggi dari pelanggan pada periode 2016-2018? \n",
        "5. Faktor apa yang menyebabkan kategori produk tertentu mendapatkan rata-rata skor review terendah dari pelanggan pada periode tersebut?"
      ]
    },
    {
      "cell_type": "markdown",
      "metadata": {
        "id": "H-z4QGlO8DC1"
      },
      "source": [
        "## Import Semua Packages/Library yang Digunakan"
      ]
    },
    {
      "cell_type": "code",
      "execution_count": 1,
      "metadata": {
        "id": "FVYwaObI8DC1"
      },
      "outputs": [],
      "source": [
        "import pandas as pd\n",
        "import matplotlib.pyplot as plt\n",
        "import seaborn as sns"
      ]
    },
    {
      "cell_type": "markdown",
      "metadata": {
        "id": "h_Sh51Xy8DC1"
      },
      "source": [
        "## Data Wrangling"
      ]
    },
    {
      "cell_type": "markdown",
      "metadata": {},
      "source": [
        "### Gathering Data"
      ]
    },
    {
      "cell_type": "code",
      "execution_count": 61,
      "metadata": {},
      "outputs": [],
      "source": [
        "data_dir = 'data/E-Commerce-Public-Dataset'"
      ]
    },
    {
      "cell_type": "markdown",
      "metadata": {},
      "source": [
        "#### `orders_df`"
      ]
    },
    {
      "cell_type": "code",
      "execution_count": 62,
      "metadata": {},
      "outputs": [
        {
          "data": {
            "application/vnd.microsoft.datawrangler.viewer.v0+json": {
              "columns": [
                {
                  "name": "index",
                  "rawType": "int64",
                  "type": "integer"
                },
                {
                  "name": "order_id",
                  "rawType": "object",
                  "type": "string"
                },
                {
                  "name": "customer_id",
                  "rawType": "object",
                  "type": "string"
                },
                {
                  "name": "order_status",
                  "rawType": "object",
                  "type": "string"
                },
                {
                  "name": "order_purchase_timestamp",
                  "rawType": "object",
                  "type": "string"
                },
                {
                  "name": "order_approved_at",
                  "rawType": "object",
                  "type": "string"
                },
                {
                  "name": "order_delivered_carrier_date",
                  "rawType": "object",
                  "type": "string"
                },
                {
                  "name": "order_delivered_customer_date",
                  "rawType": "object",
                  "type": "string"
                },
                {
                  "name": "order_estimated_delivery_date",
                  "rawType": "object",
                  "type": "string"
                }
              ],
              "conversionMethod": "pd.DataFrame",
              "ref": "3b73e16e-4ef3-41b4-8f8e-21fd774f062d",
              "rows": [
                [
                  "0",
                  "e481f51cbdc54678b7cc49136f2d6af7",
                  "9ef432eb6251297304e76186b10a928d",
                  "delivered",
                  "2017-10-02 10:56:33",
                  "2017-10-02 11:07:15",
                  "2017-10-04 19:55:00",
                  "2017-10-10 21:25:13",
                  "2017-10-18 00:00:00"
                ],
                [
                  "1",
                  "53cdb2fc8bc7dce0b6741e2150273451",
                  "b0830fb4747a6c6d20dea0b8c802d7ef",
                  "delivered",
                  "2018-07-24 20:41:37",
                  "2018-07-26 03:24:27",
                  "2018-07-26 14:31:00",
                  "2018-08-07 15:27:45",
                  "2018-08-13 00:00:00"
                ],
                [
                  "2",
                  "47770eb9100c2d0c44946d9cf07ec65d",
                  "41ce2a54c0b03bf3443c3d931a367089",
                  "delivered",
                  "2018-08-08 08:38:49",
                  "2018-08-08 08:55:23",
                  "2018-08-08 13:50:00",
                  "2018-08-17 18:06:29",
                  "2018-09-04 00:00:00"
                ],
                [
                  "3",
                  "949d5b44dbf5de918fe9c16f97b45f8a",
                  "f88197465ea7920adcdbec7375364d82",
                  "delivered",
                  "2017-11-18 19:28:06",
                  "2017-11-18 19:45:59",
                  "2017-11-22 13:39:59",
                  "2017-12-02 00:28:42",
                  "2017-12-15 00:00:00"
                ],
                [
                  "4",
                  "ad21c59c0840e6cb83a9ceb5573f8159",
                  "8ab97904e6daea8866dbdbc4fb7aad2c",
                  "delivered",
                  "2018-02-13 21:18:39",
                  "2018-02-13 22:20:29",
                  "2018-02-14 19:46:34",
                  "2018-02-16 18:17:02",
                  "2018-02-26 00:00:00"
                ]
              ],
              "shape": {
                "columns": 8,
                "rows": 5
              }
            },
            "text/html": [
              "<div>\n",
              "<style scoped>\n",
              "    .dataframe tbody tr th:only-of-type {\n",
              "        vertical-align: middle;\n",
              "    }\n",
              "\n",
              "    .dataframe tbody tr th {\n",
              "        vertical-align: top;\n",
              "    }\n",
              "\n",
              "    .dataframe thead th {\n",
              "        text-align: right;\n",
              "    }\n",
              "</style>\n",
              "<table border=\"1\" class=\"dataframe\">\n",
              "  <thead>\n",
              "    <tr style=\"text-align: right;\">\n",
              "      <th></th>\n",
              "      <th>order_id</th>\n",
              "      <th>customer_id</th>\n",
              "      <th>order_status</th>\n",
              "      <th>order_purchase_timestamp</th>\n",
              "      <th>order_approved_at</th>\n",
              "      <th>order_delivered_carrier_date</th>\n",
              "      <th>order_delivered_customer_date</th>\n",
              "      <th>order_estimated_delivery_date</th>\n",
              "    </tr>\n",
              "  </thead>\n",
              "  <tbody>\n",
              "    <tr>\n",
              "      <th>0</th>\n",
              "      <td>e481f51cbdc54678b7cc49136f2d6af7</td>\n",
              "      <td>9ef432eb6251297304e76186b10a928d</td>\n",
              "      <td>delivered</td>\n",
              "      <td>2017-10-02 10:56:33</td>\n",
              "      <td>2017-10-02 11:07:15</td>\n",
              "      <td>2017-10-04 19:55:00</td>\n",
              "      <td>2017-10-10 21:25:13</td>\n",
              "      <td>2017-10-18 00:00:00</td>\n",
              "    </tr>\n",
              "    <tr>\n",
              "      <th>1</th>\n",
              "      <td>53cdb2fc8bc7dce0b6741e2150273451</td>\n",
              "      <td>b0830fb4747a6c6d20dea0b8c802d7ef</td>\n",
              "      <td>delivered</td>\n",
              "      <td>2018-07-24 20:41:37</td>\n",
              "      <td>2018-07-26 03:24:27</td>\n",
              "      <td>2018-07-26 14:31:00</td>\n",
              "      <td>2018-08-07 15:27:45</td>\n",
              "      <td>2018-08-13 00:00:00</td>\n",
              "    </tr>\n",
              "    <tr>\n",
              "      <th>2</th>\n",
              "      <td>47770eb9100c2d0c44946d9cf07ec65d</td>\n",
              "      <td>41ce2a54c0b03bf3443c3d931a367089</td>\n",
              "      <td>delivered</td>\n",
              "      <td>2018-08-08 08:38:49</td>\n",
              "      <td>2018-08-08 08:55:23</td>\n",
              "      <td>2018-08-08 13:50:00</td>\n",
              "      <td>2018-08-17 18:06:29</td>\n",
              "      <td>2018-09-04 00:00:00</td>\n",
              "    </tr>\n",
              "    <tr>\n",
              "      <th>3</th>\n",
              "      <td>949d5b44dbf5de918fe9c16f97b45f8a</td>\n",
              "      <td>f88197465ea7920adcdbec7375364d82</td>\n",
              "      <td>delivered</td>\n",
              "      <td>2017-11-18 19:28:06</td>\n",
              "      <td>2017-11-18 19:45:59</td>\n",
              "      <td>2017-11-22 13:39:59</td>\n",
              "      <td>2017-12-02 00:28:42</td>\n",
              "      <td>2017-12-15 00:00:00</td>\n",
              "    </tr>\n",
              "    <tr>\n",
              "      <th>4</th>\n",
              "      <td>ad21c59c0840e6cb83a9ceb5573f8159</td>\n",
              "      <td>8ab97904e6daea8866dbdbc4fb7aad2c</td>\n",
              "      <td>delivered</td>\n",
              "      <td>2018-02-13 21:18:39</td>\n",
              "      <td>2018-02-13 22:20:29</td>\n",
              "      <td>2018-02-14 19:46:34</td>\n",
              "      <td>2018-02-16 18:17:02</td>\n",
              "      <td>2018-02-26 00:00:00</td>\n",
              "    </tr>\n",
              "  </tbody>\n",
              "</table>\n",
              "</div>"
            ],
            "text/plain": [
              "                           order_id                       customer_id  \\\n",
              "0  e481f51cbdc54678b7cc49136f2d6af7  9ef432eb6251297304e76186b10a928d   \n",
              "1  53cdb2fc8bc7dce0b6741e2150273451  b0830fb4747a6c6d20dea0b8c802d7ef   \n",
              "2  47770eb9100c2d0c44946d9cf07ec65d  41ce2a54c0b03bf3443c3d931a367089   \n",
              "3  949d5b44dbf5de918fe9c16f97b45f8a  f88197465ea7920adcdbec7375364d82   \n",
              "4  ad21c59c0840e6cb83a9ceb5573f8159  8ab97904e6daea8866dbdbc4fb7aad2c   \n",
              "\n",
              "  order_status order_purchase_timestamp    order_approved_at  \\\n",
              "0    delivered      2017-10-02 10:56:33  2017-10-02 11:07:15   \n",
              "1    delivered      2018-07-24 20:41:37  2018-07-26 03:24:27   \n",
              "2    delivered      2018-08-08 08:38:49  2018-08-08 08:55:23   \n",
              "3    delivered      2017-11-18 19:28:06  2017-11-18 19:45:59   \n",
              "4    delivered      2018-02-13 21:18:39  2018-02-13 22:20:29   \n",
              "\n",
              "  order_delivered_carrier_date order_delivered_customer_date  \\\n",
              "0          2017-10-04 19:55:00           2017-10-10 21:25:13   \n",
              "1          2018-07-26 14:31:00           2018-08-07 15:27:45   \n",
              "2          2018-08-08 13:50:00           2018-08-17 18:06:29   \n",
              "3          2017-11-22 13:39:59           2017-12-02 00:28:42   \n",
              "4          2018-02-14 19:46:34           2018-02-16 18:17:02   \n",
              "\n",
              "  order_estimated_delivery_date  \n",
              "0           2017-10-18 00:00:00  \n",
              "1           2018-08-13 00:00:00  \n",
              "2           2018-09-04 00:00:00  \n",
              "3           2017-12-15 00:00:00  \n",
              "4           2018-02-26 00:00:00  "
            ]
          },
          "execution_count": 62,
          "metadata": {},
          "output_type": "execute_result"
        }
      ],
      "source": [
        "orders_df = pd.read_csv(f'{data_dir}/orders_dataset.csv')\n",
        "orders_df.head()"
      ]
    },
    {
      "cell_type": "markdown",
      "metadata": {},
      "source": [
        "#### `items_df`"
      ]
    },
    {
      "cell_type": "code",
      "execution_count": 63,
      "metadata": {},
      "outputs": [
        {
          "data": {
            "application/vnd.microsoft.datawrangler.viewer.v0+json": {
              "columns": [
                {
                  "name": "index",
                  "rawType": "int64",
                  "type": "integer"
                },
                {
                  "name": "order_id",
                  "rawType": "object",
                  "type": "string"
                },
                {
                  "name": "order_item_id",
                  "rawType": "int64",
                  "type": "integer"
                },
                {
                  "name": "product_id",
                  "rawType": "object",
                  "type": "string"
                },
                {
                  "name": "seller_id",
                  "rawType": "object",
                  "type": "string"
                },
                {
                  "name": "shipping_limit_date",
                  "rawType": "object",
                  "type": "string"
                },
                {
                  "name": "price",
                  "rawType": "float64",
                  "type": "float"
                },
                {
                  "name": "freight_value",
                  "rawType": "float64",
                  "type": "float"
                }
              ],
              "conversionMethod": "pd.DataFrame",
              "ref": "b184b4b1-635b-4b6d-b6cf-7e055d754246",
              "rows": [
                [
                  "0",
                  "00010242fe8c5a6d1ba2dd792cb16214",
                  "1",
                  "4244733e06e7ecb4970a6e2683c13e61",
                  "48436dade18ac8b2bce089ec2a041202",
                  "2017-09-19 09:45:35",
                  "58.9",
                  "13.29"
                ],
                [
                  "1",
                  "00018f77f2f0320c557190d7a144bdd3",
                  "1",
                  "e5f2d52b802189ee658865ca93d83a8f",
                  "dd7ddc04e1b6c2c614352b383efe2d36",
                  "2017-05-03 11:05:13",
                  "239.9",
                  "19.93"
                ],
                [
                  "2",
                  "000229ec398224ef6ca0657da4fc703e",
                  "1",
                  "c777355d18b72b67abbeef9df44fd0fd",
                  "5b51032eddd242adc84c38acab88f23d",
                  "2018-01-18 14:48:30",
                  "199.0",
                  "17.87"
                ],
                [
                  "3",
                  "00024acbcdf0a6daa1e931b038114c75",
                  "1",
                  "7634da152a4610f1595efa32f14722fc",
                  "9d7a1d34a5052409006425275ba1c2b4",
                  "2018-08-15 10:10:18",
                  "12.99",
                  "12.79"
                ],
                [
                  "4",
                  "00042b26cf59d7ce69dfabb4e55b4fd9",
                  "1",
                  "ac6c3623068f30de03045865e4e10089",
                  "df560393f3a51e74553ab94004ba5c87",
                  "2017-02-13 13:57:51",
                  "199.9",
                  "18.14"
                ]
              ],
              "shape": {
                "columns": 7,
                "rows": 5
              }
            },
            "text/html": [
              "<div>\n",
              "<style scoped>\n",
              "    .dataframe tbody tr th:only-of-type {\n",
              "        vertical-align: middle;\n",
              "    }\n",
              "\n",
              "    .dataframe tbody tr th {\n",
              "        vertical-align: top;\n",
              "    }\n",
              "\n",
              "    .dataframe thead th {\n",
              "        text-align: right;\n",
              "    }\n",
              "</style>\n",
              "<table border=\"1\" class=\"dataframe\">\n",
              "  <thead>\n",
              "    <tr style=\"text-align: right;\">\n",
              "      <th></th>\n",
              "      <th>order_id</th>\n",
              "      <th>order_item_id</th>\n",
              "      <th>product_id</th>\n",
              "      <th>seller_id</th>\n",
              "      <th>shipping_limit_date</th>\n",
              "      <th>price</th>\n",
              "      <th>freight_value</th>\n",
              "    </tr>\n",
              "  </thead>\n",
              "  <tbody>\n",
              "    <tr>\n",
              "      <th>0</th>\n",
              "      <td>00010242fe8c5a6d1ba2dd792cb16214</td>\n",
              "      <td>1</td>\n",
              "      <td>4244733e06e7ecb4970a6e2683c13e61</td>\n",
              "      <td>48436dade18ac8b2bce089ec2a041202</td>\n",
              "      <td>2017-09-19 09:45:35</td>\n",
              "      <td>58.90</td>\n",
              "      <td>13.29</td>\n",
              "    </tr>\n",
              "    <tr>\n",
              "      <th>1</th>\n",
              "      <td>00018f77f2f0320c557190d7a144bdd3</td>\n",
              "      <td>1</td>\n",
              "      <td>e5f2d52b802189ee658865ca93d83a8f</td>\n",
              "      <td>dd7ddc04e1b6c2c614352b383efe2d36</td>\n",
              "      <td>2017-05-03 11:05:13</td>\n",
              "      <td>239.90</td>\n",
              "      <td>19.93</td>\n",
              "    </tr>\n",
              "    <tr>\n",
              "      <th>2</th>\n",
              "      <td>000229ec398224ef6ca0657da4fc703e</td>\n",
              "      <td>1</td>\n",
              "      <td>c777355d18b72b67abbeef9df44fd0fd</td>\n",
              "      <td>5b51032eddd242adc84c38acab88f23d</td>\n",
              "      <td>2018-01-18 14:48:30</td>\n",
              "      <td>199.00</td>\n",
              "      <td>17.87</td>\n",
              "    </tr>\n",
              "    <tr>\n",
              "      <th>3</th>\n",
              "      <td>00024acbcdf0a6daa1e931b038114c75</td>\n",
              "      <td>1</td>\n",
              "      <td>7634da152a4610f1595efa32f14722fc</td>\n",
              "      <td>9d7a1d34a5052409006425275ba1c2b4</td>\n",
              "      <td>2018-08-15 10:10:18</td>\n",
              "      <td>12.99</td>\n",
              "      <td>12.79</td>\n",
              "    </tr>\n",
              "    <tr>\n",
              "      <th>4</th>\n",
              "      <td>00042b26cf59d7ce69dfabb4e55b4fd9</td>\n",
              "      <td>1</td>\n",
              "      <td>ac6c3623068f30de03045865e4e10089</td>\n",
              "      <td>df560393f3a51e74553ab94004ba5c87</td>\n",
              "      <td>2017-02-13 13:57:51</td>\n",
              "      <td>199.90</td>\n",
              "      <td>18.14</td>\n",
              "    </tr>\n",
              "  </tbody>\n",
              "</table>\n",
              "</div>"
            ],
            "text/plain": [
              "                           order_id  order_item_id  \\\n",
              "0  00010242fe8c5a6d1ba2dd792cb16214              1   \n",
              "1  00018f77f2f0320c557190d7a144bdd3              1   \n",
              "2  000229ec398224ef6ca0657da4fc703e              1   \n",
              "3  00024acbcdf0a6daa1e931b038114c75              1   \n",
              "4  00042b26cf59d7ce69dfabb4e55b4fd9              1   \n",
              "\n",
              "                         product_id                         seller_id  \\\n",
              "0  4244733e06e7ecb4970a6e2683c13e61  48436dade18ac8b2bce089ec2a041202   \n",
              "1  e5f2d52b802189ee658865ca93d83a8f  dd7ddc04e1b6c2c614352b383efe2d36   \n",
              "2  c777355d18b72b67abbeef9df44fd0fd  5b51032eddd242adc84c38acab88f23d   \n",
              "3  7634da152a4610f1595efa32f14722fc  9d7a1d34a5052409006425275ba1c2b4   \n",
              "4  ac6c3623068f30de03045865e4e10089  df560393f3a51e74553ab94004ba5c87   \n",
              "\n",
              "   shipping_limit_date   price  freight_value  \n",
              "0  2017-09-19 09:45:35   58.90          13.29  \n",
              "1  2017-05-03 11:05:13  239.90          19.93  \n",
              "2  2018-01-18 14:48:30  199.00          17.87  \n",
              "3  2018-08-15 10:10:18   12.99          12.79  \n",
              "4  2017-02-13 13:57:51  199.90          18.14  "
            ]
          },
          "execution_count": 63,
          "metadata": {},
          "output_type": "execute_result"
        }
      ],
      "source": [
        "items_df = pd.read_csv(f'{data_dir}/order_items_dataset.csv')\n",
        "items_df.head()"
      ]
    },
    {
      "cell_type": "markdown",
      "metadata": {},
      "source": [
        "#### `products_df` & `product_translations_df`"
      ]
    },
    {
      "cell_type": "code",
      "execution_count": 64,
      "metadata": {},
      "outputs": [
        {
          "data": {
            "application/vnd.microsoft.datawrangler.viewer.v0+json": {
              "columns": [
                {
                  "name": "index",
                  "rawType": "int64",
                  "type": "integer"
                },
                {
                  "name": "product_id",
                  "rawType": "object",
                  "type": "string"
                },
                {
                  "name": "product_category_name",
                  "rawType": "object",
                  "type": "string"
                },
                {
                  "name": "product_name_lenght",
                  "rawType": "float64",
                  "type": "float"
                },
                {
                  "name": "product_description_lenght",
                  "rawType": "float64",
                  "type": "float"
                },
                {
                  "name": "product_photos_qty",
                  "rawType": "float64",
                  "type": "float"
                },
                {
                  "name": "product_weight_g",
                  "rawType": "float64",
                  "type": "float"
                },
                {
                  "name": "product_length_cm",
                  "rawType": "float64",
                  "type": "float"
                },
                {
                  "name": "product_height_cm",
                  "rawType": "float64",
                  "type": "float"
                },
                {
                  "name": "product_width_cm",
                  "rawType": "float64",
                  "type": "float"
                }
              ],
              "conversionMethod": "pd.DataFrame",
              "ref": "f629cfca-4427-4385-bfb5-5592a7e69518",
              "rows": [
                [
                  "0",
                  "1e9e8ef04dbcff4541ed26657ea517e5",
                  "perfumaria",
                  "40.0",
                  "287.0",
                  "1.0",
                  "225.0",
                  "16.0",
                  "10.0",
                  "14.0"
                ],
                [
                  "1",
                  "3aa071139cb16b67ca9e5dea641aaa2f",
                  "artes",
                  "44.0",
                  "276.0",
                  "1.0",
                  "1000.0",
                  "30.0",
                  "18.0",
                  "20.0"
                ],
                [
                  "2",
                  "96bd76ec8810374ed1b65e291975717f",
                  "esporte_lazer",
                  "46.0",
                  "250.0",
                  "1.0",
                  "154.0",
                  "18.0",
                  "9.0",
                  "15.0"
                ],
                [
                  "3",
                  "cef67bcfe19066a932b7673e239eb23d",
                  "bebes",
                  "27.0",
                  "261.0",
                  "1.0",
                  "371.0",
                  "26.0",
                  "4.0",
                  "26.0"
                ],
                [
                  "4",
                  "9dc1a7de274444849c219cff195d0b71",
                  "utilidades_domesticas",
                  "37.0",
                  "402.0",
                  "4.0",
                  "625.0",
                  "20.0",
                  "17.0",
                  "13.0"
                ]
              ],
              "shape": {
                "columns": 9,
                "rows": 5
              }
            },
            "text/html": [
              "<div>\n",
              "<style scoped>\n",
              "    .dataframe tbody tr th:only-of-type {\n",
              "        vertical-align: middle;\n",
              "    }\n",
              "\n",
              "    .dataframe tbody tr th {\n",
              "        vertical-align: top;\n",
              "    }\n",
              "\n",
              "    .dataframe thead th {\n",
              "        text-align: right;\n",
              "    }\n",
              "</style>\n",
              "<table border=\"1\" class=\"dataframe\">\n",
              "  <thead>\n",
              "    <tr style=\"text-align: right;\">\n",
              "      <th></th>\n",
              "      <th>product_id</th>\n",
              "      <th>product_category_name</th>\n",
              "      <th>product_name_lenght</th>\n",
              "      <th>product_description_lenght</th>\n",
              "      <th>product_photos_qty</th>\n",
              "      <th>product_weight_g</th>\n",
              "      <th>product_length_cm</th>\n",
              "      <th>product_height_cm</th>\n",
              "      <th>product_width_cm</th>\n",
              "    </tr>\n",
              "  </thead>\n",
              "  <tbody>\n",
              "    <tr>\n",
              "      <th>0</th>\n",
              "      <td>1e9e8ef04dbcff4541ed26657ea517e5</td>\n",
              "      <td>perfumaria</td>\n",
              "      <td>40.0</td>\n",
              "      <td>287.0</td>\n",
              "      <td>1.0</td>\n",
              "      <td>225.0</td>\n",
              "      <td>16.0</td>\n",
              "      <td>10.0</td>\n",
              "      <td>14.0</td>\n",
              "    </tr>\n",
              "    <tr>\n",
              "      <th>1</th>\n",
              "      <td>3aa071139cb16b67ca9e5dea641aaa2f</td>\n",
              "      <td>artes</td>\n",
              "      <td>44.0</td>\n",
              "      <td>276.0</td>\n",
              "      <td>1.0</td>\n",
              "      <td>1000.0</td>\n",
              "      <td>30.0</td>\n",
              "      <td>18.0</td>\n",
              "      <td>20.0</td>\n",
              "    </tr>\n",
              "    <tr>\n",
              "      <th>2</th>\n",
              "      <td>96bd76ec8810374ed1b65e291975717f</td>\n",
              "      <td>esporte_lazer</td>\n",
              "      <td>46.0</td>\n",
              "      <td>250.0</td>\n",
              "      <td>1.0</td>\n",
              "      <td>154.0</td>\n",
              "      <td>18.0</td>\n",
              "      <td>9.0</td>\n",
              "      <td>15.0</td>\n",
              "    </tr>\n",
              "    <tr>\n",
              "      <th>3</th>\n",
              "      <td>cef67bcfe19066a932b7673e239eb23d</td>\n",
              "      <td>bebes</td>\n",
              "      <td>27.0</td>\n",
              "      <td>261.0</td>\n",
              "      <td>1.0</td>\n",
              "      <td>371.0</td>\n",
              "      <td>26.0</td>\n",
              "      <td>4.0</td>\n",
              "      <td>26.0</td>\n",
              "    </tr>\n",
              "    <tr>\n",
              "      <th>4</th>\n",
              "      <td>9dc1a7de274444849c219cff195d0b71</td>\n",
              "      <td>utilidades_domesticas</td>\n",
              "      <td>37.0</td>\n",
              "      <td>402.0</td>\n",
              "      <td>4.0</td>\n",
              "      <td>625.0</td>\n",
              "      <td>20.0</td>\n",
              "      <td>17.0</td>\n",
              "      <td>13.0</td>\n",
              "    </tr>\n",
              "  </tbody>\n",
              "</table>\n",
              "</div>"
            ],
            "text/plain": [
              "                         product_id  product_category_name  \\\n",
              "0  1e9e8ef04dbcff4541ed26657ea517e5             perfumaria   \n",
              "1  3aa071139cb16b67ca9e5dea641aaa2f                  artes   \n",
              "2  96bd76ec8810374ed1b65e291975717f          esporte_lazer   \n",
              "3  cef67bcfe19066a932b7673e239eb23d                  bebes   \n",
              "4  9dc1a7de274444849c219cff195d0b71  utilidades_domesticas   \n",
              "\n",
              "   product_name_lenght  product_description_lenght  product_photos_qty  \\\n",
              "0                 40.0                       287.0                 1.0   \n",
              "1                 44.0                       276.0                 1.0   \n",
              "2                 46.0                       250.0                 1.0   \n",
              "3                 27.0                       261.0                 1.0   \n",
              "4                 37.0                       402.0                 4.0   \n",
              "\n",
              "   product_weight_g  product_length_cm  product_height_cm  product_width_cm  \n",
              "0             225.0               16.0               10.0              14.0  \n",
              "1            1000.0               30.0               18.0              20.0  \n",
              "2             154.0               18.0                9.0              15.0  \n",
              "3             371.0               26.0                4.0              26.0  \n",
              "4             625.0               20.0               17.0              13.0  "
            ]
          },
          "execution_count": 64,
          "metadata": {},
          "output_type": "execute_result"
        }
      ],
      "source": [
        "products_df = pd.read_csv(f'{data_dir}/products_dataset.csv')\n",
        "products_df.head()"
      ]
    },
    {
      "cell_type": "code",
      "execution_count": 65,
      "metadata": {},
      "outputs": [
        {
          "data": {
            "application/vnd.microsoft.datawrangler.viewer.v0+json": {
              "columns": [
                {
                  "name": "index",
                  "rawType": "int64",
                  "type": "integer"
                },
                {
                  "name": "product_category_name",
                  "rawType": "object",
                  "type": "string"
                },
                {
                  "name": "product_category_name_english",
                  "rawType": "object",
                  "type": "string"
                }
              ],
              "conversionMethod": "pd.DataFrame",
              "ref": "9f6a53f1-941c-4295-b5d7-dea18c9df0b8",
              "rows": [
                [
                  "0",
                  "beleza_saude",
                  "health_beauty"
                ],
                [
                  "1",
                  "informatica_acessorios",
                  "computers_accessories"
                ],
                [
                  "2",
                  "automotivo",
                  "auto"
                ],
                [
                  "3",
                  "cama_mesa_banho",
                  "bed_bath_table"
                ],
                [
                  "4",
                  "moveis_decoracao",
                  "furniture_decor"
                ]
              ],
              "shape": {
                "columns": 2,
                "rows": 5
              }
            },
            "text/html": [
              "<div>\n",
              "<style scoped>\n",
              "    .dataframe tbody tr th:only-of-type {\n",
              "        vertical-align: middle;\n",
              "    }\n",
              "\n",
              "    .dataframe tbody tr th {\n",
              "        vertical-align: top;\n",
              "    }\n",
              "\n",
              "    .dataframe thead th {\n",
              "        text-align: right;\n",
              "    }\n",
              "</style>\n",
              "<table border=\"1\" class=\"dataframe\">\n",
              "  <thead>\n",
              "    <tr style=\"text-align: right;\">\n",
              "      <th></th>\n",
              "      <th>product_category_name</th>\n",
              "      <th>product_category_name_english</th>\n",
              "    </tr>\n",
              "  </thead>\n",
              "  <tbody>\n",
              "    <tr>\n",
              "      <th>0</th>\n",
              "      <td>beleza_saude</td>\n",
              "      <td>health_beauty</td>\n",
              "    </tr>\n",
              "    <tr>\n",
              "      <th>1</th>\n",
              "      <td>informatica_acessorios</td>\n",
              "      <td>computers_accessories</td>\n",
              "    </tr>\n",
              "    <tr>\n",
              "      <th>2</th>\n",
              "      <td>automotivo</td>\n",
              "      <td>auto</td>\n",
              "    </tr>\n",
              "    <tr>\n",
              "      <th>3</th>\n",
              "      <td>cama_mesa_banho</td>\n",
              "      <td>bed_bath_table</td>\n",
              "    </tr>\n",
              "    <tr>\n",
              "      <th>4</th>\n",
              "      <td>moveis_decoracao</td>\n",
              "      <td>furniture_decor</td>\n",
              "    </tr>\n",
              "  </tbody>\n",
              "</table>\n",
              "</div>"
            ],
            "text/plain": [
              "    product_category_name product_category_name_english\n",
              "0            beleza_saude                 health_beauty\n",
              "1  informatica_acessorios         computers_accessories\n",
              "2              automotivo                          auto\n",
              "3         cama_mesa_banho                bed_bath_table\n",
              "4        moveis_decoracao               furniture_decor"
            ]
          },
          "execution_count": 65,
          "metadata": {},
          "output_type": "execute_result"
        }
      ],
      "source": [
        "product_translations_df = pd.read_csv(f'{data_dir}/product_category_name_translation.csv')\n",
        "product_translations_df.head()"
      ]
    },
    {
      "cell_type": "code",
      "execution_count": 66,
      "metadata": {},
      "outputs": [
        {
          "data": {
            "application/vnd.microsoft.datawrangler.viewer.v0+json": {
              "columns": [
                {
                  "name": "index",
                  "rawType": "int64",
                  "type": "integer"
                },
                {
                  "name": "product_id",
                  "rawType": "object",
                  "type": "string"
                },
                {
                  "name": "product_category_name",
                  "rawType": "object",
                  "type": "string"
                },
                {
                  "name": "product_name_lenght",
                  "rawType": "float64",
                  "type": "float"
                },
                {
                  "name": "product_description_lenght",
                  "rawType": "float64",
                  "type": "float"
                },
                {
                  "name": "product_photos_qty",
                  "rawType": "float64",
                  "type": "float"
                },
                {
                  "name": "product_weight_g",
                  "rawType": "float64",
                  "type": "float"
                },
                {
                  "name": "product_length_cm",
                  "rawType": "float64",
                  "type": "float"
                },
                {
                  "name": "product_height_cm",
                  "rawType": "float64",
                  "type": "float"
                },
                {
                  "name": "product_width_cm",
                  "rawType": "float64",
                  "type": "float"
                },
                {
                  "name": "product_category_name_english",
                  "rawType": "object",
                  "type": "string"
                }
              ],
              "conversionMethod": "pd.DataFrame",
              "ref": "62814300-39d3-4231-b17f-3e05acb27d2a",
              "rows": [
                [
                  "0",
                  "1e9e8ef04dbcff4541ed26657ea517e5",
                  "perfumaria",
                  "40.0",
                  "287.0",
                  "1.0",
                  "225.0",
                  "16.0",
                  "10.0",
                  "14.0",
                  "perfumery"
                ],
                [
                  "1",
                  "3aa071139cb16b67ca9e5dea641aaa2f",
                  "artes",
                  "44.0",
                  "276.0",
                  "1.0",
                  "1000.0",
                  "30.0",
                  "18.0",
                  "20.0",
                  "art"
                ],
                [
                  "2",
                  "96bd76ec8810374ed1b65e291975717f",
                  "esporte_lazer",
                  "46.0",
                  "250.0",
                  "1.0",
                  "154.0",
                  "18.0",
                  "9.0",
                  "15.0",
                  "sports_leisure"
                ],
                [
                  "3",
                  "cef67bcfe19066a932b7673e239eb23d",
                  "bebes",
                  "27.0",
                  "261.0",
                  "1.0",
                  "371.0",
                  "26.0",
                  "4.0",
                  "26.0",
                  "baby"
                ],
                [
                  "4",
                  "9dc1a7de274444849c219cff195d0b71",
                  "utilidades_domesticas",
                  "37.0",
                  "402.0",
                  "4.0",
                  "625.0",
                  "20.0",
                  "17.0",
                  "13.0",
                  "housewares"
                ]
              ],
              "shape": {
                "columns": 10,
                "rows": 5
              }
            },
            "text/html": [
              "<div>\n",
              "<style scoped>\n",
              "    .dataframe tbody tr th:only-of-type {\n",
              "        vertical-align: middle;\n",
              "    }\n",
              "\n",
              "    .dataframe tbody tr th {\n",
              "        vertical-align: top;\n",
              "    }\n",
              "\n",
              "    .dataframe thead th {\n",
              "        text-align: right;\n",
              "    }\n",
              "</style>\n",
              "<table border=\"1\" class=\"dataframe\">\n",
              "  <thead>\n",
              "    <tr style=\"text-align: right;\">\n",
              "      <th></th>\n",
              "      <th>product_id</th>\n",
              "      <th>product_category_name</th>\n",
              "      <th>product_name_lenght</th>\n",
              "      <th>product_description_lenght</th>\n",
              "      <th>product_photos_qty</th>\n",
              "      <th>product_weight_g</th>\n",
              "      <th>product_length_cm</th>\n",
              "      <th>product_height_cm</th>\n",
              "      <th>product_width_cm</th>\n",
              "      <th>product_category_name_english</th>\n",
              "    </tr>\n",
              "  </thead>\n",
              "  <tbody>\n",
              "    <tr>\n",
              "      <th>0</th>\n",
              "      <td>1e9e8ef04dbcff4541ed26657ea517e5</td>\n",
              "      <td>perfumaria</td>\n",
              "      <td>40.0</td>\n",
              "      <td>287.0</td>\n",
              "      <td>1.0</td>\n",
              "      <td>225.0</td>\n",
              "      <td>16.0</td>\n",
              "      <td>10.0</td>\n",
              "      <td>14.0</td>\n",
              "      <td>perfumery</td>\n",
              "    </tr>\n",
              "    <tr>\n",
              "      <th>1</th>\n",
              "      <td>3aa071139cb16b67ca9e5dea641aaa2f</td>\n",
              "      <td>artes</td>\n",
              "      <td>44.0</td>\n",
              "      <td>276.0</td>\n",
              "      <td>1.0</td>\n",
              "      <td>1000.0</td>\n",
              "      <td>30.0</td>\n",
              "      <td>18.0</td>\n",
              "      <td>20.0</td>\n",
              "      <td>art</td>\n",
              "    </tr>\n",
              "    <tr>\n",
              "      <th>2</th>\n",
              "      <td>96bd76ec8810374ed1b65e291975717f</td>\n",
              "      <td>esporte_lazer</td>\n",
              "      <td>46.0</td>\n",
              "      <td>250.0</td>\n",
              "      <td>1.0</td>\n",
              "      <td>154.0</td>\n",
              "      <td>18.0</td>\n",
              "      <td>9.0</td>\n",
              "      <td>15.0</td>\n",
              "      <td>sports_leisure</td>\n",
              "    </tr>\n",
              "    <tr>\n",
              "      <th>3</th>\n",
              "      <td>cef67bcfe19066a932b7673e239eb23d</td>\n",
              "      <td>bebes</td>\n",
              "      <td>27.0</td>\n",
              "      <td>261.0</td>\n",
              "      <td>1.0</td>\n",
              "      <td>371.0</td>\n",
              "      <td>26.0</td>\n",
              "      <td>4.0</td>\n",
              "      <td>26.0</td>\n",
              "      <td>baby</td>\n",
              "    </tr>\n",
              "    <tr>\n",
              "      <th>4</th>\n",
              "      <td>9dc1a7de274444849c219cff195d0b71</td>\n",
              "      <td>utilidades_domesticas</td>\n",
              "      <td>37.0</td>\n",
              "      <td>402.0</td>\n",
              "      <td>4.0</td>\n",
              "      <td>625.0</td>\n",
              "      <td>20.0</td>\n",
              "      <td>17.0</td>\n",
              "      <td>13.0</td>\n",
              "      <td>housewares</td>\n",
              "    </tr>\n",
              "  </tbody>\n",
              "</table>\n",
              "</div>"
            ],
            "text/plain": [
              "                         product_id  product_category_name  \\\n",
              "0  1e9e8ef04dbcff4541ed26657ea517e5             perfumaria   \n",
              "1  3aa071139cb16b67ca9e5dea641aaa2f                  artes   \n",
              "2  96bd76ec8810374ed1b65e291975717f          esporte_lazer   \n",
              "3  cef67bcfe19066a932b7673e239eb23d                  bebes   \n",
              "4  9dc1a7de274444849c219cff195d0b71  utilidades_domesticas   \n",
              "\n",
              "   product_name_lenght  product_description_lenght  product_photos_qty  \\\n",
              "0                 40.0                       287.0                 1.0   \n",
              "1                 44.0                       276.0                 1.0   \n",
              "2                 46.0                       250.0                 1.0   \n",
              "3                 27.0                       261.0                 1.0   \n",
              "4                 37.0                       402.0                 4.0   \n",
              "\n",
              "   product_weight_g  product_length_cm  product_height_cm  product_width_cm  \\\n",
              "0             225.0               16.0               10.0              14.0   \n",
              "1            1000.0               30.0               18.0              20.0   \n",
              "2             154.0               18.0                9.0              15.0   \n",
              "3             371.0               26.0                4.0              26.0   \n",
              "4             625.0               20.0               17.0              13.0   \n",
              "\n",
              "  product_category_name_english  \n",
              "0                     perfumery  \n",
              "1                           art  \n",
              "2                sports_leisure  \n",
              "3                          baby  \n",
              "4                    housewares  "
            ]
          },
          "execution_count": 66,
          "metadata": {},
          "output_type": "execute_result"
        }
      ],
      "source": [
        "products_df = pd.merge(left=products_df, right=product_translations_df, on='product_category_name', how='left')\n",
        "products_df.head()"
      ]
    },
    {
      "cell_type": "markdown",
      "metadata": {},
      "source": [
        "#### `reviews_df`"
      ]
    },
    {
      "cell_type": "code",
      "execution_count": 67,
      "metadata": {},
      "outputs": [
        {
          "data": {
            "application/vnd.microsoft.datawrangler.viewer.v0+json": {
              "columns": [
                {
                  "name": "index",
                  "rawType": "int64",
                  "type": "integer"
                },
                {
                  "name": "review_id",
                  "rawType": "object",
                  "type": "string"
                },
                {
                  "name": "order_id",
                  "rawType": "object",
                  "type": "string"
                },
                {
                  "name": "review_score",
                  "rawType": "int64",
                  "type": "integer"
                },
                {
                  "name": "review_comment_title",
                  "rawType": "object",
                  "type": "unknown"
                },
                {
                  "name": "review_comment_message",
                  "rawType": "object",
                  "type": "unknown"
                },
                {
                  "name": "review_creation_date",
                  "rawType": "object",
                  "type": "string"
                },
                {
                  "name": "review_answer_timestamp",
                  "rawType": "object",
                  "type": "string"
                }
              ],
              "conversionMethod": "pd.DataFrame",
              "ref": "3f08e01c-323b-46a2-a851-55c386a0d6ba",
              "rows": [
                [
                  "0",
                  "7bc2406110b926393aa56f80a40eba40",
                  "73fc7af87114b39712e6da79b0a377eb",
                  "4",
                  null,
                  null,
                  "2018-01-18 00:00:00",
                  "2018-01-18 21:46:59"
                ],
                [
                  "1",
                  "80e641a11e56f04c1ad469d5645fdfde",
                  "a548910a1c6147796b98fdf73dbeba33",
                  "5",
                  null,
                  null,
                  "2018-03-10 00:00:00",
                  "2018-03-11 03:05:13"
                ],
                [
                  "2",
                  "228ce5500dc1d8e020d8d1322874b6f0",
                  "f9e4b658b201a9f2ecdecbb34bed034b",
                  "5",
                  null,
                  null,
                  "2018-02-17 00:00:00",
                  "2018-02-18 14:36:24"
                ],
                [
                  "3",
                  "e64fb393e7b32834bb789ff8bb30750e",
                  "658677c97b385a9be170737859d3511b",
                  "5",
                  null,
                  "Recebi bem antes do prazo estipulado.",
                  "2017-04-21 00:00:00",
                  "2017-04-21 22:02:06"
                ],
                [
                  "4",
                  "f7c4243c7fe1938f181bec41a392bdeb",
                  "8e6bfb81e283fa7e4f11123a3fb894f1",
                  "5",
                  null,
                  "Parabéns lojas lannister adorei comprar pela Internet seguro e prático Parabéns a todos feliz Páscoa",
                  "2018-03-01 00:00:00",
                  "2018-03-02 10:26:53"
                ]
              ],
              "shape": {
                "columns": 7,
                "rows": 5
              }
            },
            "text/html": [
              "<div>\n",
              "<style scoped>\n",
              "    .dataframe tbody tr th:only-of-type {\n",
              "        vertical-align: middle;\n",
              "    }\n",
              "\n",
              "    .dataframe tbody tr th {\n",
              "        vertical-align: top;\n",
              "    }\n",
              "\n",
              "    .dataframe thead th {\n",
              "        text-align: right;\n",
              "    }\n",
              "</style>\n",
              "<table border=\"1\" class=\"dataframe\">\n",
              "  <thead>\n",
              "    <tr style=\"text-align: right;\">\n",
              "      <th></th>\n",
              "      <th>review_id</th>\n",
              "      <th>order_id</th>\n",
              "      <th>review_score</th>\n",
              "      <th>review_comment_title</th>\n",
              "      <th>review_comment_message</th>\n",
              "      <th>review_creation_date</th>\n",
              "      <th>review_answer_timestamp</th>\n",
              "    </tr>\n",
              "  </thead>\n",
              "  <tbody>\n",
              "    <tr>\n",
              "      <th>0</th>\n",
              "      <td>7bc2406110b926393aa56f80a40eba40</td>\n",
              "      <td>73fc7af87114b39712e6da79b0a377eb</td>\n",
              "      <td>4</td>\n",
              "      <td>NaN</td>\n",
              "      <td>NaN</td>\n",
              "      <td>2018-01-18 00:00:00</td>\n",
              "      <td>2018-01-18 21:46:59</td>\n",
              "    </tr>\n",
              "    <tr>\n",
              "      <th>1</th>\n",
              "      <td>80e641a11e56f04c1ad469d5645fdfde</td>\n",
              "      <td>a548910a1c6147796b98fdf73dbeba33</td>\n",
              "      <td>5</td>\n",
              "      <td>NaN</td>\n",
              "      <td>NaN</td>\n",
              "      <td>2018-03-10 00:00:00</td>\n",
              "      <td>2018-03-11 03:05:13</td>\n",
              "    </tr>\n",
              "    <tr>\n",
              "      <th>2</th>\n",
              "      <td>228ce5500dc1d8e020d8d1322874b6f0</td>\n",
              "      <td>f9e4b658b201a9f2ecdecbb34bed034b</td>\n",
              "      <td>5</td>\n",
              "      <td>NaN</td>\n",
              "      <td>NaN</td>\n",
              "      <td>2018-02-17 00:00:00</td>\n",
              "      <td>2018-02-18 14:36:24</td>\n",
              "    </tr>\n",
              "    <tr>\n",
              "      <th>3</th>\n",
              "      <td>e64fb393e7b32834bb789ff8bb30750e</td>\n",
              "      <td>658677c97b385a9be170737859d3511b</td>\n",
              "      <td>5</td>\n",
              "      <td>NaN</td>\n",
              "      <td>Recebi bem antes do prazo estipulado.</td>\n",
              "      <td>2017-04-21 00:00:00</td>\n",
              "      <td>2017-04-21 22:02:06</td>\n",
              "    </tr>\n",
              "    <tr>\n",
              "      <th>4</th>\n",
              "      <td>f7c4243c7fe1938f181bec41a392bdeb</td>\n",
              "      <td>8e6bfb81e283fa7e4f11123a3fb894f1</td>\n",
              "      <td>5</td>\n",
              "      <td>NaN</td>\n",
              "      <td>Parabéns lojas lannister adorei comprar pela I...</td>\n",
              "      <td>2018-03-01 00:00:00</td>\n",
              "      <td>2018-03-02 10:26:53</td>\n",
              "    </tr>\n",
              "  </tbody>\n",
              "</table>\n",
              "</div>"
            ],
            "text/plain": [
              "                          review_id                          order_id  \\\n",
              "0  7bc2406110b926393aa56f80a40eba40  73fc7af87114b39712e6da79b0a377eb   \n",
              "1  80e641a11e56f04c1ad469d5645fdfde  a548910a1c6147796b98fdf73dbeba33   \n",
              "2  228ce5500dc1d8e020d8d1322874b6f0  f9e4b658b201a9f2ecdecbb34bed034b   \n",
              "3  e64fb393e7b32834bb789ff8bb30750e  658677c97b385a9be170737859d3511b   \n",
              "4  f7c4243c7fe1938f181bec41a392bdeb  8e6bfb81e283fa7e4f11123a3fb894f1   \n",
              "\n",
              "   review_score review_comment_title  \\\n",
              "0             4                  NaN   \n",
              "1             5                  NaN   \n",
              "2             5                  NaN   \n",
              "3             5                  NaN   \n",
              "4             5                  NaN   \n",
              "\n",
              "                              review_comment_message review_creation_date  \\\n",
              "0                                                NaN  2018-01-18 00:00:00   \n",
              "1                                                NaN  2018-03-10 00:00:00   \n",
              "2                                                NaN  2018-02-17 00:00:00   \n",
              "3              Recebi bem antes do prazo estipulado.  2017-04-21 00:00:00   \n",
              "4  Parabéns lojas lannister adorei comprar pela I...  2018-03-01 00:00:00   \n",
              "\n",
              "  review_answer_timestamp  \n",
              "0     2018-01-18 21:46:59  \n",
              "1     2018-03-11 03:05:13  \n",
              "2     2018-02-18 14:36:24  \n",
              "3     2017-04-21 22:02:06  \n",
              "4     2018-03-02 10:26:53  "
            ]
          },
          "execution_count": 67,
          "metadata": {},
          "output_type": "execute_result"
        }
      ],
      "source": [
        "reviews_df = pd.read_csv(f'{data_dir}/order_reviews_dataset.csv')\n",
        "reviews_df.head()"
      ]
    },
    {
      "cell_type": "markdown",
      "metadata": {},
      "source": [
        "#### `payments_df`"
      ]
    },
    {
      "cell_type": "code",
      "execution_count": 68,
      "metadata": {},
      "outputs": [
        {
          "data": {
            "application/vnd.microsoft.datawrangler.viewer.v0+json": {
              "columns": [
                {
                  "name": "index",
                  "rawType": "int64",
                  "type": "integer"
                },
                {
                  "name": "order_id",
                  "rawType": "object",
                  "type": "string"
                },
                {
                  "name": "payment_sequential",
                  "rawType": "int64",
                  "type": "integer"
                },
                {
                  "name": "payment_type",
                  "rawType": "object",
                  "type": "string"
                },
                {
                  "name": "payment_installments",
                  "rawType": "int64",
                  "type": "integer"
                },
                {
                  "name": "payment_value",
                  "rawType": "float64",
                  "type": "float"
                }
              ],
              "conversionMethod": "pd.DataFrame",
              "ref": "851d6330-bd24-446e-b8aa-fa181a5784d9",
              "rows": [
                [
                  "0",
                  "b81ef226f3fe1789b1e8b2acac839d17",
                  "1",
                  "credit_card",
                  "8",
                  "99.33"
                ],
                [
                  "1",
                  "a9810da82917af2d9aefd1278f1dcfa0",
                  "1",
                  "credit_card",
                  "1",
                  "24.39"
                ],
                [
                  "2",
                  "25e8ea4e93396b6fa0d3dd708e76c1bd",
                  "1",
                  "credit_card",
                  "1",
                  "65.71"
                ],
                [
                  "3",
                  "ba78997921bbcdc1373bb41e913ab953",
                  "1",
                  "credit_card",
                  "8",
                  "107.78"
                ],
                [
                  "4",
                  "42fdf880ba16b47b59251dd489d4441a",
                  "1",
                  "credit_card",
                  "2",
                  "128.45"
                ]
              ],
              "shape": {
                "columns": 5,
                "rows": 5
              }
            },
            "text/html": [
              "<div>\n",
              "<style scoped>\n",
              "    .dataframe tbody tr th:only-of-type {\n",
              "        vertical-align: middle;\n",
              "    }\n",
              "\n",
              "    .dataframe tbody tr th {\n",
              "        vertical-align: top;\n",
              "    }\n",
              "\n",
              "    .dataframe thead th {\n",
              "        text-align: right;\n",
              "    }\n",
              "</style>\n",
              "<table border=\"1\" class=\"dataframe\">\n",
              "  <thead>\n",
              "    <tr style=\"text-align: right;\">\n",
              "      <th></th>\n",
              "      <th>order_id</th>\n",
              "      <th>payment_sequential</th>\n",
              "      <th>payment_type</th>\n",
              "      <th>payment_installments</th>\n",
              "      <th>payment_value</th>\n",
              "    </tr>\n",
              "  </thead>\n",
              "  <tbody>\n",
              "    <tr>\n",
              "      <th>0</th>\n",
              "      <td>b81ef226f3fe1789b1e8b2acac839d17</td>\n",
              "      <td>1</td>\n",
              "      <td>credit_card</td>\n",
              "      <td>8</td>\n",
              "      <td>99.33</td>\n",
              "    </tr>\n",
              "    <tr>\n",
              "      <th>1</th>\n",
              "      <td>a9810da82917af2d9aefd1278f1dcfa0</td>\n",
              "      <td>1</td>\n",
              "      <td>credit_card</td>\n",
              "      <td>1</td>\n",
              "      <td>24.39</td>\n",
              "    </tr>\n",
              "    <tr>\n",
              "      <th>2</th>\n",
              "      <td>25e8ea4e93396b6fa0d3dd708e76c1bd</td>\n",
              "      <td>1</td>\n",
              "      <td>credit_card</td>\n",
              "      <td>1</td>\n",
              "      <td>65.71</td>\n",
              "    </tr>\n",
              "    <tr>\n",
              "      <th>3</th>\n",
              "      <td>ba78997921bbcdc1373bb41e913ab953</td>\n",
              "      <td>1</td>\n",
              "      <td>credit_card</td>\n",
              "      <td>8</td>\n",
              "      <td>107.78</td>\n",
              "    </tr>\n",
              "    <tr>\n",
              "      <th>4</th>\n",
              "      <td>42fdf880ba16b47b59251dd489d4441a</td>\n",
              "      <td>1</td>\n",
              "      <td>credit_card</td>\n",
              "      <td>2</td>\n",
              "      <td>128.45</td>\n",
              "    </tr>\n",
              "  </tbody>\n",
              "</table>\n",
              "</div>"
            ],
            "text/plain": [
              "                           order_id  payment_sequential payment_type  \\\n",
              "0  b81ef226f3fe1789b1e8b2acac839d17                   1  credit_card   \n",
              "1  a9810da82917af2d9aefd1278f1dcfa0                   1  credit_card   \n",
              "2  25e8ea4e93396b6fa0d3dd708e76c1bd                   1  credit_card   \n",
              "3  ba78997921bbcdc1373bb41e913ab953                   1  credit_card   \n",
              "4  42fdf880ba16b47b59251dd489d4441a                   1  credit_card   \n",
              "\n",
              "   payment_installments  payment_value  \n",
              "0                     8          99.33  \n",
              "1                     1          24.39  \n",
              "2                     1          65.71  \n",
              "3                     8         107.78  \n",
              "4                     2         128.45  "
            ]
          },
          "execution_count": 68,
          "metadata": {},
          "output_type": "execute_result"
        }
      ],
      "source": [
        "payments_df = pd.read_csv(f'{data_dir}/order_payments_dataset.csv')\n",
        "payments_df.head()"
      ]
    },
    {
      "cell_type": "markdown",
      "metadata": {},
      "source": [
        "Berdasarkan informasi dari dataframe di atas maka dapat ditentukan beberapa dataframe yang akan digunakan untuk masing-masing pertanyaan sebagai berikut: \n",
        "- Pertanyaan 1 : `orders_df`, `items_df`.\n",
        "- Pertanyaan 2 dan 3 : `orders_df`, `items_df`, `products_df`,\n",
        "- Pertanyaan 4 : `orders_df`, `items_df`, `products_df`, `reviews_df`\n",
        "- Pertanyaan 5 : `orders_df`, `items_df`, `products_df`, `reviews_df`, `payments_df`"
      ]
    },
    {
      "cell_type": "markdown",
      "metadata": {},
      "source": [
        "### Assessing Data"
      ]
    },
    {
      "cell_type": "markdown",
      "metadata": {},
      "source": [
        "#### `orders_df`"
      ]
    },
    {
      "cell_type": "code",
      "execution_count": 69,
      "metadata": {},
      "outputs": [
        {
          "name": "stdout",
          "output_type": "stream",
          "text": [
            "<class 'pandas.core.frame.DataFrame'>\n",
            "RangeIndex: 99441 entries, 0 to 99440\n",
            "Data columns (total 8 columns):\n",
            " #   Column                         Non-Null Count  Dtype \n",
            "---  ------                         --------------  ----- \n",
            " 0   order_id                       99441 non-null  object\n",
            " 1   customer_id                    99441 non-null  object\n",
            " 2   order_status                   99441 non-null  object\n",
            " 3   order_purchase_timestamp       99441 non-null  object\n",
            " 4   order_approved_at              99281 non-null  object\n",
            " 5   order_delivered_carrier_date   97658 non-null  object\n",
            " 6   order_delivered_customer_date  96476 non-null  object\n",
            " 7   order_estimated_delivery_date  99441 non-null  object\n",
            "dtypes: object(8)\n",
            "memory usage: 6.1+ MB\n"
          ]
        }
      ],
      "source": [
        "orders_df.info()"
      ]
    },
    {
      "cell_type": "code",
      "execution_count": 70,
      "metadata": {},
      "outputs": [
        {
          "data": {
            "text/plain": [
              "order_id                         99441\n",
              "customer_id                      99441\n",
              "order_status                         8\n",
              "order_purchase_timestamp         98875\n",
              "order_approved_at                90733\n",
              "order_delivered_carrier_date     81018\n",
              "order_delivered_customer_date    95664\n",
              "order_estimated_delivery_date      459\n",
              "dtype: int64"
            ]
          },
          "execution_count": 70,
          "metadata": {},
          "output_type": "execute_result"
        }
      ],
      "source": [
        "orders_df.nunique()"
      ]
    },
    {
      "cell_type": "code",
      "execution_count": 71,
      "metadata": {},
      "outputs": [
        {
          "data": {
            "text/plain": [
              "order_id                            0\n",
              "customer_id                         0\n",
              "order_status                        0\n",
              "order_purchase_timestamp            0\n",
              "order_approved_at                 160\n",
              "order_delivered_carrier_date     1783\n",
              "order_delivered_customer_date    2965\n",
              "order_estimated_delivery_date       0\n",
              "dtype: int64"
            ]
          },
          "execution_count": 71,
          "metadata": {},
          "output_type": "execute_result"
        }
      ],
      "source": [
        "orders_df.isna().sum()"
      ]
    },
    {
      "cell_type": "code",
      "execution_count": 72,
      "metadata": {},
      "outputs": [
        {
          "data": {
            "text/plain": [
              "0"
            ]
          },
          "execution_count": 72,
          "metadata": {},
          "output_type": "execute_result"
        }
      ],
      "source": [
        "orders_df.duplicated().sum()"
      ]
    },
    {
      "cell_type": "markdown",
      "metadata": {},
      "source": [
        "#### `items_df`"
      ]
    },
    {
      "cell_type": "code",
      "execution_count": 73,
      "metadata": {},
      "outputs": [
        {
          "name": "stdout",
          "output_type": "stream",
          "text": [
            "<class 'pandas.core.frame.DataFrame'>\n",
            "RangeIndex: 112650 entries, 0 to 112649\n",
            "Data columns (total 7 columns):\n",
            " #   Column               Non-Null Count   Dtype  \n",
            "---  ------               --------------   -----  \n",
            " 0   order_id             112650 non-null  object \n",
            " 1   order_item_id        112650 non-null  int64  \n",
            " 2   product_id           112650 non-null  object \n",
            " 3   seller_id            112650 non-null  object \n",
            " 4   shipping_limit_date  112650 non-null  object \n",
            " 5   price                112650 non-null  float64\n",
            " 6   freight_value        112650 non-null  float64\n",
            "dtypes: float64(2), int64(1), object(4)\n",
            "memory usage: 6.0+ MB\n"
          ]
        }
      ],
      "source": [
        "items_df.info()"
      ]
    },
    {
      "cell_type": "code",
      "execution_count": 74,
      "metadata": {},
      "outputs": [
        {
          "data": {
            "text/plain": [
              "order_id               98666\n",
              "order_item_id             21\n",
              "product_id             32951\n",
              "seller_id               3095\n",
              "shipping_limit_date    93318\n",
              "price                   5968\n",
              "freight_value           6999\n",
              "dtype: int64"
            ]
          },
          "execution_count": 74,
          "metadata": {},
          "output_type": "execute_result"
        }
      ],
      "source": [
        "items_df.nunique()"
      ]
    },
    {
      "cell_type": "code",
      "execution_count": 75,
      "metadata": {},
      "outputs": [
        {
          "data": {
            "text/plain": [
              "0"
            ]
          },
          "execution_count": 75,
          "metadata": {},
          "output_type": "execute_result"
        }
      ],
      "source": [
        "items_df.duplicated().sum()"
      ]
    },
    {
      "cell_type": "code",
      "execution_count": 76,
      "metadata": {},
      "outputs": [
        {
          "data": {
            "application/vnd.microsoft.datawrangler.viewer.v0+json": {
              "columns": [
                {
                  "name": "index",
                  "rawType": "object",
                  "type": "string"
                },
                {
                  "name": "order_item_id",
                  "rawType": "float64",
                  "type": "float"
                },
                {
                  "name": "price",
                  "rawType": "float64",
                  "type": "float"
                },
                {
                  "name": "freight_value",
                  "rawType": "float64",
                  "type": "float"
                }
              ],
              "conversionMethod": "pd.DataFrame",
              "ref": "e8084a66-2a69-43b6-af33-f22bdeab0328",
              "rows": [
                [
                  "count",
                  "112650.0",
                  "112650.0",
                  "112650.0"
                ],
                [
                  "mean",
                  "1.1978339991122948",
                  "120.65373901464716",
                  "19.990319928983578"
                ],
                [
                  "std",
                  "0.7051240313956294",
                  "183.63392805025404",
                  "15.806405412296854"
                ],
                [
                  "min",
                  "1.0",
                  "0.85",
                  "0.0"
                ],
                [
                  "25%",
                  "1.0",
                  "39.9",
                  "13.08"
                ],
                [
                  "50%",
                  "1.0",
                  "74.99",
                  "16.26"
                ],
                [
                  "75%",
                  "1.0",
                  "134.9",
                  "21.15"
                ],
                [
                  "max",
                  "21.0",
                  "6735.0",
                  "409.68"
                ]
              ],
              "shape": {
                "columns": 3,
                "rows": 8
              }
            },
            "text/html": [
              "<div>\n",
              "<style scoped>\n",
              "    .dataframe tbody tr th:only-of-type {\n",
              "        vertical-align: middle;\n",
              "    }\n",
              "\n",
              "    .dataframe tbody tr th {\n",
              "        vertical-align: top;\n",
              "    }\n",
              "\n",
              "    .dataframe thead th {\n",
              "        text-align: right;\n",
              "    }\n",
              "</style>\n",
              "<table border=\"1\" class=\"dataframe\">\n",
              "  <thead>\n",
              "    <tr style=\"text-align: right;\">\n",
              "      <th></th>\n",
              "      <th>order_item_id</th>\n",
              "      <th>price</th>\n",
              "      <th>freight_value</th>\n",
              "    </tr>\n",
              "  </thead>\n",
              "  <tbody>\n",
              "    <tr>\n",
              "      <th>count</th>\n",
              "      <td>112650.000000</td>\n",
              "      <td>112650.000000</td>\n",
              "      <td>112650.000000</td>\n",
              "    </tr>\n",
              "    <tr>\n",
              "      <th>mean</th>\n",
              "      <td>1.197834</td>\n",
              "      <td>120.653739</td>\n",
              "      <td>19.990320</td>\n",
              "    </tr>\n",
              "    <tr>\n",
              "      <th>std</th>\n",
              "      <td>0.705124</td>\n",
              "      <td>183.633928</td>\n",
              "      <td>15.806405</td>\n",
              "    </tr>\n",
              "    <tr>\n",
              "      <th>min</th>\n",
              "      <td>1.000000</td>\n",
              "      <td>0.850000</td>\n",
              "      <td>0.000000</td>\n",
              "    </tr>\n",
              "    <tr>\n",
              "      <th>25%</th>\n",
              "      <td>1.000000</td>\n",
              "      <td>39.900000</td>\n",
              "      <td>13.080000</td>\n",
              "    </tr>\n",
              "    <tr>\n",
              "      <th>50%</th>\n",
              "      <td>1.000000</td>\n",
              "      <td>74.990000</td>\n",
              "      <td>16.260000</td>\n",
              "    </tr>\n",
              "    <tr>\n",
              "      <th>75%</th>\n",
              "      <td>1.000000</td>\n",
              "      <td>134.900000</td>\n",
              "      <td>21.150000</td>\n",
              "    </tr>\n",
              "    <tr>\n",
              "      <th>max</th>\n",
              "      <td>21.000000</td>\n",
              "      <td>6735.000000</td>\n",
              "      <td>409.680000</td>\n",
              "    </tr>\n",
              "  </tbody>\n",
              "</table>\n",
              "</div>"
            ],
            "text/plain": [
              "       order_item_id          price  freight_value\n",
              "count  112650.000000  112650.000000  112650.000000\n",
              "mean        1.197834     120.653739      19.990320\n",
              "std         0.705124     183.633928      15.806405\n",
              "min         1.000000       0.850000       0.000000\n",
              "25%         1.000000      39.900000      13.080000\n",
              "50%         1.000000      74.990000      16.260000\n",
              "75%         1.000000     134.900000      21.150000\n",
              "max        21.000000    6735.000000     409.680000"
            ]
          },
          "execution_count": 76,
          "metadata": {},
          "output_type": "execute_result"
        }
      ],
      "source": [
        "items_df.describe()"
      ]
    },
    {
      "cell_type": "markdown",
      "metadata": {},
      "source": [
        "#### `product_df`"
      ]
    },
    {
      "cell_type": "code",
      "execution_count": 77,
      "metadata": {},
      "outputs": [
        {
          "name": "stdout",
          "output_type": "stream",
          "text": [
            "<class 'pandas.core.frame.DataFrame'>\n",
            "RangeIndex: 32951 entries, 0 to 32950\n",
            "Data columns (total 10 columns):\n",
            " #   Column                         Non-Null Count  Dtype  \n",
            "---  ------                         --------------  -----  \n",
            " 0   product_id                     32951 non-null  object \n",
            " 1   product_category_name          32341 non-null  object \n",
            " 2   product_name_lenght            32341 non-null  float64\n",
            " 3   product_description_lenght     32341 non-null  float64\n",
            " 4   product_photos_qty             32341 non-null  float64\n",
            " 5   product_weight_g               32949 non-null  float64\n",
            " 6   product_length_cm              32949 non-null  float64\n",
            " 7   product_height_cm              32949 non-null  float64\n",
            " 8   product_width_cm               32949 non-null  float64\n",
            " 9   product_category_name_english  32328 non-null  object \n",
            "dtypes: float64(7), object(3)\n",
            "memory usage: 2.5+ MB\n"
          ]
        }
      ],
      "source": [
        "products_df.info()"
      ]
    },
    {
      "cell_type": "code",
      "execution_count": 78,
      "metadata": {},
      "outputs": [
        {
          "data": {
            "text/plain": [
              "product_id                         0\n",
              "product_category_name            610\n",
              "product_name_lenght              610\n",
              "product_description_lenght       610\n",
              "product_photos_qty               610\n",
              "product_weight_g                   2\n",
              "product_length_cm                  2\n",
              "product_height_cm                  2\n",
              "product_width_cm                   2\n",
              "product_category_name_english    623\n",
              "dtype: int64"
            ]
          },
          "execution_count": 78,
          "metadata": {},
          "output_type": "execute_result"
        }
      ],
      "source": [
        "products_df.isna().sum()"
      ]
    },
    {
      "cell_type": "code",
      "execution_count": 79,
      "metadata": {},
      "outputs": [
        {
          "data": {
            "text/plain": [
              "0"
            ]
          },
          "execution_count": 79,
          "metadata": {},
          "output_type": "execute_result"
        }
      ],
      "source": [
        "products_df.duplicated().sum()"
      ]
    },
    {
      "cell_type": "code",
      "execution_count": 80,
      "metadata": {},
      "outputs": [
        {
          "data": {
            "application/vnd.microsoft.datawrangler.viewer.v0+json": {
              "columns": [
                {
                  "name": "index",
                  "rawType": "object",
                  "type": "string"
                },
                {
                  "name": "product_name_lenght",
                  "rawType": "float64",
                  "type": "float"
                },
                {
                  "name": "product_description_lenght",
                  "rawType": "float64",
                  "type": "float"
                },
                {
                  "name": "product_photos_qty",
                  "rawType": "float64",
                  "type": "float"
                },
                {
                  "name": "product_weight_g",
                  "rawType": "float64",
                  "type": "float"
                },
                {
                  "name": "product_length_cm",
                  "rawType": "float64",
                  "type": "float"
                },
                {
                  "name": "product_height_cm",
                  "rawType": "float64",
                  "type": "float"
                },
                {
                  "name": "product_width_cm",
                  "rawType": "float64",
                  "type": "float"
                }
              ],
              "conversionMethod": "pd.DataFrame",
              "ref": "ba629a53-811d-4083-9262-9e786d1fc273",
              "rows": [
                [
                  "count",
                  "32341.0",
                  "32341.0",
                  "32341.0",
                  "32949.0",
                  "32949.0",
                  "32949.0",
                  "32949.0"
                ],
                [
                  "mean",
                  "48.47694876472589",
                  "771.4952846232337",
                  "2.1889861166939797",
                  "2276.4724877841513",
                  "30.81507784758263",
                  "16.937661234028347",
                  "23.196728277034204"
                ],
                [
                  "std",
                  "10.245740725237479",
                  "635.1152246349546",
                  "1.7367656379315015",
                  "4282.038730977634",
                  "16.91445805406699",
                  "13.637554061749832",
                  "12.07904745322808"
                ],
                [
                  "min",
                  "5.0",
                  "4.0",
                  "1.0",
                  "0.0",
                  "7.0",
                  "2.0",
                  "6.0"
                ],
                [
                  "25%",
                  "42.0",
                  "339.0",
                  "1.0",
                  "300.0",
                  "18.0",
                  "8.0",
                  "15.0"
                ],
                [
                  "50%",
                  "51.0",
                  "595.0",
                  "1.0",
                  "700.0",
                  "25.0",
                  "13.0",
                  "20.0"
                ],
                [
                  "75%",
                  "57.0",
                  "972.0",
                  "3.0",
                  "1900.0",
                  "38.0",
                  "21.0",
                  "30.0"
                ],
                [
                  "max",
                  "76.0",
                  "3992.0",
                  "20.0",
                  "40425.0",
                  "105.0",
                  "105.0",
                  "118.0"
                ]
              ],
              "shape": {
                "columns": 7,
                "rows": 8
              }
            },
            "text/html": [
              "<div>\n",
              "<style scoped>\n",
              "    .dataframe tbody tr th:only-of-type {\n",
              "        vertical-align: middle;\n",
              "    }\n",
              "\n",
              "    .dataframe tbody tr th {\n",
              "        vertical-align: top;\n",
              "    }\n",
              "\n",
              "    .dataframe thead th {\n",
              "        text-align: right;\n",
              "    }\n",
              "</style>\n",
              "<table border=\"1\" class=\"dataframe\">\n",
              "  <thead>\n",
              "    <tr style=\"text-align: right;\">\n",
              "      <th></th>\n",
              "      <th>product_name_lenght</th>\n",
              "      <th>product_description_lenght</th>\n",
              "      <th>product_photos_qty</th>\n",
              "      <th>product_weight_g</th>\n",
              "      <th>product_length_cm</th>\n",
              "      <th>product_height_cm</th>\n",
              "      <th>product_width_cm</th>\n",
              "    </tr>\n",
              "  </thead>\n",
              "  <tbody>\n",
              "    <tr>\n",
              "      <th>count</th>\n",
              "      <td>32341.000000</td>\n",
              "      <td>32341.000000</td>\n",
              "      <td>32341.000000</td>\n",
              "      <td>32949.000000</td>\n",
              "      <td>32949.000000</td>\n",
              "      <td>32949.000000</td>\n",
              "      <td>32949.000000</td>\n",
              "    </tr>\n",
              "    <tr>\n",
              "      <th>mean</th>\n",
              "      <td>48.476949</td>\n",
              "      <td>771.495285</td>\n",
              "      <td>2.188986</td>\n",
              "      <td>2276.472488</td>\n",
              "      <td>30.815078</td>\n",
              "      <td>16.937661</td>\n",
              "      <td>23.196728</td>\n",
              "    </tr>\n",
              "    <tr>\n",
              "      <th>std</th>\n",
              "      <td>10.245741</td>\n",
              "      <td>635.115225</td>\n",
              "      <td>1.736766</td>\n",
              "      <td>4282.038731</td>\n",
              "      <td>16.914458</td>\n",
              "      <td>13.637554</td>\n",
              "      <td>12.079047</td>\n",
              "    </tr>\n",
              "    <tr>\n",
              "      <th>min</th>\n",
              "      <td>5.000000</td>\n",
              "      <td>4.000000</td>\n",
              "      <td>1.000000</td>\n",
              "      <td>0.000000</td>\n",
              "      <td>7.000000</td>\n",
              "      <td>2.000000</td>\n",
              "      <td>6.000000</td>\n",
              "    </tr>\n",
              "    <tr>\n",
              "      <th>25%</th>\n",
              "      <td>42.000000</td>\n",
              "      <td>339.000000</td>\n",
              "      <td>1.000000</td>\n",
              "      <td>300.000000</td>\n",
              "      <td>18.000000</td>\n",
              "      <td>8.000000</td>\n",
              "      <td>15.000000</td>\n",
              "    </tr>\n",
              "    <tr>\n",
              "      <th>50%</th>\n",
              "      <td>51.000000</td>\n",
              "      <td>595.000000</td>\n",
              "      <td>1.000000</td>\n",
              "      <td>700.000000</td>\n",
              "      <td>25.000000</td>\n",
              "      <td>13.000000</td>\n",
              "      <td>20.000000</td>\n",
              "    </tr>\n",
              "    <tr>\n",
              "      <th>75%</th>\n",
              "      <td>57.000000</td>\n",
              "      <td>972.000000</td>\n",
              "      <td>3.000000</td>\n",
              "      <td>1900.000000</td>\n",
              "      <td>38.000000</td>\n",
              "      <td>21.000000</td>\n",
              "      <td>30.000000</td>\n",
              "    </tr>\n",
              "    <tr>\n",
              "      <th>max</th>\n",
              "      <td>76.000000</td>\n",
              "      <td>3992.000000</td>\n",
              "      <td>20.000000</td>\n",
              "      <td>40425.000000</td>\n",
              "      <td>105.000000</td>\n",
              "      <td>105.000000</td>\n",
              "      <td>118.000000</td>\n",
              "    </tr>\n",
              "  </tbody>\n",
              "</table>\n",
              "</div>"
            ],
            "text/plain": [
              "       product_name_lenght  product_description_lenght  product_photos_qty  \\\n",
              "count         32341.000000                32341.000000        32341.000000   \n",
              "mean             48.476949                  771.495285            2.188986   \n",
              "std              10.245741                  635.115225            1.736766   \n",
              "min               5.000000                    4.000000            1.000000   \n",
              "25%              42.000000                  339.000000            1.000000   \n",
              "50%              51.000000                  595.000000            1.000000   \n",
              "75%              57.000000                  972.000000            3.000000   \n",
              "max              76.000000                 3992.000000           20.000000   \n",
              "\n",
              "       product_weight_g  product_length_cm  product_height_cm  \\\n",
              "count      32949.000000       32949.000000       32949.000000   \n",
              "mean        2276.472488          30.815078          16.937661   \n",
              "std         4282.038731          16.914458          13.637554   \n",
              "min            0.000000           7.000000           2.000000   \n",
              "25%          300.000000          18.000000           8.000000   \n",
              "50%          700.000000          25.000000          13.000000   \n",
              "75%         1900.000000          38.000000          21.000000   \n",
              "max        40425.000000         105.000000         105.000000   \n",
              "\n",
              "       product_width_cm  \n",
              "count      32949.000000  \n",
              "mean          23.196728  \n",
              "std           12.079047  \n",
              "min            6.000000  \n",
              "25%           15.000000  \n",
              "50%           20.000000  \n",
              "75%           30.000000  \n",
              "max          118.000000  "
            ]
          },
          "execution_count": 80,
          "metadata": {},
          "output_type": "execute_result"
        }
      ],
      "source": [
        "products_df.describe()"
      ]
    },
    {
      "cell_type": "markdown",
      "metadata": {},
      "source": [
        "#### `reviews_df`"
      ]
    },
    {
      "cell_type": "code",
      "execution_count": 81,
      "metadata": {},
      "outputs": [
        {
          "name": "stdout",
          "output_type": "stream",
          "text": [
            "<class 'pandas.core.frame.DataFrame'>\n",
            "RangeIndex: 99224 entries, 0 to 99223\n",
            "Data columns (total 7 columns):\n",
            " #   Column                   Non-Null Count  Dtype \n",
            "---  ------                   --------------  ----- \n",
            " 0   review_id                99224 non-null  object\n",
            " 1   order_id                 99224 non-null  object\n",
            " 2   review_score             99224 non-null  int64 \n",
            " 3   review_comment_title     11568 non-null  object\n",
            " 4   review_comment_message   40977 non-null  object\n",
            " 5   review_creation_date     99224 non-null  object\n",
            " 6   review_answer_timestamp  99224 non-null  object\n",
            "dtypes: int64(1), object(6)\n",
            "memory usage: 5.3+ MB\n"
          ]
        }
      ],
      "source": [
        "reviews_df.info()"
      ]
    },
    {
      "cell_type": "code",
      "execution_count": 82,
      "metadata": {},
      "outputs": [
        {
          "data": {
            "text/plain": [
              "review_id                  98410\n",
              "order_id                   98673\n",
              "review_score                   5\n",
              "review_comment_title        4527\n",
              "review_comment_message     36159\n",
              "review_creation_date         636\n",
              "review_answer_timestamp    98248\n",
              "dtype: int64"
            ]
          },
          "execution_count": 82,
          "metadata": {},
          "output_type": "execute_result"
        }
      ],
      "source": [
        "reviews_df.nunique()"
      ]
    },
    {
      "cell_type": "code",
      "execution_count": 83,
      "metadata": {},
      "outputs": [
        {
          "data": {
            "text/plain": [
              "review_id                      0\n",
              "order_id                       0\n",
              "review_score                   0\n",
              "review_comment_title       87656\n",
              "review_comment_message     58247\n",
              "review_creation_date           0\n",
              "review_answer_timestamp        0\n",
              "dtype: int64"
            ]
          },
          "execution_count": 83,
          "metadata": {},
          "output_type": "execute_result"
        }
      ],
      "source": [
        "reviews_df.isna().sum()"
      ]
    },
    {
      "cell_type": "markdown",
      "metadata": {},
      "source": [
        "**Cek Duplikat**"
      ]
    },
    {
      "cell_type": "code",
      "execution_count": 84,
      "metadata": {},
      "outputs": [
        {
          "data": {
            "text/plain": [
              "0"
            ]
          },
          "execution_count": 84,
          "metadata": {},
          "output_type": "execute_result"
        }
      ],
      "source": [
        "reviews_df.duplicated().sum()"
      ]
    },
    {
      "cell_type": "code",
      "execution_count": 85,
      "metadata": {},
      "outputs": [],
      "source": [
        "reviews_group_df = reviews_df.groupby(by='order_id').agg({\n",
        "    'review_id': 'nunique',\n",
        "    'review_creation_date': 'nunique',\n",
        "    'review_answer_timestamp': 'nunique',\n",
        "    'review_score': 'nunique'\n",
        "}).reset_index()"
      ]
    },
    {
      "cell_type": "code",
      "execution_count": 86,
      "metadata": {},
      "outputs": [
        {
          "data": {
            "application/vnd.microsoft.datawrangler.viewer.v0+json": {
              "columns": [
                {
                  "name": "index",
                  "rawType": "int64",
                  "type": "integer"
                },
                {
                  "name": "order_id",
                  "rawType": "object",
                  "type": "string"
                },
                {
                  "name": "review_id",
                  "rawType": "int64",
                  "type": "integer"
                },
                {
                  "name": "review_creation_date",
                  "rawType": "int64",
                  "type": "integer"
                },
                {
                  "name": "review_answer_timestamp",
                  "rawType": "int64",
                  "type": "integer"
                },
                {
                  "name": "review_score",
                  "rawType": "int64",
                  "type": "integer"
                }
              ],
              "conversionMethod": "pd.DataFrame",
              "ref": "ea95d185-a838-4ada-9868-fab5ab3071b6",
              "rows": [
                [
                  "84",
                  "0035246a40f520710769010f752e7507",
                  "2",
                  "2",
                  "2",
                  "1"
                ],
                [
                  "461",
                  "013056cfe49763c6f66bda03396c5ee3",
                  "2",
                  "2",
                  "2",
                  "2"
                ],
                [
                  "556",
                  "0176a6846bcb3b0d3aa3116a9a768597",
                  "2",
                  "1",
                  "2",
                  "1"
                ],
                [
                  "835",
                  "02355020fd0a40a0d56df9f6ff060413",
                  "2",
                  "2",
                  "2",
                  "2"
                ],
                [
                  "985",
                  "029863af4b968de1e5d6a82782e662f5",
                  "2",
                  "2",
                  "2",
                  "2"
                ],
                [
                  "1092",
                  "02e0b68852217f5715fb9cc885829454",
                  "2",
                  "2",
                  "2",
                  "1"
                ],
                [
                  "1103",
                  "02e723e8edb4a123d414f56cc9c4665e",
                  "2",
                  "2",
                  "2",
                  "1"
                ],
                [
                  "1272",
                  "03515a836bb855b03f7df9dee520a8fc",
                  "2",
                  "2",
                  "2",
                  "1"
                ],
                [
                  "1455",
                  "03c939fd7fd3b38f8485a0f95798f1f6",
                  "3",
                  "3",
                  "3",
                  "2"
                ],
                [
                  "1510",
                  "03eba6d9fef8f5b3e811d4b5a7cca9cd",
                  "2",
                  "2",
                  "2",
                  "2"
                ],
                [
                  "1913",
                  "04f1827088d972a62224f5203a071500",
                  "2",
                  "2",
                  "2",
                  "2"
                ],
                [
                  "2040",
                  "0544030711e50ec2cb6c15764d22891a",
                  "2",
                  "1",
                  "2",
                  "2"
                ],
                [
                  "2043",
                  "05452881e2846549b81d39249bb66ad7",
                  "2",
                  "2",
                  "2",
                  "1"
                ],
                [
                  "2115",
                  "056bfadd41b8600ad5ecfef2ac132188",
                  "2",
                  "1",
                  "2",
                  "1"
                ],
                [
                  "2189",
                  "059bbeb3477ed66fd7e670c3f879009a",
                  "2",
                  "2",
                  "2",
                  "2"
                ],
                [
                  "2615",
                  "06b2c7035561ef12b16045ef4bf459e2",
                  "2",
                  "2",
                  "2",
                  "1"
                ],
                [
                  "2770",
                  "0715dfcf2383aa72c181d8b47f6cb589",
                  "2",
                  "2",
                  "2",
                  "1"
                ],
                [
                  "2825",
                  "073fa4be4665f397a289842b1053229c",
                  "2",
                  "1",
                  "2",
                  "2"
                ],
                [
                  "2842",
                  "0749426d1c48fe5943cbdf1316ace0aa",
                  "2",
                  "2",
                  "2",
                  "1"
                ],
                [
                  "2873",
                  "075a544c5f4ed4bb75f82b160465fe76",
                  "2",
                  "2",
                  "2",
                  "2"
                ],
                [
                  "2902",
                  "076d991923ee938761994a4255f5c5da",
                  "2",
                  "2",
                  "2",
                  "1"
                ],
                [
                  "3402",
                  "08bf75dcf867b9f13026785053e87052",
                  "2",
                  "2",
                  "2",
                  "2"
                ],
                [
                  "3403",
                  "08c01d43e93f5c485f48758550d41eb9",
                  "2",
                  "1",
                  "2",
                  "1"
                ],
                [
                  "3661",
                  "095e9e0811476409362d72fa70d73a6c",
                  "2",
                  "2",
                  "2",
                  "2"
                ],
                [
                  "3696",
                  "097abce97e431993434adabc1aaec4e4",
                  "2",
                  "2",
                  "2",
                  "1"
                ],
                [
                  "3765",
                  "09a38776c4e31230864f867821174daa",
                  "2",
                  "2",
                  "2",
                  "2"
                ],
                [
                  "4301",
                  "0b127810f86631fa896fd74a421045f8",
                  "2",
                  "2",
                  "2",
                  "1"
                ],
                [
                  "4391",
                  "0b4aab4ef70208498663141571f68116",
                  "2",
                  "2",
                  "2",
                  "1"
                ],
                [
                  "4413",
                  "0b5588f04551d90ee148462bb65dfddf",
                  "2",
                  "2",
                  "2",
                  "1"
                ],
                [
                  "5146",
                  "0d404657f01231a876c9a25b6c91e329",
                  "2",
                  "1",
                  "2",
                  "1"
                ],
                [
                  "5209",
                  "0d6cc2219ef268358eac3c49b47abca9",
                  "2",
                  "2",
                  "2",
                  "1"
                ],
                [
                  "5295",
                  "0da7c9db070f692a9851de83c90a4371",
                  "2",
                  "2",
                  "2",
                  "1"
                ],
                [
                  "5314",
                  "0db1181e0778609b581bf9a95b17f313",
                  "2",
                  "2",
                  "2",
                  "1"
                ],
                [
                  "5342",
                  "0dccb365ad960364b43a228ff6cebd3b",
                  "2",
                  "2",
                  "2",
                  "1"
                ],
                [
                  "5416",
                  "0dfedf3d432d2cdca59a3ef16b313db6",
                  "2",
                  "2",
                  "2",
                  "1"
                ],
                [
                  "5509",
                  "0e457aee274ec7e2e18d25ab6d212921",
                  "2",
                  "2",
                  "2",
                  "1"
                ],
                [
                  "5768",
                  "0ed5043fe7d3f4f88353697330bbc020",
                  "2",
                  "1",
                  "2",
                  "1"
                ],
                [
                  "5787",
                  "0ee24d5ae95ccf0552a2ef03dfadb924",
                  "2",
                  "1",
                  "2",
                  "1"
                ],
                [
                  "6043",
                  "0f9458a3e4a303f60f99659d29645ee5",
                  "2",
                  "2",
                  "2",
                  "1"
                ],
                [
                  "6300",
                  "1041d437bb0a4bcfeb3a107426f2d5f5",
                  "2",
                  "2",
                  "2",
                  "1"
                ],
                [
                  "6307",
                  "10467788e05701fc7e9293f6cbed5c11",
                  "2",
                  "1",
                  "2",
                  "1"
                ],
                [
                  "6573",
                  "10f288cd8e6f4add2454d845e9df5af6",
                  "2",
                  "2",
                  "2",
                  "1"
                ],
                [
                  "6623",
                  "110f23195a2ddb2ccaad30b37bfacbbf",
                  "2",
                  "2",
                  "2",
                  "1"
                ],
                [
                  "7545",
                  "138db286991b7cc18370680e5f5154da",
                  "2",
                  "1",
                  "2",
                  "1"
                ],
                [
                  "7767",
                  "142b0e3de54c110a3109b26c79d6ec2e",
                  "2",
                  "1",
                  "2",
                  "1"
                ],
                [
                  "8020",
                  "14d35062b86c2e1f69376af68e9e2a1e",
                  "2",
                  "2",
                  "2",
                  "2"
                ],
                [
                  "8027",
                  "14d9794bbb53614d12cc2df6a045f82b",
                  "2",
                  "2",
                  "2",
                  "1"
                ],
                [
                  "8069",
                  "14f6c86b695ea4ddd3dd4386d10388b0",
                  "2",
                  "1",
                  "2",
                  "1"
                ],
                [
                  "8073",
                  "14f75c9606fc12baa607bebe380d7237",
                  "2",
                  "1",
                  "2",
                  "2"
                ],
                [
                  "8084",
                  "14fdbdfb8a3c7657649abbc004c434c5",
                  "2",
                  "2",
                  "2",
                  "1"
                ]
              ],
              "shape": {
                "columns": 5,
                "rows": 547
              }
            },
            "text/html": [
              "<div>\n",
              "<style scoped>\n",
              "    .dataframe tbody tr th:only-of-type {\n",
              "        vertical-align: middle;\n",
              "    }\n",
              "\n",
              "    .dataframe tbody tr th {\n",
              "        vertical-align: top;\n",
              "    }\n",
              "\n",
              "    .dataframe thead th {\n",
              "        text-align: right;\n",
              "    }\n",
              "</style>\n",
              "<table border=\"1\" class=\"dataframe\">\n",
              "  <thead>\n",
              "    <tr style=\"text-align: right;\">\n",
              "      <th></th>\n",
              "      <th>order_id</th>\n",
              "      <th>review_id</th>\n",
              "      <th>review_creation_date</th>\n",
              "      <th>review_answer_timestamp</th>\n",
              "      <th>review_score</th>\n",
              "    </tr>\n",
              "  </thead>\n",
              "  <tbody>\n",
              "    <tr>\n",
              "      <th>84</th>\n",
              "      <td>0035246a40f520710769010f752e7507</td>\n",
              "      <td>2</td>\n",
              "      <td>2</td>\n",
              "      <td>2</td>\n",
              "      <td>1</td>\n",
              "    </tr>\n",
              "    <tr>\n",
              "      <th>461</th>\n",
              "      <td>013056cfe49763c6f66bda03396c5ee3</td>\n",
              "      <td>2</td>\n",
              "      <td>2</td>\n",
              "      <td>2</td>\n",
              "      <td>2</td>\n",
              "    </tr>\n",
              "    <tr>\n",
              "      <th>556</th>\n",
              "      <td>0176a6846bcb3b0d3aa3116a9a768597</td>\n",
              "      <td>2</td>\n",
              "      <td>1</td>\n",
              "      <td>2</td>\n",
              "      <td>1</td>\n",
              "    </tr>\n",
              "    <tr>\n",
              "      <th>835</th>\n",
              "      <td>02355020fd0a40a0d56df9f6ff060413</td>\n",
              "      <td>2</td>\n",
              "      <td>2</td>\n",
              "      <td>2</td>\n",
              "      <td>2</td>\n",
              "    </tr>\n",
              "    <tr>\n",
              "      <th>985</th>\n",
              "      <td>029863af4b968de1e5d6a82782e662f5</td>\n",
              "      <td>2</td>\n",
              "      <td>2</td>\n",
              "      <td>2</td>\n",
              "      <td>2</td>\n",
              "    </tr>\n",
              "    <tr>\n",
              "      <th>...</th>\n",
              "      <td>...</td>\n",
              "      <td>...</td>\n",
              "      <td>...</td>\n",
              "      <td>...</td>\n",
              "      <td>...</td>\n",
              "    </tr>\n",
              "    <tr>\n",
              "      <th>97779</th>\n",
              "      <td>fd95ae805c63c534f1a64589e102225e</td>\n",
              "      <td>2</td>\n",
              "      <td>2</td>\n",
              "      <td>2</td>\n",
              "      <td>1</td>\n",
              "    </tr>\n",
              "    <tr>\n",
              "      <th>97943</th>\n",
              "      <td>fe041ba1c9f54016432fa6ee91709dbc</td>\n",
              "      <td>2</td>\n",
              "      <td>1</td>\n",
              "      <td>2</td>\n",
              "      <td>1</td>\n",
              "    </tr>\n",
              "    <tr>\n",
              "      <th>98480</th>\n",
              "      <td>ff763b73e473d03c321bcd5a053316e8</td>\n",
              "      <td>2</td>\n",
              "      <td>2</td>\n",
              "      <td>2</td>\n",
              "      <td>2</td>\n",
              "    </tr>\n",
              "    <tr>\n",
              "      <th>98497</th>\n",
              "      <td>ff850ba359507b996e8b2fbb26df8d03</td>\n",
              "      <td>2</td>\n",
              "      <td>2</td>\n",
              "      <td>2</td>\n",
              "      <td>1</td>\n",
              "    </tr>\n",
              "    <tr>\n",
              "      <th>98553</th>\n",
              "      <td>ffaabba06c9d293a3c614e0515ddbabc</td>\n",
              "      <td>2</td>\n",
              "      <td>1</td>\n",
              "      <td>2</td>\n",
              "      <td>1</td>\n",
              "    </tr>\n",
              "  </tbody>\n",
              "</table>\n",
              "<p>547 rows × 5 columns</p>\n",
              "</div>"
            ],
            "text/plain": [
              "                               order_id  review_id  review_creation_date  \\\n",
              "84     0035246a40f520710769010f752e7507          2                     2   \n",
              "461    013056cfe49763c6f66bda03396c5ee3          2                     2   \n",
              "556    0176a6846bcb3b0d3aa3116a9a768597          2                     1   \n",
              "835    02355020fd0a40a0d56df9f6ff060413          2                     2   \n",
              "985    029863af4b968de1e5d6a82782e662f5          2                     2   \n",
              "...                                 ...        ...                   ...   \n",
              "97779  fd95ae805c63c534f1a64589e102225e          2                     2   \n",
              "97943  fe041ba1c9f54016432fa6ee91709dbc          2                     1   \n",
              "98480  ff763b73e473d03c321bcd5a053316e8          2                     2   \n",
              "98497  ff850ba359507b996e8b2fbb26df8d03          2                     2   \n",
              "98553  ffaabba06c9d293a3c614e0515ddbabc          2                     1   \n",
              "\n",
              "       review_answer_timestamp  review_score  \n",
              "84                           2             1  \n",
              "461                          2             2  \n",
              "556                          2             1  \n",
              "835                          2             2  \n",
              "985                          2             2  \n",
              "...                        ...           ...  \n",
              "97779                        2             1  \n",
              "97943                        2             1  \n",
              "98480                        2             2  \n",
              "98497                        2             1  \n",
              "98553                        2             1  \n",
              "\n",
              "[547 rows x 5 columns]"
            ]
          },
          "execution_count": 86,
          "metadata": {},
          "output_type": "execute_result"
        }
      ],
      "source": [
        "reviews_group_df[(reviews_group_df.review_id > 1)]"
      ]
    },
    {
      "cell_type": "markdown",
      "metadata": {},
      "source": [
        "Dalam 1 pesanan (*order_id*), umumnya terdapat 1 ulasan (*review_id*) oleh pelanggan. Beberapa kasus lain dijumpai lebih dari 1 ulasan yang bisa disebabkan karena beberapa faktor seperti pelanggan memperbarui ulasannya atau penjual merespon ulasan lebih dari 1 kali. Seperti pada kasus dengan jumlah *review_id*, *review_creation_date*, *review_answer_timestamp*, dan *review_score* yang bernilai 2 atau lebih.  \n",
        "\n",
        "Berikut merupakan contoh kasus di mana pelanggan mengubah skor ulasannya pada sebuah pesanan."
      ]
    },
    {
      "cell_type": "code",
      "execution_count": 87,
      "metadata": {},
      "outputs": [
        {
          "data": {
            "application/vnd.microsoft.datawrangler.viewer.v0+json": {
              "columns": [
                {
                  "name": "index",
                  "rawType": "int64",
                  "type": "integer"
                },
                {
                  "name": "review_id",
                  "rawType": "object",
                  "type": "string"
                },
                {
                  "name": "order_id",
                  "rawType": "object",
                  "type": "string"
                },
                {
                  "name": "review_score",
                  "rawType": "int64",
                  "type": "integer"
                },
                {
                  "name": "review_comment_title",
                  "rawType": "object",
                  "type": "unknown"
                },
                {
                  "name": "review_comment_message",
                  "rawType": "object",
                  "type": "unknown"
                },
                {
                  "name": "review_creation_date",
                  "rawType": "object",
                  "type": "string"
                },
                {
                  "name": "review_answer_timestamp",
                  "rawType": "object",
                  "type": "string"
                }
              ],
              "conversionMethod": "pd.DataFrame",
              "ref": "545bd446-9cef-4e4a-9672-12f042c562b5",
              "rows": [
                [
                  "22779",
                  "ab30810c29da5da8045216f0f62652a2",
                  "013056cfe49763c6f66bda03396c5ee3",
                  "5",
                  null,
                  null,
                  "2018-02-22 00:00:00",
                  "2018-02-23 12:12:30"
                ],
                [
                  "68633",
                  "73413b847f63e02bc752b364f6d05ee9",
                  "013056cfe49763c6f66bda03396c5ee3",
                  "4",
                  null,
                  null,
                  "2018-03-04 00:00:00",
                  "2018-03-05 17:02:00"
                ]
              ],
              "shape": {
                "columns": 7,
                "rows": 2
              }
            },
            "text/html": [
              "<div>\n",
              "<style scoped>\n",
              "    .dataframe tbody tr th:only-of-type {\n",
              "        vertical-align: middle;\n",
              "    }\n",
              "\n",
              "    .dataframe tbody tr th {\n",
              "        vertical-align: top;\n",
              "    }\n",
              "\n",
              "    .dataframe thead th {\n",
              "        text-align: right;\n",
              "    }\n",
              "</style>\n",
              "<table border=\"1\" class=\"dataframe\">\n",
              "  <thead>\n",
              "    <tr style=\"text-align: right;\">\n",
              "      <th></th>\n",
              "      <th>review_id</th>\n",
              "      <th>order_id</th>\n",
              "      <th>review_score</th>\n",
              "      <th>review_comment_title</th>\n",
              "      <th>review_comment_message</th>\n",
              "      <th>review_creation_date</th>\n",
              "      <th>review_answer_timestamp</th>\n",
              "    </tr>\n",
              "  </thead>\n",
              "  <tbody>\n",
              "    <tr>\n",
              "      <th>22779</th>\n",
              "      <td>ab30810c29da5da8045216f0f62652a2</td>\n",
              "      <td>013056cfe49763c6f66bda03396c5ee3</td>\n",
              "      <td>5</td>\n",
              "      <td>NaN</td>\n",
              "      <td>NaN</td>\n",
              "      <td>2018-02-22 00:00:00</td>\n",
              "      <td>2018-02-23 12:12:30</td>\n",
              "    </tr>\n",
              "    <tr>\n",
              "      <th>68633</th>\n",
              "      <td>73413b847f63e02bc752b364f6d05ee9</td>\n",
              "      <td>013056cfe49763c6f66bda03396c5ee3</td>\n",
              "      <td>4</td>\n",
              "      <td>NaN</td>\n",
              "      <td>NaN</td>\n",
              "      <td>2018-03-04 00:00:00</td>\n",
              "      <td>2018-03-05 17:02:00</td>\n",
              "    </tr>\n",
              "  </tbody>\n",
              "</table>\n",
              "</div>"
            ],
            "text/plain": [
              "                              review_id                          order_id  \\\n",
              "22779  ab30810c29da5da8045216f0f62652a2  013056cfe49763c6f66bda03396c5ee3   \n",
              "68633  73413b847f63e02bc752b364f6d05ee9  013056cfe49763c6f66bda03396c5ee3   \n",
              "\n",
              "       review_score review_comment_title review_comment_message  \\\n",
              "22779             5                  NaN                    NaN   \n",
              "68633             4                  NaN                    NaN   \n",
              "\n",
              "      review_creation_date review_answer_timestamp  \n",
              "22779  2018-02-22 00:00:00     2018-02-23 12:12:30  \n",
              "68633  2018-03-04 00:00:00     2018-03-05 17:02:00  "
            ]
          },
          "execution_count": 87,
          "metadata": {},
          "output_type": "execute_result"
        }
      ],
      "source": [
        "reviews_df[reviews_df.order_id == '013056cfe49763c6f66bda03396c5ee3']"
      ]
    },
    {
      "cell_type": "code",
      "execution_count": 88,
      "metadata": {},
      "outputs": [
        {
          "data": {
            "application/vnd.microsoft.datawrangler.viewer.v0+json": {
              "columns": [
                {
                  "name": "index",
                  "rawType": "int64",
                  "type": "integer"
                },
                {
                  "name": "review_id",
                  "rawType": "object",
                  "type": "string"
                },
                {
                  "name": "order_id",
                  "rawType": "object",
                  "type": "string"
                },
                {
                  "name": "review_score",
                  "rawType": "int64",
                  "type": "integer"
                },
                {
                  "name": "review_comment_title",
                  "rawType": "object",
                  "type": "unknown"
                },
                {
                  "name": "review_comment_message",
                  "rawType": "object",
                  "type": "unknown"
                },
                {
                  "name": "review_creation_date",
                  "rawType": "object",
                  "type": "string"
                },
                {
                  "name": "review_answer_timestamp",
                  "rawType": "object",
                  "type": "string"
                }
              ],
              "conversionMethod": "pd.DataFrame",
              "ref": "6124d58a-b718-43ba-8e1a-b9c900931a4a",
              "rows": [
                [
                  "43728",
                  "5d4b9d006f25dbfdcb801b524747b172",
                  "8d771479430ddcc5431d2ef4aa207204",
                  "5",
                  null,
                  "otima",
                  "2017-06-20 00:00:00",
                  "2017-06-21 23:01:49"
                ],
                [
                  "73269",
                  "2486dec8ac0f7cb4d8a894cc6b3c3338",
                  "8d771479430ddcc5431d2ef4aa207204",
                  "5",
                  null,
                  null,
                  "2017-06-20 00:00:00",
                  "2017-06-21 23:03:26"
                ]
              ],
              "shape": {
                "columns": 7,
                "rows": 2
              }
            },
            "text/html": [
              "<div>\n",
              "<style scoped>\n",
              "    .dataframe tbody tr th:only-of-type {\n",
              "        vertical-align: middle;\n",
              "    }\n",
              "\n",
              "    .dataframe tbody tr th {\n",
              "        vertical-align: top;\n",
              "    }\n",
              "\n",
              "    .dataframe thead th {\n",
              "        text-align: right;\n",
              "    }\n",
              "</style>\n",
              "<table border=\"1\" class=\"dataframe\">\n",
              "  <thead>\n",
              "    <tr style=\"text-align: right;\">\n",
              "      <th></th>\n",
              "      <th>review_id</th>\n",
              "      <th>order_id</th>\n",
              "      <th>review_score</th>\n",
              "      <th>review_comment_title</th>\n",
              "      <th>review_comment_message</th>\n",
              "      <th>review_creation_date</th>\n",
              "      <th>review_answer_timestamp</th>\n",
              "    </tr>\n",
              "  </thead>\n",
              "  <tbody>\n",
              "    <tr>\n",
              "      <th>43728</th>\n",
              "      <td>5d4b9d006f25dbfdcb801b524747b172</td>\n",
              "      <td>8d771479430ddcc5431d2ef4aa207204</td>\n",
              "      <td>5</td>\n",
              "      <td>NaN</td>\n",
              "      <td>otima</td>\n",
              "      <td>2017-06-20 00:00:00</td>\n",
              "      <td>2017-06-21 23:01:49</td>\n",
              "    </tr>\n",
              "    <tr>\n",
              "      <th>73269</th>\n",
              "      <td>2486dec8ac0f7cb4d8a894cc6b3c3338</td>\n",
              "      <td>8d771479430ddcc5431d2ef4aa207204</td>\n",
              "      <td>5</td>\n",
              "      <td>NaN</td>\n",
              "      <td>NaN</td>\n",
              "      <td>2017-06-20 00:00:00</td>\n",
              "      <td>2017-06-21 23:03:26</td>\n",
              "    </tr>\n",
              "  </tbody>\n",
              "</table>\n",
              "</div>"
            ],
            "text/plain": [
              "                              review_id                          order_id  \\\n",
              "43728  5d4b9d006f25dbfdcb801b524747b172  8d771479430ddcc5431d2ef4aa207204   \n",
              "73269  2486dec8ac0f7cb4d8a894cc6b3c3338  8d771479430ddcc5431d2ef4aa207204   \n",
              "\n",
              "       review_score review_comment_title review_comment_message  \\\n",
              "43728             5                  NaN                  otima   \n",
              "73269             5                  NaN                    NaN   \n",
              "\n",
              "      review_creation_date review_answer_timestamp  \n",
              "43728  2017-06-20 00:00:00     2017-06-21 23:01:49  \n",
              "73269  2017-06-20 00:00:00     2017-06-21 23:03:26  "
            ]
          },
          "execution_count": 88,
          "metadata": {},
          "output_type": "execute_result"
        }
      ],
      "source": [
        "reviews_df[reviews_df.order_id == '8d771479430ddcc5431d2ef4aa207204']"
      ]
    },
    {
      "cell_type": "code",
      "execution_count": 89,
      "metadata": {},
      "outputs": [
        {
          "data": {
            "application/vnd.microsoft.datawrangler.viewer.v0+json": {
              "columns": [
                {
                  "name": "index",
                  "rawType": "object",
                  "type": "string"
                },
                {
                  "name": "review_score",
                  "rawType": "float64",
                  "type": "float"
                }
              ],
              "conversionMethod": "pd.DataFrame",
              "ref": "1afd09f0-d141-4463-a5c2-b3376d7457ef",
              "rows": [
                [
                  "count",
                  "99224.0"
                ],
                [
                  "mean",
                  "4.08642062404257"
                ],
                [
                  "std",
                  "1.3475791311148884"
                ],
                [
                  "min",
                  "1.0"
                ],
                [
                  "25%",
                  "4.0"
                ],
                [
                  "50%",
                  "5.0"
                ],
                [
                  "75%",
                  "5.0"
                ],
                [
                  "max",
                  "5.0"
                ]
              ],
              "shape": {
                "columns": 1,
                "rows": 8
              }
            },
            "text/html": [
              "<div>\n",
              "<style scoped>\n",
              "    .dataframe tbody tr th:only-of-type {\n",
              "        vertical-align: middle;\n",
              "    }\n",
              "\n",
              "    .dataframe tbody tr th {\n",
              "        vertical-align: top;\n",
              "    }\n",
              "\n",
              "    .dataframe thead th {\n",
              "        text-align: right;\n",
              "    }\n",
              "</style>\n",
              "<table border=\"1\" class=\"dataframe\">\n",
              "  <thead>\n",
              "    <tr style=\"text-align: right;\">\n",
              "      <th></th>\n",
              "      <th>review_score</th>\n",
              "    </tr>\n",
              "  </thead>\n",
              "  <tbody>\n",
              "    <tr>\n",
              "      <th>count</th>\n",
              "      <td>99224.000000</td>\n",
              "    </tr>\n",
              "    <tr>\n",
              "      <th>mean</th>\n",
              "      <td>4.086421</td>\n",
              "    </tr>\n",
              "    <tr>\n",
              "      <th>std</th>\n",
              "      <td>1.347579</td>\n",
              "    </tr>\n",
              "    <tr>\n",
              "      <th>min</th>\n",
              "      <td>1.000000</td>\n",
              "    </tr>\n",
              "    <tr>\n",
              "      <th>25%</th>\n",
              "      <td>4.000000</td>\n",
              "    </tr>\n",
              "    <tr>\n",
              "      <th>50%</th>\n",
              "      <td>5.000000</td>\n",
              "    </tr>\n",
              "    <tr>\n",
              "      <th>75%</th>\n",
              "      <td>5.000000</td>\n",
              "    </tr>\n",
              "    <tr>\n",
              "      <th>max</th>\n",
              "      <td>5.000000</td>\n",
              "    </tr>\n",
              "  </tbody>\n",
              "</table>\n",
              "</div>"
            ],
            "text/plain": [
              "       review_score\n",
              "count  99224.000000\n",
              "mean       4.086421\n",
              "std        1.347579\n",
              "min        1.000000\n",
              "25%        4.000000\n",
              "50%        5.000000\n",
              "75%        5.000000\n",
              "max        5.000000"
            ]
          },
          "execution_count": 89,
          "metadata": {},
          "output_type": "execute_result"
        }
      ],
      "source": [
        "reviews_df.describe()"
      ]
    },
    {
      "cell_type": "markdown",
      "metadata": {},
      "source": [
        "#### `payments_df`"
      ]
    },
    {
      "cell_type": "code",
      "execution_count": 90,
      "metadata": {},
      "outputs": [
        {
          "name": "stdout",
          "output_type": "stream",
          "text": [
            "<class 'pandas.core.frame.DataFrame'>\n",
            "RangeIndex: 103886 entries, 0 to 103885\n",
            "Data columns (total 5 columns):\n",
            " #   Column                Non-Null Count   Dtype  \n",
            "---  ------                --------------   -----  \n",
            " 0   order_id              103886 non-null  object \n",
            " 1   payment_sequential    103886 non-null  int64  \n",
            " 2   payment_type          103886 non-null  object \n",
            " 3   payment_installments  103886 non-null  int64  \n",
            " 4   payment_value         103886 non-null  float64\n",
            "dtypes: float64(1), int64(2), object(2)\n",
            "memory usage: 4.0+ MB\n"
          ]
        }
      ],
      "source": [
        "payments_df.info()"
      ]
    },
    {
      "cell_type": "code",
      "execution_count": 91,
      "metadata": {},
      "outputs": [
        {
          "data": {
            "text/plain": [
              "0"
            ]
          },
          "execution_count": 91,
          "metadata": {},
          "output_type": "execute_result"
        }
      ],
      "source": [
        "payments_df.duplicated().sum()"
      ]
    },
    {
      "cell_type": "code",
      "execution_count": 92,
      "metadata": {},
      "outputs": [
        {
          "data": {
            "application/vnd.microsoft.datawrangler.viewer.v0+json": {
              "columns": [
                {
                  "name": "index",
                  "rawType": "object",
                  "type": "string"
                },
                {
                  "name": "payment_sequential",
                  "rawType": "float64",
                  "type": "float"
                },
                {
                  "name": "payment_installments",
                  "rawType": "float64",
                  "type": "float"
                },
                {
                  "name": "payment_value",
                  "rawType": "float64",
                  "type": "float"
                }
              ],
              "conversionMethod": "pd.DataFrame",
              "ref": "e83453dd-b890-446f-aa54-76bee48f11aa",
              "rows": [
                [
                  "count",
                  "103886.0",
                  "103886.0",
                  "103886.0"
                ],
                [
                  "mean",
                  "1.0926785129853878",
                  "2.853348863176944",
                  "154.10038041699553"
                ],
                [
                  "std",
                  "0.7065837791945014",
                  "2.6870506738557367",
                  "217.49406386472577"
                ],
                [
                  "min",
                  "1.0",
                  "0.0",
                  "0.0"
                ],
                [
                  "25%",
                  "1.0",
                  "1.0",
                  "56.79"
                ],
                [
                  "50%",
                  "1.0",
                  "1.0",
                  "100.0"
                ],
                [
                  "75%",
                  "1.0",
                  "4.0",
                  "171.8375"
                ],
                [
                  "max",
                  "29.0",
                  "24.0",
                  "13664.08"
                ]
              ],
              "shape": {
                "columns": 3,
                "rows": 8
              }
            },
            "text/html": [
              "<div>\n",
              "<style scoped>\n",
              "    .dataframe tbody tr th:only-of-type {\n",
              "        vertical-align: middle;\n",
              "    }\n",
              "\n",
              "    .dataframe tbody tr th {\n",
              "        vertical-align: top;\n",
              "    }\n",
              "\n",
              "    .dataframe thead th {\n",
              "        text-align: right;\n",
              "    }\n",
              "</style>\n",
              "<table border=\"1\" class=\"dataframe\">\n",
              "  <thead>\n",
              "    <tr style=\"text-align: right;\">\n",
              "      <th></th>\n",
              "      <th>payment_sequential</th>\n",
              "      <th>payment_installments</th>\n",
              "      <th>payment_value</th>\n",
              "    </tr>\n",
              "  </thead>\n",
              "  <tbody>\n",
              "    <tr>\n",
              "      <th>count</th>\n",
              "      <td>103886.000000</td>\n",
              "      <td>103886.000000</td>\n",
              "      <td>103886.000000</td>\n",
              "    </tr>\n",
              "    <tr>\n",
              "      <th>mean</th>\n",
              "      <td>1.092679</td>\n",
              "      <td>2.853349</td>\n",
              "      <td>154.100380</td>\n",
              "    </tr>\n",
              "    <tr>\n",
              "      <th>std</th>\n",
              "      <td>0.706584</td>\n",
              "      <td>2.687051</td>\n",
              "      <td>217.494064</td>\n",
              "    </tr>\n",
              "    <tr>\n",
              "      <th>min</th>\n",
              "      <td>1.000000</td>\n",
              "      <td>0.000000</td>\n",
              "      <td>0.000000</td>\n",
              "    </tr>\n",
              "    <tr>\n",
              "      <th>25%</th>\n",
              "      <td>1.000000</td>\n",
              "      <td>1.000000</td>\n",
              "      <td>56.790000</td>\n",
              "    </tr>\n",
              "    <tr>\n",
              "      <th>50%</th>\n",
              "      <td>1.000000</td>\n",
              "      <td>1.000000</td>\n",
              "      <td>100.000000</td>\n",
              "    </tr>\n",
              "    <tr>\n",
              "      <th>75%</th>\n",
              "      <td>1.000000</td>\n",
              "      <td>4.000000</td>\n",
              "      <td>171.837500</td>\n",
              "    </tr>\n",
              "    <tr>\n",
              "      <th>max</th>\n",
              "      <td>29.000000</td>\n",
              "      <td>24.000000</td>\n",
              "      <td>13664.080000</td>\n",
              "    </tr>\n",
              "  </tbody>\n",
              "</table>\n",
              "</div>"
            ],
            "text/plain": [
              "       payment_sequential  payment_installments  payment_value\n",
              "count       103886.000000         103886.000000  103886.000000\n",
              "mean             1.092679              2.853349     154.100380\n",
              "std              0.706584              2.687051     217.494064\n",
              "min              1.000000              0.000000       0.000000\n",
              "25%              1.000000              1.000000      56.790000\n",
              "50%              1.000000              1.000000     100.000000\n",
              "75%              1.000000              4.000000     171.837500\n",
              "max             29.000000             24.000000   13664.080000"
            ]
          },
          "execution_count": 92,
          "metadata": {},
          "output_type": "execute_result"
        }
      ],
      "source": [
        "payments_df.describe()"
      ]
    },
    {
      "cell_type": "markdown",
      "metadata": {},
      "source": [
        "### Cleaning Data"
      ]
    },
    {
      "cell_type": "markdown",
      "metadata": {},
      "source": [
        "#### `orders_df`"
      ]
    },
    {
      "cell_type": "code",
      "execution_count": 93,
      "metadata": {},
      "outputs": [
        {
          "name": "stdout",
          "output_type": "stream",
          "text": [
            "<class 'pandas.core.frame.DataFrame'>\n",
            "RangeIndex: 99441 entries, 0 to 99440\n",
            "Data columns (total 8 columns):\n",
            " #   Column                         Non-Null Count  Dtype \n",
            "---  ------                         --------------  ----- \n",
            " 0   order_id                       99441 non-null  object\n",
            " 1   customer_id                    99441 non-null  object\n",
            " 2   order_status                   99441 non-null  object\n",
            " 3   order_purchase_timestamp       99441 non-null  object\n",
            " 4   order_approved_at              99281 non-null  object\n",
            " 5   order_delivered_carrier_date   97658 non-null  object\n",
            " 6   order_delivered_customer_date  96476 non-null  object\n",
            " 7   order_estimated_delivery_date  99441 non-null  object\n",
            "dtypes: object(8)\n",
            "memory usage: 6.1+ MB\n"
          ]
        }
      ],
      "source": [
        "orders_df.info()"
      ]
    },
    {
      "cell_type": "markdown",
      "metadata": {},
      "source": [
        "##### Perbaikan Tipe Data"
      ]
    },
    {
      "cell_type": "code",
      "execution_count": 94,
      "metadata": {},
      "outputs": [],
      "source": [
        "datetime_columns = ['order_purchase_timestamp', 'order_approved_at', 'order_delivered_carrier_date', 'order_delivered_customer_date', 'order_estimated_delivery_date']\n",
        "\n",
        "for column in datetime_columns:\n",
        "    orders_df[column] = pd.to_datetime(orders_df[column])"
      ]
    },
    {
      "cell_type": "code",
      "execution_count": 95,
      "metadata": {},
      "outputs": [
        {
          "data": {
            "text/plain": [
              "order_id                                 object\n",
              "customer_id                              object\n",
              "order_status                             object\n",
              "order_purchase_timestamp         datetime64[ns]\n",
              "order_approved_at                datetime64[ns]\n",
              "order_delivered_carrier_date     datetime64[ns]\n",
              "order_delivered_customer_date    datetime64[ns]\n",
              "order_estimated_delivery_date    datetime64[ns]\n",
              "dtype: object"
            ]
          },
          "execution_count": 95,
          "metadata": {},
          "output_type": "execute_result"
        }
      ],
      "source": [
        "orders_df.dtypes"
      ]
    },
    {
      "cell_type": "markdown",
      "metadata": {},
      "source": [
        "##### Missing Values"
      ]
    },
    {
      "cell_type": "code",
      "execution_count": 96,
      "metadata": {},
      "outputs": [
        {
          "data": {
            "text/plain": [
              "order_id                            0\n",
              "customer_id                         0\n",
              "order_status                        0\n",
              "order_purchase_timestamp            0\n",
              "order_approved_at                 160\n",
              "order_delivered_carrier_date     1783\n",
              "order_delivered_customer_date    2965\n",
              "order_estimated_delivery_date       0\n",
              "dtype: int64"
            ]
          },
          "execution_count": 96,
          "metadata": {},
          "output_type": "execute_result"
        }
      ],
      "source": [
        "orders_df.isnull().sum()"
      ]
    },
    {
      "cell_type": "code",
      "execution_count": 97,
      "metadata": {},
      "outputs": [
        {
          "data": {
            "text/plain": [
              "order_status\n",
              "shipped        1107\n",
              "canceled        619\n",
              "unavailable     609\n",
              "invoiced        314\n",
              "processing      301\n",
              "delivered        23\n",
              "created           5\n",
              "approved          2\n",
              "Name: count, dtype: int64"
            ]
          },
          "execution_count": 97,
          "metadata": {},
          "output_type": "execute_result"
        }
      ],
      "source": [
        "orders_df.order_status[orders_df.isnull().any(axis=1)].value_counts()"
      ]
    },
    {
      "cell_type": "code",
      "execution_count": 98,
      "metadata": {},
      "outputs": [
        {
          "data": {
            "text/plain": [
              "order_id                           0\n",
              "customer_id                        0\n",
              "order_status                       0\n",
              "order_purchase_timestamp           0\n",
              "order_approved_at                141\n",
              "order_delivered_carrier_date     550\n",
              "order_delivered_customer_date    619\n",
              "order_estimated_delivery_date      0\n",
              "dtype: int64"
            ]
          },
          "execution_count": 98,
          "metadata": {},
          "output_type": "execute_result"
        }
      ],
      "source": [
        "orders_df[(orders_df.order_status=='canceled') & orders_df.isnull().any(axis=1)].isnull().sum()\n"
      ]
    },
    {
      "cell_type": "code",
      "execution_count": 99,
      "metadata": {},
      "outputs": [],
      "source": [
        "canceled_orders_df = orders_df[orders_df.order_status=='canceled']"
      ]
    },
    {
      "cell_type": "markdown",
      "metadata": {},
      "source": [
        "Pesanan dengan status 'canceled' yang mengandung *missing value* itu wajar dan valid."
      ]
    },
    {
      "cell_type": "code",
      "execution_count": 100,
      "metadata": {},
      "outputs": [
        {
          "data": {
            "text/plain": [
              "order_id                           0\n",
              "customer_id                        0\n",
              "order_status                       0\n",
              "order_purchase_timestamp           0\n",
              "order_approved_at                  0\n",
              "order_delivered_carrier_date     609\n",
              "order_delivered_customer_date    609\n",
              "order_estimated_delivery_date      0\n",
              "dtype: int64"
            ]
          },
          "execution_count": 100,
          "metadata": {},
          "output_type": "execute_result"
        }
      ],
      "source": [
        "orders_df[(orders_df.order_status=='unavailable') & orders_df.isnull().any(axis=1)].isnull().sum()"
      ]
    },
    {
      "cell_type": "markdown",
      "metadata": {},
      "source": [
        "Pesanan dengan status 'unavailable' yang mengandung *missing value* selain daripada kolom `order_purchase_timestamp` dan `order_approved_at` juga wajar dan valid."
      ]
    },
    {
      "cell_type": "code",
      "execution_count": 101,
      "metadata": {},
      "outputs": [],
      "source": [
        "unavailable_orders_df = orders_df[orders_df.order_status=='unavailable']"
      ]
    },
    {
      "cell_type": "markdown",
      "metadata": {},
      "source": [
        "Pesanan dengan status 'canceled' dan 'unavailable' akan dimasukkkan ke dalam kategori `failed_orders_df` atau pesanan yang gagal."
      ]
    },
    {
      "cell_type": "code",
      "execution_count": 102,
      "metadata": {},
      "outputs": [],
      "source": [
        "failed_orders_df = pd.concat([canceled_orders_df, unavailable_orders_df])\n",
        "failed_orders_df.sort_index(inplace=True)"
      ]
    },
    {
      "cell_type": "code",
      "execution_count": 103,
      "metadata": {},
      "outputs": [
        {
          "data": {
            "application/vnd.microsoft.datawrangler.viewer.v0+json": {
              "columns": [
                {
                  "name": "index",
                  "rawType": "int64",
                  "type": "integer"
                },
                {
                  "name": "order_id",
                  "rawType": "object",
                  "type": "string"
                },
                {
                  "name": "customer_id",
                  "rawType": "object",
                  "type": "string"
                },
                {
                  "name": "order_status",
                  "rawType": "object",
                  "type": "string"
                },
                {
                  "name": "order_purchase_timestamp",
                  "rawType": "datetime64[ns]",
                  "type": "datetime"
                },
                {
                  "name": "order_approved_at",
                  "rawType": "datetime64[ns]",
                  "type": "datetime"
                },
                {
                  "name": "order_delivered_carrier_date",
                  "rawType": "datetime64[ns]",
                  "type": "datetime"
                },
                {
                  "name": "order_delivered_customer_date",
                  "rawType": "datetime64[ns]",
                  "type": "datetime"
                },
                {
                  "name": "order_estimated_delivery_date",
                  "rawType": "datetime64[ns]",
                  "type": "datetime"
                }
              ],
              "conversionMethod": "pd.DataFrame",
              "ref": "670c6b91-5796-4882-bff1-798a7c98d15f",
              "rows": [
                [
                  "266",
                  "8e24261a7e58791d10cb1bf9da94df5c",
                  "64a254d30eed42cd0e6c36dddb88adf0",
                  "unavailable",
                  "2017-11-16 15:09:28",
                  "2017-11-16 15:26:57",
                  null,
                  null,
                  "2017-12-05 00:00:00"
                ],
                [
                  "397",
                  "1b9ecfe83cdc259250e1a8aca174f0ad",
                  "6d6b50b66d79f80827b6d96751528d30",
                  "canceled",
                  "2018-08-04 14:29:27",
                  "2018-08-07 04:10:26",
                  null,
                  null,
                  "2018-08-14 00:00:00"
                ],
                [
                  "586",
                  "c272bcd21c287498b4883c7512019702",
                  "9582c5bbecc65eb568e2c1d839b5cba1",
                  "unavailable",
                  "2018-01-31 11:31:37",
                  "2018-01-31 14:23:50",
                  null,
                  null,
                  "2018-02-16 00:00:00"
                ],
                [
                  "613",
                  "714fb133a6730ab81fa1d3c1b2007291",
                  "e3fe72696c4713d64d3c10afe71e75ed",
                  "canceled",
                  "2018-01-26 21:34:08",
                  "2018-01-26 21:58:39",
                  "2018-01-29 22:33:25",
                  null,
                  "2018-02-22 00:00:00"
                ],
                [
                  "687",
                  "37553832a3a89c9b2db59701c357ca67",
                  "7607cd563696c27ede287e515812d528",
                  "unavailable",
                  "2017-08-14 17:38:02",
                  "2017-08-17 00:15:18",
                  null,
                  null,
                  "2017-09-05 00:00:00"
                ],
                [
                  "737",
                  "d57e15fb07fd180f06ab3926b39edcd2",
                  "470b93b3f1cde85550fc74cd3a476c78",
                  "unavailable",
                  "2018-01-08 19:39:03",
                  "2018-01-09 07:26:08",
                  null,
                  null,
                  "2018-02-06 00:00:00"
                ],
                [
                  "1058",
                  "3a129877493c8189c59c60eb71d97c29",
                  "0913cdce793684e52bbfac69d87e91fd",
                  "canceled",
                  "2018-01-25 13:34:24",
                  "2018-01-25 13:50:20",
                  "2018-01-26 21:42:18",
                  null,
                  "2018-02-23 00:00:00"
                ],
                [
                  "1130",
                  "00b1cb0320190ca0daa2c88b35206009",
                  "3532ba38a3fd242259a514ac2b6ae6b6",
                  "canceled",
                  "2018-08-28 15:26:39",
                  null,
                  null,
                  null,
                  "2018-09-12 00:00:00"
                ],
                [
                  "1160",
                  "2f634e2cebf8c0283e7ef0989f77d217",
                  "7353b0fb8e8d9675e3a704c60ca44ebe",
                  "unavailable",
                  "2017-09-27 20:55:33",
                  "2017-09-28 01:32:50",
                  null,
                  null,
                  "2017-10-27 00:00:00"
                ],
                [
                  "1579",
                  "ee0db22a8e742b752914016708470ec8",
                  "aae50600d30bf2efe013ca4c1754ded7",
                  "unavailable",
                  "2017-08-24 11:04:41",
                  "2017-08-24 11:15:11",
                  null,
                  null,
                  "2017-09-18 00:00:00"
                ],
                [
                  "1801",
                  "ed3efbd3a87bea76c2812c66a0b32219",
                  "191984a8ba4cbb2145acb4fe35b69664",
                  "canceled",
                  "2018-09-20 13:54:16",
                  null,
                  null,
                  null,
                  "2018-10-17 00:00:00"
                ],
                [
                  "1811",
                  "0966b61e30c4a07edbd7523f59b3f3e4",
                  "2fcc597b8934d99715dbfff7909dd27f",
                  "canceled",
                  "2018-05-22 18:50:55",
                  "2018-05-22 19:17:15",
                  null,
                  null,
                  "2018-07-03 00:00:00"
                ],
                [
                  "1819",
                  "9021cf1919f615a121410790dcce848f",
                  "7acf55df0298e1d2c31200fb4f6fb93b",
                  "canceled",
                  "2018-07-04 16:05:56",
                  "2018-07-06 02:55:16",
                  null,
                  null,
                  "2018-08-22 00:00:00"
                ],
                [
                  "1826",
                  "6ad57aecbae806a7e9cc2cdb6b380711",
                  "d31dbd02ac052d662285f678f8994326",
                  "unavailable",
                  "2017-11-30 07:48:24",
                  "2017-11-30 08:14:42",
                  null,
                  null,
                  "2017-12-29 00:00:00"
                ],
                [
                  "1868",
                  "df8282afe61008dc26c6c31011474d02",
                  "aa797b187b5466bc6925aaaa4bb3bed1",
                  "canceled",
                  "2017-03-04 12:14:30",
                  null,
                  null,
                  null,
                  "2017-04-10 00:00:00"
                ],
                [
                  "1971",
                  "a39d3db795a5cf4c8b6c9dd050f0d326",
                  "ec66df2cb66dfda07c03050470e21f69",
                  "canceled",
                  "2017-03-13 16:12:24",
                  "2017-03-13 16:12:24",
                  null,
                  null,
                  "2017-03-30 00:00:00"
                ],
                [
                  "2029",
                  "8d4c637f1accf7a88a4555f02741e606",
                  "b1dd715db389a2077f43174e7a675d07",
                  "canceled",
                  "2018-08-29 16:27:49",
                  null,
                  null,
                  null,
                  "2018-09-13 00:00:00"
                ],
                [
                  "2148",
                  "9f3458f0433d4cfa472f4682654b8d49",
                  "99ebfafde8b9e58fd12db9d5cc83132f",
                  "unavailable",
                  "2017-07-18 23:36:55",
                  "2017-07-18 23:50:17",
                  null,
                  null,
                  "2017-08-09 00:00:00"
                ],
                [
                  "2161",
                  "7a9d4c7f9b068337875b95465330f2fc",
                  "7f71ae48074c0cfec9195f88fcbfac55",
                  "canceled",
                  "2017-05-01 16:12:39",
                  null,
                  null,
                  null,
                  "2017-05-30 00:00:00"
                ],
                [
                  "2197",
                  "375f80ffc05feb35ce2680f1fa490575",
                  "8f6e5911262a8742393596bee2c09eac",
                  "canceled",
                  "2017-06-13 21:10:05",
                  "2017-06-13 21:22:35",
                  null,
                  null,
                  "2017-07-06 00:00:00"
                ],
                [
                  "2278",
                  "6bfa92d3952f762df12752e4937cd63e",
                  "6ccb997c97b0734228b454ba220ed00e",
                  "canceled",
                  "2018-04-27 21:28:24",
                  "2018-04-27 21:52:18",
                  null,
                  null,
                  "2018-05-10 00:00:00"
                ],
                [
                  "2296",
                  "f0df036e9be21fc238f131bbfcdde769",
                  "1fa16395beca89233661543954ca6cf1",
                  "unavailable",
                  "2017-02-24 23:39:21",
                  "2017-02-24 23:45:14",
                  null,
                  null,
                  "2017-04-07 00:00:00"
                ],
                [
                  "2316",
                  "86f0bcd9b426a2c1022ae317c7f27be6",
                  "dd24965dd5aa551df36ce4baf180445b",
                  "unavailable",
                  "2017-03-08 15:13:03",
                  "2017-03-08 15:13:03",
                  null,
                  null,
                  "2017-03-29 00:00:00"
                ],
                [
                  "2680",
                  "98fe01bc254b759c1f2c11d77c2891d5",
                  "30f3b26a06e5a67682305298f83e6be3",
                  "unavailable",
                  "2017-10-17 18:34:56",
                  "2017-10-18 18:37:08",
                  null,
                  null,
                  "2017-11-24 00:00:00"
                ],
                [
                  "2697",
                  "2eb5ba20812f78127f6243fa27fb40e5",
                  "d5420a7dc4c5c1f95b7912368419f59f",
                  "canceled",
                  "2017-05-29 18:10:06",
                  "2017-05-31 07:02:46",
                  null,
                  null,
                  "2017-06-20 00:00:00"
                ],
                [
                  "2707",
                  "f56dc9034c3962e36d49fb73baa12800",
                  "5c4795c07c0bd317adaf7406327bbfa9",
                  "unavailable",
                  "2017-08-10 22:20:51",
                  "2017-08-12 02:09:15",
                  null,
                  null,
                  "2017-09-14 00:00:00"
                ],
                [
                  "2921",
                  "1950d777989f6a877539f53795b4c3c3",
                  "1bccb206de9f0f25adc6871a1bcf77b2",
                  "canceled",
                  "2018-02-19 19:48:52",
                  "2018-02-19 20:56:05",
                  "2018-02-20 19:57:13",
                  "2018-03-21 22:03:51",
                  "2018-03-09 00:00:00"
                ],
                [
                  "2971",
                  "0130f0f71fb0e831d18e6a3b33a3a50c",
                  "e56f6dff7b8ac9813ddeb2312f0d834f",
                  "unavailable",
                  "2017-05-12 10:17:23",
                  "2017-05-13 03:10:13",
                  null,
                  null,
                  "2017-05-22 00:00:00"
                ],
                [
                  "3056",
                  "ddaec6fff982b13e7e048b627a11d6da",
                  "68f4ad79cc0c2ad06e19088f5c00e9fa",
                  "canceled",
                  "2016-10-04 19:41:32",
                  null,
                  null,
                  null,
                  "2016-11-16 00:00:00"
                ],
                [
                  "3084",
                  "84b8ba39037606b7b30a39d02e9e4154",
                  "7c2bf05f6902368e5d21040b68c2bbdb",
                  "unavailable",
                  "2018-06-27 19:51:02",
                  "2018-06-27 20:11:41",
                  null,
                  null,
                  "2018-07-12 00:00:00"
                ],
                [
                  "3094",
                  "5290c34bd38a8a095b885f13958db1e1",
                  "92af427e290117f39d9ff908566072e0",
                  "canceled",
                  "2018-08-21 10:25:18",
                  null,
                  null,
                  null,
                  "2018-09-06 00:00:00"
                ],
                [
                  "3352",
                  "6261f3240a8778c656bd28aeb2ba9985",
                  "59c0ac147fb499a0f14577f508a3657d",
                  "canceled",
                  "2017-05-31 13:21:35",
                  "2017-06-01 13:35:20",
                  null,
                  null,
                  "2017-07-04 00:00:00"
                ],
                [
                  "3397",
                  "5ad5a1ef522da1732ab963ea1fb6165b",
                  "a76e74100709762a48e683a177dc86b0",
                  "canceled",
                  "2017-06-22 19:53:09",
                  "2017-06-22 20:05:23",
                  null,
                  null,
                  "2017-07-05 00:00:00"
                ],
                [
                  "3459",
                  "2f30c0b1905c65a8ff6c6358bc909625",
                  "e963d0e4f815dcd28b135d7d340ec51a",
                  "unavailable",
                  "2017-12-08 09:32:48",
                  "2017-12-09 13:30:49",
                  null,
                  null,
                  "2018-01-03 00:00:00"
                ],
                [
                  "3547",
                  "534a0fbe91a806a1dc6bf09b497e3d6f",
                  "d17ae8582d302dbd41b87e5028e8c0e2",
                  "unavailable",
                  "2018-01-22 02:45:40",
                  "2018-01-23 03:36:43",
                  null,
                  null,
                  "2018-02-06 00:00:00"
                ],
                [
                  "3672",
                  "5965bbd72c3ca0d9634419437ca53897",
                  "3dd8536c33d454b9a9d05ba357eeaaa9",
                  "unavailable",
                  "2017-01-30 10:29:25",
                  "2017-01-30 11:31:31",
                  null,
                  null,
                  "2017-03-08 00:00:00"
                ],
                [
                  "3684",
                  "03310aa823a66056268a3bab36e827fb",
                  "25dbbf0c477fd4ae0880aaffbb12e8b3",
                  "canceled",
                  "2018-08-07 16:33:59",
                  null,
                  null,
                  null,
                  "2018-09-04 00:00:00"
                ],
                [
                  "3786",
                  "b07abc8b9acaf00e79b4657419f469f3",
                  "15308b044c9608fc82e57f2e5d6878f6",
                  "unavailable",
                  "2017-03-09 17:45:04",
                  "2017-03-09 17:45:04",
                  null,
                  null,
                  "2017-03-28 00:00:00"
                ],
                [
                  "4089",
                  "1ff6183537eb3a189de77b309ed28ad1",
                  "52ac1d5c2063338b5a45f69a14528c9b",
                  "unavailable",
                  "2018-01-02 17:31:02",
                  "2018-01-04 11:57:21",
                  null,
                  null,
                  "2018-01-31 00:00:00"
                ],
                [
                  "4248",
                  "2411e5019928e883d049f7242362c23b",
                  "92ac70cce9e5ac1bb34996610d9564a4",
                  "unavailable",
                  "2017-09-17 12:15:07",
                  "2017-09-17 12:25:09",
                  null,
                  null,
                  "2017-10-05 00:00:00"
                ],
                [
                  "4312",
                  "96ae30a2357a999e6010b2f1401af374",
                  "44ea012b92b665f5f4c775f3f0a63d7b",
                  "canceled",
                  "2017-07-31 16:37:31",
                  "2017-07-31 16:50:17",
                  null,
                  null,
                  "2017-08-18 00:00:00"
                ],
                [
                  "4333",
                  "f8303e6eff198d1749d04649a1eb2bb6",
                  "4569e86ad4faba51cadc49ea1657ac3a",
                  "unavailable",
                  "2018-01-21 20:44:54",
                  "2018-01-22 13:58:50",
                  null,
                  null,
                  "2018-02-21 00:00:00"
                ],
                [
                  "4345",
                  "73c182f8914a0064d6c64ad65e4c6942",
                  "f51c6d9e24e077d5755ac7abdb209b1e",
                  "canceled",
                  "2017-02-08 00:53:19",
                  "2017-02-08 01:05:12",
                  null,
                  null,
                  "2017-03-15 00:00:00"
                ],
                [
                  "4373",
                  "4c8b9947280829d0a8b7e81cc249b875",
                  "403c35c4d8813bf67b3d396b91ca1619",
                  "canceled",
                  "2018-08-09 14:54:47",
                  null,
                  null,
                  null,
                  "2018-08-21 00:00:00"
                ],
                [
                  "4396",
                  "e5fa5a7210941f7d56d0208e4e071d35",
                  "683c54fc24d40ee9f8a6fc179fd9856c",
                  "canceled",
                  "2016-09-05 00:15:34",
                  "2016-10-07 13:17:15",
                  null,
                  null,
                  "2016-10-28 00:00:00"
                ],
                [
                  "4539",
                  "c2ccb6c2af36d8492e83ecf528f2755c",
                  "07a4bb60f62e5ce83b63a08f0cd050bc",
                  "unavailable",
                  "2018-05-21 13:48:16",
                  "2018-05-21 16:14:54",
                  null,
                  null,
                  "2018-06-05 00:00:00"
                ],
                [
                  "4605",
                  "b7be5e58fd37e6165dbb39e8362c8446",
                  "021ed85d23b734289c4dd0c827a3559e",
                  "unavailable",
                  "2017-06-29 18:07:49",
                  "2017-06-29 18:23:47",
                  null,
                  null,
                  "2017-08-02 00:00:00"
                ],
                [
                  "4939",
                  "b13ea375fe9c728832688264638f84cf",
                  "0dc5884bc5ffba283678229f27e07ff9",
                  "canceled",
                  "2018-08-22 18:52:29",
                  null,
                  null,
                  null,
                  "2018-09-19 00:00:00"
                ],
                [
                  "4965",
                  "bcd65d5c97ac448bb3efc90b759909fd",
                  "b6ba3ad41b033a7f107aabad3dabff93",
                  "unavailable",
                  "2018-07-20 16:24:23",
                  "2018-07-20 16:44:16",
                  null,
                  null,
                  "2018-08-01 00:00:00"
                ],
                [
                  "5029",
                  "46f36d95da75ced0462d57df904d36d0",
                  "06c629d842cb8236fceea0a9e90ccd1a",
                  "unavailable",
                  "2017-03-02 15:27:25",
                  "2017-03-02 15:35:19",
                  null,
                  null,
                  "2017-03-23 00:00:00"
                ]
              ],
              "shape": {
                "columns": 8,
                "rows": 1234
              }
            },
            "text/html": [
              "<div>\n",
              "<style scoped>\n",
              "    .dataframe tbody tr th:only-of-type {\n",
              "        vertical-align: middle;\n",
              "    }\n",
              "\n",
              "    .dataframe tbody tr th {\n",
              "        vertical-align: top;\n",
              "    }\n",
              "\n",
              "    .dataframe thead th {\n",
              "        text-align: right;\n",
              "    }\n",
              "</style>\n",
              "<table border=\"1\" class=\"dataframe\">\n",
              "  <thead>\n",
              "    <tr style=\"text-align: right;\">\n",
              "      <th></th>\n",
              "      <th>order_id</th>\n",
              "      <th>customer_id</th>\n",
              "      <th>order_status</th>\n",
              "      <th>order_purchase_timestamp</th>\n",
              "      <th>order_approved_at</th>\n",
              "      <th>order_delivered_carrier_date</th>\n",
              "      <th>order_delivered_customer_date</th>\n",
              "      <th>order_estimated_delivery_date</th>\n",
              "    </tr>\n",
              "  </thead>\n",
              "  <tbody>\n",
              "    <tr>\n",
              "      <th>266</th>\n",
              "      <td>8e24261a7e58791d10cb1bf9da94df5c</td>\n",
              "      <td>64a254d30eed42cd0e6c36dddb88adf0</td>\n",
              "      <td>unavailable</td>\n",
              "      <td>2017-11-16 15:09:28</td>\n",
              "      <td>2017-11-16 15:26:57</td>\n",
              "      <td>NaT</td>\n",
              "      <td>NaT</td>\n",
              "      <td>2017-12-05</td>\n",
              "    </tr>\n",
              "    <tr>\n",
              "      <th>397</th>\n",
              "      <td>1b9ecfe83cdc259250e1a8aca174f0ad</td>\n",
              "      <td>6d6b50b66d79f80827b6d96751528d30</td>\n",
              "      <td>canceled</td>\n",
              "      <td>2018-08-04 14:29:27</td>\n",
              "      <td>2018-08-07 04:10:26</td>\n",
              "      <td>NaT</td>\n",
              "      <td>NaT</td>\n",
              "      <td>2018-08-14</td>\n",
              "    </tr>\n",
              "    <tr>\n",
              "      <th>586</th>\n",
              "      <td>c272bcd21c287498b4883c7512019702</td>\n",
              "      <td>9582c5bbecc65eb568e2c1d839b5cba1</td>\n",
              "      <td>unavailable</td>\n",
              "      <td>2018-01-31 11:31:37</td>\n",
              "      <td>2018-01-31 14:23:50</td>\n",
              "      <td>NaT</td>\n",
              "      <td>NaT</td>\n",
              "      <td>2018-02-16</td>\n",
              "    </tr>\n",
              "    <tr>\n",
              "      <th>613</th>\n",
              "      <td>714fb133a6730ab81fa1d3c1b2007291</td>\n",
              "      <td>e3fe72696c4713d64d3c10afe71e75ed</td>\n",
              "      <td>canceled</td>\n",
              "      <td>2018-01-26 21:34:08</td>\n",
              "      <td>2018-01-26 21:58:39</td>\n",
              "      <td>2018-01-29 22:33:25</td>\n",
              "      <td>NaT</td>\n",
              "      <td>2018-02-22</td>\n",
              "    </tr>\n",
              "    <tr>\n",
              "      <th>687</th>\n",
              "      <td>37553832a3a89c9b2db59701c357ca67</td>\n",
              "      <td>7607cd563696c27ede287e515812d528</td>\n",
              "      <td>unavailable</td>\n",
              "      <td>2017-08-14 17:38:02</td>\n",
              "      <td>2017-08-17 00:15:18</td>\n",
              "      <td>NaT</td>\n",
              "      <td>NaT</td>\n",
              "      <td>2017-09-05</td>\n",
              "    </tr>\n",
              "    <tr>\n",
              "      <th>...</th>\n",
              "      <td>...</td>\n",
              "      <td>...</td>\n",
              "      <td>...</td>\n",
              "      <td>...</td>\n",
              "      <td>...</td>\n",
              "      <td>...</td>\n",
              "      <td>...</td>\n",
              "      <td>...</td>\n",
              "    </tr>\n",
              "    <tr>\n",
              "      <th>99252</th>\n",
              "      <td>aaab15da689073f8f9aa978a390a69d1</td>\n",
              "      <td>df20748206e4b865b2f14a5eabbfcf34</td>\n",
              "      <td>unavailable</td>\n",
              "      <td>2018-01-16 14:27:59</td>\n",
              "      <td>2018-01-17 03:37:34</td>\n",
              "      <td>NaT</td>\n",
              "      <td>NaT</td>\n",
              "      <td>2018-02-06</td>\n",
              "    </tr>\n",
              "    <tr>\n",
              "      <th>99283</th>\n",
              "      <td>3a3cddda5a7c27851bd96c3313412840</td>\n",
              "      <td>0b0d6095c5555fe083844281f6b093bb</td>\n",
              "      <td>canceled</td>\n",
              "      <td>2018-08-31 16:13:44</td>\n",
              "      <td>NaT</td>\n",
              "      <td>NaT</td>\n",
              "      <td>NaT</td>\n",
              "      <td>2018-10-01</td>\n",
              "    </tr>\n",
              "    <tr>\n",
              "      <th>99347</th>\n",
              "      <td>a89abace0dcc01eeb267a9660b5ac126</td>\n",
              "      <td>2f0524a7b1b3845a1a57fcf3910c4333</td>\n",
              "      <td>canceled</td>\n",
              "      <td>2018-09-06 18:45:47</td>\n",
              "      <td>NaT</td>\n",
              "      <td>NaT</td>\n",
              "      <td>NaT</td>\n",
              "      <td>2018-09-27</td>\n",
              "    </tr>\n",
              "    <tr>\n",
              "      <th>99348</th>\n",
              "      <td>a69ba794cc7deb415c3e15a0a3877e69</td>\n",
              "      <td>726f0894b5becdf952ea537d5266e543</td>\n",
              "      <td>unavailable</td>\n",
              "      <td>2017-08-23 16:28:04</td>\n",
              "      <td>2017-08-28 15:44:47</td>\n",
              "      <td>NaT</td>\n",
              "      <td>NaT</td>\n",
              "      <td>2017-09-15</td>\n",
              "    </tr>\n",
              "    <tr>\n",
              "      <th>99415</th>\n",
              "      <td>5fabc81b6322c8443648e1b21a6fef21</td>\n",
              "      <td>32c9df889d41b0ee8309a5efb6855dcb</td>\n",
              "      <td>unavailable</td>\n",
              "      <td>2017-10-10 10:50:03</td>\n",
              "      <td>2017-10-14 18:35:57</td>\n",
              "      <td>NaT</td>\n",
              "      <td>NaT</td>\n",
              "      <td>2017-10-23</td>\n",
              "    </tr>\n",
              "  </tbody>\n",
              "</table>\n",
              "<p>1234 rows × 8 columns</p>\n",
              "</div>"
            ],
            "text/plain": [
              "                               order_id                       customer_id  \\\n",
              "266    8e24261a7e58791d10cb1bf9da94df5c  64a254d30eed42cd0e6c36dddb88adf0   \n",
              "397    1b9ecfe83cdc259250e1a8aca174f0ad  6d6b50b66d79f80827b6d96751528d30   \n",
              "586    c272bcd21c287498b4883c7512019702  9582c5bbecc65eb568e2c1d839b5cba1   \n",
              "613    714fb133a6730ab81fa1d3c1b2007291  e3fe72696c4713d64d3c10afe71e75ed   \n",
              "687    37553832a3a89c9b2db59701c357ca67  7607cd563696c27ede287e515812d528   \n",
              "...                                 ...                               ...   \n",
              "99252  aaab15da689073f8f9aa978a390a69d1  df20748206e4b865b2f14a5eabbfcf34   \n",
              "99283  3a3cddda5a7c27851bd96c3313412840  0b0d6095c5555fe083844281f6b093bb   \n",
              "99347  a89abace0dcc01eeb267a9660b5ac126  2f0524a7b1b3845a1a57fcf3910c4333   \n",
              "99348  a69ba794cc7deb415c3e15a0a3877e69  726f0894b5becdf952ea537d5266e543   \n",
              "99415  5fabc81b6322c8443648e1b21a6fef21  32c9df889d41b0ee8309a5efb6855dcb   \n",
              "\n",
              "      order_status order_purchase_timestamp   order_approved_at  \\\n",
              "266    unavailable      2017-11-16 15:09:28 2017-11-16 15:26:57   \n",
              "397       canceled      2018-08-04 14:29:27 2018-08-07 04:10:26   \n",
              "586    unavailable      2018-01-31 11:31:37 2018-01-31 14:23:50   \n",
              "613       canceled      2018-01-26 21:34:08 2018-01-26 21:58:39   \n",
              "687    unavailable      2017-08-14 17:38:02 2017-08-17 00:15:18   \n",
              "...            ...                      ...                 ...   \n",
              "99252  unavailable      2018-01-16 14:27:59 2018-01-17 03:37:34   \n",
              "99283     canceled      2018-08-31 16:13:44                 NaT   \n",
              "99347     canceled      2018-09-06 18:45:47                 NaT   \n",
              "99348  unavailable      2017-08-23 16:28:04 2017-08-28 15:44:47   \n",
              "99415  unavailable      2017-10-10 10:50:03 2017-10-14 18:35:57   \n",
              "\n",
              "      order_delivered_carrier_date order_delivered_customer_date  \\\n",
              "266                            NaT                           NaT   \n",
              "397                            NaT                           NaT   \n",
              "586                            NaT                           NaT   \n",
              "613            2018-01-29 22:33:25                           NaT   \n",
              "687                            NaT                           NaT   \n",
              "...                            ...                           ...   \n",
              "99252                          NaT                           NaT   \n",
              "99283                          NaT                           NaT   \n",
              "99347                          NaT                           NaT   \n",
              "99348                          NaT                           NaT   \n",
              "99415                          NaT                           NaT   \n",
              "\n",
              "      order_estimated_delivery_date  \n",
              "266                      2017-12-05  \n",
              "397                      2018-08-14  \n",
              "586                      2018-02-16  \n",
              "613                      2018-02-22  \n",
              "687                      2017-09-05  \n",
              "...                             ...  \n",
              "99252                    2018-02-06  \n",
              "99283                    2018-10-01  \n",
              "99347                    2018-09-27  \n",
              "99348                    2017-09-15  \n",
              "99415                    2017-10-23  \n",
              "\n",
              "[1234 rows x 8 columns]"
            ]
          },
          "execution_count": 103,
          "metadata": {},
          "output_type": "execute_result"
        }
      ],
      "source": [
        "failed_orders_df"
      ]
    },
    {
      "cell_type": "code",
      "execution_count": 104,
      "metadata": {},
      "outputs": [
        {
          "data": {
            "text/plain": [
              "order_status\n",
              "shipped        1107\n",
              "canceled        619\n",
              "unavailable     609\n",
              "invoiced        314\n",
              "processing      301\n",
              "delivered        23\n",
              "created           5\n",
              "approved          2\n",
              "Name: count, dtype: int64"
            ]
          },
          "execution_count": 104,
          "metadata": {},
          "output_type": "execute_result"
        }
      ],
      "source": [
        "orders_df.order_status[orders_df.isnull().any(axis=1)].value_counts()"
      ]
    },
    {
      "cell_type": "code",
      "execution_count": 105,
      "metadata": {},
      "outputs": [
        {
          "data": {
            "text/plain": [
              "order_status\n",
              "delivered      96478\n",
              "shipped         1107\n",
              "canceled         625\n",
              "unavailable      609\n",
              "invoiced         314\n",
              "processing       301\n",
              "created            5\n",
              "approved           2\n",
              "Name: count, dtype: int64"
            ]
          },
          "execution_count": 105,
          "metadata": {},
          "output_type": "execute_result"
        }
      ],
      "source": [
        "orders_df.order_status.value_counts()"
      ]
    },
    {
      "cell_type": "code",
      "execution_count": 106,
      "metadata": {},
      "outputs": [
        {
          "data": {
            "text/plain": [
              "order_id                         0\n",
              "customer_id                      0\n",
              "order_status                     0\n",
              "order_purchase_timestamp         0\n",
              "order_approved_at                5\n",
              "order_delivered_carrier_date     5\n",
              "order_delivered_customer_date    5\n",
              "order_estimated_delivery_date    0\n",
              "dtype: int64"
            ]
          },
          "execution_count": 106,
          "metadata": {},
          "output_type": "execute_result"
        }
      ],
      "source": [
        "orders_df[(orders_df.order_status=='created') & orders_df.isnull().any(axis=1)].isnull().sum()"
      ]
    },
    {
      "cell_type": "markdown",
      "metadata": {},
      "source": [
        "Pesanan dengan status 'created' yang mengandung *missing value* selain daripada kolom `order_purchase_timestamp` juga wajar dan valid."
      ]
    },
    {
      "cell_type": "code",
      "execution_count": 107,
      "metadata": {},
      "outputs": [
        {
          "data": {
            "text/plain": [
              "order_id                         0\n",
              "customer_id                      0\n",
              "order_status                     0\n",
              "order_purchase_timestamp         0\n",
              "order_approved_at                0\n",
              "order_delivered_carrier_date     2\n",
              "order_delivered_customer_date    2\n",
              "order_estimated_delivery_date    0\n",
              "dtype: int64"
            ]
          },
          "execution_count": 107,
          "metadata": {},
          "output_type": "execute_result"
        }
      ],
      "source": [
        "orders_df[(orders_df.order_status=='approved') & orders_df.isnull().any(axis=1)].isnull().sum()"
      ]
    },
    {
      "cell_type": "code",
      "execution_count": 108,
      "metadata": {},
      "outputs": [
        {
          "data": {
            "text/plain": [
              "order_id                           0\n",
              "customer_id                        0\n",
              "order_status                       0\n",
              "order_purchase_timestamp           0\n",
              "order_approved_at                  0\n",
              "order_delivered_carrier_date     314\n",
              "order_delivered_customer_date    314\n",
              "order_estimated_delivery_date      0\n",
              "dtype: int64"
            ]
          },
          "execution_count": 108,
          "metadata": {},
          "output_type": "execute_result"
        }
      ],
      "source": [
        "orders_df[(orders_df.order_status=='invoiced') & orders_df.isnull().any(axis=1)].isnull().sum()"
      ]
    },
    {
      "cell_type": "code",
      "execution_count": 109,
      "metadata": {},
      "outputs": [
        {
          "data": {
            "text/plain": [
              "order_id                           0\n",
              "customer_id                        0\n",
              "order_status                       0\n",
              "order_purchase_timestamp           0\n",
              "order_approved_at                  0\n",
              "order_delivered_carrier_date     301\n",
              "order_delivered_customer_date    301\n",
              "order_estimated_delivery_date      0\n",
              "dtype: int64"
            ]
          },
          "execution_count": 109,
          "metadata": {},
          "output_type": "execute_result"
        }
      ],
      "source": [
        "orders_df[(orders_df.order_status=='processing') & orders_df.isnull().any(axis=1)].isnull().sum()"
      ]
    },
    {
      "cell_type": "markdown",
      "metadata": {},
      "source": [
        "Pesanan dengan status 'approved/invoiced/processing' yang mengandung *missing value* selain daripada kolom `order_purchase_timestamp` dan `order_approved_at` juga wajar dan valid."
      ]
    },
    {
      "cell_type": "code",
      "execution_count": 110,
      "metadata": {},
      "outputs": [
        {
          "data": {
            "text/plain": [
              "order_id                            0\n",
              "customer_id                         0\n",
              "order_status                        0\n",
              "order_purchase_timestamp            0\n",
              "order_approved_at                   0\n",
              "order_delivered_carrier_date        0\n",
              "order_delivered_customer_date    1107\n",
              "order_estimated_delivery_date       0\n",
              "dtype: int64"
            ]
          },
          "execution_count": 110,
          "metadata": {},
          "output_type": "execute_result"
        }
      ],
      "source": [
        "orders_df[(orders_df.order_status=='shipped') & orders_df.isnull().any(axis=1)].isnull().sum()"
      ]
    },
    {
      "cell_type": "markdown",
      "metadata": {},
      "source": [
        "Pesanan dengan status 'shipped' yang mengandung *missing value* pada kolom `order_delivered_customer_date` juga wajar dan valid."
      ]
    },
    {
      "cell_type": "markdown",
      "metadata": {},
      "source": [
        "Pesanan dengan status 'created/approved/invoiced/processing/shipped' akan dimasukkkan ke dalam kategori `in_process_orders_df` atau pesanan yang sedang diproses."
      ]
    },
    {
      "cell_type": "code",
      "execution_count": 111,
      "metadata": {},
      "outputs": [],
      "source": [
        "created_orders_df = orders_df[(orders_df.order_status=='created')]\n",
        "approved_orders_df = orders_df[(orders_df.order_status=='approved')]\n",
        "invoiced_orders_df = orders_df[(orders_df.order_status=='invoiced')]\n",
        "processing_orders_df = orders_df[(orders_df.order_status=='processing')]\n",
        "shipped_orders_df = orders_df[(orders_df.order_status=='shipped')]"
      ]
    },
    {
      "cell_type": "code",
      "execution_count": 112,
      "metadata": {},
      "outputs": [],
      "source": [
        "in_process_orders_df = pd.concat([created_orders_df, approved_orders_df, invoiced_orders_df, processing_orders_df, shipped_orders_df])\n",
        "in_process_orders_df.sort_index(inplace=True)"
      ]
    },
    {
      "cell_type": "code",
      "execution_count": 113,
      "metadata": {},
      "outputs": [
        {
          "data": {
            "application/vnd.microsoft.datawrangler.viewer.v0+json": {
              "columns": [
                {
                  "name": "index",
                  "rawType": "int64",
                  "type": "integer"
                },
                {
                  "name": "order_id",
                  "rawType": "object",
                  "type": "string"
                },
                {
                  "name": "customer_id",
                  "rawType": "object",
                  "type": "string"
                },
                {
                  "name": "order_status",
                  "rawType": "object",
                  "type": "string"
                },
                {
                  "name": "order_purchase_timestamp",
                  "rawType": "datetime64[ns]",
                  "type": "datetime"
                },
                {
                  "name": "order_approved_at",
                  "rawType": "datetime64[ns]",
                  "type": "datetime"
                },
                {
                  "name": "order_delivered_carrier_date",
                  "rawType": "datetime64[ns]",
                  "type": "datetime"
                },
                {
                  "name": "order_delivered_customer_date",
                  "rawType": "datetime64[ns]",
                  "type": "datetime"
                },
                {
                  "name": "order_estimated_delivery_date",
                  "rawType": "datetime64[ns]",
                  "type": "datetime"
                }
              ],
              "conversionMethod": "pd.DataFrame",
              "ref": "3f6bab65-f3d1-43ce-9cc1-9f72034e04bf",
              "rows": [
                [
                  "6",
                  "136cce7faa42fdb2cefd53fdc79a6098",
                  "ed0271e0b7da060a393796590e7b737a",
                  "invoiced",
                  "2017-04-11 12:22:08",
                  "2017-04-13 13:25:17",
                  null,
                  null,
                  "2017-05-09 00:00:00"
                ],
                [
                  "44",
                  "ee64d42b8cf066f35eac1cf57de1aa85",
                  "caded193e8e47b8362864762a83db3c5",
                  "shipped",
                  "2018-06-04 16:44:48",
                  "2018-06-05 04:31:18",
                  "2018-06-05 14:32:00",
                  null,
                  "2018-06-28 00:00:00"
                ],
                [
                  "103",
                  "0760a852e4e9d89eb77bf631eaaf1c84",
                  "d2a79636084590b7465af8ab374a8cf5",
                  "invoiced",
                  "2018-08-03 17:44:42",
                  "2018-08-07 06:15:14",
                  null,
                  null,
                  "2018-08-21 00:00:00"
                ],
                [
                  "128",
                  "15bed8e2fec7fdbadb186b57c46c92f2",
                  "f3f0e613e0bdb9c7cee75504f0f90679",
                  "processing",
                  "2017-09-03 14:22:03",
                  "2017-09-03 14:30:09",
                  null,
                  null,
                  "2017-10-03 00:00:00"
                ],
                [
                  "154",
                  "6942b8da583c2f9957e990d028607019",
                  "52006a9383bf149a4fb24226b173106f",
                  "shipped",
                  "2018-01-10 11:33:07",
                  "2018-01-11 02:32:30",
                  "2018-01-11 19:39:23",
                  null,
                  "2018-02-07 00:00:00"
                ],
                [
                  "162",
                  "36530871a5e80138db53bcfd8a104d90",
                  "4dafe3c841d2d6cc8a8b6d25b35704b9",
                  "shipped",
                  "2017-05-09 11:48:37",
                  "2017-05-11 11:45:14",
                  "2017-05-11 13:21:47",
                  null,
                  "2017-06-08 00:00:00"
                ],
                [
                  "231",
                  "4d630f57194f5aba1a3d12ce23e71cd9",
                  "6d491c9fe2f04f6e2af6ec033cd8907c",
                  "shipped",
                  "2017-11-17 19:53:21",
                  "2017-11-18 19:50:31",
                  "2017-11-22 17:28:34",
                  null,
                  "2017-12-13 00:00:00"
                ],
                [
                  "299",
                  "3b4ad687e7e5190db827e1ae5a8989dd",
                  "1a87b8517b7d31373b50396eb15cb445",
                  "shipped",
                  "2018-06-28 12:52:15",
                  "2018-06-28 13:11:09",
                  "2018-07-04 15:20:00",
                  null,
                  "2018-08-03 00:00:00"
                ],
                [
                  "305",
                  "b68d69564a79dea4776afa33d1d2fcab",
                  "de1e5517fb50896bbdcff5814fb31802",
                  "shipped",
                  "2018-02-28 08:57:03",
                  "2018-02-28 10:40:35",
                  "2018-03-05 16:10:13",
                  null,
                  "2018-03-23 00:00:00"
                ],
                [
                  "324",
                  "d3c8851a6651eeff2f73b0e011ac45d0",
                  "957f8e082185574de25992dc659ebbc0",
                  "processing",
                  "2016-10-05 22:44:13",
                  "2016-10-06 15:51:05",
                  null,
                  null,
                  "2016-12-09 00:00:00"
                ],
                [
                  "333",
                  "f373335aac9a659de916f7170b8bc07a",
                  "f06a94a401e52fb019c72f2e8bbf6a2f",
                  "shipped",
                  "2018-03-17 15:32:31",
                  "2018-03-17 15:48:40",
                  "2018-03-20 21:08:28",
                  null,
                  "2018-04-13 00:00:00"
                ],
                [
                  "374",
                  "5869074071e0f56e9085dc3742c97b2a",
                  "7203eb38fea2b4a15dd6c39575314aa4",
                  "shipped",
                  "2018-06-08 20:06:48",
                  "2018-06-12 04:35:37",
                  "2018-06-12 14:09:00",
                  null,
                  "2018-06-28 00:00:00"
                ],
                [
                  "430",
                  "6147a4d49752afd35a119d794e481588",
                  "938698ae953596e231326da5ff220f68",
                  "shipped",
                  "2017-04-25 13:35:09",
                  "2017-04-25 13:45:16",
                  "2017-05-02 15:29:33",
                  null,
                  "2017-05-29 00:00:00"
                ],
                [
                  "444",
                  "95e42e6aaf6264cd3e77c06b32dc3003",
                  "29ef1f160ce630146dafa02052e2c5bf",
                  "shipped",
                  "2017-11-24 09:23:33",
                  "2017-11-24 10:51:26",
                  "2017-11-24 19:07:43",
                  null,
                  "2017-12-08 00:00:00"
                ],
                [
                  "455",
                  "38b7efdf33dd5561f4f5d4f6e07b0414",
                  "021e84751ba0ead75b6d314a6ead88d9",
                  "invoiced",
                  "2017-08-01 18:17:41",
                  "2017-08-01 18:32:30",
                  null,
                  null,
                  "2017-08-28 00:00:00"
                ],
                [
                  "540",
                  "10918fe4d665fda80034712895c2b92f",
                  "e05a24d2c1d2cd3ae0482ecc1b4d069f",
                  "shipped",
                  "2017-06-26 07:04:39",
                  "2017-06-26 10:32:39",
                  "2017-07-04 11:27:21",
                  null,
                  "2017-08-03 00:00:00"
                ],
                [
                  "583",
                  "f633c884a99eb63866600655356d973e",
                  "b6e18008af6aeb4a5ce5574c15ca2b48",
                  "shipped",
                  "2018-04-04 00:33:47",
                  "2018-04-04 00:48:50",
                  "2018-04-05 19:16:46",
                  null,
                  "2018-04-25 00:00:00"
                ],
                [
                  "716",
                  "662823ed689412b9a2e5085620e06070",
                  "b4214b2e14c916724d94efe51fcbd1f0",
                  "shipped",
                  "2018-03-15 15:57:24",
                  "2018-03-15 16:11:07",
                  "2018-03-19 20:28:42",
                  null,
                  "2018-04-05 00:00:00"
                ],
                [
                  "741",
                  "6a6c7d523fd59eb5bbefc007331af717",
                  "d954782ec6c0e911292c8a80757ef28d",
                  "processing",
                  "2017-11-24 20:09:33",
                  "2017-11-24 23:15:15",
                  null,
                  null,
                  "2017-12-20 00:00:00"
                ],
                [
                  "1006",
                  "c5e1ff5a434a0e128ac186bd92c1060d",
                  "9408366cfabe249cc4e4680dffb79c5c",
                  "shipped",
                  "2018-03-10 13:39:36",
                  "2018-03-10 13:50:29",
                  "2018-03-21 19:18:22",
                  null,
                  "2018-04-06 00:00:00"
                ],
                [
                  "1175",
                  "c4abf2eb2ea936ee6fc6e630b152fb77",
                  "d7314e9d240737da330e0f83ac4bd257",
                  "shipped",
                  "2017-03-09 20:50:46",
                  "2017-03-09 20:50:46",
                  "2017-03-14 10:01:57",
                  null,
                  "2017-04-03 00:00:00"
                ],
                [
                  "1192",
                  "745e1d4a7f8c4b548881788d4113bb1d",
                  "7198d7088442e4ddfe553353d8ddc957",
                  "processing",
                  "2017-11-17 06:34:36",
                  "2017-11-18 02:15:40",
                  null,
                  null,
                  "2017-12-12 00:00:00"
                ],
                [
                  "1282",
                  "504ec2b6f69e898c557955750272d563",
                  "ba0a799b8a7b0b1a1ac522a0a8839bff",
                  "shipped",
                  "2018-05-07 21:43:48",
                  "2018-05-07 21:54:31",
                  "2018-05-08 14:17:00",
                  null,
                  "2018-05-21 00:00:00"
                ],
                [
                  "1368",
                  "ed1407b1e486fadba3e6cd4460dccd56",
                  "d83913dc23a7f3c90ff7a10d1b4bd4c6",
                  "shipped",
                  "2017-10-22 12:55:42",
                  "2017-10-22 13:14:28",
                  "2017-10-24 11:46:06",
                  null,
                  "2017-11-14 00:00:00"
                ],
                [
                  "1396",
                  "dd94f2867bcd2be2229f44d7a0df4e5b",
                  "786ee3fc4d3b8097f9759d512efb5540",
                  "shipped",
                  "2017-03-28 09:43:17",
                  "2017-03-29 02:10:56",
                  "2017-03-29 15:20:18",
                  null,
                  "2017-04-17 00:00:00"
                ],
                [
                  "1440",
                  "362cc20bf09835f4398cedd319fb7d8e",
                  "9eb0d8ae0777405811966250213e28a2",
                  "shipped",
                  "2018-03-27 12:10:05",
                  "2018-03-29 03:28:46",
                  "2018-04-04 19:08:37",
                  null,
                  "2018-04-19 00:00:00"
                ],
                [
                  "1476",
                  "f05b87cae9d521c780bc3dfc281ca892",
                  "1a7edcadd05cd374c32cc5e4f87d9832",
                  "shipped",
                  "2018-08-04 12:49:06",
                  "2018-08-05 12:45:15",
                  "2018-08-06 11:55:00",
                  null,
                  "2018-08-24 00:00:00"
                ],
                [
                  "1516",
                  "1d52ba7197c7acebbb4f826f6585536f",
                  "c9c7fe860d602373a9e93f8bfe9d877a",
                  "processing",
                  "2017-02-13 18:32:55",
                  "2017-02-13 18:43:55",
                  null,
                  null,
                  "2017-04-04 00:00:00"
                ],
                [
                  "1517",
                  "ad27779fb29796c8d798f29aefedf3d0",
                  "aceb1218ab19cb199ebe711d613f9fae",
                  "shipped",
                  "2018-04-05 11:39:33",
                  "2018-04-05 11:55:21",
                  "2018-04-05 21:32:19",
                  null,
                  "2018-04-27 00:00:00"
                ],
                [
                  "1565",
                  "38d6205cb4508e8d63dcbae0aac1fe96",
                  "d0ca4d9e8fa6fca510ed593effc04df5",
                  "shipped",
                  "2018-05-02 09:02:58",
                  "2018-05-03 03:55:26",
                  "2018-05-03 14:18:00",
                  null,
                  "2018-05-25 00:00:00"
                ],
                [
                  "1582",
                  "d815bd2c2bdd79e4c0e0263caa986d66",
                  "04d7d73089b39d83f81b829cbd98e43d",
                  "processing",
                  "2017-03-15 10:30:17",
                  "2017-03-15 10:30:17",
                  null,
                  null,
                  "2017-04-13 00:00:00"
                ],
                [
                  "1604",
                  "52b828f13e08788433adad4a7d135779",
                  "3c9a7cf7435eb8c2afd717c62809b521",
                  "processing",
                  "2018-05-05 22:32:38",
                  "2018-05-05 22:53:19",
                  null,
                  null,
                  "2018-06-01 00:00:00"
                ],
                [
                  "1619",
                  "56ab0ef6726f49b711b84ce62e305c7c",
                  "5a643f32f961a09e6046bad513aa588b",
                  "processing",
                  "2017-11-21 17:54:26",
                  "2017-11-22 17:59:31",
                  null,
                  null,
                  "2017-12-13 00:00:00"
                ],
                [
                  "1633",
                  "9a01e11eb3e82a6d9e7bd3f3acafa7ca",
                  "49206e681a7405da8d06cf16883575ff",
                  "shipped",
                  "2018-03-02 22:07:38",
                  "2018-03-03 15:35:24",
                  "2018-03-06 00:04:29",
                  null,
                  "2018-04-02 00:00:00"
                ],
                [
                  "1771",
                  "1488ee1c0dc7439e64d5df80ae9f6089",
                  "42396af504e7592889a5e54951ce2cb8",
                  "shipped",
                  "2018-03-16 17:44:05",
                  "2018-03-16 17:55:36",
                  "2018-03-22 20:33:27",
                  null,
                  "2018-04-13 00:00:00"
                ],
                [
                  "1833",
                  "51b0dccc8596ce37a930dff2d63a10a2",
                  "31bf1057b00f14804278590bbac18b1b",
                  "invoiced",
                  "2017-05-05 22:34:48",
                  "2017-05-05 22:45:12",
                  null,
                  null,
                  "2017-06-06 00:00:00"
                ],
                [
                  "1944",
                  "df6340ee228a1f029c6341931763f177",
                  "32705597278e6504c324f9c7fe5d74c9",
                  "shipped",
                  "2017-12-01 21:55:25",
                  "2017-12-02 10:18:29",
                  "2017-12-04 21:52:21",
                  null,
                  "2017-12-27 00:00:00"
                ],
                [
                  "1956",
                  "8d994041d6127d2acc8d13aad557e75f",
                  "79549bf1ee85aa08fa9007af4f4a6dde",
                  "shipped",
                  "2017-03-24 21:48:54",
                  "2017-03-24 22:02:26",
                  "2017-03-25 09:33:55",
                  null,
                  "2017-04-19 00:00:00"
                ],
                [
                  "2101",
                  "a3d1ef2562cf71542edfed06c1a7b6c8",
                  "5f825bf617f8288a4cb4f50c3c179794",
                  "shipped",
                  "2017-01-21 11:43:35",
                  "2017-01-24 03:42:07",
                  "2017-01-24 10:16:53",
                  null,
                  "2017-03-08 00:00:00"
                ],
                [
                  "2116",
                  "5504eaa5a86eb25fa666cf2e6b96c701",
                  "a30be38e1ed0ffb39b318bf1d15e98d9",
                  "invoiced",
                  "2017-11-29 08:33:06",
                  "2017-11-29 08:56:23",
                  null,
                  null,
                  "2017-12-20 00:00:00"
                ],
                [
                  "2126",
                  "4ea3508e2de6e58640c0efe3ef758829",
                  "75776b1f1b023dd82d5fafe940616c1e",
                  "processing",
                  "2017-05-21 23:42:14",
                  "2017-05-22 00:35:23",
                  null,
                  null,
                  "2017-06-21 00:00:00"
                ],
                [
                  "2198",
                  "533e104c4193cf07d264603f7800fb71",
                  "2f95fc8f86679d432d77e9d0316fac48",
                  "processing",
                  "2017-02-06 15:33:57",
                  "2017-02-06 15:42:27",
                  null,
                  null,
                  "2017-03-03 00:00:00"
                ],
                [
                  "2312",
                  "195070d2d0eb1da7d93b958bce36d1ef",
                  "827d7240a35889668129a7b10aa0081b",
                  "shipped",
                  "2017-02-08 05:56:31",
                  "2017-02-10 03:03:30",
                  "2017-02-15 09:14:40",
                  null,
                  "2017-03-10 00:00:00"
                ],
                [
                  "2350",
                  "7785b07bcf7b5bf8fbf50e491382d98e",
                  "edf36208c4d022a97bb82b7c02553af2",
                  "shipped",
                  "2018-04-17 20:31:30",
                  "2018-04-17 20:51:47",
                  "2018-04-19 00:51:15",
                  null,
                  "2018-05-04 00:00:00"
                ],
                [
                  "2423",
                  "ee1c259624feb697ba9a84a268f77cfa",
                  "1d877053716a2f3be7e0c13096eb75f1",
                  "shipped",
                  "2018-02-22 19:22:04",
                  "2018-02-22 19:35:26",
                  "2018-02-23 20:47:18",
                  null,
                  "2018-03-19 00:00:00"
                ],
                [
                  "2430",
                  "027b013d2186e25c2b82beb3679d0833",
                  "752b19f57cd013e2bf4e3c62da5a29e5",
                  "shipped",
                  "2018-04-11 15:49:16",
                  "2018-04-11 16:10:51",
                  "2018-04-13 20:05:02",
                  null,
                  "2018-05-02 00:00:00"
                ],
                [
                  "2492",
                  "02ea547b6d2ee25305588fd50df58b46",
                  "ff4545a3148f5a22667f301e00cb5ad7",
                  "shipped",
                  "2017-03-23 22:03:43",
                  "2017-03-23 22:10:24",
                  "2017-03-28 11:43:01",
                  null,
                  "2017-04-18 00:00:00"
                ],
                [
                  "2515",
                  "62076e9aa47cedb799ddc84812264c9e",
                  "37e066fcd483b5b73efc8eb2166c91e2",
                  "shipped",
                  "2018-06-09 19:28:03",
                  "2018-06-09 19:50:51",
                  "2018-06-11 13:50:00",
                  null,
                  "2018-07-04 00:00:00"
                ],
                [
                  "2649",
                  "c3a6dc9afef5794ea4a867b5a18e0ad1",
                  "0c305f688ce08dc9402a2164fd6f29d6",
                  "invoiced",
                  "2017-11-25 14:10:20",
                  "2017-11-25 17:32:57",
                  null,
                  null,
                  "2017-12-19 00:00:00"
                ],
                [
                  "2773",
                  "914e3f7135c8d9046278a046552ebb6e",
                  "078bfceb258f6ee262174cbf251aa763",
                  "shipped",
                  "2017-04-11 12:22:13",
                  "2017-04-13 02:42:05",
                  "2017-04-13 15:56:24",
                  null,
                  "2017-05-16 00:00:00"
                ]
              ],
              "shape": {
                "columns": 8,
                "rows": 1729
              }
            },
            "text/html": [
              "<div>\n",
              "<style scoped>\n",
              "    .dataframe tbody tr th:only-of-type {\n",
              "        vertical-align: middle;\n",
              "    }\n",
              "\n",
              "    .dataframe tbody tr th {\n",
              "        vertical-align: top;\n",
              "    }\n",
              "\n",
              "    .dataframe thead th {\n",
              "        text-align: right;\n",
              "    }\n",
              "</style>\n",
              "<table border=\"1\" class=\"dataframe\">\n",
              "  <thead>\n",
              "    <tr style=\"text-align: right;\">\n",
              "      <th></th>\n",
              "      <th>order_id</th>\n",
              "      <th>customer_id</th>\n",
              "      <th>order_status</th>\n",
              "      <th>order_purchase_timestamp</th>\n",
              "      <th>order_approved_at</th>\n",
              "      <th>order_delivered_carrier_date</th>\n",
              "      <th>order_delivered_customer_date</th>\n",
              "      <th>order_estimated_delivery_date</th>\n",
              "    </tr>\n",
              "  </thead>\n",
              "  <tbody>\n",
              "    <tr>\n",
              "      <th>6</th>\n",
              "      <td>136cce7faa42fdb2cefd53fdc79a6098</td>\n",
              "      <td>ed0271e0b7da060a393796590e7b737a</td>\n",
              "      <td>invoiced</td>\n",
              "      <td>2017-04-11 12:22:08</td>\n",
              "      <td>2017-04-13 13:25:17</td>\n",
              "      <td>NaT</td>\n",
              "      <td>NaT</td>\n",
              "      <td>2017-05-09</td>\n",
              "    </tr>\n",
              "    <tr>\n",
              "      <th>44</th>\n",
              "      <td>ee64d42b8cf066f35eac1cf57de1aa85</td>\n",
              "      <td>caded193e8e47b8362864762a83db3c5</td>\n",
              "      <td>shipped</td>\n",
              "      <td>2018-06-04 16:44:48</td>\n",
              "      <td>2018-06-05 04:31:18</td>\n",
              "      <td>2018-06-05 14:32:00</td>\n",
              "      <td>NaT</td>\n",
              "      <td>2018-06-28</td>\n",
              "    </tr>\n",
              "    <tr>\n",
              "      <th>103</th>\n",
              "      <td>0760a852e4e9d89eb77bf631eaaf1c84</td>\n",
              "      <td>d2a79636084590b7465af8ab374a8cf5</td>\n",
              "      <td>invoiced</td>\n",
              "      <td>2018-08-03 17:44:42</td>\n",
              "      <td>2018-08-07 06:15:14</td>\n",
              "      <td>NaT</td>\n",
              "      <td>NaT</td>\n",
              "      <td>2018-08-21</td>\n",
              "    </tr>\n",
              "    <tr>\n",
              "      <th>128</th>\n",
              "      <td>15bed8e2fec7fdbadb186b57c46c92f2</td>\n",
              "      <td>f3f0e613e0bdb9c7cee75504f0f90679</td>\n",
              "      <td>processing</td>\n",
              "      <td>2017-09-03 14:22:03</td>\n",
              "      <td>2017-09-03 14:30:09</td>\n",
              "      <td>NaT</td>\n",
              "      <td>NaT</td>\n",
              "      <td>2017-10-03</td>\n",
              "    </tr>\n",
              "    <tr>\n",
              "      <th>154</th>\n",
              "      <td>6942b8da583c2f9957e990d028607019</td>\n",
              "      <td>52006a9383bf149a4fb24226b173106f</td>\n",
              "      <td>shipped</td>\n",
              "      <td>2018-01-10 11:33:07</td>\n",
              "      <td>2018-01-11 02:32:30</td>\n",
              "      <td>2018-01-11 19:39:23</td>\n",
              "      <td>NaT</td>\n",
              "      <td>2018-02-07</td>\n",
              "    </tr>\n",
              "    <tr>\n",
              "      <th>...</th>\n",
              "      <td>...</td>\n",
              "      <td>...</td>\n",
              "      <td>...</td>\n",
              "      <td>...</td>\n",
              "      <td>...</td>\n",
              "      <td>...</td>\n",
              "      <td>...</td>\n",
              "      <td>...</td>\n",
              "    </tr>\n",
              "    <tr>\n",
              "      <th>99066</th>\n",
              "      <td>46bdec7cc92d926500bee756ee1df6dc</td>\n",
              "      <td>0cfcefc0ed0af6a2e601540feeac24e7</td>\n",
              "      <td>invoiced</td>\n",
              "      <td>2018-07-16 13:20:06</td>\n",
              "      <td>2018-07-16 13:30:35</td>\n",
              "      <td>NaT</td>\n",
              "      <td>NaT</td>\n",
              "      <td>2018-08-06</td>\n",
              "    </tr>\n",
              "    <tr>\n",
              "      <th>99113</th>\n",
              "      <td>274a7f7e4f1c17b7434a830e9b8759b1</td>\n",
              "      <td>670af30ca5b8c20878fecdafa5ee01b9</td>\n",
              "      <td>shipped</td>\n",
              "      <td>2018-06-23 13:25:15</td>\n",
              "      <td>2018-06-23 13:40:11</td>\n",
              "      <td>2018-07-04 13:51:00</td>\n",
              "      <td>NaT</td>\n",
              "      <td>2018-07-24</td>\n",
              "    </tr>\n",
              "    <tr>\n",
              "      <th>99140</th>\n",
              "      <td>aea0db338150b526dde24f6fd953a5ed</td>\n",
              "      <td>379a02efdc6a56bd27f99b95fc2f6c06</td>\n",
              "      <td>processing</td>\n",
              "      <td>2017-12-26 21:56:13</td>\n",
              "      <td>2017-12-26 22:05:26</td>\n",
              "      <td>NaT</td>\n",
              "      <td>NaT</td>\n",
              "      <td>2018-01-26</td>\n",
              "    </tr>\n",
              "    <tr>\n",
              "      <th>99181</th>\n",
              "      <td>636cdd02667dc8d76d9296bf20a6890a</td>\n",
              "      <td>c162256b133c76f79181ce61d66545db</td>\n",
              "      <td>shipped</td>\n",
              "      <td>2018-02-17 14:31:22</td>\n",
              "      <td>2018-02-20 07:11:31</td>\n",
              "      <td>2018-02-20 19:18:58</td>\n",
              "      <td>NaT</td>\n",
              "      <td>2018-03-14</td>\n",
              "    </tr>\n",
              "    <tr>\n",
              "      <th>99313</th>\n",
              "      <td>e9e64a17afa9653aacf2616d94c005b8</td>\n",
              "      <td>b4cd0522e632e481f8eaf766a2646e86</td>\n",
              "      <td>processing</td>\n",
              "      <td>2018-01-05 23:07:24</td>\n",
              "      <td>2018-01-09 07:18:05</td>\n",
              "      <td>NaT</td>\n",
              "      <td>NaT</td>\n",
              "      <td>2018-02-06</td>\n",
              "    </tr>\n",
              "  </tbody>\n",
              "</table>\n",
              "<p>1729 rows × 8 columns</p>\n",
              "</div>"
            ],
            "text/plain": [
              "                               order_id                       customer_id  \\\n",
              "6      136cce7faa42fdb2cefd53fdc79a6098  ed0271e0b7da060a393796590e7b737a   \n",
              "44     ee64d42b8cf066f35eac1cf57de1aa85  caded193e8e47b8362864762a83db3c5   \n",
              "103    0760a852e4e9d89eb77bf631eaaf1c84  d2a79636084590b7465af8ab374a8cf5   \n",
              "128    15bed8e2fec7fdbadb186b57c46c92f2  f3f0e613e0bdb9c7cee75504f0f90679   \n",
              "154    6942b8da583c2f9957e990d028607019  52006a9383bf149a4fb24226b173106f   \n",
              "...                                 ...                               ...   \n",
              "99066  46bdec7cc92d926500bee756ee1df6dc  0cfcefc0ed0af6a2e601540feeac24e7   \n",
              "99113  274a7f7e4f1c17b7434a830e9b8759b1  670af30ca5b8c20878fecdafa5ee01b9   \n",
              "99140  aea0db338150b526dde24f6fd953a5ed  379a02efdc6a56bd27f99b95fc2f6c06   \n",
              "99181  636cdd02667dc8d76d9296bf20a6890a  c162256b133c76f79181ce61d66545db   \n",
              "99313  e9e64a17afa9653aacf2616d94c005b8  b4cd0522e632e481f8eaf766a2646e86   \n",
              "\n",
              "      order_status order_purchase_timestamp   order_approved_at  \\\n",
              "6         invoiced      2017-04-11 12:22:08 2017-04-13 13:25:17   \n",
              "44         shipped      2018-06-04 16:44:48 2018-06-05 04:31:18   \n",
              "103       invoiced      2018-08-03 17:44:42 2018-08-07 06:15:14   \n",
              "128     processing      2017-09-03 14:22:03 2017-09-03 14:30:09   \n",
              "154        shipped      2018-01-10 11:33:07 2018-01-11 02:32:30   \n",
              "...            ...                      ...                 ...   \n",
              "99066     invoiced      2018-07-16 13:20:06 2018-07-16 13:30:35   \n",
              "99113      shipped      2018-06-23 13:25:15 2018-06-23 13:40:11   \n",
              "99140   processing      2017-12-26 21:56:13 2017-12-26 22:05:26   \n",
              "99181      shipped      2018-02-17 14:31:22 2018-02-20 07:11:31   \n",
              "99313   processing      2018-01-05 23:07:24 2018-01-09 07:18:05   \n",
              "\n",
              "      order_delivered_carrier_date order_delivered_customer_date  \\\n",
              "6                              NaT                           NaT   \n",
              "44             2018-06-05 14:32:00                           NaT   \n",
              "103                            NaT                           NaT   \n",
              "128                            NaT                           NaT   \n",
              "154            2018-01-11 19:39:23                           NaT   \n",
              "...                            ...                           ...   \n",
              "99066                          NaT                           NaT   \n",
              "99113          2018-07-04 13:51:00                           NaT   \n",
              "99140                          NaT                           NaT   \n",
              "99181          2018-02-20 19:18:58                           NaT   \n",
              "99313                          NaT                           NaT   \n",
              "\n",
              "      order_estimated_delivery_date  \n",
              "6                        2017-05-09  \n",
              "44                       2018-06-28  \n",
              "103                      2018-08-21  \n",
              "128                      2017-10-03  \n",
              "154                      2018-02-07  \n",
              "...                             ...  \n",
              "99066                    2018-08-06  \n",
              "99113                    2018-07-24  \n",
              "99140                    2018-01-26  \n",
              "99181                    2018-03-14  \n",
              "99313                    2018-02-06  \n",
              "\n",
              "[1729 rows x 8 columns]"
            ]
          },
          "execution_count": 113,
          "metadata": {},
          "output_type": "execute_result"
        }
      ],
      "source": [
        "in_process_orders_df"
      ]
    },
    {
      "cell_type": "code",
      "execution_count": 114,
      "metadata": {},
      "outputs": [
        {
          "data": {
            "application/vnd.microsoft.datawrangler.viewer.v0+json": {
              "columns": [
                {
                  "name": "index",
                  "rawType": "int64",
                  "type": "integer"
                },
                {
                  "name": "order_id",
                  "rawType": "object",
                  "type": "string"
                },
                {
                  "name": "customer_id",
                  "rawType": "object",
                  "type": "string"
                },
                {
                  "name": "order_status",
                  "rawType": "object",
                  "type": "string"
                },
                {
                  "name": "order_purchase_timestamp",
                  "rawType": "datetime64[ns]",
                  "type": "datetime"
                },
                {
                  "name": "order_approved_at",
                  "rawType": "datetime64[ns]",
                  "type": "datetime"
                },
                {
                  "name": "order_delivered_carrier_date",
                  "rawType": "datetime64[ns]",
                  "type": "datetime"
                },
                {
                  "name": "order_delivered_customer_date",
                  "rawType": "datetime64[ns]",
                  "type": "datetime"
                },
                {
                  "name": "order_estimated_delivery_date",
                  "rawType": "datetime64[ns]",
                  "type": "datetime"
                }
              ],
              "conversionMethod": "pd.DataFrame",
              "ref": "b32696b2-a8fb-4d87-a68e-a6860052cae3",
              "rows": [
                [
                  "3002",
                  "2d1e2d5bf4dc7227b3bfebb81328c15f",
                  "ec05a6d8558c6455f0cbbd8a420ad34f",
                  "delivered",
                  "2017-11-28 17:44:07",
                  "2017-11-28 17:56:40",
                  "2017-11-30 18:12:23",
                  null,
                  "2017-12-18 00:00:00"
                ],
                [
                  "5323",
                  "e04abd8149ef81b95221e88f6ed9ab6a",
                  "2127dc6603ac33544953ef05ec155771",
                  "delivered",
                  "2017-02-18 14:40:00",
                  null,
                  "2017-02-23 12:04:47",
                  "2017-03-01 13:25:33",
                  "2017-03-17 00:00:00"
                ],
                [
                  "16567",
                  "8a9adc69528e1001fc68dd0aaebbb54a",
                  "4c1ccc74e00993733742a3c786dc3c1f",
                  "delivered",
                  "2017-02-18 12:45:31",
                  null,
                  "2017-02-23 09:01:52",
                  "2017-03-02 10:05:06",
                  "2017-03-21 00:00:00"
                ],
                [
                  "19031",
                  "7013bcfc1c97fe719a7b5e05e61c12db",
                  "2941af76d38100e0f8740a374f1a5dc3",
                  "delivered",
                  "2017-02-18 13:29:47",
                  null,
                  "2017-02-22 16:25:25",
                  "2017-03-01 08:07:38",
                  "2017-03-17 00:00:00"
                ],
                [
                  "20618",
                  "f5dd62b788049ad9fc0526e3ad11a097",
                  "5e89028e024b381dc84a13a3570decb4",
                  "delivered",
                  "2018-06-20 06:58:43",
                  "2018-06-20 07:19:05",
                  "2018-06-25 08:05:00",
                  null,
                  "2018-07-16 00:00:00"
                ],
                [
                  "22663",
                  "5cf925b116421afa85ee25e99b4c34fb",
                  "29c35fc91fc13fb5073c8f30505d860d",
                  "delivered",
                  "2017-02-18 16:48:35",
                  null,
                  "2017-02-22 11:23:10",
                  "2017-03-09 07:28:47",
                  "2017-03-31 00:00:00"
                ],
                [
                  "23156",
                  "12a95a3c06dbaec84bcfb0e2da5d228a",
                  "1e101e0daffaddce8159d25a8e53f2b2",
                  "delivered",
                  "2017-02-17 13:05:55",
                  null,
                  "2017-02-22 11:23:11",
                  "2017-03-02 11:09:19",
                  "2017-03-20 00:00:00"
                ],
                [
                  "26800",
                  "c1d4211b3dae76144deccd6c74144a88",
                  "684cb238dc5b5d6366244e0e0776b450",
                  "delivered",
                  "2017-01-19 12:48:08",
                  null,
                  "2017-01-25 14:56:50",
                  "2017-01-30 18:16:01",
                  "2017-03-01 00:00:00"
                ],
                [
                  "38290",
                  "d69e5d356402adc8cf17e08b5033acfb",
                  "68d081753ad4fe22fc4d410a9eb1ca01",
                  "delivered",
                  "2017-02-19 01:28:47",
                  null,
                  "2017-02-23 03:11:48",
                  "2017-03-02 03:41:58",
                  "2017-03-27 00:00:00"
                ],
                [
                  "39334",
                  "d77031d6a3c8a52f019764e68f211c69",
                  "0bf35cac6cc7327065da879e2d90fae8",
                  "delivered",
                  "2017-02-18 11:04:19",
                  null,
                  "2017-02-23 07:23:36",
                  "2017-03-02 16:15:23",
                  "2017-03-22 00:00:00"
                ],
                [
                  "43834",
                  "2ebdfc4f15f23b91474edf87475f108e",
                  "29f0540231702fda0cfdee0a310f11aa",
                  "delivered",
                  "2018-07-01 17:05:11",
                  "2018-07-01 17:15:12",
                  "2018-07-03 13:57:00",
                  null,
                  "2018-07-30 00:00:00"
                ],
                [
                  "48401",
                  "7002a78c79c519ac54022d4f8a65e6e8",
                  "d5de688c321096d15508faae67a27051",
                  "delivered",
                  "2017-01-19 22:26:59",
                  null,
                  "2017-01-27 11:08:05",
                  "2017-02-06 14:22:19",
                  "2017-03-16 00:00:00"
                ],
                [
                  "61743",
                  "2eecb0d85f281280f79fa00f9cec1a95",
                  "a3d3c38e58b9d2dfb9207cab690b6310",
                  "delivered",
                  "2017-02-17 17:21:55",
                  null,
                  "2017-02-22 11:42:51",
                  "2017-03-03 12:16:03",
                  "2017-03-20 00:00:00"
                ],
                [
                  "63052",
                  "51eb2eebd5d76a24625b31c33dd41449",
                  "07a2a7e0f63fd8cb757ed77d4245623c",
                  "delivered",
                  "2017-02-18 15:52:27",
                  null,
                  "2017-02-23 03:09:14",
                  "2017-03-07 13:57:47",
                  "2017-03-29 00:00:00"
                ],
                [
                  "67697",
                  "88083e8f64d95b932164187484d90212",
                  "f67cd1a215aae2a1074638bbd35a223a",
                  "delivered",
                  "2017-02-18 22:49:19",
                  null,
                  "2017-02-22 11:31:06",
                  "2017-03-02 12:06:06",
                  "2017-03-21 00:00:00"
                ],
                [
                  "72407",
                  "3c0b8706b065f9919d0505d3b3343881",
                  "d85919cb3c0529589c6fa617f5f43281",
                  "delivered",
                  "2017-02-17 15:53:27",
                  null,
                  "2017-02-22 11:31:30",
                  "2017-03-03 11:47:47",
                  "2017-03-23 00:00:00"
                ],
                [
                  "73222",
                  "2aa91108853cecb43c84a5dc5b277475",
                  "afeb16c7f46396c0ed54acb45ccaaa40",
                  "delivered",
                  "2017-09-29 08:52:58",
                  "2017-09-29 09:07:16",
                  null,
                  "2017-11-20 19:44:47",
                  "2017-11-14 00:00:00"
                ],
                [
                  "79263",
                  "e69f75a717d64fc5ecdfae42b2e8e086",
                  "cfda40ca8dd0a5d486a9635b611b398a",
                  "delivered",
                  "2018-07-01 22:05:55",
                  "2018-07-01 22:15:14",
                  "2018-07-03 13:57:00",
                  null,
                  "2018-07-30 00:00:00"
                ],
                [
                  "82868",
                  "0d3268bad9b086af767785e3f0fc0133",
                  "4f1d63d35fb7c8999853b2699f5c7649",
                  "delivered",
                  "2018-07-01 21:14:02",
                  "2018-07-01 21:29:54",
                  "2018-07-03 09:28:00",
                  null,
                  "2018-07-24 00:00:00"
                ],
                [
                  "84999",
                  "2babbb4b15e6d2dfe95e2de765c97bce",
                  "74bebaf46603f9340e3b50c6b086f992",
                  "delivered",
                  "2017-02-18 17:15:03",
                  null,
                  "2017-02-22 11:23:11",
                  "2017-03-03 18:43:43",
                  "2017-03-31 00:00:00"
                ],
                [
                  "92643",
                  "2d858f451373b04fb5c984a1cc2defaf",
                  "e08caf668d499a6d643dafd7c5cc498a",
                  "delivered",
                  "2017-05-25 23:22:43",
                  "2017-05-25 23:30:16",
                  null,
                  null,
                  "2017-06-23 00:00:00"
                ],
                [
                  "97647",
                  "ab7c89dc1bf4a1ead9d6ec1ec8968a84",
                  "dd1b84a7286eb4524d52af4256c0ba24",
                  "delivered",
                  "2018-06-08 12:09:39",
                  "2018-06-08 12:36:39",
                  "2018-06-12 14:10:00",
                  null,
                  "2018-06-26 00:00:00"
                ],
                [
                  "98038",
                  "20edc82cf5400ce95e1afacc25798b31",
                  "28c37425f1127d887d7337f284080a0f",
                  "delivered",
                  "2018-06-27 16:09:12",
                  "2018-06-27 16:29:30",
                  "2018-07-03 19:26:00",
                  null,
                  "2018-07-19 00:00:00"
                ]
              ],
              "shape": {
                "columns": 8,
                "rows": 23
              }
            },
            "text/html": [
              "<div>\n",
              "<style scoped>\n",
              "    .dataframe tbody tr th:only-of-type {\n",
              "        vertical-align: middle;\n",
              "    }\n",
              "\n",
              "    .dataframe tbody tr th {\n",
              "        vertical-align: top;\n",
              "    }\n",
              "\n",
              "    .dataframe thead th {\n",
              "        text-align: right;\n",
              "    }\n",
              "</style>\n",
              "<table border=\"1\" class=\"dataframe\">\n",
              "  <thead>\n",
              "    <tr style=\"text-align: right;\">\n",
              "      <th></th>\n",
              "      <th>order_id</th>\n",
              "      <th>customer_id</th>\n",
              "      <th>order_status</th>\n",
              "      <th>order_purchase_timestamp</th>\n",
              "      <th>order_approved_at</th>\n",
              "      <th>order_delivered_carrier_date</th>\n",
              "      <th>order_delivered_customer_date</th>\n",
              "      <th>order_estimated_delivery_date</th>\n",
              "    </tr>\n",
              "  </thead>\n",
              "  <tbody>\n",
              "    <tr>\n",
              "      <th>3002</th>\n",
              "      <td>2d1e2d5bf4dc7227b3bfebb81328c15f</td>\n",
              "      <td>ec05a6d8558c6455f0cbbd8a420ad34f</td>\n",
              "      <td>delivered</td>\n",
              "      <td>2017-11-28 17:44:07</td>\n",
              "      <td>2017-11-28 17:56:40</td>\n",
              "      <td>2017-11-30 18:12:23</td>\n",
              "      <td>NaT</td>\n",
              "      <td>2017-12-18</td>\n",
              "    </tr>\n",
              "    <tr>\n",
              "      <th>5323</th>\n",
              "      <td>e04abd8149ef81b95221e88f6ed9ab6a</td>\n",
              "      <td>2127dc6603ac33544953ef05ec155771</td>\n",
              "      <td>delivered</td>\n",
              "      <td>2017-02-18 14:40:00</td>\n",
              "      <td>NaT</td>\n",
              "      <td>2017-02-23 12:04:47</td>\n",
              "      <td>2017-03-01 13:25:33</td>\n",
              "      <td>2017-03-17</td>\n",
              "    </tr>\n",
              "    <tr>\n",
              "      <th>16567</th>\n",
              "      <td>8a9adc69528e1001fc68dd0aaebbb54a</td>\n",
              "      <td>4c1ccc74e00993733742a3c786dc3c1f</td>\n",
              "      <td>delivered</td>\n",
              "      <td>2017-02-18 12:45:31</td>\n",
              "      <td>NaT</td>\n",
              "      <td>2017-02-23 09:01:52</td>\n",
              "      <td>2017-03-02 10:05:06</td>\n",
              "      <td>2017-03-21</td>\n",
              "    </tr>\n",
              "    <tr>\n",
              "      <th>19031</th>\n",
              "      <td>7013bcfc1c97fe719a7b5e05e61c12db</td>\n",
              "      <td>2941af76d38100e0f8740a374f1a5dc3</td>\n",
              "      <td>delivered</td>\n",
              "      <td>2017-02-18 13:29:47</td>\n",
              "      <td>NaT</td>\n",
              "      <td>2017-02-22 16:25:25</td>\n",
              "      <td>2017-03-01 08:07:38</td>\n",
              "      <td>2017-03-17</td>\n",
              "    </tr>\n",
              "    <tr>\n",
              "      <th>20618</th>\n",
              "      <td>f5dd62b788049ad9fc0526e3ad11a097</td>\n",
              "      <td>5e89028e024b381dc84a13a3570decb4</td>\n",
              "      <td>delivered</td>\n",
              "      <td>2018-06-20 06:58:43</td>\n",
              "      <td>2018-06-20 07:19:05</td>\n",
              "      <td>2018-06-25 08:05:00</td>\n",
              "      <td>NaT</td>\n",
              "      <td>2018-07-16</td>\n",
              "    </tr>\n",
              "    <tr>\n",
              "      <th>22663</th>\n",
              "      <td>5cf925b116421afa85ee25e99b4c34fb</td>\n",
              "      <td>29c35fc91fc13fb5073c8f30505d860d</td>\n",
              "      <td>delivered</td>\n",
              "      <td>2017-02-18 16:48:35</td>\n",
              "      <td>NaT</td>\n",
              "      <td>2017-02-22 11:23:10</td>\n",
              "      <td>2017-03-09 07:28:47</td>\n",
              "      <td>2017-03-31</td>\n",
              "    </tr>\n",
              "    <tr>\n",
              "      <th>23156</th>\n",
              "      <td>12a95a3c06dbaec84bcfb0e2da5d228a</td>\n",
              "      <td>1e101e0daffaddce8159d25a8e53f2b2</td>\n",
              "      <td>delivered</td>\n",
              "      <td>2017-02-17 13:05:55</td>\n",
              "      <td>NaT</td>\n",
              "      <td>2017-02-22 11:23:11</td>\n",
              "      <td>2017-03-02 11:09:19</td>\n",
              "      <td>2017-03-20</td>\n",
              "    </tr>\n",
              "    <tr>\n",
              "      <th>26800</th>\n",
              "      <td>c1d4211b3dae76144deccd6c74144a88</td>\n",
              "      <td>684cb238dc5b5d6366244e0e0776b450</td>\n",
              "      <td>delivered</td>\n",
              "      <td>2017-01-19 12:48:08</td>\n",
              "      <td>NaT</td>\n",
              "      <td>2017-01-25 14:56:50</td>\n",
              "      <td>2017-01-30 18:16:01</td>\n",
              "      <td>2017-03-01</td>\n",
              "    </tr>\n",
              "    <tr>\n",
              "      <th>38290</th>\n",
              "      <td>d69e5d356402adc8cf17e08b5033acfb</td>\n",
              "      <td>68d081753ad4fe22fc4d410a9eb1ca01</td>\n",
              "      <td>delivered</td>\n",
              "      <td>2017-02-19 01:28:47</td>\n",
              "      <td>NaT</td>\n",
              "      <td>2017-02-23 03:11:48</td>\n",
              "      <td>2017-03-02 03:41:58</td>\n",
              "      <td>2017-03-27</td>\n",
              "    </tr>\n",
              "    <tr>\n",
              "      <th>39334</th>\n",
              "      <td>d77031d6a3c8a52f019764e68f211c69</td>\n",
              "      <td>0bf35cac6cc7327065da879e2d90fae8</td>\n",
              "      <td>delivered</td>\n",
              "      <td>2017-02-18 11:04:19</td>\n",
              "      <td>NaT</td>\n",
              "      <td>2017-02-23 07:23:36</td>\n",
              "      <td>2017-03-02 16:15:23</td>\n",
              "      <td>2017-03-22</td>\n",
              "    </tr>\n",
              "    <tr>\n",
              "      <th>43834</th>\n",
              "      <td>2ebdfc4f15f23b91474edf87475f108e</td>\n",
              "      <td>29f0540231702fda0cfdee0a310f11aa</td>\n",
              "      <td>delivered</td>\n",
              "      <td>2018-07-01 17:05:11</td>\n",
              "      <td>2018-07-01 17:15:12</td>\n",
              "      <td>2018-07-03 13:57:00</td>\n",
              "      <td>NaT</td>\n",
              "      <td>2018-07-30</td>\n",
              "    </tr>\n",
              "    <tr>\n",
              "      <th>48401</th>\n",
              "      <td>7002a78c79c519ac54022d4f8a65e6e8</td>\n",
              "      <td>d5de688c321096d15508faae67a27051</td>\n",
              "      <td>delivered</td>\n",
              "      <td>2017-01-19 22:26:59</td>\n",
              "      <td>NaT</td>\n",
              "      <td>2017-01-27 11:08:05</td>\n",
              "      <td>2017-02-06 14:22:19</td>\n",
              "      <td>2017-03-16</td>\n",
              "    </tr>\n",
              "    <tr>\n",
              "      <th>61743</th>\n",
              "      <td>2eecb0d85f281280f79fa00f9cec1a95</td>\n",
              "      <td>a3d3c38e58b9d2dfb9207cab690b6310</td>\n",
              "      <td>delivered</td>\n",
              "      <td>2017-02-17 17:21:55</td>\n",
              "      <td>NaT</td>\n",
              "      <td>2017-02-22 11:42:51</td>\n",
              "      <td>2017-03-03 12:16:03</td>\n",
              "      <td>2017-03-20</td>\n",
              "    </tr>\n",
              "    <tr>\n",
              "      <th>63052</th>\n",
              "      <td>51eb2eebd5d76a24625b31c33dd41449</td>\n",
              "      <td>07a2a7e0f63fd8cb757ed77d4245623c</td>\n",
              "      <td>delivered</td>\n",
              "      <td>2017-02-18 15:52:27</td>\n",
              "      <td>NaT</td>\n",
              "      <td>2017-02-23 03:09:14</td>\n",
              "      <td>2017-03-07 13:57:47</td>\n",
              "      <td>2017-03-29</td>\n",
              "    </tr>\n",
              "    <tr>\n",
              "      <th>67697</th>\n",
              "      <td>88083e8f64d95b932164187484d90212</td>\n",
              "      <td>f67cd1a215aae2a1074638bbd35a223a</td>\n",
              "      <td>delivered</td>\n",
              "      <td>2017-02-18 22:49:19</td>\n",
              "      <td>NaT</td>\n",
              "      <td>2017-02-22 11:31:06</td>\n",
              "      <td>2017-03-02 12:06:06</td>\n",
              "      <td>2017-03-21</td>\n",
              "    </tr>\n",
              "    <tr>\n",
              "      <th>72407</th>\n",
              "      <td>3c0b8706b065f9919d0505d3b3343881</td>\n",
              "      <td>d85919cb3c0529589c6fa617f5f43281</td>\n",
              "      <td>delivered</td>\n",
              "      <td>2017-02-17 15:53:27</td>\n",
              "      <td>NaT</td>\n",
              "      <td>2017-02-22 11:31:30</td>\n",
              "      <td>2017-03-03 11:47:47</td>\n",
              "      <td>2017-03-23</td>\n",
              "    </tr>\n",
              "    <tr>\n",
              "      <th>73222</th>\n",
              "      <td>2aa91108853cecb43c84a5dc5b277475</td>\n",
              "      <td>afeb16c7f46396c0ed54acb45ccaaa40</td>\n",
              "      <td>delivered</td>\n",
              "      <td>2017-09-29 08:52:58</td>\n",
              "      <td>2017-09-29 09:07:16</td>\n",
              "      <td>NaT</td>\n",
              "      <td>2017-11-20 19:44:47</td>\n",
              "      <td>2017-11-14</td>\n",
              "    </tr>\n",
              "    <tr>\n",
              "      <th>79263</th>\n",
              "      <td>e69f75a717d64fc5ecdfae42b2e8e086</td>\n",
              "      <td>cfda40ca8dd0a5d486a9635b611b398a</td>\n",
              "      <td>delivered</td>\n",
              "      <td>2018-07-01 22:05:55</td>\n",
              "      <td>2018-07-01 22:15:14</td>\n",
              "      <td>2018-07-03 13:57:00</td>\n",
              "      <td>NaT</td>\n",
              "      <td>2018-07-30</td>\n",
              "    </tr>\n",
              "    <tr>\n",
              "      <th>82868</th>\n",
              "      <td>0d3268bad9b086af767785e3f0fc0133</td>\n",
              "      <td>4f1d63d35fb7c8999853b2699f5c7649</td>\n",
              "      <td>delivered</td>\n",
              "      <td>2018-07-01 21:14:02</td>\n",
              "      <td>2018-07-01 21:29:54</td>\n",
              "      <td>2018-07-03 09:28:00</td>\n",
              "      <td>NaT</td>\n",
              "      <td>2018-07-24</td>\n",
              "    </tr>\n",
              "    <tr>\n",
              "      <th>84999</th>\n",
              "      <td>2babbb4b15e6d2dfe95e2de765c97bce</td>\n",
              "      <td>74bebaf46603f9340e3b50c6b086f992</td>\n",
              "      <td>delivered</td>\n",
              "      <td>2017-02-18 17:15:03</td>\n",
              "      <td>NaT</td>\n",
              "      <td>2017-02-22 11:23:11</td>\n",
              "      <td>2017-03-03 18:43:43</td>\n",
              "      <td>2017-03-31</td>\n",
              "    </tr>\n",
              "    <tr>\n",
              "      <th>92643</th>\n",
              "      <td>2d858f451373b04fb5c984a1cc2defaf</td>\n",
              "      <td>e08caf668d499a6d643dafd7c5cc498a</td>\n",
              "      <td>delivered</td>\n",
              "      <td>2017-05-25 23:22:43</td>\n",
              "      <td>2017-05-25 23:30:16</td>\n",
              "      <td>NaT</td>\n",
              "      <td>NaT</td>\n",
              "      <td>2017-06-23</td>\n",
              "    </tr>\n",
              "    <tr>\n",
              "      <th>97647</th>\n",
              "      <td>ab7c89dc1bf4a1ead9d6ec1ec8968a84</td>\n",
              "      <td>dd1b84a7286eb4524d52af4256c0ba24</td>\n",
              "      <td>delivered</td>\n",
              "      <td>2018-06-08 12:09:39</td>\n",
              "      <td>2018-06-08 12:36:39</td>\n",
              "      <td>2018-06-12 14:10:00</td>\n",
              "      <td>NaT</td>\n",
              "      <td>2018-06-26</td>\n",
              "    </tr>\n",
              "    <tr>\n",
              "      <th>98038</th>\n",
              "      <td>20edc82cf5400ce95e1afacc25798b31</td>\n",
              "      <td>28c37425f1127d887d7337f284080a0f</td>\n",
              "      <td>delivered</td>\n",
              "      <td>2018-06-27 16:09:12</td>\n",
              "      <td>2018-06-27 16:29:30</td>\n",
              "      <td>2018-07-03 19:26:00</td>\n",
              "      <td>NaT</td>\n",
              "      <td>2018-07-19</td>\n",
              "    </tr>\n",
              "  </tbody>\n",
              "</table>\n",
              "</div>"
            ],
            "text/plain": [
              "                               order_id                       customer_id  \\\n",
              "3002   2d1e2d5bf4dc7227b3bfebb81328c15f  ec05a6d8558c6455f0cbbd8a420ad34f   \n",
              "5323   e04abd8149ef81b95221e88f6ed9ab6a  2127dc6603ac33544953ef05ec155771   \n",
              "16567  8a9adc69528e1001fc68dd0aaebbb54a  4c1ccc74e00993733742a3c786dc3c1f   \n",
              "19031  7013bcfc1c97fe719a7b5e05e61c12db  2941af76d38100e0f8740a374f1a5dc3   \n",
              "20618  f5dd62b788049ad9fc0526e3ad11a097  5e89028e024b381dc84a13a3570decb4   \n",
              "22663  5cf925b116421afa85ee25e99b4c34fb  29c35fc91fc13fb5073c8f30505d860d   \n",
              "23156  12a95a3c06dbaec84bcfb0e2da5d228a  1e101e0daffaddce8159d25a8e53f2b2   \n",
              "26800  c1d4211b3dae76144deccd6c74144a88  684cb238dc5b5d6366244e0e0776b450   \n",
              "38290  d69e5d356402adc8cf17e08b5033acfb  68d081753ad4fe22fc4d410a9eb1ca01   \n",
              "39334  d77031d6a3c8a52f019764e68f211c69  0bf35cac6cc7327065da879e2d90fae8   \n",
              "43834  2ebdfc4f15f23b91474edf87475f108e  29f0540231702fda0cfdee0a310f11aa   \n",
              "48401  7002a78c79c519ac54022d4f8a65e6e8  d5de688c321096d15508faae67a27051   \n",
              "61743  2eecb0d85f281280f79fa00f9cec1a95  a3d3c38e58b9d2dfb9207cab690b6310   \n",
              "63052  51eb2eebd5d76a24625b31c33dd41449  07a2a7e0f63fd8cb757ed77d4245623c   \n",
              "67697  88083e8f64d95b932164187484d90212  f67cd1a215aae2a1074638bbd35a223a   \n",
              "72407  3c0b8706b065f9919d0505d3b3343881  d85919cb3c0529589c6fa617f5f43281   \n",
              "73222  2aa91108853cecb43c84a5dc5b277475  afeb16c7f46396c0ed54acb45ccaaa40   \n",
              "79263  e69f75a717d64fc5ecdfae42b2e8e086  cfda40ca8dd0a5d486a9635b611b398a   \n",
              "82868  0d3268bad9b086af767785e3f0fc0133  4f1d63d35fb7c8999853b2699f5c7649   \n",
              "84999  2babbb4b15e6d2dfe95e2de765c97bce  74bebaf46603f9340e3b50c6b086f992   \n",
              "92643  2d858f451373b04fb5c984a1cc2defaf  e08caf668d499a6d643dafd7c5cc498a   \n",
              "97647  ab7c89dc1bf4a1ead9d6ec1ec8968a84  dd1b84a7286eb4524d52af4256c0ba24   \n",
              "98038  20edc82cf5400ce95e1afacc25798b31  28c37425f1127d887d7337f284080a0f   \n",
              "\n",
              "      order_status order_purchase_timestamp   order_approved_at  \\\n",
              "3002     delivered      2017-11-28 17:44:07 2017-11-28 17:56:40   \n",
              "5323     delivered      2017-02-18 14:40:00                 NaT   \n",
              "16567    delivered      2017-02-18 12:45:31                 NaT   \n",
              "19031    delivered      2017-02-18 13:29:47                 NaT   \n",
              "20618    delivered      2018-06-20 06:58:43 2018-06-20 07:19:05   \n",
              "22663    delivered      2017-02-18 16:48:35                 NaT   \n",
              "23156    delivered      2017-02-17 13:05:55                 NaT   \n",
              "26800    delivered      2017-01-19 12:48:08                 NaT   \n",
              "38290    delivered      2017-02-19 01:28:47                 NaT   \n",
              "39334    delivered      2017-02-18 11:04:19                 NaT   \n",
              "43834    delivered      2018-07-01 17:05:11 2018-07-01 17:15:12   \n",
              "48401    delivered      2017-01-19 22:26:59                 NaT   \n",
              "61743    delivered      2017-02-17 17:21:55                 NaT   \n",
              "63052    delivered      2017-02-18 15:52:27                 NaT   \n",
              "67697    delivered      2017-02-18 22:49:19                 NaT   \n",
              "72407    delivered      2017-02-17 15:53:27                 NaT   \n",
              "73222    delivered      2017-09-29 08:52:58 2017-09-29 09:07:16   \n",
              "79263    delivered      2018-07-01 22:05:55 2018-07-01 22:15:14   \n",
              "82868    delivered      2018-07-01 21:14:02 2018-07-01 21:29:54   \n",
              "84999    delivered      2017-02-18 17:15:03                 NaT   \n",
              "92643    delivered      2017-05-25 23:22:43 2017-05-25 23:30:16   \n",
              "97647    delivered      2018-06-08 12:09:39 2018-06-08 12:36:39   \n",
              "98038    delivered      2018-06-27 16:09:12 2018-06-27 16:29:30   \n",
              "\n",
              "      order_delivered_carrier_date order_delivered_customer_date  \\\n",
              "3002           2017-11-30 18:12:23                           NaT   \n",
              "5323           2017-02-23 12:04:47           2017-03-01 13:25:33   \n",
              "16567          2017-02-23 09:01:52           2017-03-02 10:05:06   \n",
              "19031          2017-02-22 16:25:25           2017-03-01 08:07:38   \n",
              "20618          2018-06-25 08:05:00                           NaT   \n",
              "22663          2017-02-22 11:23:10           2017-03-09 07:28:47   \n",
              "23156          2017-02-22 11:23:11           2017-03-02 11:09:19   \n",
              "26800          2017-01-25 14:56:50           2017-01-30 18:16:01   \n",
              "38290          2017-02-23 03:11:48           2017-03-02 03:41:58   \n",
              "39334          2017-02-23 07:23:36           2017-03-02 16:15:23   \n",
              "43834          2018-07-03 13:57:00                           NaT   \n",
              "48401          2017-01-27 11:08:05           2017-02-06 14:22:19   \n",
              "61743          2017-02-22 11:42:51           2017-03-03 12:16:03   \n",
              "63052          2017-02-23 03:09:14           2017-03-07 13:57:47   \n",
              "67697          2017-02-22 11:31:06           2017-03-02 12:06:06   \n",
              "72407          2017-02-22 11:31:30           2017-03-03 11:47:47   \n",
              "73222                          NaT           2017-11-20 19:44:47   \n",
              "79263          2018-07-03 13:57:00                           NaT   \n",
              "82868          2018-07-03 09:28:00                           NaT   \n",
              "84999          2017-02-22 11:23:11           2017-03-03 18:43:43   \n",
              "92643                          NaT                           NaT   \n",
              "97647          2018-06-12 14:10:00                           NaT   \n",
              "98038          2018-07-03 19:26:00                           NaT   \n",
              "\n",
              "      order_estimated_delivery_date  \n",
              "3002                     2017-12-18  \n",
              "5323                     2017-03-17  \n",
              "16567                    2017-03-21  \n",
              "19031                    2017-03-17  \n",
              "20618                    2018-07-16  \n",
              "22663                    2017-03-31  \n",
              "23156                    2017-03-20  \n",
              "26800                    2017-03-01  \n",
              "38290                    2017-03-27  \n",
              "39334                    2017-03-22  \n",
              "43834                    2018-07-30  \n",
              "48401                    2017-03-16  \n",
              "61743                    2017-03-20  \n",
              "63052                    2017-03-29  \n",
              "67697                    2017-03-21  \n",
              "72407                    2017-03-23  \n",
              "73222                    2017-11-14  \n",
              "79263                    2018-07-30  \n",
              "82868                    2018-07-24  \n",
              "84999                    2017-03-31  \n",
              "92643                    2017-06-23  \n",
              "97647                    2018-06-26  \n",
              "98038                    2018-07-19  "
            ]
          },
          "execution_count": 114,
          "metadata": {},
          "output_type": "execute_result"
        }
      ],
      "source": [
        "orders_df[(orders_df.order_status=='delivered') & orders_df.isnull().any(axis=1)]"
      ]
    },
    {
      "cell_type": "markdown",
      "metadata": {},
      "source": [
        "Pesanan dengan status 'delivered' yang mengandung *missing value* tidak wajar sehingga akan dibersihkan."
      ]
    },
    {
      "cell_type": "code",
      "execution_count": 115,
      "metadata": {},
      "outputs": [],
      "source": [
        "orders_df.drop(orders_df[(orders_df.order_status=='delivered') & orders_df.isnull().any(axis=1)].index, inplace=True)"
      ]
    },
    {
      "cell_type": "code",
      "execution_count": 116,
      "metadata": {},
      "outputs": [
        {
          "data": {
            "text/plain": [
              "order_id                         0\n",
              "customer_id                      0\n",
              "order_status                     0\n",
              "order_purchase_timestamp         0\n",
              "order_approved_at                0\n",
              "order_delivered_carrier_date     0\n",
              "order_delivered_customer_date    0\n",
              "order_estimated_delivery_date    0\n",
              "dtype: int64"
            ]
          },
          "execution_count": 116,
          "metadata": {},
          "output_type": "execute_result"
        }
      ],
      "source": [
        "orders_df[orders_df.order_status=='delivered'].isnull().sum()"
      ]
    },
    {
      "cell_type": "code",
      "execution_count": 117,
      "metadata": {},
      "outputs": [],
      "source": [
        "success_orders_df = orders_df[orders_df.order_status=='delivered']"
      ]
    },
    {
      "cell_type": "markdown",
      "metadata": {},
      "source": [
        "##### Mengurutkan Data Berdasarkan Waktu Pesanan"
      ]
    },
    {
      "cell_type": "code",
      "execution_count": 118,
      "metadata": {},
      "outputs": [
        {
          "data": {
            "application/vnd.microsoft.datawrangler.viewer.v0+json": {
              "columns": [
                {
                  "name": "index",
                  "rawType": "int64",
                  "type": "integer"
                },
                {
                  "name": "order_id",
                  "rawType": "object",
                  "type": "string"
                },
                {
                  "name": "customer_id",
                  "rawType": "object",
                  "type": "string"
                },
                {
                  "name": "order_status",
                  "rawType": "object",
                  "type": "string"
                },
                {
                  "name": "order_purchase_timestamp",
                  "rawType": "datetime64[ns]",
                  "type": "datetime"
                },
                {
                  "name": "order_approved_at",
                  "rawType": "datetime64[ns]",
                  "type": "datetime"
                },
                {
                  "name": "order_delivered_carrier_date",
                  "rawType": "datetime64[ns]",
                  "type": "datetime"
                },
                {
                  "name": "order_delivered_customer_date",
                  "rawType": "datetime64[ns]",
                  "type": "datetime"
                },
                {
                  "name": "order_estimated_delivery_date",
                  "rawType": "datetime64[ns]",
                  "type": "datetime"
                }
              ],
              "conversionMethod": "pd.DataFrame",
              "ref": "5a2cd864-b1a0-4a1c-b850-3e142a931fba",
              "rows": [
                [
                  "0",
                  "2e7a8482f6fb09756ca50c10d7bfc047",
                  "08c5351a6aca1c1589a38f244edeee9d",
                  "shipped",
                  "2016-09-04 21:15:19",
                  "2016-10-07 13:18:03",
                  "2016-10-18 13:14:51",
                  null,
                  "2016-10-20 00:00:00"
                ],
                [
                  "1",
                  "e5fa5a7210941f7d56d0208e4e071d35",
                  "683c54fc24d40ee9f8a6fc179fd9856c",
                  "canceled",
                  "2016-09-05 00:15:34",
                  "2016-10-07 13:17:15",
                  null,
                  null,
                  "2016-10-28 00:00:00"
                ],
                [
                  "2",
                  "809a282bbd5dbcabb6f2f724fca862ec",
                  "622e13439d6b5a0b486c435618b2679e",
                  "canceled",
                  "2016-09-13 15:24:19",
                  "2016-10-07 13:16:46",
                  null,
                  null,
                  "2016-09-30 00:00:00"
                ],
                [
                  "3",
                  "bfbd0f9bdef84302105ad712db648a6c",
                  "86dc2ffce2dfff336de2f386a786e574",
                  "delivered",
                  "2016-09-15 12:16:38",
                  "2016-09-15 12:16:38",
                  "2016-11-07 17:11:53",
                  "2016-11-09 07:47:38",
                  "2016-10-04 00:00:00"
                ],
                [
                  "4",
                  "71303d7e93b399f5bcd537d124c0bcfa",
                  "b106b360fe2ef8849fbbd056f777b4d5",
                  "canceled",
                  "2016-10-02 22:07:52",
                  "2016-10-06 15:50:56",
                  null,
                  null,
                  "2016-10-25 00:00:00"
                ]
              ],
              "shape": {
                "columns": 8,
                "rows": 5
              }
            },
            "text/html": [
              "<div>\n",
              "<style scoped>\n",
              "    .dataframe tbody tr th:only-of-type {\n",
              "        vertical-align: middle;\n",
              "    }\n",
              "\n",
              "    .dataframe tbody tr th {\n",
              "        vertical-align: top;\n",
              "    }\n",
              "\n",
              "    .dataframe thead th {\n",
              "        text-align: right;\n",
              "    }\n",
              "</style>\n",
              "<table border=\"1\" class=\"dataframe\">\n",
              "  <thead>\n",
              "    <tr style=\"text-align: right;\">\n",
              "      <th></th>\n",
              "      <th>order_id</th>\n",
              "      <th>customer_id</th>\n",
              "      <th>order_status</th>\n",
              "      <th>order_purchase_timestamp</th>\n",
              "      <th>order_approved_at</th>\n",
              "      <th>order_delivered_carrier_date</th>\n",
              "      <th>order_delivered_customer_date</th>\n",
              "      <th>order_estimated_delivery_date</th>\n",
              "    </tr>\n",
              "  </thead>\n",
              "  <tbody>\n",
              "    <tr>\n",
              "      <th>0</th>\n",
              "      <td>2e7a8482f6fb09756ca50c10d7bfc047</td>\n",
              "      <td>08c5351a6aca1c1589a38f244edeee9d</td>\n",
              "      <td>shipped</td>\n",
              "      <td>2016-09-04 21:15:19</td>\n",
              "      <td>2016-10-07 13:18:03</td>\n",
              "      <td>2016-10-18 13:14:51</td>\n",
              "      <td>NaT</td>\n",
              "      <td>2016-10-20</td>\n",
              "    </tr>\n",
              "    <tr>\n",
              "      <th>1</th>\n",
              "      <td>e5fa5a7210941f7d56d0208e4e071d35</td>\n",
              "      <td>683c54fc24d40ee9f8a6fc179fd9856c</td>\n",
              "      <td>canceled</td>\n",
              "      <td>2016-09-05 00:15:34</td>\n",
              "      <td>2016-10-07 13:17:15</td>\n",
              "      <td>NaT</td>\n",
              "      <td>NaT</td>\n",
              "      <td>2016-10-28</td>\n",
              "    </tr>\n",
              "    <tr>\n",
              "      <th>2</th>\n",
              "      <td>809a282bbd5dbcabb6f2f724fca862ec</td>\n",
              "      <td>622e13439d6b5a0b486c435618b2679e</td>\n",
              "      <td>canceled</td>\n",
              "      <td>2016-09-13 15:24:19</td>\n",
              "      <td>2016-10-07 13:16:46</td>\n",
              "      <td>NaT</td>\n",
              "      <td>NaT</td>\n",
              "      <td>2016-09-30</td>\n",
              "    </tr>\n",
              "    <tr>\n",
              "      <th>3</th>\n",
              "      <td>bfbd0f9bdef84302105ad712db648a6c</td>\n",
              "      <td>86dc2ffce2dfff336de2f386a786e574</td>\n",
              "      <td>delivered</td>\n",
              "      <td>2016-09-15 12:16:38</td>\n",
              "      <td>2016-09-15 12:16:38</td>\n",
              "      <td>2016-11-07 17:11:53</td>\n",
              "      <td>2016-11-09 07:47:38</td>\n",
              "      <td>2016-10-04</td>\n",
              "    </tr>\n",
              "    <tr>\n",
              "      <th>4</th>\n",
              "      <td>71303d7e93b399f5bcd537d124c0bcfa</td>\n",
              "      <td>b106b360fe2ef8849fbbd056f777b4d5</td>\n",
              "      <td>canceled</td>\n",
              "      <td>2016-10-02 22:07:52</td>\n",
              "      <td>2016-10-06 15:50:56</td>\n",
              "      <td>NaT</td>\n",
              "      <td>NaT</td>\n",
              "      <td>2016-10-25</td>\n",
              "    </tr>\n",
              "  </tbody>\n",
              "</table>\n",
              "</div>"
            ],
            "text/plain": [
              "                           order_id                       customer_id  \\\n",
              "0  2e7a8482f6fb09756ca50c10d7bfc047  08c5351a6aca1c1589a38f244edeee9d   \n",
              "1  e5fa5a7210941f7d56d0208e4e071d35  683c54fc24d40ee9f8a6fc179fd9856c   \n",
              "2  809a282bbd5dbcabb6f2f724fca862ec  622e13439d6b5a0b486c435618b2679e   \n",
              "3  bfbd0f9bdef84302105ad712db648a6c  86dc2ffce2dfff336de2f386a786e574   \n",
              "4  71303d7e93b399f5bcd537d124c0bcfa  b106b360fe2ef8849fbbd056f777b4d5   \n",
              "\n",
              "  order_status order_purchase_timestamp   order_approved_at  \\\n",
              "0      shipped      2016-09-04 21:15:19 2016-10-07 13:18:03   \n",
              "1     canceled      2016-09-05 00:15:34 2016-10-07 13:17:15   \n",
              "2     canceled      2016-09-13 15:24:19 2016-10-07 13:16:46   \n",
              "3    delivered      2016-09-15 12:16:38 2016-09-15 12:16:38   \n",
              "4     canceled      2016-10-02 22:07:52 2016-10-06 15:50:56   \n",
              "\n",
              "  order_delivered_carrier_date order_delivered_customer_date  \\\n",
              "0          2016-10-18 13:14:51                           NaT   \n",
              "1                          NaT                           NaT   \n",
              "2                          NaT                           NaT   \n",
              "3          2016-11-07 17:11:53           2016-11-09 07:47:38   \n",
              "4                          NaT                           NaT   \n",
              "\n",
              "  order_estimated_delivery_date  \n",
              "0                    2016-10-20  \n",
              "1                    2016-10-28  \n",
              "2                    2016-09-30  \n",
              "3                    2016-10-04  \n",
              "4                    2016-10-25  "
            ]
          },
          "execution_count": 118,
          "metadata": {},
          "output_type": "execute_result"
        }
      ],
      "source": [
        "orders_df.sort_values(by='order_purchase_timestamp', inplace=True)\n",
        "orders_df.reset_index(drop=True, inplace=True)\n",
        "orders_df.head()"
      ]
    },
    {
      "cell_type": "markdown",
      "metadata": {},
      "source": [
        "#### `items_df`"
      ]
    },
    {
      "cell_type": "code",
      "execution_count": 119,
      "metadata": {},
      "outputs": [
        {
          "name": "stdout",
          "output_type": "stream",
          "text": [
            "<class 'pandas.core.frame.DataFrame'>\n",
            "RangeIndex: 112650 entries, 0 to 112649\n",
            "Data columns (total 7 columns):\n",
            " #   Column               Non-Null Count   Dtype  \n",
            "---  ------               --------------   -----  \n",
            " 0   order_id             112650 non-null  object \n",
            " 1   order_item_id        112650 non-null  int64  \n",
            " 2   product_id           112650 non-null  object \n",
            " 3   seller_id            112650 non-null  object \n",
            " 4   shipping_limit_date  112650 non-null  object \n",
            " 5   price                112650 non-null  float64\n",
            " 6   freight_value        112650 non-null  float64\n",
            "dtypes: float64(2), int64(1), object(4)\n",
            "memory usage: 6.0+ MB\n"
          ]
        }
      ],
      "source": [
        "items_df.info()"
      ]
    },
    {
      "cell_type": "markdown",
      "metadata": {},
      "source": [
        "##### Perbaikan Tipe Data"
      ]
    },
    {
      "cell_type": "code",
      "execution_count": 120,
      "metadata": {},
      "outputs": [],
      "source": [
        "items_df.shipping_limit_date = pd.to_datetime(items_df.shipping_limit_date)"
      ]
    },
    {
      "cell_type": "code",
      "execution_count": 121,
      "metadata": {},
      "outputs": [
        {
          "name": "stdout",
          "output_type": "stream",
          "text": [
            "<class 'pandas.core.frame.DataFrame'>\n",
            "RangeIndex: 112650 entries, 0 to 112649\n",
            "Data columns (total 7 columns):\n",
            " #   Column               Non-Null Count   Dtype         \n",
            "---  ------               --------------   -----         \n",
            " 0   order_id             112650 non-null  object        \n",
            " 1   order_item_id        112650 non-null  int64         \n",
            " 2   product_id           112650 non-null  object        \n",
            " 3   seller_id            112650 non-null  object        \n",
            " 4   shipping_limit_date  112650 non-null  datetime64[ns]\n",
            " 5   price                112650 non-null  float64       \n",
            " 6   freight_value        112650 non-null  float64       \n",
            "dtypes: datetime64[ns](1), float64(2), int64(1), object(3)\n",
            "memory usage: 6.0+ MB\n"
          ]
        }
      ],
      "source": [
        "items_df.info()"
      ]
    },
    {
      "cell_type": "markdown",
      "metadata": {},
      "source": [
        "##### Duplicate Data"
      ]
    },
    {
      "cell_type": "code",
      "execution_count": 122,
      "metadata": {},
      "outputs": [
        {
          "data": {
            "text/plain": [
              "0"
            ]
          },
          "execution_count": 122,
          "metadata": {},
          "output_type": "execute_result"
        }
      ],
      "source": [
        "items_df.duplicated().sum()"
      ]
    },
    {
      "cell_type": "code",
      "execution_count": 123,
      "metadata": {},
      "outputs": [
        {
          "data": {
            "text/plain": [
              "order_id               98666\n",
              "order_item_id             21\n",
              "product_id             32951\n",
              "seller_id               3095\n",
              "shipping_limit_date    93318\n",
              "price                   5968\n",
              "freight_value           6999\n",
              "dtype: int64"
            ]
          },
          "execution_count": 123,
          "metadata": {},
          "output_type": "execute_result"
        }
      ],
      "source": [
        "items_df.nunique()"
      ]
    },
    {
      "cell_type": "markdown",
      "metadata": {},
      "source": [
        "Grouping berdasarkan *order_id*"
      ]
    },
    {
      "cell_type": "code",
      "execution_count": 124,
      "metadata": {},
      "outputs": [
        {
          "data": {
            "application/vnd.microsoft.datawrangler.viewer.v0+json": {
              "columns": [
                {
                  "name": "index",
                  "rawType": "int64",
                  "type": "integer"
                },
                {
                  "name": "order_id",
                  "rawType": "object",
                  "type": "string"
                },
                {
                  "name": "order_item_id",
                  "rawType": "int64",
                  "type": "integer"
                },
                {
                  "name": "product_id",
                  "rawType": "int64",
                  "type": "integer"
                },
                {
                  "name": "seller_id",
                  "rawType": "int64",
                  "type": "integer"
                },
                {
                  "name": "shipping_limit_date",
                  "rawType": "int64",
                  "type": "integer"
                },
                {
                  "name": "price",
                  "rawType": "int64",
                  "type": "integer"
                },
                {
                  "name": "freight_value",
                  "rawType": "int64",
                  "type": "integer"
                }
              ],
              "conversionMethod": "pd.DataFrame",
              "ref": "3581fa76-f749-44fb-a70f-e9839cfd7008",
              "rows": [
                [
                  "0",
                  "00010242fe8c5a6d1ba2dd792cb16214",
                  "1",
                  "1",
                  "1",
                  "1",
                  "1",
                  "1"
                ],
                [
                  "1",
                  "00018f77f2f0320c557190d7a144bdd3",
                  "1",
                  "1",
                  "1",
                  "1",
                  "1",
                  "1"
                ],
                [
                  "2",
                  "000229ec398224ef6ca0657da4fc703e",
                  "1",
                  "1",
                  "1",
                  "1",
                  "1",
                  "1"
                ],
                [
                  "3",
                  "00024acbcdf0a6daa1e931b038114c75",
                  "1",
                  "1",
                  "1",
                  "1",
                  "1",
                  "1"
                ],
                [
                  "4",
                  "00042b26cf59d7ce69dfabb4e55b4fd9",
                  "1",
                  "1",
                  "1",
                  "1",
                  "1",
                  "1"
                ],
                [
                  "5",
                  "00048cc3ae777c65dbb7d2a0634bc1ea",
                  "1",
                  "1",
                  "1",
                  "1",
                  "1",
                  "1"
                ],
                [
                  "6",
                  "00054e8431b9d7675808bcb819fb4a32",
                  "1",
                  "1",
                  "1",
                  "1",
                  "1",
                  "1"
                ],
                [
                  "7",
                  "000576fe39319847cbb9d288c5617fa6",
                  "1",
                  "1",
                  "1",
                  "1",
                  "1",
                  "1"
                ],
                [
                  "8",
                  "0005a1a1728c9d785b8e2b08b904576c",
                  "1",
                  "1",
                  "1",
                  "1",
                  "1",
                  "1"
                ],
                [
                  "9",
                  "0005f50442cb953dcd1d21e1fb923495",
                  "1",
                  "1",
                  "1",
                  "1",
                  "1",
                  "1"
                ],
                [
                  "10",
                  "00061f2a7bc09da83e415a52dc8a4af1",
                  "1",
                  "1",
                  "1",
                  "1",
                  "1",
                  "1"
                ],
                [
                  "11",
                  "00063b381e2406b52ad429470734ebd5",
                  "1",
                  "1",
                  "1",
                  "1",
                  "1",
                  "1"
                ],
                [
                  "12",
                  "0006ec9db01a64e59a68b2c340bf65a7",
                  "1",
                  "1",
                  "1",
                  "1",
                  "1",
                  "1"
                ],
                [
                  "13",
                  "0008288aa423d2a3f00fcb17cd7d8719",
                  "2",
                  "1",
                  "1",
                  "1",
                  "1",
                  "1"
                ],
                [
                  "14",
                  "0009792311464db532ff765bf7b182ae",
                  "1",
                  "1",
                  "1",
                  "1",
                  "1",
                  "1"
                ],
                [
                  "15",
                  "0009c9a17f916a706d71784483a5d643",
                  "1",
                  "1",
                  "1",
                  "1",
                  "1",
                  "1"
                ],
                [
                  "16",
                  "000aed2e25dbad2f9ddb70584c5a2ded",
                  "1",
                  "1",
                  "1",
                  "1",
                  "1",
                  "1"
                ],
                [
                  "17",
                  "000c3e6612759851cc3cbb4b83257986",
                  "1",
                  "1",
                  "1",
                  "1",
                  "1",
                  "1"
                ],
                [
                  "18",
                  "000e562887b1f2006d75e0be9558292e",
                  "1",
                  "1",
                  "1",
                  "1",
                  "1",
                  "1"
                ],
                [
                  "19",
                  "000e63d38ae8c00bbcb5a30573b99628",
                  "1",
                  "1",
                  "1",
                  "1",
                  "1",
                  "1"
                ],
                [
                  "20",
                  "000e906b789b55f64edcb1f84030f90d",
                  "1",
                  "1",
                  "1",
                  "1",
                  "1",
                  "1"
                ],
                [
                  "21",
                  "000f25f4d72195062c040b12dce9a18a",
                  "1",
                  "1",
                  "1",
                  "1",
                  "1",
                  "1"
                ],
                [
                  "22",
                  "001021efaa8636c29475e7734483457d",
                  "1",
                  "1",
                  "1",
                  "1",
                  "1",
                  "1"
                ],
                [
                  "23",
                  "0010b2e5201cc5f1ae7e9c6cc8f5bd00",
                  "1",
                  "1",
                  "1",
                  "1",
                  "1",
                  "1"
                ],
                [
                  "24",
                  "00119ff934e539cf26f92b9ef0cdfed8",
                  "1",
                  "1",
                  "1",
                  "1",
                  "1",
                  "1"
                ],
                [
                  "25",
                  "0011d82c4b53e22e84023405fb467e57",
                  "1",
                  "1",
                  "1",
                  "1",
                  "1",
                  "1"
                ],
                [
                  "26",
                  "00125cb692d04887809806618a2a145f",
                  "1",
                  "1",
                  "1",
                  "1",
                  "1",
                  "1"
                ],
                [
                  "27",
                  "00130c0eee84a3d909e75bc08c5c3ca1",
                  "1",
                  "1",
                  "1",
                  "1",
                  "1",
                  "1"
                ],
                [
                  "28",
                  "0013503b13da1eac686219390b7d641b",
                  "1",
                  "1",
                  "1",
                  "1",
                  "1",
                  "1"
                ],
                [
                  "29",
                  "00137e170939bba5a3134e2386413108",
                  "1",
                  "1",
                  "1",
                  "1",
                  "1",
                  "1"
                ],
                [
                  "30",
                  "001427c0ec99cf8af737bd88e92fd444",
                  "1",
                  "1",
                  "1",
                  "1",
                  "1",
                  "1"
                ],
                [
                  "31",
                  "00143d0f86d6fbd9f9b38ab440ac16f5",
                  "3",
                  "1",
                  "1",
                  "1",
                  "1",
                  "1"
                ],
                [
                  "32",
                  "0014ae671de39511f7575066200733b7",
                  "1",
                  "1",
                  "1",
                  "1",
                  "1",
                  "1"
                ],
                [
                  "33",
                  "0015ebb40fb17286bea51d4607c4733c",
                  "1",
                  "1",
                  "1",
                  "1",
                  "1",
                  "1"
                ],
                [
                  "34",
                  "00169e31ef4b29deaae414f9a5e95929",
                  "1",
                  "1",
                  "1",
                  "1",
                  "1",
                  "1"
                ],
                [
                  "35",
                  "0016dfedd97fc2950e388d2971d718c7",
                  "1",
                  "1",
                  "1",
                  "1",
                  "1",
                  "1"
                ],
                [
                  "36",
                  "0017afd5076e074a48f1f1a4c7bac9c5",
                  "1",
                  "1",
                  "1",
                  "1",
                  "1",
                  "1"
                ],
                [
                  "37",
                  "001862358bf858722e1e2ae000cfed8b",
                  "1",
                  "1",
                  "1",
                  "1",
                  "1",
                  "1"
                ],
                [
                  "38",
                  "0019c29108428acffd089c36103c9440",
                  "1",
                  "1",
                  "1",
                  "1",
                  "1",
                  "1"
                ],
                [
                  "39",
                  "001ab0a7578dd66cd4b0a71f5b6e1e41",
                  "3",
                  "1",
                  "1",
                  "1",
                  "1",
                  "1"
                ],
                [
                  "40",
                  "001ac194d4a326a6fa99b581e9a3d963",
                  "1",
                  "1",
                  "1",
                  "1",
                  "1",
                  "1"
                ],
                [
                  "41",
                  "001b76dd48a5b1eee3e87778daa40df8",
                  "1",
                  "1",
                  "1",
                  "1",
                  "1",
                  "1"
                ],
                [
                  "42",
                  "001c85b5f68d2be0cb0797afc9e8ce9a",
                  "1",
                  "1",
                  "1",
                  "1",
                  "1",
                  "1"
                ],
                [
                  "43",
                  "001d8f0e34a38c37f7dba2a37d4eba8b",
                  "2",
                  "1",
                  "1",
                  "1",
                  "1",
                  "1"
                ],
                [
                  "44",
                  "001daeb0eddc45b999bad0801ad9d273",
                  "1",
                  "1",
                  "1",
                  "1",
                  "1",
                  "1"
                ],
                [
                  "45",
                  "001dbc16dc51075e987543d23a0507c7",
                  "1",
                  "1",
                  "1",
                  "1",
                  "1",
                  "1"
                ],
                [
                  "46",
                  "001e7ba991be1b19605ca0316e7130f9",
                  "1",
                  "1",
                  "1",
                  "1",
                  "1",
                  "1"
                ],
                [
                  "47",
                  "001e7cf2ad6bef3ade12ebc56ceaf0f3",
                  "1",
                  "1",
                  "1",
                  "1",
                  "1",
                  "1"
                ],
                [
                  "48",
                  "0020262c8a370bd5a174ea6a2a267321",
                  "1",
                  "1",
                  "1",
                  "1",
                  "1",
                  "1"
                ],
                [
                  "49",
                  "0020a222f55eb79a372d0efee3cca688",
                  "1",
                  "1",
                  "1",
                  "1",
                  "1",
                  "1"
                ]
              ],
              "shape": {
                "columns": 7,
                "rows": 98666
              }
            },
            "text/html": [
              "<div>\n",
              "<style scoped>\n",
              "    .dataframe tbody tr th:only-of-type {\n",
              "        vertical-align: middle;\n",
              "    }\n",
              "\n",
              "    .dataframe tbody tr th {\n",
              "        vertical-align: top;\n",
              "    }\n",
              "\n",
              "    .dataframe thead th {\n",
              "        text-align: right;\n",
              "    }\n",
              "</style>\n",
              "<table border=\"1\" class=\"dataframe\">\n",
              "  <thead>\n",
              "    <tr style=\"text-align: right;\">\n",
              "      <th></th>\n",
              "      <th>order_id</th>\n",
              "      <th>order_item_id</th>\n",
              "      <th>product_id</th>\n",
              "      <th>seller_id</th>\n",
              "      <th>shipping_limit_date</th>\n",
              "      <th>price</th>\n",
              "      <th>freight_value</th>\n",
              "    </tr>\n",
              "  </thead>\n",
              "  <tbody>\n",
              "    <tr>\n",
              "      <th>0</th>\n",
              "      <td>00010242fe8c5a6d1ba2dd792cb16214</td>\n",
              "      <td>1</td>\n",
              "      <td>1</td>\n",
              "      <td>1</td>\n",
              "      <td>1</td>\n",
              "      <td>1</td>\n",
              "      <td>1</td>\n",
              "    </tr>\n",
              "    <tr>\n",
              "      <th>1</th>\n",
              "      <td>00018f77f2f0320c557190d7a144bdd3</td>\n",
              "      <td>1</td>\n",
              "      <td>1</td>\n",
              "      <td>1</td>\n",
              "      <td>1</td>\n",
              "      <td>1</td>\n",
              "      <td>1</td>\n",
              "    </tr>\n",
              "    <tr>\n",
              "      <th>2</th>\n",
              "      <td>000229ec398224ef6ca0657da4fc703e</td>\n",
              "      <td>1</td>\n",
              "      <td>1</td>\n",
              "      <td>1</td>\n",
              "      <td>1</td>\n",
              "      <td>1</td>\n",
              "      <td>1</td>\n",
              "    </tr>\n",
              "    <tr>\n",
              "      <th>3</th>\n",
              "      <td>00024acbcdf0a6daa1e931b038114c75</td>\n",
              "      <td>1</td>\n",
              "      <td>1</td>\n",
              "      <td>1</td>\n",
              "      <td>1</td>\n",
              "      <td>1</td>\n",
              "      <td>1</td>\n",
              "    </tr>\n",
              "    <tr>\n",
              "      <th>4</th>\n",
              "      <td>00042b26cf59d7ce69dfabb4e55b4fd9</td>\n",
              "      <td>1</td>\n",
              "      <td>1</td>\n",
              "      <td>1</td>\n",
              "      <td>1</td>\n",
              "      <td>1</td>\n",
              "      <td>1</td>\n",
              "    </tr>\n",
              "    <tr>\n",
              "      <th>...</th>\n",
              "      <td>...</td>\n",
              "      <td>...</td>\n",
              "      <td>...</td>\n",
              "      <td>...</td>\n",
              "      <td>...</td>\n",
              "      <td>...</td>\n",
              "      <td>...</td>\n",
              "    </tr>\n",
              "    <tr>\n",
              "      <th>98661</th>\n",
              "      <td>fffc94f6ce00a00581880bf54a75a037</td>\n",
              "      <td>1</td>\n",
              "      <td>1</td>\n",
              "      <td>1</td>\n",
              "      <td>1</td>\n",
              "      <td>1</td>\n",
              "      <td>1</td>\n",
              "    </tr>\n",
              "    <tr>\n",
              "      <th>98662</th>\n",
              "      <td>fffcd46ef2263f404302a634eb57f7eb</td>\n",
              "      <td>1</td>\n",
              "      <td>1</td>\n",
              "      <td>1</td>\n",
              "      <td>1</td>\n",
              "      <td>1</td>\n",
              "      <td>1</td>\n",
              "    </tr>\n",
              "    <tr>\n",
              "      <th>98663</th>\n",
              "      <td>fffce4705a9662cd70adb13d4a31832d</td>\n",
              "      <td>1</td>\n",
              "      <td>1</td>\n",
              "      <td>1</td>\n",
              "      <td>1</td>\n",
              "      <td>1</td>\n",
              "      <td>1</td>\n",
              "    </tr>\n",
              "    <tr>\n",
              "      <th>98664</th>\n",
              "      <td>fffe18544ffabc95dfada21779c9644f</td>\n",
              "      <td>1</td>\n",
              "      <td>1</td>\n",
              "      <td>1</td>\n",
              "      <td>1</td>\n",
              "      <td>1</td>\n",
              "      <td>1</td>\n",
              "    </tr>\n",
              "    <tr>\n",
              "      <th>98665</th>\n",
              "      <td>fffe41c64501cc87c801fd61db3f6244</td>\n",
              "      <td>1</td>\n",
              "      <td>1</td>\n",
              "      <td>1</td>\n",
              "      <td>1</td>\n",
              "      <td>1</td>\n",
              "      <td>1</td>\n",
              "    </tr>\n",
              "  </tbody>\n",
              "</table>\n",
              "<p>98666 rows × 7 columns</p>\n",
              "</div>"
            ],
            "text/plain": [
              "                               order_id  order_item_id  product_id  seller_id  \\\n",
              "0      00010242fe8c5a6d1ba2dd792cb16214              1           1          1   \n",
              "1      00018f77f2f0320c557190d7a144bdd3              1           1          1   \n",
              "2      000229ec398224ef6ca0657da4fc703e              1           1          1   \n",
              "3      00024acbcdf0a6daa1e931b038114c75              1           1          1   \n",
              "4      00042b26cf59d7ce69dfabb4e55b4fd9              1           1          1   \n",
              "...                                 ...            ...         ...        ...   \n",
              "98661  fffc94f6ce00a00581880bf54a75a037              1           1          1   \n",
              "98662  fffcd46ef2263f404302a634eb57f7eb              1           1          1   \n",
              "98663  fffce4705a9662cd70adb13d4a31832d              1           1          1   \n",
              "98664  fffe18544ffabc95dfada21779c9644f              1           1          1   \n",
              "98665  fffe41c64501cc87c801fd61db3f6244              1           1          1   \n",
              "\n",
              "       shipping_limit_date  price  freight_value  \n",
              "0                        1      1              1  \n",
              "1                        1      1              1  \n",
              "2                        1      1              1  \n",
              "3                        1      1              1  \n",
              "4                        1      1              1  \n",
              "...                    ...    ...            ...  \n",
              "98661                    1      1              1  \n",
              "98662                    1      1              1  \n",
              "98663                    1      1              1  \n",
              "98664                    1      1              1  \n",
              "98665                    1      1              1  \n",
              "\n",
              "[98666 rows x 7 columns]"
            ]
          },
          "execution_count": 124,
          "metadata": {},
          "output_type": "execute_result"
        }
      ],
      "source": [
        "items_group_df = items_df.groupby(by='order_id').agg({\n",
        "    'order_item_id': 'nunique',\n",
        "    'product_id': 'nunique',\n",
        "    'seller_id': 'nunique',\n",
        "    'shipping_limit_date': 'nunique',\n",
        "    'price': 'nunique',\n",
        "    'freight_value': 'nunique'\n",
        "}).reset_index()\n",
        "\n",
        "items_group_df"
      ]
    },
    {
      "cell_type": "code",
      "execution_count": 125,
      "metadata": {},
      "outputs": [
        {
          "data": {
            "application/vnd.microsoft.datawrangler.viewer.v0+json": {
              "columns": [
                {
                  "name": "index",
                  "rawType": "int64",
                  "type": "integer"
                },
                {
                  "name": "order_id",
                  "rawType": "object",
                  "type": "string"
                },
                {
                  "name": "order_item_id",
                  "rawType": "int64",
                  "type": "integer"
                },
                {
                  "name": "product_id",
                  "rawType": "int64",
                  "type": "integer"
                },
                {
                  "name": "seller_id",
                  "rawType": "int64",
                  "type": "integer"
                },
                {
                  "name": "shipping_limit_date",
                  "rawType": "int64",
                  "type": "integer"
                },
                {
                  "name": "price",
                  "rawType": "int64",
                  "type": "integer"
                },
                {
                  "name": "freight_value",
                  "rawType": "int64",
                  "type": "integer"
                }
              ],
              "conversionMethod": "pd.DataFrame",
              "ref": "f0642b4f-6161-4981-8666-81c67a955dbd",
              "rows": [
                [
                  "13",
                  "0008288aa423d2a3f00fcb17cd7d8719",
                  "2",
                  "1",
                  "1",
                  "1",
                  "1",
                  "1"
                ],
                [
                  "31",
                  "00143d0f86d6fbd9f9b38ab440ac16f5",
                  "3",
                  "1",
                  "1",
                  "1",
                  "1",
                  "1"
                ],
                [
                  "39",
                  "001ab0a7578dd66cd4b0a71f5b6e1e41",
                  "3",
                  "1",
                  "1",
                  "1",
                  "1",
                  "1"
                ],
                [
                  "43",
                  "001d8f0e34a38c37f7dba2a37d4eba8b",
                  "2",
                  "1",
                  "1",
                  "1",
                  "1",
                  "1"
                ],
                [
                  "69",
                  "002c9def9c9b951b1bec6d50753c9891",
                  "2",
                  "1",
                  "1",
                  "1",
                  "1",
                  "1"
                ],
                [
                  "73",
                  "002f98c0f7efd42638ed6100ca699b42",
                  "2",
                  "2",
                  "2",
                  "1",
                  "2",
                  "2"
                ],
                [
                  "79",
                  "003324c70b19a16798817b2b3640e721",
                  "2",
                  "1",
                  "1",
                  "1",
                  "1",
                  "1"
                ],
                [
                  "82",
                  "00337fe25a3780b3424d9ad7c5a4b35e",
                  "2",
                  "2",
                  "1",
                  "1",
                  "1",
                  "1"
                ],
                [
                  "91",
                  "003822434f91204da0a51fe4cf2aba18",
                  "2",
                  "1",
                  "1",
                  "1",
                  "1",
                  "1"
                ],
                [
                  "100",
                  "003f201cdd39cdd59b6447cff2195456",
                  "2",
                  "1",
                  "1",
                  "1",
                  "1",
                  "1"
                ],
                [
                  "123",
                  "005059edee63c8c708ba61910793b31b",
                  "2",
                  "1",
                  "1",
                  "1",
                  "1",
                  "1"
                ],
                [
                  "124",
                  "00526a9d4ebde463baee25f386963ddc",
                  "4",
                  "1",
                  "1",
                  "1",
                  "1",
                  "1"
                ],
                [
                  "127",
                  "00571ded73b3c061925584feab0db425",
                  "2",
                  "1",
                  "1",
                  "1",
                  "1",
                  "1"
                ],
                [
                  "134",
                  "005d9a5423d47281ac463a968b3936fb",
                  "3",
                  "2",
                  "1",
                  "1",
                  "2",
                  "2"
                ],
                [
                  "147",
                  "0068c109948b9a1dfb8530d1978acef3",
                  "2",
                  "1",
                  "1",
                  "1",
                  "1",
                  "1"
                ],
                [
                  "189",
                  "008d9bf350ff02ed444b3452cf3f57e0",
                  "2",
                  "1",
                  "1",
                  "1",
                  "1",
                  "1"
                ],
                [
                  "198",
                  "00946f674d880be1f188abc10ad7cf46",
                  "2",
                  "2",
                  "1",
                  "1",
                  "1",
                  "2"
                ],
                [
                  "208",
                  "0097f0545a302aafa32782f1734ff71c",
                  "2",
                  "2",
                  "1",
                  "1",
                  "2",
                  "2"
                ],
                [
                  "211",
                  "009905140e9f8cc35d5be897937381db",
                  "2",
                  "1",
                  "1",
                  "1",
                  "1",
                  "1"
                ],
                [
                  "228",
                  "00a57dfbb049fbaae10763e2cf15f797",
                  "3",
                  "1",
                  "1",
                  "1",
                  "1",
                  "1"
                ],
                [
                  "248",
                  "00b1861aeb89afa498404c684148a619",
                  "2",
                  "1",
                  "1",
                  "1",
                  "1",
                  "1"
                ],
                [
                  "260",
                  "00b6e66f005a657a6b13eedcacdf9342",
                  "2",
                  "1",
                  "1",
                  "1",
                  "1",
                  "1"
                ],
                [
                  "268",
                  "00bcee890eba57a9767c7b5ca12d3a1b",
                  "4",
                  "4",
                  "2",
                  "1",
                  "2",
                  "2"
                ],
                [
                  "276",
                  "00c00d5b36157595e21108ba1da2828f",
                  "2",
                  "1",
                  "1",
                  "1",
                  "1",
                  "1"
                ],
                [
                  "294",
                  "00c9f7d4b0e87781465e562dc109f6aa",
                  "4",
                  "1",
                  "1",
                  "1",
                  "1",
                  "1"
                ],
                [
                  "307",
                  "00d1e381c0995f0bdb95909fe7434d0b",
                  "2",
                  "1",
                  "1",
                  "1",
                  "1",
                  "1"
                ],
                [
                  "311",
                  "00d50baf1bc56a3c59de1810a6b84b0d",
                  "2",
                  "1",
                  "1",
                  "1",
                  "1",
                  "1"
                ],
                [
                  "317",
                  "00d94e8901b75ee0d6ef1f87f947b666",
                  "2",
                  "1",
                  "1",
                  "1",
                  "1",
                  "1"
                ],
                [
                  "329",
                  "00e5b655df1cc911466758210325c67c",
                  "2",
                  "1",
                  "1",
                  "1",
                  "1",
                  "1"
                ],
                [
                  "347",
                  "00f1cc7439ccb8671133776d1829faf5",
                  "4",
                  "1",
                  "1",
                  "1",
                  "1",
                  "1"
                ],
                [
                  "357",
                  "00f6ac4816d12f49026b09f2aa77d15f",
                  "3",
                  "1",
                  "1",
                  "1",
                  "1",
                  "1"
                ],
                [
                  "360",
                  "00f86b368251d739f1896d41469b2b7a",
                  "3",
                  "1",
                  "1",
                  "1",
                  "1",
                  "1"
                ],
                [
                  "366",
                  "00fb055886536063afa0dbee07a0944f",
                  "2",
                  "1",
                  "1",
                  "1",
                  "1",
                  "1"
                ],
                [
                  "373",
                  "00fed9e582d5a3e38566872eec164ac6",
                  "2",
                  "1",
                  "1",
                  "1",
                  "1",
                  "1"
                ],
                [
                  "389",
                  "010b143d83a59b355cd5a75c0f0fd785",
                  "4",
                  "1",
                  "1",
                  "1",
                  "1",
                  "1"
                ],
                [
                  "395",
                  "010e7dda85fff564e8b7076ae3928efb",
                  "2",
                  "1",
                  "1",
                  "1",
                  "1",
                  "1"
                ],
                [
                  "405",
                  "01115c06246220def210911556bdc0e5",
                  "2",
                  "1",
                  "1",
                  "1",
                  "1",
                  "1"
                ],
                [
                  "409",
                  "0113c9989fe6e5007795daec0633b405",
                  "2",
                  "1",
                  "1",
                  "1",
                  "1",
                  "1"
                ],
                [
                  "411",
                  "01144cadcf64b6427f0a6580a3033220",
                  "2",
                  "2",
                  "2",
                  "1",
                  "2",
                  "1"
                ],
                [
                  "426",
                  "011bf86f1b7dacebda2c874333cf656b",
                  "2",
                  "1",
                  "1",
                  "1",
                  "1",
                  "1"
                ],
                [
                  "438",
                  "01235dc626dcf13283207ba7f36a959a",
                  "2",
                  "2",
                  "1",
                  "1",
                  "1",
                  "2"
                ],
                [
                  "440",
                  "0123a055aa66357326dd6db066592a7d",
                  "2",
                  "1",
                  "1",
                  "1",
                  "1",
                  "1"
                ],
                [
                  "447",
                  "012a238ab54294a3b365812ccc82b135",
                  "3",
                  "3",
                  "1",
                  "1",
                  "1",
                  "2"
                ],
                [
                  "448",
                  "012b3f6ab7776a8ab3443a4ad7bef2e6",
                  "2",
                  "1",
                  "1",
                  "1",
                  "1",
                  "1"
                ],
                [
                  "462",
                  "0132451f29a10b66a5cf1bacc85f9afe",
                  "2",
                  "2",
                  "1",
                  "1",
                  "1",
                  "1"
                ],
                [
                  "470",
                  "0136390286be8a34efdc801ed150568f",
                  "2",
                  "1",
                  "1",
                  "1",
                  "1",
                  "1"
                ],
                [
                  "473",
                  "013a98b3a668bcef05b98898177f6923",
                  "2",
                  "2",
                  "2",
                  "1",
                  "2",
                  "1"
                ],
                [
                  "483",
                  "01428962dce3b65e5433eaeb16c0f48f",
                  "2",
                  "1",
                  "1",
                  "1",
                  "1",
                  "1"
                ],
                [
                  "485",
                  "014405982914c2cde2796ddcf0b8703d",
                  "2",
                  "2",
                  "2",
                  "1",
                  "2",
                  "2"
                ],
                [
                  "488",
                  "014872cb0c4fc7695c70484966baa65c",
                  "4",
                  "1",
                  "1",
                  "1",
                  "1",
                  "1"
                ]
              ],
              "shape": {
                "columns": 7,
                "rows": 9803
              }
            },
            "text/html": [
              "<div>\n",
              "<style scoped>\n",
              "    .dataframe tbody tr th:only-of-type {\n",
              "        vertical-align: middle;\n",
              "    }\n",
              "\n",
              "    .dataframe tbody tr th {\n",
              "        vertical-align: top;\n",
              "    }\n",
              "\n",
              "    .dataframe thead th {\n",
              "        text-align: right;\n",
              "    }\n",
              "</style>\n",
              "<table border=\"1\" class=\"dataframe\">\n",
              "  <thead>\n",
              "    <tr style=\"text-align: right;\">\n",
              "      <th></th>\n",
              "      <th>order_id</th>\n",
              "      <th>order_item_id</th>\n",
              "      <th>product_id</th>\n",
              "      <th>seller_id</th>\n",
              "      <th>shipping_limit_date</th>\n",
              "      <th>price</th>\n",
              "      <th>freight_value</th>\n",
              "    </tr>\n",
              "  </thead>\n",
              "  <tbody>\n",
              "    <tr>\n",
              "      <th>13</th>\n",
              "      <td>0008288aa423d2a3f00fcb17cd7d8719</td>\n",
              "      <td>2</td>\n",
              "      <td>1</td>\n",
              "      <td>1</td>\n",
              "      <td>1</td>\n",
              "      <td>1</td>\n",
              "      <td>1</td>\n",
              "    </tr>\n",
              "    <tr>\n",
              "      <th>31</th>\n",
              "      <td>00143d0f86d6fbd9f9b38ab440ac16f5</td>\n",
              "      <td>3</td>\n",
              "      <td>1</td>\n",
              "      <td>1</td>\n",
              "      <td>1</td>\n",
              "      <td>1</td>\n",
              "      <td>1</td>\n",
              "    </tr>\n",
              "    <tr>\n",
              "      <th>39</th>\n",
              "      <td>001ab0a7578dd66cd4b0a71f5b6e1e41</td>\n",
              "      <td>3</td>\n",
              "      <td>1</td>\n",
              "      <td>1</td>\n",
              "      <td>1</td>\n",
              "      <td>1</td>\n",
              "      <td>1</td>\n",
              "    </tr>\n",
              "    <tr>\n",
              "      <th>43</th>\n",
              "      <td>001d8f0e34a38c37f7dba2a37d4eba8b</td>\n",
              "      <td>2</td>\n",
              "      <td>1</td>\n",
              "      <td>1</td>\n",
              "      <td>1</td>\n",
              "      <td>1</td>\n",
              "      <td>1</td>\n",
              "    </tr>\n",
              "    <tr>\n",
              "      <th>69</th>\n",
              "      <td>002c9def9c9b951b1bec6d50753c9891</td>\n",
              "      <td>2</td>\n",
              "      <td>1</td>\n",
              "      <td>1</td>\n",
              "      <td>1</td>\n",
              "      <td>1</td>\n",
              "      <td>1</td>\n",
              "    </tr>\n",
              "    <tr>\n",
              "      <th>...</th>\n",
              "      <td>...</td>\n",
              "      <td>...</td>\n",
              "      <td>...</td>\n",
              "      <td>...</td>\n",
              "      <td>...</td>\n",
              "      <td>...</td>\n",
              "      <td>...</td>\n",
              "    </tr>\n",
              "    <tr>\n",
              "      <th>98603</th>\n",
              "      <td>ffd84ab39cd5e873d8dba24342e65c01</td>\n",
              "      <td>2</td>\n",
              "      <td>1</td>\n",
              "      <td>1</td>\n",
              "      <td>1</td>\n",
              "      <td>1</td>\n",
              "      <td>1</td>\n",
              "    </tr>\n",
              "    <tr>\n",
              "      <th>98626</th>\n",
              "      <td>ffe4b41e99d39f0b837a239110260530</td>\n",
              "      <td>2</td>\n",
              "      <td>1</td>\n",
              "      <td>1</td>\n",
              "      <td>1</td>\n",
              "      <td>1</td>\n",
              "      <td>1</td>\n",
              "    </tr>\n",
              "    <tr>\n",
              "      <th>98637</th>\n",
              "      <td>ffecd5a79a0084f6a592288c67e3c298</td>\n",
              "      <td>3</td>\n",
              "      <td>1</td>\n",
              "      <td>1</td>\n",
              "      <td>1</td>\n",
              "      <td>1</td>\n",
              "      <td>1</td>\n",
              "    </tr>\n",
              "    <tr>\n",
              "      <th>98654</th>\n",
              "      <td>fff8287bbae429a99bb7e8c21d151c41</td>\n",
              "      <td>2</td>\n",
              "      <td>1</td>\n",
              "      <td>1</td>\n",
              "      <td>1</td>\n",
              "      <td>1</td>\n",
              "      <td>1</td>\n",
              "    </tr>\n",
              "    <tr>\n",
              "      <th>98659</th>\n",
              "      <td>fffb9224b6fc7c43ebb0904318b10b5f</td>\n",
              "      <td>4</td>\n",
              "      <td>1</td>\n",
              "      <td>1</td>\n",
              "      <td>1</td>\n",
              "      <td>1</td>\n",
              "      <td>1</td>\n",
              "    </tr>\n",
              "  </tbody>\n",
              "</table>\n",
              "<p>9803 rows × 7 columns</p>\n",
              "</div>"
            ],
            "text/plain": [
              "                               order_id  order_item_id  product_id  seller_id  \\\n",
              "13     0008288aa423d2a3f00fcb17cd7d8719              2           1          1   \n",
              "31     00143d0f86d6fbd9f9b38ab440ac16f5              3           1          1   \n",
              "39     001ab0a7578dd66cd4b0a71f5b6e1e41              3           1          1   \n",
              "43     001d8f0e34a38c37f7dba2a37d4eba8b              2           1          1   \n",
              "69     002c9def9c9b951b1bec6d50753c9891              2           1          1   \n",
              "...                                 ...            ...         ...        ...   \n",
              "98603  ffd84ab39cd5e873d8dba24342e65c01              2           1          1   \n",
              "98626  ffe4b41e99d39f0b837a239110260530              2           1          1   \n",
              "98637  ffecd5a79a0084f6a592288c67e3c298              3           1          1   \n",
              "98654  fff8287bbae429a99bb7e8c21d151c41              2           1          1   \n",
              "98659  fffb9224b6fc7c43ebb0904318b10b5f              4           1          1   \n",
              "\n",
              "       shipping_limit_date  price  freight_value  \n",
              "13                       1      1              1  \n",
              "31                       1      1              1  \n",
              "39                       1      1              1  \n",
              "43                       1      1              1  \n",
              "69                       1      1              1  \n",
              "...                    ...    ...            ...  \n",
              "98603                    1      1              1  \n",
              "98626                    1      1              1  \n",
              "98637                    1      1              1  \n",
              "98654                    1      1              1  \n",
              "98659                    1      1              1  \n",
              "\n",
              "[9803 rows x 7 columns]"
            ]
          },
          "execution_count": 125,
          "metadata": {},
          "output_type": "execute_result"
        }
      ],
      "source": [
        "items_group_df[items_group_df.order_item_id > 1]"
      ]
    },
    {
      "cell_type": "markdown",
      "metadata": {},
      "source": [
        "Dalam 1 pesanan *(order_id)* bisa memiliki jumlah pesanan yang dibeli *(order_item_id)* serta jenis produknya lebih dari 1.  \n",
        "Sebagai contoh berikut pesanan dengan *order_id : 0c82a229fc22597c2361656cba8d3230*"
      ]
    },
    {
      "cell_type": "code",
      "execution_count": 126,
      "metadata": {},
      "outputs": [
        {
          "data": {
            "application/vnd.microsoft.datawrangler.viewer.v0+json": {
              "columns": [
                {
                  "name": "index",
                  "rawType": "int64",
                  "type": "integer"
                },
                {
                  "name": "order_id",
                  "rawType": "object",
                  "type": "string"
                },
                {
                  "name": "order_item_id",
                  "rawType": "int64",
                  "type": "integer"
                },
                {
                  "name": "product_id",
                  "rawType": "object",
                  "type": "string"
                },
                {
                  "name": "seller_id",
                  "rawType": "object",
                  "type": "string"
                },
                {
                  "name": "shipping_limit_date",
                  "rawType": "datetime64[ns]",
                  "type": "datetime"
                },
                {
                  "name": "price",
                  "rawType": "float64",
                  "type": "float"
                },
                {
                  "name": "freight_value",
                  "rawType": "float64",
                  "type": "float"
                }
              ],
              "conversionMethod": "pd.DataFrame",
              "ref": "b213060a-2d5c-4dc9-bc85-4a8bcea85726",
              "rows": [
                [
                  "5540",
                  "0c82a229fc22597c2361656cba8d3230",
                  "1",
                  "83e2059df06602e05d9bc1abf28166ac",
                  "334cab711dee080b079fa5779b584783",
                  "2018-05-23 16:31:58",
                  "49.0",
                  "9.02"
                ],
                [
                  "5541",
                  "0c82a229fc22597c2361656cba8d3230",
                  "2",
                  "83e2059df06602e05d9bc1abf28166ac",
                  "334cab711dee080b079fa5779b584783",
                  "2018-05-23 16:31:58",
                  "49.0",
                  "9.02"
                ],
                [
                  "5542",
                  "0c82a229fc22597c2361656cba8d3230",
                  "3",
                  "4006da5107400e5ac48dbcc829a36c42",
                  "3076499bbc033a927bf4a8a41bcf7fd4",
                  "2018-05-21 16:31:58",
                  "49.9",
                  "4.51"
                ],
                [
                  "5543",
                  "0c82a229fc22597c2361656cba8d3230",
                  "4",
                  "281905b21f01db1009fd7c01b10dd1d4",
                  "eed78ac17f7f795a19a709745f00cd4e",
                  "2018-05-21 16:31:58",
                  "199.5",
                  "5.86"
                ],
                [
                  "5544",
                  "0c82a229fc22597c2361656cba8d3230",
                  "5",
                  "3c7c75671b25b927f05e68b233263e5f",
                  "334cab711dee080b079fa5779b584783",
                  "2018-05-23 16:31:58",
                  "49.9",
                  "13.53"
                ],
                [
                  "5545",
                  "0c82a229fc22597c2361656cba8d3230",
                  "6",
                  "3c7c75671b25b927f05e68b233263e5f",
                  "334cab711dee080b079fa5779b584783",
                  "2018-05-23 16:31:58",
                  "49.9",
                  "13.53"
                ],
                [
                  "5546",
                  "0c82a229fc22597c2361656cba8d3230",
                  "7",
                  "3c7c75671b25b927f05e68b233263e5f",
                  "334cab711dee080b079fa5779b584783",
                  "2018-05-23 16:31:58",
                  "49.9",
                  "13.53"
                ]
              ],
              "shape": {
                "columns": 7,
                "rows": 7
              }
            },
            "text/html": [
              "<div>\n",
              "<style scoped>\n",
              "    .dataframe tbody tr th:only-of-type {\n",
              "        vertical-align: middle;\n",
              "    }\n",
              "\n",
              "    .dataframe tbody tr th {\n",
              "        vertical-align: top;\n",
              "    }\n",
              "\n",
              "    .dataframe thead th {\n",
              "        text-align: right;\n",
              "    }\n",
              "</style>\n",
              "<table border=\"1\" class=\"dataframe\">\n",
              "  <thead>\n",
              "    <tr style=\"text-align: right;\">\n",
              "      <th></th>\n",
              "      <th>order_id</th>\n",
              "      <th>order_item_id</th>\n",
              "      <th>product_id</th>\n",
              "      <th>seller_id</th>\n",
              "      <th>shipping_limit_date</th>\n",
              "      <th>price</th>\n",
              "      <th>freight_value</th>\n",
              "    </tr>\n",
              "  </thead>\n",
              "  <tbody>\n",
              "    <tr>\n",
              "      <th>5540</th>\n",
              "      <td>0c82a229fc22597c2361656cba8d3230</td>\n",
              "      <td>1</td>\n",
              "      <td>83e2059df06602e05d9bc1abf28166ac</td>\n",
              "      <td>334cab711dee080b079fa5779b584783</td>\n",
              "      <td>2018-05-23 16:31:58</td>\n",
              "      <td>49.0</td>\n",
              "      <td>9.02</td>\n",
              "    </tr>\n",
              "    <tr>\n",
              "      <th>5541</th>\n",
              "      <td>0c82a229fc22597c2361656cba8d3230</td>\n",
              "      <td>2</td>\n",
              "      <td>83e2059df06602e05d9bc1abf28166ac</td>\n",
              "      <td>334cab711dee080b079fa5779b584783</td>\n",
              "      <td>2018-05-23 16:31:58</td>\n",
              "      <td>49.0</td>\n",
              "      <td>9.02</td>\n",
              "    </tr>\n",
              "    <tr>\n",
              "      <th>5542</th>\n",
              "      <td>0c82a229fc22597c2361656cba8d3230</td>\n",
              "      <td>3</td>\n",
              "      <td>4006da5107400e5ac48dbcc829a36c42</td>\n",
              "      <td>3076499bbc033a927bf4a8a41bcf7fd4</td>\n",
              "      <td>2018-05-21 16:31:58</td>\n",
              "      <td>49.9</td>\n",
              "      <td>4.51</td>\n",
              "    </tr>\n",
              "    <tr>\n",
              "      <th>5543</th>\n",
              "      <td>0c82a229fc22597c2361656cba8d3230</td>\n",
              "      <td>4</td>\n",
              "      <td>281905b21f01db1009fd7c01b10dd1d4</td>\n",
              "      <td>eed78ac17f7f795a19a709745f00cd4e</td>\n",
              "      <td>2018-05-21 16:31:58</td>\n",
              "      <td>199.5</td>\n",
              "      <td>5.86</td>\n",
              "    </tr>\n",
              "    <tr>\n",
              "      <th>5544</th>\n",
              "      <td>0c82a229fc22597c2361656cba8d3230</td>\n",
              "      <td>5</td>\n",
              "      <td>3c7c75671b25b927f05e68b233263e5f</td>\n",
              "      <td>334cab711dee080b079fa5779b584783</td>\n",
              "      <td>2018-05-23 16:31:58</td>\n",
              "      <td>49.9</td>\n",
              "      <td>13.53</td>\n",
              "    </tr>\n",
              "    <tr>\n",
              "      <th>5545</th>\n",
              "      <td>0c82a229fc22597c2361656cba8d3230</td>\n",
              "      <td>6</td>\n",
              "      <td>3c7c75671b25b927f05e68b233263e5f</td>\n",
              "      <td>334cab711dee080b079fa5779b584783</td>\n",
              "      <td>2018-05-23 16:31:58</td>\n",
              "      <td>49.9</td>\n",
              "      <td>13.53</td>\n",
              "    </tr>\n",
              "    <tr>\n",
              "      <th>5546</th>\n",
              "      <td>0c82a229fc22597c2361656cba8d3230</td>\n",
              "      <td>7</td>\n",
              "      <td>3c7c75671b25b927f05e68b233263e5f</td>\n",
              "      <td>334cab711dee080b079fa5779b584783</td>\n",
              "      <td>2018-05-23 16:31:58</td>\n",
              "      <td>49.9</td>\n",
              "      <td>13.53</td>\n",
              "    </tr>\n",
              "  </tbody>\n",
              "</table>\n",
              "</div>"
            ],
            "text/plain": [
              "                              order_id  order_item_id  \\\n",
              "5540  0c82a229fc22597c2361656cba8d3230              1   \n",
              "5541  0c82a229fc22597c2361656cba8d3230              2   \n",
              "5542  0c82a229fc22597c2361656cba8d3230              3   \n",
              "5543  0c82a229fc22597c2361656cba8d3230              4   \n",
              "5544  0c82a229fc22597c2361656cba8d3230              5   \n",
              "5545  0c82a229fc22597c2361656cba8d3230              6   \n",
              "5546  0c82a229fc22597c2361656cba8d3230              7   \n",
              "\n",
              "                            product_id                         seller_id  \\\n",
              "5540  83e2059df06602e05d9bc1abf28166ac  334cab711dee080b079fa5779b584783   \n",
              "5541  83e2059df06602e05d9bc1abf28166ac  334cab711dee080b079fa5779b584783   \n",
              "5542  4006da5107400e5ac48dbcc829a36c42  3076499bbc033a927bf4a8a41bcf7fd4   \n",
              "5543  281905b21f01db1009fd7c01b10dd1d4  eed78ac17f7f795a19a709745f00cd4e   \n",
              "5544  3c7c75671b25b927f05e68b233263e5f  334cab711dee080b079fa5779b584783   \n",
              "5545  3c7c75671b25b927f05e68b233263e5f  334cab711dee080b079fa5779b584783   \n",
              "5546  3c7c75671b25b927f05e68b233263e5f  334cab711dee080b079fa5779b584783   \n",
              "\n",
              "     shipping_limit_date  price  freight_value  \n",
              "5540 2018-05-23 16:31:58   49.0           9.02  \n",
              "5541 2018-05-23 16:31:58   49.0           9.02  \n",
              "5542 2018-05-21 16:31:58   49.9           4.51  \n",
              "5543 2018-05-21 16:31:58  199.5           5.86  \n",
              "5544 2018-05-23 16:31:58   49.9          13.53  \n",
              "5545 2018-05-23 16:31:58   49.9          13.53  \n",
              "5546 2018-05-23 16:31:58   49.9          13.53  "
            ]
          },
          "execution_count": 126,
          "metadata": {},
          "output_type": "execute_result"
        }
      ],
      "source": [
        "items_df[items_df.order_id == '0c82a229fc22597c2361656cba8d3230'].sort_values(by='order_item_id')"
      ]
    },
    {
      "cell_type": "markdown",
      "metadata": {},
      "source": [
        "##### Mengurutkan Data Berdasarkan Waktu Pesanan"
      ]
    },
    {
      "cell_type": "code",
      "execution_count": 127,
      "metadata": {},
      "outputs": [
        {
          "data": {
            "application/vnd.microsoft.datawrangler.viewer.v0+json": {
              "columns": [
                {
                  "name": "index",
                  "rawType": "int64",
                  "type": "integer"
                },
                {
                  "name": "order_id",
                  "rawType": "object",
                  "type": "string"
                },
                {
                  "name": "order_item_id",
                  "rawType": "int64",
                  "type": "integer"
                },
                {
                  "name": "product_id",
                  "rawType": "object",
                  "type": "string"
                },
                {
                  "name": "seller_id",
                  "rawType": "object",
                  "type": "string"
                },
                {
                  "name": "shipping_limit_date",
                  "rawType": "datetime64[ns]",
                  "type": "datetime"
                },
                {
                  "name": "price",
                  "rawType": "float64",
                  "type": "float"
                },
                {
                  "name": "freight_value",
                  "rawType": "float64",
                  "type": "float"
                }
              ],
              "conversionMethod": "pd.DataFrame",
              "ref": "3217bdb5-fc46-45d6-a831-f72209dfe705",
              "rows": [
                [
                  "0",
                  "e5fa5a7210941f7d56d0208e4e071d35",
                  "1",
                  "f3c2d01a84c947b078e32bbef0718962",
                  "a425f92c199eb576938df686728acd20",
                  "2016-09-19 00:15:34",
                  "59.5",
                  "15.56"
                ],
                [
                  "1",
                  "bfbd0f9bdef84302105ad712db648a6c",
                  "1",
                  "5a6b04657a4c5ee34285d1e4619a96b4",
                  "ecccfa2bb93b34a3bf033cc5d1dcdc69",
                  "2016-09-19 23:11:33",
                  "44.99",
                  "2.83"
                ],
                [
                  "2",
                  "bfbd0f9bdef84302105ad712db648a6c",
                  "2",
                  "5a6b04657a4c5ee34285d1e4619a96b4",
                  "ecccfa2bb93b34a3bf033cc5d1dcdc69",
                  "2016-09-19 23:11:33",
                  "44.99",
                  "2.83"
                ],
                [
                  "3",
                  "bfbd0f9bdef84302105ad712db648a6c",
                  "3",
                  "5a6b04657a4c5ee34285d1e4619a96b4",
                  "ecccfa2bb93b34a3bf033cc5d1dcdc69",
                  "2016-09-19 23:11:33",
                  "44.99",
                  "2.83"
                ],
                [
                  "4",
                  "cd3b8574c82b42fc8129f6d502690c3e",
                  "1",
                  "e2a1d45a73dc7f5a7f9236b043431b89",
                  "b499c00f28f4b7069ff6550af8c1348a",
                  "2016-10-08 10:34:01",
                  "29.99",
                  "10.96"
                ]
              ],
              "shape": {
                "columns": 7,
                "rows": 5
              }
            },
            "text/html": [
              "<div>\n",
              "<style scoped>\n",
              "    .dataframe tbody tr th:only-of-type {\n",
              "        vertical-align: middle;\n",
              "    }\n",
              "\n",
              "    .dataframe tbody tr th {\n",
              "        vertical-align: top;\n",
              "    }\n",
              "\n",
              "    .dataframe thead th {\n",
              "        text-align: right;\n",
              "    }\n",
              "</style>\n",
              "<table border=\"1\" class=\"dataframe\">\n",
              "  <thead>\n",
              "    <tr style=\"text-align: right;\">\n",
              "      <th></th>\n",
              "      <th>order_id</th>\n",
              "      <th>order_item_id</th>\n",
              "      <th>product_id</th>\n",
              "      <th>seller_id</th>\n",
              "      <th>shipping_limit_date</th>\n",
              "      <th>price</th>\n",
              "      <th>freight_value</th>\n",
              "    </tr>\n",
              "  </thead>\n",
              "  <tbody>\n",
              "    <tr>\n",
              "      <th>0</th>\n",
              "      <td>e5fa5a7210941f7d56d0208e4e071d35</td>\n",
              "      <td>1</td>\n",
              "      <td>f3c2d01a84c947b078e32bbef0718962</td>\n",
              "      <td>a425f92c199eb576938df686728acd20</td>\n",
              "      <td>2016-09-19 00:15:34</td>\n",
              "      <td>59.50</td>\n",
              "      <td>15.56</td>\n",
              "    </tr>\n",
              "    <tr>\n",
              "      <th>1</th>\n",
              "      <td>bfbd0f9bdef84302105ad712db648a6c</td>\n",
              "      <td>1</td>\n",
              "      <td>5a6b04657a4c5ee34285d1e4619a96b4</td>\n",
              "      <td>ecccfa2bb93b34a3bf033cc5d1dcdc69</td>\n",
              "      <td>2016-09-19 23:11:33</td>\n",
              "      <td>44.99</td>\n",
              "      <td>2.83</td>\n",
              "    </tr>\n",
              "    <tr>\n",
              "      <th>2</th>\n",
              "      <td>bfbd0f9bdef84302105ad712db648a6c</td>\n",
              "      <td>2</td>\n",
              "      <td>5a6b04657a4c5ee34285d1e4619a96b4</td>\n",
              "      <td>ecccfa2bb93b34a3bf033cc5d1dcdc69</td>\n",
              "      <td>2016-09-19 23:11:33</td>\n",
              "      <td>44.99</td>\n",
              "      <td>2.83</td>\n",
              "    </tr>\n",
              "    <tr>\n",
              "      <th>3</th>\n",
              "      <td>bfbd0f9bdef84302105ad712db648a6c</td>\n",
              "      <td>3</td>\n",
              "      <td>5a6b04657a4c5ee34285d1e4619a96b4</td>\n",
              "      <td>ecccfa2bb93b34a3bf033cc5d1dcdc69</td>\n",
              "      <td>2016-09-19 23:11:33</td>\n",
              "      <td>44.99</td>\n",
              "      <td>2.83</td>\n",
              "    </tr>\n",
              "    <tr>\n",
              "      <th>4</th>\n",
              "      <td>cd3b8574c82b42fc8129f6d502690c3e</td>\n",
              "      <td>1</td>\n",
              "      <td>e2a1d45a73dc7f5a7f9236b043431b89</td>\n",
              "      <td>b499c00f28f4b7069ff6550af8c1348a</td>\n",
              "      <td>2016-10-08 10:34:01</td>\n",
              "      <td>29.99</td>\n",
              "      <td>10.96</td>\n",
              "    </tr>\n",
              "  </tbody>\n",
              "</table>\n",
              "</div>"
            ],
            "text/plain": [
              "                           order_id  order_item_id  \\\n",
              "0  e5fa5a7210941f7d56d0208e4e071d35              1   \n",
              "1  bfbd0f9bdef84302105ad712db648a6c              1   \n",
              "2  bfbd0f9bdef84302105ad712db648a6c              2   \n",
              "3  bfbd0f9bdef84302105ad712db648a6c              3   \n",
              "4  cd3b8574c82b42fc8129f6d502690c3e              1   \n",
              "\n",
              "                         product_id                         seller_id  \\\n",
              "0  f3c2d01a84c947b078e32bbef0718962  a425f92c199eb576938df686728acd20   \n",
              "1  5a6b04657a4c5ee34285d1e4619a96b4  ecccfa2bb93b34a3bf033cc5d1dcdc69   \n",
              "2  5a6b04657a4c5ee34285d1e4619a96b4  ecccfa2bb93b34a3bf033cc5d1dcdc69   \n",
              "3  5a6b04657a4c5ee34285d1e4619a96b4  ecccfa2bb93b34a3bf033cc5d1dcdc69   \n",
              "4  e2a1d45a73dc7f5a7f9236b043431b89  b499c00f28f4b7069ff6550af8c1348a   \n",
              "\n",
              "  shipping_limit_date  price  freight_value  \n",
              "0 2016-09-19 00:15:34  59.50          15.56  \n",
              "1 2016-09-19 23:11:33  44.99           2.83  \n",
              "2 2016-09-19 23:11:33  44.99           2.83  \n",
              "3 2016-09-19 23:11:33  44.99           2.83  \n",
              "4 2016-10-08 10:34:01  29.99          10.96  "
            ]
          },
          "execution_count": 127,
          "metadata": {},
          "output_type": "execute_result"
        }
      ],
      "source": [
        "items_df.sort_values(by='shipping_limit_date', inplace=True)\n",
        "items_df.reset_index(drop=True, inplace=True)\n",
        "items_df.head()"
      ]
    },
    {
      "cell_type": "markdown",
      "metadata": {},
      "source": [
        "#### `product_df`"
      ]
    },
    {
      "cell_type": "code",
      "execution_count": 128,
      "metadata": {},
      "outputs": [
        {
          "name": "stdout",
          "output_type": "stream",
          "text": [
            "<class 'pandas.core.frame.DataFrame'>\n",
            "RangeIndex: 32951 entries, 0 to 32950\n",
            "Data columns (total 10 columns):\n",
            " #   Column                         Non-Null Count  Dtype  \n",
            "---  ------                         --------------  -----  \n",
            " 0   product_id                     32951 non-null  object \n",
            " 1   product_category_name          32341 non-null  object \n",
            " 2   product_name_lenght            32341 non-null  float64\n",
            " 3   product_description_lenght     32341 non-null  float64\n",
            " 4   product_photos_qty             32341 non-null  float64\n",
            " 5   product_weight_g               32949 non-null  float64\n",
            " 6   product_length_cm              32949 non-null  float64\n",
            " 7   product_height_cm              32949 non-null  float64\n",
            " 8   product_width_cm               32949 non-null  float64\n",
            " 9   product_category_name_english  32328 non-null  object \n",
            "dtypes: float64(7), object(3)\n",
            "memory usage: 2.5+ MB\n"
          ]
        }
      ],
      "source": [
        "products_df.info()"
      ]
    },
    {
      "cell_type": "markdown",
      "metadata": {},
      "source": [
        "##### Missing Values"
      ]
    },
    {
      "cell_type": "code",
      "execution_count": 129,
      "metadata": {},
      "outputs": [
        {
          "data": {
            "text/plain": [
              "product_id                         0\n",
              "product_category_name            610\n",
              "product_name_lenght              610\n",
              "product_description_lenght       610\n",
              "product_photos_qty               610\n",
              "product_weight_g                   2\n",
              "product_length_cm                  2\n",
              "product_height_cm                  2\n",
              "product_width_cm                   2\n",
              "product_category_name_english    623\n",
              "dtype: int64"
            ]
          },
          "execution_count": 129,
          "metadata": {},
          "output_type": "execute_result"
        }
      ],
      "source": [
        "products_df.isna().sum()"
      ]
    },
    {
      "cell_type": "code",
      "execution_count": 130,
      "metadata": {},
      "outputs": [
        {
          "data": {
            "application/vnd.microsoft.datawrangler.viewer.v0+json": {
              "columns": [
                {
                  "name": "index",
                  "rawType": "int64",
                  "type": "integer"
                },
                {
                  "name": "product_id",
                  "rawType": "object",
                  "type": "string"
                },
                {
                  "name": "product_category_name",
                  "rawType": "object",
                  "type": "unknown"
                },
                {
                  "name": "product_name_lenght",
                  "rawType": "float64",
                  "type": "float"
                },
                {
                  "name": "product_description_lenght",
                  "rawType": "float64",
                  "type": "float"
                },
                {
                  "name": "product_photos_qty",
                  "rawType": "float64",
                  "type": "float"
                },
                {
                  "name": "product_weight_g",
                  "rawType": "float64",
                  "type": "float"
                },
                {
                  "name": "product_length_cm",
                  "rawType": "float64",
                  "type": "float"
                },
                {
                  "name": "product_height_cm",
                  "rawType": "float64",
                  "type": "float"
                },
                {
                  "name": "product_width_cm",
                  "rawType": "float64",
                  "type": "float"
                },
                {
                  "name": "product_category_name_english",
                  "rawType": "object",
                  "type": "unknown"
                }
              ],
              "conversionMethod": "pd.DataFrame",
              "ref": "0b04c7d4-72ac-409e-b060-8194f5058d22",
              "rows": [
                [
                  "105",
                  "a41e356c76fab66334f36de622ecbd3a",
                  null,
                  null,
                  null,
                  null,
                  "650.0",
                  "17.0",
                  "14.0",
                  "12.0",
                  null
                ],
                [
                  "128",
                  "d8dee61c2034d6d075997acef1870e9b",
                  null,
                  null,
                  null,
                  null,
                  "300.0",
                  "16.0",
                  "7.0",
                  "20.0",
                  null
                ],
                [
                  "145",
                  "56139431d72cd51f19eb9f7dae4d1617",
                  null,
                  null,
                  null,
                  null,
                  "200.0",
                  "20.0",
                  "20.0",
                  "20.0",
                  null
                ],
                [
                  "154",
                  "46b48281eb6d663ced748f324108c733",
                  null,
                  null,
                  null,
                  null,
                  "18500.0",
                  "41.0",
                  "30.0",
                  "41.0",
                  null
                ],
                [
                  "197",
                  "5fb61f482620cb672f5e586bb132eae9",
                  null,
                  null,
                  null,
                  null,
                  "300.0",
                  "35.0",
                  "7.0",
                  "12.0",
                  null
                ],
                [
                  "244",
                  "e10758160da97891c2fdcbc35f0f031d",
                  null,
                  null,
                  null,
                  null,
                  "2200.0",
                  "16.0",
                  "2.0",
                  "11.0",
                  null
                ],
                [
                  "294",
                  "39e3b9b12cd0bf8ee681bbc1c130feb5",
                  null,
                  null,
                  null,
                  null,
                  "300.0",
                  "16.0",
                  "7.0",
                  "11.0",
                  null
                ],
                [
                  "299",
                  "794de06c32a626a5692ff50e4985d36f",
                  null,
                  null,
                  null,
                  null,
                  "300.0",
                  "18.0",
                  "8.0",
                  "14.0",
                  null
                ],
                [
                  "347",
                  "7af3e2da474486a3519b0cba9dea8ad9",
                  null,
                  null,
                  null,
                  null,
                  "200.0",
                  "22.0",
                  "14.0",
                  "14.0",
                  null
                ],
                [
                  "428",
                  "629beb8e7317703dcc5f35b5463fd20e",
                  null,
                  null,
                  null,
                  null,
                  "1400.0",
                  "25.0",
                  "25.0",
                  "25.0",
                  null
                ],
                [
                  "436",
                  "3a78f64aac654298e4b9aff32fc21818",
                  null,
                  null,
                  null,
                  null,
                  "4300.0",
                  "30.0",
                  "10.0",
                  "48.0",
                  null
                ],
                [
                  "459",
                  "bcb815bba008d89458e428078c0b9211",
                  null,
                  null,
                  null,
                  null,
                  "150.0",
                  "16.0",
                  "2.0",
                  "11.0",
                  null
                ],
                [
                  "504",
                  "6b82874c6b51b92913dcdb364eaaae0f",
                  null,
                  null,
                  null,
                  null,
                  "21450.0",
                  "70.0",
                  "34.0",
                  "50.0",
                  null
                ],
                [
                  "514",
                  "c68b419d9c6038271b85bac98adb0fc9",
                  null,
                  null,
                  null,
                  null,
                  "1000.0",
                  "16.0",
                  "14.0",
                  "30.0",
                  null
                ],
                [
                  "552",
                  "1dcd65bb5dd967d7b4c6b0223cefb838",
                  null,
                  null,
                  null,
                  null,
                  "9150.0",
                  "33.0",
                  "30.0",
                  "44.0",
                  null
                ],
                [
                  "616",
                  "671446e8e3aa3df1eca47b6c354a2921",
                  null,
                  null,
                  null,
                  null,
                  "5500.0",
                  "33.0",
                  "22.0",
                  "33.0",
                  null
                ],
                [
                  "627",
                  "f0ea71b6e2ab4cb3bd8f5ba522a25a56",
                  null,
                  null,
                  null,
                  null,
                  "1300.0",
                  "30.0",
                  "20.0",
                  "30.0",
                  null
                ],
                [
                  "628",
                  "fedccbd5e370e8ddb7aae6fb4cb70347",
                  null,
                  null,
                  null,
                  null,
                  "1200.0",
                  "20.0",
                  "20.0",
                  "20.0",
                  null
                ],
                [
                  "696",
                  "212cc0fa7359ab242a697a03a574f719",
                  null,
                  null,
                  null,
                  null,
                  "200.0",
                  "16.0",
                  "2.0",
                  "11.0",
                  null
                ],
                [
                  "700",
                  "6b7879a37ac2dbe5289a16706e859870",
                  null,
                  null,
                  null,
                  null,
                  "950.0",
                  "45.0",
                  "12.0",
                  "30.0",
                  null
                ],
                [
                  "721",
                  "44e8945e17aef03daaecbc4bbab7f730",
                  null,
                  null,
                  null,
                  null,
                  "200.0",
                  "16.0",
                  "2.0",
                  "11.0",
                  null
                ],
                [
                  "736",
                  "3abf2d4698bf245577543ea01d9c7f16",
                  null,
                  null,
                  null,
                  null,
                  "200.0",
                  "22.0",
                  "14.0",
                  "14.0",
                  null
                ],
                [
                  "748",
                  "ca26080d8f0fa848c329fe732f5e34e8",
                  null,
                  null,
                  null,
                  null,
                  "1800.0",
                  "25.0",
                  "25.0",
                  "25.0",
                  null
                ],
                [
                  "751",
                  "1a2ece70966710dec441aa587993b5b4",
                  null,
                  null,
                  null,
                  null,
                  "300.0",
                  "27.0",
                  "5.0",
                  "18.0",
                  null
                ],
                [
                  "761",
                  "5f4bceafafc1903556735cb7f2842e78",
                  null,
                  null,
                  null,
                  null,
                  "200.0",
                  "16.0",
                  "2.0",
                  "11.0",
                  null
                ],
                [
                  "893",
                  "b61d1388a17e3f547d2bc218df02335b",
                  null,
                  null,
                  null,
                  null,
                  "350.0",
                  "16.0",
                  "6.0",
                  "11.0",
                  null
                ],
                [
                  "910",
                  "b9adb2d8377c195da59e75743dbb7133",
                  null,
                  null,
                  null,
                  null,
                  "200.0",
                  "16.0",
                  "2.0",
                  "11.0",
                  null
                ],
                [
                  "955",
                  "ceeba7d5636e59173cc5f484e913db3d",
                  null,
                  null,
                  null,
                  null,
                  "30000.0",
                  "65.0",
                  "65.0",
                  "65.0",
                  null
                ],
                [
                  "992",
                  "7ce49c8945602088c4c4ca3e0ceb8244",
                  null,
                  null,
                  null,
                  null,
                  "1400.0",
                  "35.0",
                  "3.0",
                  "35.0",
                  null
                ],
                [
                  "1059",
                  "0533c5ec3a042521493cfb6e12d6befd",
                  null,
                  null,
                  null,
                  null,
                  "1550.0",
                  "38.0",
                  "4.0",
                  "23.0",
                  null
                ],
                [
                  "1066",
                  "9f69acd4da62618a3f6365b732d00ccd",
                  null,
                  null,
                  null,
                  null,
                  "850.0",
                  "27.0",
                  "13.0",
                  "21.0",
                  null
                ],
                [
                  "1112",
                  "19f3b74026e6ec6c83fc25e21baf454e",
                  null,
                  null,
                  null,
                  null,
                  "1300.0",
                  "52.0",
                  "10.0",
                  "38.0",
                  null
                ],
                [
                  "1192",
                  "0fa699aaa0a38aa5d1de8e7fe04d2204",
                  null,
                  null,
                  null,
                  null,
                  "17900.0",
                  "48.0",
                  "32.0",
                  "28.0",
                  null
                ],
                [
                  "1227",
                  "94c07760f470ab9997f27d0129682eb3",
                  null,
                  null,
                  null,
                  null,
                  "450.0",
                  "16.0",
                  "20.0",
                  "11.0",
                  null
                ],
                [
                  "1257",
                  "3f6f946481fd39f4eda986012f6e0447",
                  null,
                  null,
                  null,
                  null,
                  "1600.0",
                  "38.0",
                  "28.0",
                  "40.0",
                  null
                ],
                [
                  "1285",
                  "a9d8f831888820cd641dcd5ca9fea4e8",
                  null,
                  null,
                  null,
                  null,
                  "50.0",
                  "16.0",
                  "2.0",
                  "11.0",
                  null
                ],
                [
                  "1286",
                  "48270bcc7097939dcf14a537d7128054",
                  null,
                  null,
                  null,
                  null,
                  "1000.0",
                  "30.0",
                  "30.0",
                  "30.0",
                  null
                ],
                [
                  "1289",
                  "b5778c55de68777a0a3565e03b2e2817",
                  null,
                  null,
                  null,
                  null,
                  "2500.0",
                  "26.0",
                  "25.0",
                  "47.0",
                  null
                ],
                [
                  "1358",
                  "51fe26bc4bb0f89f07096d8c96b35476",
                  null,
                  null,
                  null,
                  null,
                  "200.0",
                  "16.0",
                  "2.0",
                  "11.0",
                  null
                ],
                [
                  "1384",
                  "9ce62e73b4ea1a6c74b68ba57aa1333b",
                  null,
                  null,
                  null,
                  null,
                  "1000.0",
                  "31.0",
                  "21.0",
                  "24.0",
                  null
                ],
                [
                  "1405",
                  "fbd2a9aa1f115244e2ce115ad8eacfca",
                  null,
                  null,
                  null,
                  null,
                  "1200.0",
                  "33.0",
                  "2.0",
                  "27.0",
                  null
                ],
                [
                  "1453",
                  "ab1741a86f20ab3aca7dd2c347d5a9e3",
                  null,
                  null,
                  null,
                  null,
                  "3600.0",
                  "39.0",
                  "10.0",
                  "35.0",
                  null
                ],
                [
                  "1480",
                  "fa7fc74ae3858461908b3503b355fd5e",
                  null,
                  null,
                  null,
                  null,
                  "17100.0",
                  "42.0",
                  "80.0",
                  "30.0",
                  null
                ],
                [
                  "1531",
                  "014fcf6bd5cd4c7ee29fb3bb618c445e",
                  null,
                  null,
                  null,
                  null,
                  "7000.0",
                  "55.0",
                  "30.0",
                  "45.0",
                  null
                ],
                [
                  "1535",
                  "be59f0b9bd1d08d096188f98168fc987",
                  null,
                  null,
                  null,
                  null,
                  "3550.0",
                  "40.0",
                  "10.0",
                  "40.0",
                  null
                ],
                [
                  "1557",
                  "9f6e8441548dd40516cdb98f1b29c3d5",
                  null,
                  null,
                  null,
                  null,
                  "2700.0",
                  "44.0",
                  "13.0",
                  "44.0",
                  null
                ],
                [
                  "1595",
                  "d73f1e4ad0322d8442fc9591505381aa",
                  null,
                  null,
                  null,
                  null,
                  "500.0",
                  "35.0",
                  "25.0",
                  "35.0",
                  null
                ],
                [
                  "1675",
                  "b17a4e7b997ea645dd323bb1bed802ac",
                  null,
                  null,
                  null,
                  null,
                  "600.0",
                  "24.0",
                  "4.0",
                  "15.0",
                  null
                ],
                [
                  "1816",
                  "8d39a63db6a98e40571f486e0c711cf7",
                  null,
                  null,
                  null,
                  null,
                  "450.0",
                  "16.0",
                  "7.0",
                  "11.0",
                  null
                ],
                [
                  "1981",
                  "1a1dba78177cbabf00a2e1eab46e62b6",
                  null,
                  null,
                  null,
                  null,
                  "700.0",
                  "35.0",
                  "35.0",
                  "15.0",
                  null
                ]
              ],
              "shape": {
                "columns": 10,
                "rows": 610
              }
            },
            "text/html": [
              "<div>\n",
              "<style scoped>\n",
              "    .dataframe tbody tr th:only-of-type {\n",
              "        vertical-align: middle;\n",
              "    }\n",
              "\n",
              "    .dataframe tbody tr th {\n",
              "        vertical-align: top;\n",
              "    }\n",
              "\n",
              "    .dataframe thead th {\n",
              "        text-align: right;\n",
              "    }\n",
              "</style>\n",
              "<table border=\"1\" class=\"dataframe\">\n",
              "  <thead>\n",
              "    <tr style=\"text-align: right;\">\n",
              "      <th></th>\n",
              "      <th>product_id</th>\n",
              "      <th>product_category_name</th>\n",
              "      <th>product_name_lenght</th>\n",
              "      <th>product_description_lenght</th>\n",
              "      <th>product_photos_qty</th>\n",
              "      <th>product_weight_g</th>\n",
              "      <th>product_length_cm</th>\n",
              "      <th>product_height_cm</th>\n",
              "      <th>product_width_cm</th>\n",
              "      <th>product_category_name_english</th>\n",
              "    </tr>\n",
              "  </thead>\n",
              "  <tbody>\n",
              "    <tr>\n",
              "      <th>105</th>\n",
              "      <td>a41e356c76fab66334f36de622ecbd3a</td>\n",
              "      <td>NaN</td>\n",
              "      <td>NaN</td>\n",
              "      <td>NaN</td>\n",
              "      <td>NaN</td>\n",
              "      <td>650.0</td>\n",
              "      <td>17.0</td>\n",
              "      <td>14.0</td>\n",
              "      <td>12.0</td>\n",
              "      <td>NaN</td>\n",
              "    </tr>\n",
              "    <tr>\n",
              "      <th>128</th>\n",
              "      <td>d8dee61c2034d6d075997acef1870e9b</td>\n",
              "      <td>NaN</td>\n",
              "      <td>NaN</td>\n",
              "      <td>NaN</td>\n",
              "      <td>NaN</td>\n",
              "      <td>300.0</td>\n",
              "      <td>16.0</td>\n",
              "      <td>7.0</td>\n",
              "      <td>20.0</td>\n",
              "      <td>NaN</td>\n",
              "    </tr>\n",
              "    <tr>\n",
              "      <th>145</th>\n",
              "      <td>56139431d72cd51f19eb9f7dae4d1617</td>\n",
              "      <td>NaN</td>\n",
              "      <td>NaN</td>\n",
              "      <td>NaN</td>\n",
              "      <td>NaN</td>\n",
              "      <td>200.0</td>\n",
              "      <td>20.0</td>\n",
              "      <td>20.0</td>\n",
              "      <td>20.0</td>\n",
              "      <td>NaN</td>\n",
              "    </tr>\n",
              "    <tr>\n",
              "      <th>154</th>\n",
              "      <td>46b48281eb6d663ced748f324108c733</td>\n",
              "      <td>NaN</td>\n",
              "      <td>NaN</td>\n",
              "      <td>NaN</td>\n",
              "      <td>NaN</td>\n",
              "      <td>18500.0</td>\n",
              "      <td>41.0</td>\n",
              "      <td>30.0</td>\n",
              "      <td>41.0</td>\n",
              "      <td>NaN</td>\n",
              "    </tr>\n",
              "    <tr>\n",
              "      <th>197</th>\n",
              "      <td>5fb61f482620cb672f5e586bb132eae9</td>\n",
              "      <td>NaN</td>\n",
              "      <td>NaN</td>\n",
              "      <td>NaN</td>\n",
              "      <td>NaN</td>\n",
              "      <td>300.0</td>\n",
              "      <td>35.0</td>\n",
              "      <td>7.0</td>\n",
              "      <td>12.0</td>\n",
              "      <td>NaN</td>\n",
              "    </tr>\n",
              "    <tr>\n",
              "      <th>...</th>\n",
              "      <td>...</td>\n",
              "      <td>...</td>\n",
              "      <td>...</td>\n",
              "      <td>...</td>\n",
              "      <td>...</td>\n",
              "      <td>...</td>\n",
              "      <td>...</td>\n",
              "      <td>...</td>\n",
              "      <td>...</td>\n",
              "      <td>...</td>\n",
              "    </tr>\n",
              "    <tr>\n",
              "      <th>32515</th>\n",
              "      <td>b0a0c5dd78e644373b199380612c350a</td>\n",
              "      <td>NaN</td>\n",
              "      <td>NaN</td>\n",
              "      <td>NaN</td>\n",
              "      <td>NaN</td>\n",
              "      <td>1800.0</td>\n",
              "      <td>30.0</td>\n",
              "      <td>20.0</td>\n",
              "      <td>70.0</td>\n",
              "      <td>NaN</td>\n",
              "    </tr>\n",
              "    <tr>\n",
              "      <th>32589</th>\n",
              "      <td>10dbe0fbaa2c505123c17fdc34a63c56</td>\n",
              "      <td>NaN</td>\n",
              "      <td>NaN</td>\n",
              "      <td>NaN</td>\n",
              "      <td>NaN</td>\n",
              "      <td>800.0</td>\n",
              "      <td>30.0</td>\n",
              "      <td>10.0</td>\n",
              "      <td>23.0</td>\n",
              "      <td>NaN</td>\n",
              "    </tr>\n",
              "    <tr>\n",
              "      <th>32616</th>\n",
              "      <td>bd2ada37b58ae94cc838b9c0569fecd8</td>\n",
              "      <td>NaN</td>\n",
              "      <td>NaN</td>\n",
              "      <td>NaN</td>\n",
              "      <td>NaN</td>\n",
              "      <td>200.0</td>\n",
              "      <td>21.0</td>\n",
              "      <td>8.0</td>\n",
              "      <td>16.0</td>\n",
              "      <td>NaN</td>\n",
              "    </tr>\n",
              "    <tr>\n",
              "      <th>32772</th>\n",
              "      <td>fa51e914046aab32764c41356b9d4ea4</td>\n",
              "      <td>NaN</td>\n",
              "      <td>NaN</td>\n",
              "      <td>NaN</td>\n",
              "      <td>NaN</td>\n",
              "      <td>1300.0</td>\n",
              "      <td>45.0</td>\n",
              "      <td>16.0</td>\n",
              "      <td>45.0</td>\n",
              "      <td>NaN</td>\n",
              "    </tr>\n",
              "    <tr>\n",
              "      <th>32852</th>\n",
              "      <td>c4ceee876c82b8328e9c293fa0e1989b</td>\n",
              "      <td>NaN</td>\n",
              "      <td>NaN</td>\n",
              "      <td>NaN</td>\n",
              "      <td>NaN</td>\n",
              "      <td>700.0</td>\n",
              "      <td>28.0</td>\n",
              "      <td>3.0</td>\n",
              "      <td>43.0</td>\n",
              "      <td>NaN</td>\n",
              "    </tr>\n",
              "  </tbody>\n",
              "</table>\n",
              "<p>610 rows × 10 columns</p>\n",
              "</div>"
            ],
            "text/plain": [
              "                             product_id product_category_name  \\\n",
              "105    a41e356c76fab66334f36de622ecbd3a                   NaN   \n",
              "128    d8dee61c2034d6d075997acef1870e9b                   NaN   \n",
              "145    56139431d72cd51f19eb9f7dae4d1617                   NaN   \n",
              "154    46b48281eb6d663ced748f324108c733                   NaN   \n",
              "197    5fb61f482620cb672f5e586bb132eae9                   NaN   \n",
              "...                                 ...                   ...   \n",
              "32515  b0a0c5dd78e644373b199380612c350a                   NaN   \n",
              "32589  10dbe0fbaa2c505123c17fdc34a63c56                   NaN   \n",
              "32616  bd2ada37b58ae94cc838b9c0569fecd8                   NaN   \n",
              "32772  fa51e914046aab32764c41356b9d4ea4                   NaN   \n",
              "32852  c4ceee876c82b8328e9c293fa0e1989b                   NaN   \n",
              "\n",
              "       product_name_lenght  product_description_lenght  product_photos_qty  \\\n",
              "105                    NaN                         NaN                 NaN   \n",
              "128                    NaN                         NaN                 NaN   \n",
              "145                    NaN                         NaN                 NaN   \n",
              "154                    NaN                         NaN                 NaN   \n",
              "197                    NaN                         NaN                 NaN   \n",
              "...                    ...                         ...                 ...   \n",
              "32515                  NaN                         NaN                 NaN   \n",
              "32589                  NaN                         NaN                 NaN   \n",
              "32616                  NaN                         NaN                 NaN   \n",
              "32772                  NaN                         NaN                 NaN   \n",
              "32852                  NaN                         NaN                 NaN   \n",
              "\n",
              "       product_weight_g  product_length_cm  product_height_cm  \\\n",
              "105               650.0               17.0               14.0   \n",
              "128               300.0               16.0                7.0   \n",
              "145               200.0               20.0               20.0   \n",
              "154             18500.0               41.0               30.0   \n",
              "197               300.0               35.0                7.0   \n",
              "...                 ...                ...                ...   \n",
              "32515            1800.0               30.0               20.0   \n",
              "32589             800.0               30.0               10.0   \n",
              "32616             200.0               21.0                8.0   \n",
              "32772            1300.0               45.0               16.0   \n",
              "32852             700.0               28.0                3.0   \n",
              "\n",
              "       product_width_cm product_category_name_english  \n",
              "105                12.0                           NaN  \n",
              "128                20.0                           NaN  \n",
              "145                20.0                           NaN  \n",
              "154                41.0                           NaN  \n",
              "197                12.0                           NaN  \n",
              "...                 ...                           ...  \n",
              "32515              70.0                           NaN  \n",
              "32589              23.0                           NaN  \n",
              "32616              16.0                           NaN  \n",
              "32772              45.0                           NaN  \n",
              "32852              43.0                           NaN  \n",
              "\n",
              "[610 rows x 10 columns]"
            ]
          },
          "execution_count": 130,
          "metadata": {},
          "output_type": "execute_result"
        }
      ],
      "source": [
        "products_df[products_df.product_category_name.isnull()]"
      ]
    },
    {
      "cell_type": "code",
      "execution_count": 131,
      "metadata": {},
      "outputs": [],
      "source": [
        "products_df.drop(products_df[products_df.product_category_name.isnull()].index, inplace=True)"
      ]
    },
    {
      "cell_type": "code",
      "execution_count": 132,
      "metadata": {},
      "outputs": [
        {
          "data": {
            "text/plain": [
              "product_id                        0\n",
              "product_category_name             0\n",
              "product_name_lenght               0\n",
              "product_description_lenght        0\n",
              "product_photos_qty                0\n",
              "product_weight_g                  1\n",
              "product_length_cm                 1\n",
              "product_height_cm                 1\n",
              "product_width_cm                  1\n",
              "product_category_name_english    13\n",
              "dtype: int64"
            ]
          },
          "execution_count": 132,
          "metadata": {},
          "output_type": "execute_result"
        }
      ],
      "source": [
        "products_df.isna().sum()"
      ]
    },
    {
      "cell_type": "code",
      "execution_count": 133,
      "metadata": {},
      "outputs": [
        {
          "data": {
            "text/plain": [
              "product_category_name\n",
              "portateis_cozinha_e_preparadores_de_alimentos    10\n",
              "pc_gamer                                          3\n",
              "Name: count, dtype: int64"
            ]
          },
          "execution_count": 133,
          "metadata": {},
          "output_type": "execute_result"
        }
      ],
      "source": [
        "products_df.product_category_name[products_df.product_category_name_english.isnull()].value_counts()"
      ]
    },
    {
      "cell_type": "markdown",
      "metadata": {},
      "source": [
        "**Menerjemahkan ke bahasa inggris dan menambahkan data yang kosong:**\n",
        "- portateis_cozinha_e_preparadores_de_alimentos : portable_kitchen_and_food_preparers  \n",
        "- pc_gamer : pc_gamer"
      ]
    },
    {
      "cell_type": "code",
      "execution_count": 134,
      "metadata": {},
      "outputs": [],
      "source": [
        "products_df.loc[(products_df.product_category_name == 'portateis_cozinha_e_preparadores_de_alimentos'), 'product_category_name_english'] = 'portable_kitchen_and_food_preparers'\n",
        "\n",
        "products_df.loc[(products_df.product_category_name == 'pc_gamer'), 'product_category_name_english'] = 'pc_gamer'"
      ]
    },
    {
      "cell_type": "code",
      "execution_count": 135,
      "metadata": {},
      "outputs": [
        {
          "data": {
            "text/plain": [
              "product_id                       0\n",
              "product_category_name            0\n",
              "product_name_lenght              0\n",
              "product_description_lenght       0\n",
              "product_photos_qty               0\n",
              "product_weight_g                 1\n",
              "product_length_cm                1\n",
              "product_height_cm                1\n",
              "product_width_cm                 1\n",
              "product_category_name_english    0\n",
              "dtype: int64"
            ]
          },
          "execution_count": 135,
          "metadata": {},
          "output_type": "execute_result"
        }
      ],
      "source": [
        "products_df.isna().sum()"
      ]
    },
    {
      "cell_type": "code",
      "execution_count": 136,
      "metadata": {},
      "outputs": [],
      "source": [
        "products_df.dropna(inplace=True)"
      ]
    },
    {
      "cell_type": "code",
      "execution_count": 137,
      "metadata": {},
      "outputs": [
        {
          "data": {
            "text/plain": [
              "product_id                       0\n",
              "product_category_name            0\n",
              "product_name_lenght              0\n",
              "product_description_lenght       0\n",
              "product_photos_qty               0\n",
              "product_weight_g                 0\n",
              "product_length_cm                0\n",
              "product_height_cm                0\n",
              "product_width_cm                 0\n",
              "product_category_name_english    0\n",
              "dtype: int64"
            ]
          },
          "execution_count": 137,
          "metadata": {},
          "output_type": "execute_result"
        }
      ],
      "source": [
        "products_df.isna().sum()"
      ]
    },
    {
      "cell_type": "markdown",
      "metadata": {},
      "source": [
        "##### Mengganti kolom 'product_category_name' dengan 'product_category_name_english''"
      ]
    },
    {
      "cell_type": "code",
      "execution_count": 138,
      "metadata": {},
      "outputs": [],
      "source": [
        "products_df.drop(columns='product_category_name', inplace=True)"
      ]
    },
    {
      "cell_type": "code",
      "execution_count": 139,
      "metadata": {},
      "outputs": [],
      "source": [
        "products_df.rename(columns={\n",
        "    'product_category_name_english': 'product_category_name'\n",
        "}, inplace=True)"
      ]
    },
    {
      "cell_type": "code",
      "execution_count": 140,
      "metadata": {},
      "outputs": [],
      "source": [
        "products_df.insert(1, 'product_category_name', products_df.pop('product_category_name'))"
      ]
    },
    {
      "cell_type": "code",
      "execution_count": 141,
      "metadata": {},
      "outputs": [
        {
          "data": {
            "application/vnd.microsoft.datawrangler.viewer.v0+json": {
              "columns": [
                {
                  "name": "index",
                  "rawType": "int64",
                  "type": "integer"
                },
                {
                  "name": "product_id",
                  "rawType": "object",
                  "type": "string"
                },
                {
                  "name": "product_category_name",
                  "rawType": "object",
                  "type": "string"
                },
                {
                  "name": "product_name_lenght",
                  "rawType": "float64",
                  "type": "float"
                },
                {
                  "name": "product_description_lenght",
                  "rawType": "float64",
                  "type": "float"
                },
                {
                  "name": "product_photos_qty",
                  "rawType": "float64",
                  "type": "float"
                },
                {
                  "name": "product_weight_g",
                  "rawType": "float64",
                  "type": "float"
                },
                {
                  "name": "product_length_cm",
                  "rawType": "float64",
                  "type": "float"
                },
                {
                  "name": "product_height_cm",
                  "rawType": "float64",
                  "type": "float"
                },
                {
                  "name": "product_width_cm",
                  "rawType": "float64",
                  "type": "float"
                }
              ],
              "conversionMethod": "pd.DataFrame",
              "ref": "839ec910-ca73-46d9-8721-4875a32cb477",
              "rows": [
                [
                  "0",
                  "1e9e8ef04dbcff4541ed26657ea517e5",
                  "perfumery",
                  "40.0",
                  "287.0",
                  "1.0",
                  "225.0",
                  "16.0",
                  "10.0",
                  "14.0"
                ],
                [
                  "1",
                  "3aa071139cb16b67ca9e5dea641aaa2f",
                  "art",
                  "44.0",
                  "276.0",
                  "1.0",
                  "1000.0",
                  "30.0",
                  "18.0",
                  "20.0"
                ],
                [
                  "2",
                  "96bd76ec8810374ed1b65e291975717f",
                  "sports_leisure",
                  "46.0",
                  "250.0",
                  "1.0",
                  "154.0",
                  "18.0",
                  "9.0",
                  "15.0"
                ],
                [
                  "3",
                  "cef67bcfe19066a932b7673e239eb23d",
                  "baby",
                  "27.0",
                  "261.0",
                  "1.0",
                  "371.0",
                  "26.0",
                  "4.0",
                  "26.0"
                ],
                [
                  "4",
                  "9dc1a7de274444849c219cff195d0b71",
                  "housewares",
                  "37.0",
                  "402.0",
                  "4.0",
                  "625.0",
                  "20.0",
                  "17.0",
                  "13.0"
                ]
              ],
              "shape": {
                "columns": 9,
                "rows": 5
              }
            },
            "text/html": [
              "<div>\n",
              "<style scoped>\n",
              "    .dataframe tbody tr th:only-of-type {\n",
              "        vertical-align: middle;\n",
              "    }\n",
              "\n",
              "    .dataframe tbody tr th {\n",
              "        vertical-align: top;\n",
              "    }\n",
              "\n",
              "    .dataframe thead th {\n",
              "        text-align: right;\n",
              "    }\n",
              "</style>\n",
              "<table border=\"1\" class=\"dataframe\">\n",
              "  <thead>\n",
              "    <tr style=\"text-align: right;\">\n",
              "      <th></th>\n",
              "      <th>product_id</th>\n",
              "      <th>product_category_name</th>\n",
              "      <th>product_name_lenght</th>\n",
              "      <th>product_description_lenght</th>\n",
              "      <th>product_photos_qty</th>\n",
              "      <th>product_weight_g</th>\n",
              "      <th>product_length_cm</th>\n",
              "      <th>product_height_cm</th>\n",
              "      <th>product_width_cm</th>\n",
              "    </tr>\n",
              "  </thead>\n",
              "  <tbody>\n",
              "    <tr>\n",
              "      <th>0</th>\n",
              "      <td>1e9e8ef04dbcff4541ed26657ea517e5</td>\n",
              "      <td>perfumery</td>\n",
              "      <td>40.0</td>\n",
              "      <td>287.0</td>\n",
              "      <td>1.0</td>\n",
              "      <td>225.0</td>\n",
              "      <td>16.0</td>\n",
              "      <td>10.0</td>\n",
              "      <td>14.0</td>\n",
              "    </tr>\n",
              "    <tr>\n",
              "      <th>1</th>\n",
              "      <td>3aa071139cb16b67ca9e5dea641aaa2f</td>\n",
              "      <td>art</td>\n",
              "      <td>44.0</td>\n",
              "      <td>276.0</td>\n",
              "      <td>1.0</td>\n",
              "      <td>1000.0</td>\n",
              "      <td>30.0</td>\n",
              "      <td>18.0</td>\n",
              "      <td>20.0</td>\n",
              "    </tr>\n",
              "    <tr>\n",
              "      <th>2</th>\n",
              "      <td>96bd76ec8810374ed1b65e291975717f</td>\n",
              "      <td>sports_leisure</td>\n",
              "      <td>46.0</td>\n",
              "      <td>250.0</td>\n",
              "      <td>1.0</td>\n",
              "      <td>154.0</td>\n",
              "      <td>18.0</td>\n",
              "      <td>9.0</td>\n",
              "      <td>15.0</td>\n",
              "    </tr>\n",
              "    <tr>\n",
              "      <th>3</th>\n",
              "      <td>cef67bcfe19066a932b7673e239eb23d</td>\n",
              "      <td>baby</td>\n",
              "      <td>27.0</td>\n",
              "      <td>261.0</td>\n",
              "      <td>1.0</td>\n",
              "      <td>371.0</td>\n",
              "      <td>26.0</td>\n",
              "      <td>4.0</td>\n",
              "      <td>26.0</td>\n",
              "    </tr>\n",
              "    <tr>\n",
              "      <th>4</th>\n",
              "      <td>9dc1a7de274444849c219cff195d0b71</td>\n",
              "      <td>housewares</td>\n",
              "      <td>37.0</td>\n",
              "      <td>402.0</td>\n",
              "      <td>4.0</td>\n",
              "      <td>625.0</td>\n",
              "      <td>20.0</td>\n",
              "      <td>17.0</td>\n",
              "      <td>13.0</td>\n",
              "    </tr>\n",
              "  </tbody>\n",
              "</table>\n",
              "</div>"
            ],
            "text/plain": [
              "                         product_id product_category_name  \\\n",
              "0  1e9e8ef04dbcff4541ed26657ea517e5             perfumery   \n",
              "1  3aa071139cb16b67ca9e5dea641aaa2f                   art   \n",
              "2  96bd76ec8810374ed1b65e291975717f        sports_leisure   \n",
              "3  cef67bcfe19066a932b7673e239eb23d                  baby   \n",
              "4  9dc1a7de274444849c219cff195d0b71            housewares   \n",
              "\n",
              "   product_name_lenght  product_description_lenght  product_photos_qty  \\\n",
              "0                 40.0                       287.0                 1.0   \n",
              "1                 44.0                       276.0                 1.0   \n",
              "2                 46.0                       250.0                 1.0   \n",
              "3                 27.0                       261.0                 1.0   \n",
              "4                 37.0                       402.0                 4.0   \n",
              "\n",
              "   product_weight_g  product_length_cm  product_height_cm  product_width_cm  \n",
              "0             225.0               16.0               10.0              14.0  \n",
              "1            1000.0               30.0               18.0              20.0  \n",
              "2             154.0               18.0                9.0              15.0  \n",
              "3             371.0               26.0                4.0              26.0  \n",
              "4             625.0               20.0               17.0              13.0  "
            ]
          },
          "execution_count": 141,
          "metadata": {},
          "output_type": "execute_result"
        }
      ],
      "source": [
        "products_df.head()"
      ]
    },
    {
      "cell_type": "markdown",
      "metadata": {},
      "source": [
        "#### `reviews_df`"
      ]
    },
    {
      "cell_type": "code",
      "execution_count": 142,
      "metadata": {},
      "outputs": [
        {
          "name": "stdout",
          "output_type": "stream",
          "text": [
            "<class 'pandas.core.frame.DataFrame'>\n",
            "RangeIndex: 99224 entries, 0 to 99223\n",
            "Data columns (total 7 columns):\n",
            " #   Column                   Non-Null Count  Dtype \n",
            "---  ------                   --------------  ----- \n",
            " 0   review_id                99224 non-null  object\n",
            " 1   order_id                 99224 non-null  object\n",
            " 2   review_score             99224 non-null  int64 \n",
            " 3   review_comment_title     11568 non-null  object\n",
            " 4   review_comment_message   40977 non-null  object\n",
            " 5   review_creation_date     99224 non-null  object\n",
            " 6   review_answer_timestamp  99224 non-null  object\n",
            "dtypes: int64(1), object(6)\n",
            "memory usage: 5.3+ MB\n"
          ]
        }
      ],
      "source": [
        "reviews_df.info()"
      ]
    },
    {
      "cell_type": "code",
      "execution_count": 143,
      "metadata": {},
      "outputs": [
        {
          "data": {
            "text/plain": [
              "review_id                  98410\n",
              "order_id                   98673\n",
              "review_score                   5\n",
              "review_comment_title        4527\n",
              "review_comment_message     36159\n",
              "review_creation_date         636\n",
              "review_answer_timestamp    98248\n",
              "dtype: int64"
            ]
          },
          "execution_count": 143,
          "metadata": {},
          "output_type": "execute_result"
        }
      ],
      "source": [
        "reviews_df.nunique()"
      ]
    },
    {
      "cell_type": "markdown",
      "metadata": {},
      "source": [
        "##### Duplicate Data"
      ]
    },
    {
      "cell_type": "code",
      "execution_count": 144,
      "metadata": {},
      "outputs": [
        {
          "data": {
            "application/vnd.microsoft.datawrangler.viewer.v0+json": {
              "columns": [
                {
                  "name": "index",
                  "rawType": "int64",
                  "type": "integer"
                },
                {
                  "name": "review_id",
                  "rawType": "object",
                  "type": "string"
                },
                {
                  "name": "order_id",
                  "rawType": "object",
                  "type": "string"
                },
                {
                  "name": "review_score",
                  "rawType": "int64",
                  "type": "integer"
                },
                {
                  "name": "review_comment_title",
                  "rawType": "object",
                  "type": "unknown"
                },
                {
                  "name": "review_comment_message",
                  "rawType": "object",
                  "type": "unknown"
                },
                {
                  "name": "review_creation_date",
                  "rawType": "object",
                  "type": "string"
                },
                {
                  "name": "review_answer_timestamp",
                  "rawType": "object",
                  "type": "string"
                }
              ],
              "conversionMethod": "pd.DataFrame",
              "ref": "b0a125f5-12e6-4e45-b12c-a076de0ffa9d",
              "rows": [
                [
                  "25612",
                  "89a02c45c340aeeb1354a24e7d4b2c1e",
                  "0035246a40f520710769010f752e7507",
                  "5",
                  null,
                  null,
                  "2017-08-29 00:00:00",
                  "2017-08-30 01:59:12"
                ],
                [
                  "22423",
                  "2a74b0559eb58fc1ff842ecc999594cb",
                  "0035246a40f520710769010f752e7507",
                  "5",
                  null,
                  "Estou acostumada a comprar produtos pelo baratheon. Super confiável, transparência, qualidade e agilidade. Super recomendo.",
                  "2017-08-25 00:00:00",
                  "2017-08-29 21:45:57"
                ],
                [
                  "68633",
                  "73413b847f63e02bc752b364f6d05ee9",
                  "013056cfe49763c6f66bda03396c5ee3",
                  "4",
                  null,
                  null,
                  "2018-03-04 00:00:00",
                  "2018-03-05 17:02:00"
                ],
                [
                  "22779",
                  "ab30810c29da5da8045216f0f62652a2",
                  "013056cfe49763c6f66bda03396c5ee3",
                  "5",
                  null,
                  null,
                  "2018-02-22 00:00:00",
                  "2018-02-23 12:12:30"
                ],
                [
                  "83224",
                  "d8e8c42271c8fb67b9dad95d98c8ff80",
                  "0176a6846bcb3b0d3aa3116a9a768597",
                  "5",
                  null,
                  null,
                  "2017-12-30 00:00:00",
                  "2018-01-02 10:54:47"
                ],
                [
                  "854",
                  "830636803620cdf8b6ffaf1b2f6e92b2",
                  "0176a6846bcb3b0d3aa3116a9a768597",
                  "5",
                  null,
                  null,
                  "2017-12-30 00:00:00",
                  "2018-01-02 10:54:06"
                ],
                [
                  "17582",
                  "017f0e1ea6386de662cbeba299c59ad1",
                  "02355020fd0a40a0d56df9f6ff060413",
                  "1",
                  null,
                  "ja reclamei varias vezes e ate hoje não sei onde foi parar o produto que comprei. quero cancelar esta compra e quero meu dinheiro de volta.",
                  "2018-03-29 00:00:00",
                  "2018-03-30 03:16:19"
                ],
                [
                  "89888",
                  "0c8e7347f1cdd2aede37371543e3d163",
                  "02355020fd0a40a0d56df9f6ff060413",
                  "3",
                  null,
                  "UM DOS PRODUTOS (ENTREGA02) COMPRADOS NESTE PEDIDO NAO RECEBI AINDA E OUTRO (ENTREGA01) RECEBI EMAIL QUE ESTA COM DIFICULDADES NA ENTREGA E NÃO TIVE MAIS NOTICIAS ",
                  "2018-03-21 00:00:00",
                  "2018-03-22 01:32:08"
                ],
                [
                  "55137",
                  "61fe4e7d1ae801bbe169eb67b86c6eda",
                  "029863af4b968de1e5d6a82782e662f5",
                  "4",
                  null,
                  null,
                  "2017-07-19 00:00:00",
                  "2017-07-20 12:06:11"
                ],
                [
                  "37911",
                  "04d945e95c788a3aa1ffbee42105637b",
                  "029863af4b968de1e5d6a82782e662f5",
                  "5",
                  null,
                  null,
                  "2017-07-14 00:00:00",
                  "2017-07-17 13:58:06"
                ],
                [
                  "17847",
                  "2eab0b2e6f5bded4d9b0b2afcfdf4534",
                  "02e0b68852217f5715fb9cc885829454",
                  "4",
                  null,
                  "Gostei chegou rapidinho",
                  "2017-12-03 00:00:00",
                  "2017-12-03 21:56:37"
                ],
                [
                  "35812",
                  "fa493ead9b093fb0fa6f7d4905b0ef3b",
                  "02e0b68852217f5715fb9cc885829454",
                  "4",
                  null,
                  "Gostei e entregou rapidinho",
                  "2017-12-01 00:00:00",
                  "2017-12-03 21:57:31"
                ],
                [
                  "35052",
                  "38821b5c496b678cf91acc34892805ad",
                  "02e723e8edb4a123d414f56cc9c4665e",
                  "5",
                  null,
                  null,
                  "2017-09-03 00:00:00",
                  "2017-09-05 12:12:51"
                ],
                [
                  "42500",
                  "39b4603793c1c7f5f36d809b4a218664",
                  "02e723e8edb4a123d414f56cc9c4665e",
                  "5",
                  null,
                  "Otimo ",
                  "2017-09-01 00:00:00",
                  "2017-09-02 12:13:03"
                ],
                [
                  "38386",
                  "1dee9d450a2b8533d2085cef898ca4a2",
                  "03515a836bb855b03f7df9dee520a8fc",
                  "5",
                  null,
                  null,
                  "2018-02-06 00:00:00",
                  "2018-02-06 17:19:21"
                ],
                [
                  "49625",
                  "5e1ee2e924a1dd10d80b99555383c0a7",
                  "03515a836bb855b03f7df9dee520a8fc",
                  "5",
                  null,
                  null,
                  "2018-01-31 00:00:00",
                  "2018-02-01 01:26:24"
                ],
                [
                  "51527",
                  "f4bb9d6dd4fb6dcc2298f0e7b17b8e1e",
                  "03c939fd7fd3b38f8485a0f95798f1f6",
                  "4",
                  null,
                  null,
                  "2018-03-29 00:00:00",
                  "2018-03-30 00:29:09"
                ],
                [
                  "8273",
                  "b04ed893318da5b863e878cd3d0511df",
                  "03c939fd7fd3b38f8485a0f95798f1f6",
                  "3",
                  null,
                  "Um ponto negativo que achei foi a cobrança de 3 taxas de entregas, sendo que comprei os 3 produtos iguais numa só compra.\r\nE mesmo comprando os produtos juntos, chegaram separados.",
                  "2018-03-20 00:00:00",
                  "2018-03-21 02:28:23"
                ],
                [
                  "69438",
                  "405eb2ea45e1dbe2662541ae5b47e2aa",
                  "03c939fd7fd3b38f8485a0f95798f1f6",
                  "3",
                  null,
                  "Seria ótimo se tivesem entregue os 3 (três) pedidos de uma única vez.",
                  "2018-03-06 00:00:00",
                  "2018-03-06 19:50:32"
                ],
                [
                  "92880",
                  "55bff212ccac64cbacab9dae14850dcd",
                  "03eba6d9fef8f5b3e811d4b5a7cca9cd",
                  "5",
                  null,
                  null,
                  "2018-03-06 00:00:00",
                  "2018-03-09 00:09:40"
                ],
                [
                  "88624",
                  "36ce47fb903bec726f89c65eac26dc9f",
                  "03eba6d9fef8f5b3e811d4b5a7cca9cd",
                  "4",
                  null,
                  null,
                  "2018-02-23 00:00:00",
                  "2018-02-23 23:55:53"
                ],
                [
                  "43105",
                  "c793b25686e244588d4fc71964c95a2c",
                  "04f1827088d972a62224f5203a071500",
                  "1",
                  null,
                  null,
                  "2018-01-07 00:00:00",
                  "2018-01-07 11:14:04"
                ],
                [
                  "45108",
                  "f543cfa959c3289703f144a32113bd78",
                  "04f1827088d972a62224f5203a071500",
                  "5",
                  null,
                  null,
                  "2017-12-30 00:00:00",
                  "2018-01-03 10:40:06"
                ],
                [
                  "79041",
                  "72906dc18cd7aaed26be40c859613c65",
                  "0544030711e50ec2cb6c15764d22891a",
                  "1",
                  "É muito confusa.",
                  "Comprei duas válvulas solenóides iguais. Paguei o mesmo produto com quantidade 2 (dois). As válvulas são iguais, mas as roscas são diferentes. Uma é BSP, com passo igual a NPT, a outra tem passo maio",
                  "2018-05-01 00:00:00",
                  "2018-05-04 17:54:45"
                ],
                [
                  "49073",
                  "dc7a14d3e1984bfc11b484b841697096",
                  "0544030711e50ec2cb6c15764d22891a",
                  "4",
                  "Não quero avaliar",
                  null,
                  "2018-05-01 00:00:00",
                  "2018-05-04 11:29:18"
                ],
                [
                  "33045",
                  "61bb221369ffa0c6b0df900f97c5062b",
                  "05452881e2846549b81d39249bb66ad7",
                  "5",
                  null,
                  null,
                  "2018-02-25 00:00:00",
                  "2018-02-25 04:09:03"
                ],
                [
                  "47676",
                  "5710a8cfcb822bc6f62ece1753b11786",
                  "05452881e2846549b81d39249bb66ad7",
                  "5",
                  null,
                  null,
                  "2018-02-08 00:00:00",
                  "2018-02-10 16:50:27"
                ],
                [
                  "56594",
                  "7a49d6129a979bbbb500cb14853d2714",
                  "056bfadd41b8600ad5ecfef2ac132188",
                  "4",
                  null,
                  null,
                  "2017-12-05 00:00:00",
                  "2017-12-09 13:53:55"
                ],
                [
                  "23339",
                  "acf3f5b4d93975335ee6a76654cd495b",
                  "056bfadd41b8600ad5ecfef2ac132188",
                  "4",
                  null,
                  null,
                  "2017-12-05 00:00:00",
                  "2017-12-09 13:53:28"
                ],
                [
                  "9139",
                  "85b0c36f463e19aa709b2ee1446513ce",
                  "059bbeb3477ed66fd7e670c3f879009a",
                  "5",
                  null,
                  null,
                  "2017-08-03 00:00:00",
                  "2017-08-04 09:32:59"
                ],
                [
                  "15775",
                  "47746f14e9ac9954d196de1cfb45741e",
                  "059bbeb3477ed66fd7e670c3f879009a",
                  "2",
                  null,
                  "Só veio o puxador do lado esquerdo/motorista ",
                  "2017-08-01 00:00:00",
                  "2017-08-01 20:39:04"
                ],
                [
                  "76356",
                  "7ffe9965cb3d8ec50de101bdc6e25fc6",
                  "06b2c7035561ef12b16045ef4bf459e2",
                  "5",
                  null,
                  null,
                  "2017-07-19 00:00:00",
                  "2017-07-27 16:35:51"
                ],
                [
                  "20897",
                  "29aeeca2ed21aedc552cc21421eeb983",
                  "06b2c7035561ef12b16045ef4bf459e2",
                  "5",
                  null,
                  null,
                  "2017-07-13 00:00:00",
                  "2017-07-18 00:24:04"
                ],
                [
                  "10575",
                  "e8ea3d83611914b5a445adbdd5c37072",
                  "0715dfcf2383aa72c181d8b47f6cb589",
                  "5",
                  null,
                  null,
                  "2018-03-10 00:00:00",
                  "2018-03-10 20:42:13"
                ],
                [
                  "1905",
                  "93bff38e529369b84919d539aa3dc449",
                  "0715dfcf2383aa72c181d8b47f6cb589",
                  "5",
                  null,
                  null,
                  "2018-02-28 00:00:00",
                  "2018-03-06 23:17:46"
                ],
                [
                  "65194",
                  "5bdf704ce1edc91bc6c73abede903d1c",
                  "073fa4be4665f397a289842b1053229c",
                  "1",
                  null,
                  null,
                  "2018-01-24 00:00:00",
                  "2018-01-25 10:01:21"
                ],
                [
                  "89755",
                  "55d37f60f12bd5af8b2185dda9ef6dea",
                  "073fa4be4665f397a289842b1053229c",
                  "5",
                  null,
                  null,
                  "2018-01-24 00:00:00",
                  "2018-01-24 20:26:57"
                ],
                [
                  "38941",
                  "6d9236aeca36f0a36200fdd41e61e28c",
                  "0749426d1c48fe5943cbdf1316ace0aa",
                  "1",
                  null,
                  "Pessima entrega demora um século pra entregar ",
                  "2018-02-10 00:00:00",
                  "2018-02-10 12:48:27"
                ],
                [
                  "41437",
                  "1b729a0ff69b1b85e6105a45072cdf9e",
                  "0749426d1c48fe5943cbdf1316ace0aa",
                  "1",
                  null,
                  "Um década pra entregar o produto. Horrível a entrega.",
                  "2018-02-09 00:00:00",
                  "2018-02-10 12:55:50"
                ],
                [
                  "88883",
                  "6902c7530ba05c8f2927697108f42732",
                  "075a544c5f4ed4bb75f82b160465fe76",
                  "1",
                  null,
                  "Estou aguardando a encomenda. \r\nRecebi o aviso de dificuldade na entrega, mas ninguém entrou em contato para dizer o q realmente aconteceu. ",
                  "2018-03-17 00:00:00",
                  "2018-03-17 19:39:26"
                ],
                [
                  "53559",
                  "c5f404138d9568bebb5dde204d15b25f",
                  "075a544c5f4ed4bb75f82b160465fe76",
                  "3",
                  null,
                  null,
                  "2018-03-06 00:00:00",
                  "2018-03-07 12:32:38"
                ],
                [
                  "1740",
                  "48f315adb0fcfc986321083d894884a6",
                  "076d991923ee938761994a4255f5c5da",
                  "5",
                  null,
                  null,
                  "2017-12-30 00:00:00",
                  "2017-12-31 12:26:08"
                ],
                [
                  "53240",
                  "939fe38641c70cb7f02846833d7bea1e",
                  "076d991923ee938761994a4255f5c5da",
                  "5",
                  null,
                  null,
                  "2017-12-23 00:00:00",
                  "2017-12-24 12:15:37"
                ],
                [
                  "65734",
                  "d30a303de458190ca6dc446b7ce68ca2",
                  "08bf75dcf867b9f13026785053e87052",
                  "3",
                  null,
                  null,
                  "2017-09-01 00:00:00",
                  "2017-09-03 20:40:39"
                ],
                [
                  "42493",
                  "923fa4fc354ec3831b6b39f1dc688e7d",
                  "08bf75dcf867b9f13026785053e87052",
                  "5",
                  null,
                  "Ótima qualidade amei...",
                  "2017-08-24 00:00:00",
                  "2017-08-28 18:38:22"
                ],
                [
                  "97530",
                  "8e954c79dc2fc426d5f17035e9bb22dd",
                  "08c01d43e93f5c485f48758550d41eb9",
                  "1",
                  null,
                  "Estou aguardando a entrega do produto.",
                  "2017-05-22 00:00:00",
                  "2017-05-22 19:19:11"
                ],
                [
                  "45035",
                  "aace238b157154c2d0f6955b7d05960a",
                  "08c01d43e93f5c485f48758550d41eb9",
                  "1",
                  null,
                  "Estou no aguardo da entrega dos produtos.",
                  "2017-05-22 00:00:00",
                  "2017-05-22 19:15:36"
                ],
                [
                  "60563",
                  "0b51553f3cd2e9606b9c0f25667dc5bb",
                  "095e9e0811476409362d72fa70d73a6c",
                  "5",
                  null,
                  null,
                  "2018-03-15 00:00:00",
                  "2018-03-15 11:00:21"
                ],
                [
                  "55285",
                  "3fb33c49be4d375ddb15913bbb8c0f73",
                  "095e9e0811476409362d72fa70d73a6c",
                  "3",
                  null,
                  "Comprei 2 cartuchos com o mesmo vendendor e só recebi um. Sei que pode ser entregue separadamente. Mas não consigo rastrear o outro produto que não chegou, pois aparece que toda a compra foi entregue.",
                  "2018-02-20 00:00:00",
                  "2018-02-21 02:51:10"
                ],
                [
                  "46407",
                  "c6dbd92da12d8e4bcb5511bdbce042e1",
                  "097abce97e431993434adabc1aaec4e4",
                  "5",
                  null,
                  "Entrega rápida, bem embalada. Referente o café estou testando ainda. ",
                  "2017-10-17 00:00:00",
                  "2017-10-18 02:13:33"
                ]
              ],
              "shape": {
                "columns": 7,
                "rows": 1098
              }
            },
            "text/html": [
              "<div>\n",
              "<style scoped>\n",
              "    .dataframe tbody tr th:only-of-type {\n",
              "        vertical-align: middle;\n",
              "    }\n",
              "\n",
              "    .dataframe tbody tr th {\n",
              "        vertical-align: top;\n",
              "    }\n",
              "\n",
              "    .dataframe thead th {\n",
              "        text-align: right;\n",
              "    }\n",
              "</style>\n",
              "<table border=\"1\" class=\"dataframe\">\n",
              "  <thead>\n",
              "    <tr style=\"text-align: right;\">\n",
              "      <th></th>\n",
              "      <th>review_id</th>\n",
              "      <th>order_id</th>\n",
              "      <th>review_score</th>\n",
              "      <th>review_comment_title</th>\n",
              "      <th>review_comment_message</th>\n",
              "      <th>review_creation_date</th>\n",
              "      <th>review_answer_timestamp</th>\n",
              "    </tr>\n",
              "  </thead>\n",
              "  <tbody>\n",
              "    <tr>\n",
              "      <th>25612</th>\n",
              "      <td>89a02c45c340aeeb1354a24e7d4b2c1e</td>\n",
              "      <td>0035246a40f520710769010f752e7507</td>\n",
              "      <td>5</td>\n",
              "      <td>NaN</td>\n",
              "      <td>NaN</td>\n",
              "      <td>2017-08-29 00:00:00</td>\n",
              "      <td>2017-08-30 01:59:12</td>\n",
              "    </tr>\n",
              "    <tr>\n",
              "      <th>22423</th>\n",
              "      <td>2a74b0559eb58fc1ff842ecc999594cb</td>\n",
              "      <td>0035246a40f520710769010f752e7507</td>\n",
              "      <td>5</td>\n",
              "      <td>NaN</td>\n",
              "      <td>Estou acostumada a comprar produtos pelo barat...</td>\n",
              "      <td>2017-08-25 00:00:00</td>\n",
              "      <td>2017-08-29 21:45:57</td>\n",
              "    </tr>\n",
              "    <tr>\n",
              "      <th>68633</th>\n",
              "      <td>73413b847f63e02bc752b364f6d05ee9</td>\n",
              "      <td>013056cfe49763c6f66bda03396c5ee3</td>\n",
              "      <td>4</td>\n",
              "      <td>NaN</td>\n",
              "      <td>NaN</td>\n",
              "      <td>2018-03-04 00:00:00</td>\n",
              "      <td>2018-03-05 17:02:00</td>\n",
              "    </tr>\n",
              "    <tr>\n",
              "      <th>22779</th>\n",
              "      <td>ab30810c29da5da8045216f0f62652a2</td>\n",
              "      <td>013056cfe49763c6f66bda03396c5ee3</td>\n",
              "      <td>5</td>\n",
              "      <td>NaN</td>\n",
              "      <td>NaN</td>\n",
              "      <td>2018-02-22 00:00:00</td>\n",
              "      <td>2018-02-23 12:12:30</td>\n",
              "    </tr>\n",
              "    <tr>\n",
              "      <th>83224</th>\n",
              "      <td>d8e8c42271c8fb67b9dad95d98c8ff80</td>\n",
              "      <td>0176a6846bcb3b0d3aa3116a9a768597</td>\n",
              "      <td>5</td>\n",
              "      <td>NaN</td>\n",
              "      <td>NaN</td>\n",
              "      <td>2017-12-30 00:00:00</td>\n",
              "      <td>2018-01-02 10:54:47</td>\n",
              "    </tr>\n",
              "    <tr>\n",
              "      <th>...</th>\n",
              "      <td>...</td>\n",
              "      <td>...</td>\n",
              "      <td>...</td>\n",
              "      <td>...</td>\n",
              "      <td>...</td>\n",
              "      <td>...</td>\n",
              "      <td>...</td>\n",
              "    </tr>\n",
              "    <tr>\n",
              "      <th>94504</th>\n",
              "      <td>c56a88a404315a0d9e412c1472dda2c4</td>\n",
              "      <td>ff763b73e473d03c321bcd5a053316e8</td>\n",
              "      <td>5</td>\n",
              "      <td>NaN</td>\n",
              "      <td>NaN</td>\n",
              "      <td>2017-11-01 00:00:00</td>\n",
              "      <td>2017-11-01 19:55:52</td>\n",
              "    </tr>\n",
              "    <tr>\n",
              "      <th>18783</th>\n",
              "      <td>80f25f32c00540d49d57796fb6658535</td>\n",
              "      <td>ff850ba359507b996e8b2fbb26df8d03</td>\n",
              "      <td>5</td>\n",
              "      <td>NaN</td>\n",
              "      <td>Envio rapido, produto conforme descrito no anu...</td>\n",
              "      <td>2017-08-22 00:00:00</td>\n",
              "      <td>2017-08-25 11:40:22</td>\n",
              "    </tr>\n",
              "    <tr>\n",
              "      <th>41355</th>\n",
              "      <td>39de8ad3a1a494fc68cc2d5382f052f4</td>\n",
              "      <td>ff850ba359507b996e8b2fbb26df8d03</td>\n",
              "      <td>5</td>\n",
              "      <td>NaN</td>\n",
              "      <td>Envio rapido... Produto 100%</td>\n",
              "      <td>2017-08-16 00:00:00</td>\n",
              "      <td>2017-08-17 11:56:55</td>\n",
              "    </tr>\n",
              "    <tr>\n",
              "      <th>53962</th>\n",
              "      <td>5476dd0eaee7c4e2725cafb011aa758c</td>\n",
              "      <td>ffaabba06c9d293a3c614e0515ddbabc</td>\n",
              "      <td>3</td>\n",
              "      <td>NaN</td>\n",
              "      <td>NaN</td>\n",
              "      <td>2017-12-20 00:00:00</td>\n",
              "      <td>2017-12-21 13:24:55</td>\n",
              "    </tr>\n",
              "    <tr>\n",
              "      <th>92230</th>\n",
              "      <td>870d856a4873d3a67252b0c51d79b950</td>\n",
              "      <td>ffaabba06c9d293a3c614e0515ddbabc</td>\n",
              "      <td>3</td>\n",
              "      <td>NaN</td>\n",
              "      <td>NaN</td>\n",
              "      <td>2017-12-20 00:00:00</td>\n",
              "      <td>2017-12-20 18:50:16</td>\n",
              "    </tr>\n",
              "  </tbody>\n",
              "</table>\n",
              "<p>1098 rows × 7 columns</p>\n",
              "</div>"
            ],
            "text/plain": [
              "                              review_id                          order_id  \\\n",
              "25612  89a02c45c340aeeb1354a24e7d4b2c1e  0035246a40f520710769010f752e7507   \n",
              "22423  2a74b0559eb58fc1ff842ecc999594cb  0035246a40f520710769010f752e7507   \n",
              "68633  73413b847f63e02bc752b364f6d05ee9  013056cfe49763c6f66bda03396c5ee3   \n",
              "22779  ab30810c29da5da8045216f0f62652a2  013056cfe49763c6f66bda03396c5ee3   \n",
              "83224  d8e8c42271c8fb67b9dad95d98c8ff80  0176a6846bcb3b0d3aa3116a9a768597   \n",
              "...                                 ...                               ...   \n",
              "94504  c56a88a404315a0d9e412c1472dda2c4  ff763b73e473d03c321bcd5a053316e8   \n",
              "18783  80f25f32c00540d49d57796fb6658535  ff850ba359507b996e8b2fbb26df8d03   \n",
              "41355  39de8ad3a1a494fc68cc2d5382f052f4  ff850ba359507b996e8b2fbb26df8d03   \n",
              "53962  5476dd0eaee7c4e2725cafb011aa758c  ffaabba06c9d293a3c614e0515ddbabc   \n",
              "92230  870d856a4873d3a67252b0c51d79b950  ffaabba06c9d293a3c614e0515ddbabc   \n",
              "\n",
              "       review_score review_comment_title  \\\n",
              "25612             5                  NaN   \n",
              "22423             5                  NaN   \n",
              "68633             4                  NaN   \n",
              "22779             5                  NaN   \n",
              "83224             5                  NaN   \n",
              "...             ...                  ...   \n",
              "94504             5                  NaN   \n",
              "18783             5                  NaN   \n",
              "41355             5                  NaN   \n",
              "53962             3                  NaN   \n",
              "92230             3                  NaN   \n",
              "\n",
              "                                  review_comment_message review_creation_date  \\\n",
              "25612                                                NaN  2017-08-29 00:00:00   \n",
              "22423  Estou acostumada a comprar produtos pelo barat...  2017-08-25 00:00:00   \n",
              "68633                                                NaN  2018-03-04 00:00:00   \n",
              "22779                                                NaN  2018-02-22 00:00:00   \n",
              "83224                                                NaN  2017-12-30 00:00:00   \n",
              "...                                                  ...                  ...   \n",
              "94504                                                NaN  2017-11-01 00:00:00   \n",
              "18783  Envio rapido, produto conforme descrito no anu...  2017-08-22 00:00:00   \n",
              "41355                       Envio rapido... Produto 100%  2017-08-16 00:00:00   \n",
              "53962                                                NaN  2017-12-20 00:00:00   \n",
              "92230                                                NaN  2017-12-20 00:00:00   \n",
              "\n",
              "      review_answer_timestamp  \n",
              "25612     2017-08-30 01:59:12  \n",
              "22423     2017-08-29 21:45:57  \n",
              "68633     2018-03-05 17:02:00  \n",
              "22779     2018-02-23 12:12:30  \n",
              "83224     2018-01-02 10:54:47  \n",
              "...                       ...  \n",
              "94504     2017-11-01 19:55:52  \n",
              "18783     2017-08-25 11:40:22  \n",
              "41355     2017-08-17 11:56:55  \n",
              "53962     2017-12-21 13:24:55  \n",
              "92230     2017-12-20 18:50:16  \n",
              "\n",
              "[1098 rows x 7 columns]"
            ]
          },
          "execution_count": 144,
          "metadata": {},
          "output_type": "execute_result"
        }
      ],
      "source": [
        "reviews_df[reviews_df.duplicated(subset=['order_id'], keep=False)].sort_values(by=['order_id','review_creation_date', 'review_answer_timestamp'], ascending=[True, False, False])"
      ]
    },
    {
      "cell_type": "code",
      "execution_count": 145,
      "metadata": {},
      "outputs": [],
      "source": [
        "reviews_df.sort_values(by=['order_id','review_creation_date', 'review_answer_timestamp'], ascending=[True, False, False], inplace=True)\n",
        "reviews_df.drop_duplicates(subset=['order_id'], keep='first', inplace=True)"
      ]
    },
    {
      "cell_type": "code",
      "execution_count": 146,
      "metadata": {},
      "outputs": [
        {
          "data": {
            "application/vnd.microsoft.datawrangler.viewer.v0+json": {
              "columns": [
                {
                  "name": "index",
                  "rawType": "int64",
                  "type": "integer"
                },
                {
                  "name": "review_id",
                  "rawType": "object",
                  "type": "string"
                },
                {
                  "name": "order_id",
                  "rawType": "object",
                  "type": "string"
                },
                {
                  "name": "review_score",
                  "rawType": "int64",
                  "type": "integer"
                },
                {
                  "name": "review_comment_title",
                  "rawType": "object",
                  "type": "string"
                },
                {
                  "name": "review_comment_message",
                  "rawType": "object",
                  "type": "string"
                },
                {
                  "name": "review_creation_date",
                  "rawType": "object",
                  "type": "string"
                },
                {
                  "name": "review_answer_timestamp",
                  "rawType": "object",
                  "type": "string"
                }
              ],
              "conversionMethod": "pd.DataFrame",
              "ref": "d4652fb9-a624-4749-8c28-ab49b7121218",
              "rows": [],
              "shape": {
                "columns": 7,
                "rows": 0
              }
            },
            "text/html": [
              "<div>\n",
              "<style scoped>\n",
              "    .dataframe tbody tr th:only-of-type {\n",
              "        vertical-align: middle;\n",
              "    }\n",
              "\n",
              "    .dataframe tbody tr th {\n",
              "        vertical-align: top;\n",
              "    }\n",
              "\n",
              "    .dataframe thead th {\n",
              "        text-align: right;\n",
              "    }\n",
              "</style>\n",
              "<table border=\"1\" class=\"dataframe\">\n",
              "  <thead>\n",
              "    <tr style=\"text-align: right;\">\n",
              "      <th></th>\n",
              "      <th>review_id</th>\n",
              "      <th>order_id</th>\n",
              "      <th>review_score</th>\n",
              "      <th>review_comment_title</th>\n",
              "      <th>review_comment_message</th>\n",
              "      <th>review_creation_date</th>\n",
              "      <th>review_answer_timestamp</th>\n",
              "    </tr>\n",
              "  </thead>\n",
              "  <tbody>\n",
              "  </tbody>\n",
              "</table>\n",
              "</div>"
            ],
            "text/plain": [
              "Empty DataFrame\n",
              "Columns: [review_id, order_id, review_score, review_comment_title, review_comment_message, review_creation_date, review_answer_timestamp]\n",
              "Index: []"
            ]
          },
          "execution_count": 146,
          "metadata": {},
          "output_type": "execute_result"
        }
      ],
      "source": [
        "reviews_df[reviews_df.duplicated(subset=['order_id'], keep=False)]"
      ]
    },
    {
      "cell_type": "markdown",
      "metadata": {},
      "source": [
        "##### Missing Values"
      ]
    },
    {
      "cell_type": "code",
      "execution_count": 147,
      "metadata": {},
      "outputs": [
        {
          "data": {
            "text/plain": [
              "review_id                      0\n",
              "order_id                       0\n",
              "review_score                   0\n",
              "review_comment_title       87123\n",
              "review_comment_message     57900\n",
              "review_creation_date           0\n",
              "review_answer_timestamp        0\n",
              "dtype: int64"
            ]
          },
          "execution_count": 147,
          "metadata": {},
          "output_type": "execute_result"
        }
      ],
      "source": [
        "reviews_df.isnull().sum()"
      ]
    },
    {
      "cell_type": "code",
      "execution_count": 148,
      "metadata": {},
      "outputs": [],
      "source": [
        "reviews_df.drop(columns=['review_comment_title','review_comment_message'], inplace=True)"
      ]
    },
    {
      "cell_type": "code",
      "execution_count": 149,
      "metadata": {},
      "outputs": [
        {
          "data": {
            "text/plain": [
              "review_id                  0\n",
              "order_id                   0\n",
              "review_score               0\n",
              "review_creation_date       0\n",
              "review_answer_timestamp    0\n",
              "dtype: int64"
            ]
          },
          "execution_count": 149,
          "metadata": {},
          "output_type": "execute_result"
        }
      ],
      "source": [
        "reviews_df.isnull().sum()"
      ]
    },
    {
      "cell_type": "code",
      "execution_count": 150,
      "metadata": {},
      "outputs": [
        {
          "data": {
            "application/vnd.microsoft.datawrangler.viewer.v0+json": {
              "columns": [
                {
                  "name": "index",
                  "rawType": "int64",
                  "type": "integer"
                },
                {
                  "name": "review_id",
                  "rawType": "object",
                  "type": "string"
                },
                {
                  "name": "order_id",
                  "rawType": "object",
                  "type": "string"
                },
                {
                  "name": "review_score",
                  "rawType": "int64",
                  "type": "integer"
                },
                {
                  "name": "review_creation_date",
                  "rawType": "object",
                  "type": "string"
                },
                {
                  "name": "review_answer_timestamp",
                  "rawType": "object",
                  "type": "string"
                }
              ],
              "conversionMethod": "pd.DataFrame",
              "ref": "04f473e8-d020-43b7-85ab-fc88610cbcab",
              "rows": [
                [
                  "51963",
                  "97ca439bc427b48bc1cd7177abe71365",
                  "00010242fe8c5a6d1ba2dd792cb16214",
                  "5",
                  "2017-09-21 00:00:00",
                  "2017-09-22 10:57:03"
                ],
                [
                  "27823",
                  "7b07bacd811c4117b742569b04ce3580",
                  "00018f77f2f0320c557190d7a144bdd3",
                  "4",
                  "2017-05-13 00:00:00",
                  "2017-05-15 11:34:13"
                ],
                [
                  "4218",
                  "0c5b33dea94867d1ac402749e5438e8b",
                  "000229ec398224ef6ca0657da4fc703e",
                  "5",
                  "2018-01-23 00:00:00",
                  "2018-01-23 16:06:31"
                ],
                [
                  "38844",
                  "f4028d019cb58564807486a6aaf33817",
                  "00024acbcdf0a6daa1e931b038114c75",
                  "4",
                  "2018-08-15 00:00:00",
                  "2018-08-15 16:39:01"
                ],
                [
                  "55676",
                  "940144190dcba6351888cafa43f3a3a5",
                  "00042b26cf59d7ce69dfabb4e55b4fd9",
                  "5",
                  "2017-03-02 00:00:00",
                  "2017-03-03 10:54:59"
                ],
                [
                  "22734",
                  "5e4e50af3b7960b7a10d86ec869509e8",
                  "00048cc3ae777c65dbb7d2a0634bc1ea",
                  "4",
                  "2017-05-23 00:00:00",
                  "2017-05-24 19:00:09"
                ],
                [
                  "93183",
                  "0381de7572d99d75230ce91207807265",
                  "00054e8431b9d7675808bcb819fb4a32",
                  "4",
                  "2017-12-19 00:00:00",
                  "2017-12-29 02:40:12"
                ],
                [
                  "90045",
                  "f0733ebeb51b637dfdc953983c867b89",
                  "000576fe39319847cbb9d288c5617fa6",
                  "5",
                  "2018-07-10 00:00:00",
                  "2018-07-11 20:14:25"
                ],
                [
                  "67797",
                  "67b1ab8f3ec19d5a90f153f21757d3a1",
                  "0005a1a1728c9d785b8e2b08b904576c",
                  "1",
                  "2018-03-30 00:00:00",
                  "2018-04-02 00:52:01"
                ],
                [
                  "35980",
                  "5c0b7e34ed85ec659bb064902d878e7a",
                  "0005f50442cb953dcd1d21e1fb923495",
                  "4",
                  "2018-07-05 00:00:00",
                  "2018-07-05 23:17:04"
                ],
                [
                  "24739",
                  "7e92c32ae297ef950ee69781d9f1760c",
                  "00061f2a7bc09da83e415a52dc8a4af1",
                  "5",
                  "2018-03-30 00:00:00",
                  "2018-03-30 04:04:56"
                ],
                [
                  "93724",
                  "5595c192e3c1566ab4e7a2748b8ed297",
                  "00063b381e2406b52ad429470734ebd5",
                  "5",
                  "2018-08-08 00:00:00",
                  "2018-08-09 00:12:30"
                ],
                [
                  "57039",
                  "6322c405c0f34bf3ad870fd1a6b1fced",
                  "0006ec9db01a64e59a68b2c340bf65a7",
                  "5",
                  "2018-07-31 00:00:00",
                  "2018-08-01 23:05:10"
                ],
                [
                  "15255",
                  "5505c1cce299b1e0b3f8e4b428417362",
                  "0008288aa423d2a3f00fcb17cd7d8719",
                  "5",
                  "2018-02-27 00:00:00",
                  "2018-03-02 10:20:40"
                ],
                [
                  "65876",
                  "236ccf78a5c4c350c18fdc1ae12b0187",
                  "0009792311464db532ff765bf7b182ae",
                  "5",
                  "2018-08-23 00:00:00",
                  "2018-08-23 16:11:56"
                ],
                [
                  "27298",
                  "787a452b54147f8f64737b1e040234af",
                  "0009c9a17f916a706d71784483a5d643",
                  "4",
                  "2018-05-01 00:00:00",
                  "2018-05-01 21:14:43"
                ],
                [
                  "95730",
                  "00800678dcf28b0ea0caef2147b6945d",
                  "000aed2e25dbad2f9ddb70584c5a2ded",
                  "1",
                  "2018-05-19 00:00:00",
                  "2018-05-22 10:52:24"
                ],
                [
                  "19646",
                  "51b9186876d4708a91786f8517fe7106",
                  "000c3e6612759851cc3cbb4b83257986",
                  "5",
                  "2017-08-20 00:00:00",
                  "2017-08-20 19:56:31"
                ],
                [
                  "27209",
                  "3b9a423bdbe8734ddfeb09bced16e5d9",
                  "000e562887b1f2006d75e0be9558292e",
                  "3",
                  "2018-03-13 00:00:00",
                  "2018-03-13 23:03:22"
                ],
                [
                  "58145",
                  "06f45fcd8b9b54c30b0de110eb849228",
                  "000e63d38ae8c00bbcb5a30573b99628",
                  "3",
                  "2018-03-28 00:00:00",
                  "2018-03-28 18:32:10"
                ],
                [
                  "81047",
                  "a5fb93d6a9e707bd84c07da74e8d79fd",
                  "000e906b789b55f64edcb1f84030f90d",
                  "3",
                  "2017-12-09 00:00:00",
                  "2017-12-11 09:55:13"
                ],
                [
                  "68980",
                  "775038877f3c507777081ff685e14a60",
                  "000f25f4d72195062c040b12dce9a18a",
                  "4",
                  "2018-03-23 00:00:00",
                  "2018-03-24 04:17:06"
                ],
                [
                  "62328",
                  "fa2d523cc60173d4889520763a2e4851",
                  "001021efaa8636c29475e7734483457d",
                  "4",
                  "2018-03-09 00:00:00",
                  "2018-03-13 14:04:38"
                ],
                [
                  "69662",
                  "f55e59915a07435c3615737a15470d96",
                  "0010b2e5201cc5f1ae7e9c6cc8f5bd00",
                  "5",
                  "2017-09-24 00:00:00",
                  "2017-09-24 18:35:01"
                ],
                [
                  "49765",
                  "d5d01007883616401b65674911160c82",
                  "0010dedd556712d7bb69a19cb7bbd37a",
                  "1",
                  "2017-11-08 00:00:00",
                  "2017-11-08 10:51:37"
                ],
                [
                  "93759",
                  "e79b1300216401c0212ab9b5a66372ff",
                  "00119ff934e539cf26f92b9ef0cdfed8",
                  "5",
                  "2017-08-17 00:00:00",
                  "2017-08-18 00:24:35"
                ],
                [
                  "79797",
                  "04a15fdeccc0572ca4f52b16cd50408a",
                  "0011d82c4b53e22e84023405fb467e57",
                  "4",
                  "2018-01-27 00:00:00",
                  "2018-01-28 13:18:49"
                ],
                [
                  "17680",
                  "08af1a16cca5edd546f4a10b6e87af2e",
                  "00125cb692d04887809806618a2a145f",
                  "5",
                  "2017-04-08 00:00:00",
                  "2017-04-13 16:42:37"
                ],
                [
                  "10287",
                  "4ff9a24999699f7104ed23fec2563351",
                  "00130c0eee84a3d909e75bc08c5c3ca1",
                  "5",
                  "2018-06-14 00:00:00",
                  "2018-06-14 19:50:09"
                ],
                [
                  "6754",
                  "b5c9aa83935388c89bd9b1b2ce6d1439",
                  "0013503b13da1eac686219390b7d641b",
                  "5",
                  "2017-12-21 00:00:00",
                  "2017-12-24 05:03:01"
                ],
                [
                  "11409",
                  "fe1711409007a1243f6fa3a1118d416c",
                  "00137e170939bba5a3134e2386413108",
                  "4",
                  "2017-12-12 00:00:00",
                  "2017-12-13 11:08:31"
                ],
                [
                  "43210",
                  "174a50ecc3181301a3585ff14ab5f98b",
                  "001427c0ec99cf8af737bd88e92fd444",
                  "2",
                  "2018-04-26 00:00:00",
                  "2018-04-29 11:07:36"
                ],
                [
                  "31395",
                  "81c4070474d420a77a2254b8a5473f6a",
                  "0014ae671de39511f7575066200733b7",
                  "5",
                  "2017-06-08 00:00:00",
                  "2017-06-09 14:25:13"
                ],
                [
                  "14268",
                  "282ec15daab81bd9afe2452fa0ee7b39",
                  "0015ebb40fb17286bea51d4607c4733c",
                  "5",
                  "2018-02-02 00:00:00",
                  "2018-02-03 09:38:42"
                ],
                [
                  "94924",
                  "28e20f3ef22e8795ea14e65f54e087a3",
                  "00169e31ef4b29deaae414f9a5e95929",
                  "1",
                  "2018-01-24 00:00:00",
                  "2018-01-24 23:36:29"
                ],
                [
                  "550",
                  "f11d548dc1a7c713bff0b6d2ef0dff7c",
                  "0016dfedd97fc2950e388d2971d718c7",
                  "5",
                  "2017-05-23 00:00:00",
                  "2017-05-24 20:08:51"
                ],
                [
                  "9296",
                  "f7bbac6b6901d7636435ea406a856e34",
                  "0017afd5076e074a48f1f1a4c7bac9c5",
                  "1",
                  "2017-05-21 00:00:00",
                  "2017-05-21 11:30:42"
                ],
                [
                  "6869",
                  "164fba09ca80765e400c72749b58c267",
                  "001862358bf858722e1e2ae000cfed8b",
                  "5",
                  "2018-02-16 00:00:00",
                  "2018-02-20 14:11:32"
                ],
                [
                  "76328",
                  "1e8067a9f38deb9426d4278fa2d213d0",
                  "0019c29108428acffd089c36103c9440",
                  "5",
                  "2018-03-17 00:00:00",
                  "2018-03-20 16:33:35"
                ],
                [
                  "22496",
                  "68b49cfcd9420c6ad09af97ea8268e7c",
                  "001ab0a7578dd66cd4b0a71f5b6e1e41",
                  "4",
                  "2018-01-18 00:00:00",
                  "2018-01-25 03:07:10"
                ],
                [
                  "66149",
                  "95ae5c0c6595c9f75ddc037cca0596ae",
                  "001ac194d4a326a6fa99b581e9a3d963",
                  "5",
                  "2018-07-13 00:00:00",
                  "2018-07-13 21:02:34"
                ],
                [
                  "73220",
                  "ed0405017b21b89fe55282aca123eeec",
                  "001b76dd48a5b1eee3e87778daa40df8",
                  "5",
                  "2018-04-07 00:00:00",
                  "2018-04-08 01:01:25"
                ],
                [
                  "14644",
                  "bef8f895661652ee0f5dbc2626864df3",
                  "001c85b5f68d2be0cb0797afc9e8ce9a",
                  "2",
                  "2017-12-16 00:00:00",
                  "2017-12-20 21:03:14"
                ],
                [
                  "80161",
                  "51ebb8fede4fbe6126f9f85ebdd23166",
                  "001d8f0e34a38c37f7dba2a37d4eba8b",
                  "1",
                  "2017-05-26 00:00:00",
                  "2017-05-26 20:19:13"
                ],
                [
                  "85329",
                  "df246bd48fbc0a0c9a7d4979c9192eec",
                  "001daeb0eddc45b999bad0801ad9d273",
                  "5",
                  "2017-06-09 00:00:00",
                  "2017-06-10 02:19:55"
                ],
                [
                  "68229",
                  "87d38823c8e926b57ec61e64f5466cfd",
                  "001dbc16dc51075e987543d23a0507c7",
                  "5",
                  "2017-02-14 00:00:00",
                  "2017-02-20 17:07:46"
                ],
                [
                  "49944",
                  "963e12d9a7c84e15c199bb5f062e599f",
                  "001e7ba991be1b19605ca0316e7130f9",
                  "5",
                  "2017-03-29 00:00:00",
                  "2017-03-31 14:40:45"
                ],
                [
                  "66534",
                  "048baba3f11436d12b06dab572aafc21",
                  "001e7cf2ad6bef3ade12ebc56ceaf0f3",
                  "1",
                  "2018-06-05 00:00:00",
                  "2018-06-06 19:01:54"
                ],
                [
                  "71653",
                  "1079dbb2bd2dd071f7d04a1925da6ce5",
                  "0020262c8a370bd5a174ea6a2a267321",
                  "4",
                  "2017-12-03 00:00:00",
                  "2017-12-03 17:06:39"
                ],
                [
                  "71708",
                  "ac2538373fcfab2aff0709fbc7ec69c9",
                  "0020a222f55eb79a372d0efee3cca688",
                  "5",
                  "2017-08-25 00:00:00",
                  "2017-08-26 05:26:29"
                ]
              ],
              "shape": {
                "columns": 5,
                "rows": 98673
              }
            },
            "text/html": [
              "<div>\n",
              "<style scoped>\n",
              "    .dataframe tbody tr th:only-of-type {\n",
              "        vertical-align: middle;\n",
              "    }\n",
              "\n",
              "    .dataframe tbody tr th {\n",
              "        vertical-align: top;\n",
              "    }\n",
              "\n",
              "    .dataframe thead th {\n",
              "        text-align: right;\n",
              "    }\n",
              "</style>\n",
              "<table border=\"1\" class=\"dataframe\">\n",
              "  <thead>\n",
              "    <tr style=\"text-align: right;\">\n",
              "      <th></th>\n",
              "      <th>review_id</th>\n",
              "      <th>order_id</th>\n",
              "      <th>review_score</th>\n",
              "      <th>review_creation_date</th>\n",
              "      <th>review_answer_timestamp</th>\n",
              "    </tr>\n",
              "  </thead>\n",
              "  <tbody>\n",
              "    <tr>\n",
              "      <th>51963</th>\n",
              "      <td>97ca439bc427b48bc1cd7177abe71365</td>\n",
              "      <td>00010242fe8c5a6d1ba2dd792cb16214</td>\n",
              "      <td>5</td>\n",
              "      <td>2017-09-21 00:00:00</td>\n",
              "      <td>2017-09-22 10:57:03</td>\n",
              "    </tr>\n",
              "    <tr>\n",
              "      <th>27823</th>\n",
              "      <td>7b07bacd811c4117b742569b04ce3580</td>\n",
              "      <td>00018f77f2f0320c557190d7a144bdd3</td>\n",
              "      <td>4</td>\n",
              "      <td>2017-05-13 00:00:00</td>\n",
              "      <td>2017-05-15 11:34:13</td>\n",
              "    </tr>\n",
              "    <tr>\n",
              "      <th>4218</th>\n",
              "      <td>0c5b33dea94867d1ac402749e5438e8b</td>\n",
              "      <td>000229ec398224ef6ca0657da4fc703e</td>\n",
              "      <td>5</td>\n",
              "      <td>2018-01-23 00:00:00</td>\n",
              "      <td>2018-01-23 16:06:31</td>\n",
              "    </tr>\n",
              "    <tr>\n",
              "      <th>38844</th>\n",
              "      <td>f4028d019cb58564807486a6aaf33817</td>\n",
              "      <td>00024acbcdf0a6daa1e931b038114c75</td>\n",
              "      <td>4</td>\n",
              "      <td>2018-08-15 00:00:00</td>\n",
              "      <td>2018-08-15 16:39:01</td>\n",
              "    </tr>\n",
              "    <tr>\n",
              "      <th>55676</th>\n",
              "      <td>940144190dcba6351888cafa43f3a3a5</td>\n",
              "      <td>00042b26cf59d7ce69dfabb4e55b4fd9</td>\n",
              "      <td>5</td>\n",
              "      <td>2017-03-02 00:00:00</td>\n",
              "      <td>2017-03-03 10:54:59</td>\n",
              "    </tr>\n",
              "    <tr>\n",
              "      <th>...</th>\n",
              "      <td>...</td>\n",
              "      <td>...</td>\n",
              "      <td>...</td>\n",
              "      <td>...</td>\n",
              "      <td>...</td>\n",
              "    </tr>\n",
              "    <tr>\n",
              "      <th>48178</th>\n",
              "      <td>9185f849f32d82e216a4e025e0c50f5c</td>\n",
              "      <td>fffc94f6ce00a00581880bf54a75a037</td>\n",
              "      <td>5</td>\n",
              "      <td>2018-05-11 00:00:00</td>\n",
              "      <td>2018-05-14 12:53:47</td>\n",
              "    </tr>\n",
              "    <tr>\n",
              "      <th>21684</th>\n",
              "      <td>be803f6a93d64719fd685c1cc610918a</td>\n",
              "      <td>fffcd46ef2263f404302a634eb57f7eb</td>\n",
              "      <td>5</td>\n",
              "      <td>2018-07-24 00:00:00</td>\n",
              "      <td>2018-07-25 09:25:29</td>\n",
              "    </tr>\n",
              "    <tr>\n",
              "      <th>37509</th>\n",
              "      <td>dbdd81cd59a1a9f94a10a990b4d48dce</td>\n",
              "      <td>fffce4705a9662cd70adb13d4a31832d</td>\n",
              "      <td>5</td>\n",
              "      <td>2017-10-29 00:00:00</td>\n",
              "      <td>2017-10-29 21:33:52</td>\n",
              "    </tr>\n",
              "    <tr>\n",
              "      <th>50462</th>\n",
              "      <td>fba117c9ac40d41ca7be54741f471303</td>\n",
              "      <td>fffe18544ffabc95dfada21779c9644f</td>\n",
              "      <td>5</td>\n",
              "      <td>2017-08-17 00:00:00</td>\n",
              "      <td>2017-08-18 12:24:05</td>\n",
              "    </tr>\n",
              "    <tr>\n",
              "      <th>92457</th>\n",
              "      <td>b2700869a37f1aafc9dda829dc2f9027</td>\n",
              "      <td>fffe41c64501cc87c801fd61db3f6244</td>\n",
              "      <td>5</td>\n",
              "      <td>2018-06-15 00:00:00</td>\n",
              "      <td>2018-06-17 21:27:09</td>\n",
              "    </tr>\n",
              "  </tbody>\n",
              "</table>\n",
              "<p>98673 rows × 5 columns</p>\n",
              "</div>"
            ],
            "text/plain": [
              "                              review_id                          order_id  \\\n",
              "51963  97ca439bc427b48bc1cd7177abe71365  00010242fe8c5a6d1ba2dd792cb16214   \n",
              "27823  7b07bacd811c4117b742569b04ce3580  00018f77f2f0320c557190d7a144bdd3   \n",
              "4218   0c5b33dea94867d1ac402749e5438e8b  000229ec398224ef6ca0657da4fc703e   \n",
              "38844  f4028d019cb58564807486a6aaf33817  00024acbcdf0a6daa1e931b038114c75   \n",
              "55676  940144190dcba6351888cafa43f3a3a5  00042b26cf59d7ce69dfabb4e55b4fd9   \n",
              "...                                 ...                               ...   \n",
              "48178  9185f849f32d82e216a4e025e0c50f5c  fffc94f6ce00a00581880bf54a75a037   \n",
              "21684  be803f6a93d64719fd685c1cc610918a  fffcd46ef2263f404302a634eb57f7eb   \n",
              "37509  dbdd81cd59a1a9f94a10a990b4d48dce  fffce4705a9662cd70adb13d4a31832d   \n",
              "50462  fba117c9ac40d41ca7be54741f471303  fffe18544ffabc95dfada21779c9644f   \n",
              "92457  b2700869a37f1aafc9dda829dc2f9027  fffe41c64501cc87c801fd61db3f6244   \n",
              "\n",
              "       review_score review_creation_date review_answer_timestamp  \n",
              "51963             5  2017-09-21 00:00:00     2017-09-22 10:57:03  \n",
              "27823             4  2017-05-13 00:00:00     2017-05-15 11:34:13  \n",
              "4218              5  2018-01-23 00:00:00     2018-01-23 16:06:31  \n",
              "38844             4  2018-08-15 00:00:00     2018-08-15 16:39:01  \n",
              "55676             5  2017-03-02 00:00:00     2017-03-03 10:54:59  \n",
              "...             ...                  ...                     ...  \n",
              "48178             5  2018-05-11 00:00:00     2018-05-14 12:53:47  \n",
              "21684             5  2018-07-24 00:00:00     2018-07-25 09:25:29  \n",
              "37509             5  2017-10-29 00:00:00     2017-10-29 21:33:52  \n",
              "50462             5  2017-08-17 00:00:00     2017-08-18 12:24:05  \n",
              "92457             5  2018-06-15 00:00:00     2018-06-17 21:27:09  \n",
              "\n",
              "[98673 rows x 5 columns]"
            ]
          },
          "execution_count": 150,
          "metadata": {},
          "output_type": "execute_result"
        }
      ],
      "source": [
        "reviews_df"
      ]
    },
    {
      "cell_type": "markdown",
      "metadata": {},
      "source": [
        "#### `payments_df`"
      ]
    },
    {
      "cell_type": "code",
      "execution_count": 151,
      "metadata": {},
      "outputs": [
        {
          "name": "stdout",
          "output_type": "stream",
          "text": [
            "<class 'pandas.core.frame.DataFrame'>\n",
            "RangeIndex: 103886 entries, 0 to 103885\n",
            "Data columns (total 5 columns):\n",
            " #   Column                Non-Null Count   Dtype  \n",
            "---  ------                --------------   -----  \n",
            " 0   order_id              103886 non-null  object \n",
            " 1   payment_sequential    103886 non-null  int64  \n",
            " 2   payment_type          103886 non-null  object \n",
            " 3   payment_installments  103886 non-null  int64  \n",
            " 4   payment_value         103886 non-null  float64\n",
            "dtypes: float64(1), int64(2), object(2)\n",
            "memory usage: 4.0+ MB\n"
          ]
        }
      ],
      "source": [
        "payments_df.info()"
      ]
    },
    {
      "cell_type": "code",
      "execution_count": 152,
      "metadata": {},
      "outputs": [
        {
          "data": {
            "text/plain": [
              "order_id                99440\n",
              "payment_sequential         29\n",
              "payment_type                5\n",
              "payment_installments       24\n",
              "payment_value           29077\n",
              "dtype: int64"
            ]
          },
          "execution_count": 152,
          "metadata": {},
          "output_type": "execute_result"
        }
      ],
      "source": [
        "payments_df.nunique()"
      ]
    },
    {
      "cell_type": "markdown",
      "metadata": {},
      "source": [
        "##### Duplicate Data"
      ]
    },
    {
      "cell_type": "code",
      "execution_count": 153,
      "metadata": {},
      "outputs": [
        {
          "data": {
            "text/plain": [
              "0"
            ]
          },
          "execution_count": 153,
          "metadata": {},
          "output_type": "execute_result"
        }
      ],
      "source": [
        "payments_df.duplicated().sum()"
      ]
    },
    {
      "cell_type": "markdown",
      "metadata": {},
      "source": [
        "Grouping Berdasarkan *order_id*"
      ]
    },
    {
      "cell_type": "code",
      "execution_count": 154,
      "metadata": {},
      "outputs": [
        {
          "data": {
            "application/vnd.microsoft.datawrangler.viewer.v0+json": {
              "columns": [
                {
                  "name": "index",
                  "rawType": "int64",
                  "type": "integer"
                },
                {
                  "name": "order_id",
                  "rawType": "object",
                  "type": "string"
                },
                {
                  "name": "payment_sequential",
                  "rawType": "int64",
                  "type": "integer"
                },
                {
                  "name": "payment_type",
                  "rawType": "int64",
                  "type": "integer"
                },
                {
                  "name": "payment_installments",
                  "rawType": "int64",
                  "type": "integer"
                },
                {
                  "name": "payment_value",
                  "rawType": "int64",
                  "type": "integer"
                }
              ],
              "conversionMethod": "pd.DataFrame",
              "ref": "ba049807-7d5e-410c-9653-ece62de355d6",
              "rows": [
                [
                  "0",
                  "00010242fe8c5a6d1ba2dd792cb16214",
                  "1",
                  "1",
                  "1",
                  "1"
                ],
                [
                  "1",
                  "00018f77f2f0320c557190d7a144bdd3",
                  "1",
                  "1",
                  "1",
                  "1"
                ],
                [
                  "2",
                  "000229ec398224ef6ca0657da4fc703e",
                  "1",
                  "1",
                  "1",
                  "1"
                ],
                [
                  "3",
                  "00024acbcdf0a6daa1e931b038114c75",
                  "1",
                  "1",
                  "1",
                  "1"
                ],
                [
                  "4",
                  "00042b26cf59d7ce69dfabb4e55b4fd9",
                  "1",
                  "1",
                  "1",
                  "1"
                ],
                [
                  "5",
                  "00048cc3ae777c65dbb7d2a0634bc1ea",
                  "1",
                  "1",
                  "1",
                  "1"
                ],
                [
                  "6",
                  "00054e8431b9d7675808bcb819fb4a32",
                  "1",
                  "1",
                  "1",
                  "1"
                ],
                [
                  "7",
                  "000576fe39319847cbb9d288c5617fa6",
                  "1",
                  "1",
                  "1",
                  "1"
                ],
                [
                  "8",
                  "0005a1a1728c9d785b8e2b08b904576c",
                  "1",
                  "1",
                  "1",
                  "1"
                ],
                [
                  "9",
                  "0005f50442cb953dcd1d21e1fb923495",
                  "1",
                  "1",
                  "1",
                  "1"
                ],
                [
                  "10",
                  "00061f2a7bc09da83e415a52dc8a4af1",
                  "1",
                  "1",
                  "1",
                  "1"
                ],
                [
                  "11",
                  "00063b381e2406b52ad429470734ebd5",
                  "1",
                  "1",
                  "1",
                  "1"
                ],
                [
                  "12",
                  "0006ec9db01a64e59a68b2c340bf65a7",
                  "1",
                  "1",
                  "1",
                  "1"
                ],
                [
                  "13",
                  "0008288aa423d2a3f00fcb17cd7d8719",
                  "1",
                  "1",
                  "1",
                  "1"
                ],
                [
                  "14",
                  "0009792311464db532ff765bf7b182ae",
                  "1",
                  "1",
                  "1",
                  "1"
                ],
                [
                  "15",
                  "0009c9a17f916a706d71784483a5d643",
                  "1",
                  "1",
                  "1",
                  "1"
                ],
                [
                  "16",
                  "000aed2e25dbad2f9ddb70584c5a2ded",
                  "1",
                  "1",
                  "1",
                  "1"
                ],
                [
                  "17",
                  "000c3e6612759851cc3cbb4b83257986",
                  "1",
                  "1",
                  "1",
                  "1"
                ],
                [
                  "18",
                  "000e562887b1f2006d75e0be9558292e",
                  "1",
                  "1",
                  "1",
                  "1"
                ],
                [
                  "19",
                  "000e63d38ae8c00bbcb5a30573b99628",
                  "1",
                  "1",
                  "1",
                  "1"
                ],
                [
                  "20",
                  "000e906b789b55f64edcb1f84030f90d",
                  "1",
                  "1",
                  "1",
                  "1"
                ],
                [
                  "21",
                  "000f25f4d72195062c040b12dce9a18a",
                  "1",
                  "1",
                  "1",
                  "1"
                ],
                [
                  "22",
                  "001021efaa8636c29475e7734483457d",
                  "1",
                  "1",
                  "1",
                  "1"
                ],
                [
                  "23",
                  "0010b2e5201cc5f1ae7e9c6cc8f5bd00",
                  "1",
                  "1",
                  "1",
                  "1"
                ],
                [
                  "24",
                  "0010dedd556712d7bb69a19cb7bbd37a",
                  "1",
                  "1",
                  "1",
                  "1"
                ],
                [
                  "25",
                  "00119ff934e539cf26f92b9ef0cdfed8",
                  "1",
                  "1",
                  "1",
                  "1"
                ],
                [
                  "26",
                  "0011d82c4b53e22e84023405fb467e57",
                  "1",
                  "1",
                  "1",
                  "1"
                ],
                [
                  "27",
                  "00125cb692d04887809806618a2a145f",
                  "1",
                  "1",
                  "1",
                  "1"
                ],
                [
                  "28",
                  "00130c0eee84a3d909e75bc08c5c3ca1",
                  "1",
                  "1",
                  "1",
                  "1"
                ],
                [
                  "29",
                  "0013503b13da1eac686219390b7d641b",
                  "1",
                  "1",
                  "1",
                  "1"
                ],
                [
                  "30",
                  "00137e170939bba5a3134e2386413108",
                  "1",
                  "1",
                  "1",
                  "1"
                ],
                [
                  "31",
                  "001427c0ec99cf8af737bd88e92fd444",
                  "1",
                  "1",
                  "1",
                  "1"
                ],
                [
                  "32",
                  "00143d0f86d6fbd9f9b38ab440ac16f5",
                  "1",
                  "1",
                  "1",
                  "1"
                ],
                [
                  "33",
                  "0014ae671de39511f7575066200733b7",
                  "1",
                  "1",
                  "1",
                  "1"
                ],
                [
                  "34",
                  "0015ebb40fb17286bea51d4607c4733c",
                  "1",
                  "1",
                  "1",
                  "1"
                ],
                [
                  "35",
                  "00169e31ef4b29deaae414f9a5e95929",
                  "1",
                  "1",
                  "1",
                  "1"
                ],
                [
                  "36",
                  "0016dfedd97fc2950e388d2971d718c7",
                  "2",
                  "2",
                  "2",
                  "2"
                ],
                [
                  "37",
                  "0017afd5076e074a48f1f1a4c7bac9c5",
                  "1",
                  "1",
                  "1",
                  "1"
                ],
                [
                  "38",
                  "001862358bf858722e1e2ae000cfed8b",
                  "1",
                  "1",
                  "1",
                  "1"
                ],
                [
                  "39",
                  "0019c29108428acffd089c36103c9440",
                  "1",
                  "1",
                  "1",
                  "1"
                ],
                [
                  "40",
                  "001ab0a7578dd66cd4b0a71f5b6e1e41",
                  "1",
                  "1",
                  "1",
                  "1"
                ],
                [
                  "41",
                  "001ac194d4a326a6fa99b581e9a3d963",
                  "1",
                  "1",
                  "1",
                  "1"
                ],
                [
                  "42",
                  "001b76dd48a5b1eee3e87778daa40df8",
                  "1",
                  "1",
                  "1",
                  "1"
                ],
                [
                  "43",
                  "001c85b5f68d2be0cb0797afc9e8ce9a",
                  "1",
                  "1",
                  "1",
                  "1"
                ],
                [
                  "44",
                  "001d8f0e34a38c37f7dba2a37d4eba8b",
                  "1",
                  "1",
                  "1",
                  "1"
                ],
                [
                  "45",
                  "001daeb0eddc45b999bad0801ad9d273",
                  "1",
                  "1",
                  "1",
                  "1"
                ],
                [
                  "46",
                  "001dbc16dc51075e987543d23a0507c7",
                  "1",
                  "1",
                  "1",
                  "1"
                ],
                [
                  "47",
                  "001e7ba991be1b19605ca0316e7130f9",
                  "1",
                  "1",
                  "1",
                  "1"
                ],
                [
                  "48",
                  "001e7cf2ad6bef3ade12ebc56ceaf0f3",
                  "1",
                  "1",
                  "1",
                  "1"
                ],
                [
                  "49",
                  "0020262c8a370bd5a174ea6a2a267321",
                  "1",
                  "1",
                  "1",
                  "1"
                ]
              ],
              "shape": {
                "columns": 5,
                "rows": 99440
              }
            },
            "text/html": [
              "<div>\n",
              "<style scoped>\n",
              "    .dataframe tbody tr th:only-of-type {\n",
              "        vertical-align: middle;\n",
              "    }\n",
              "\n",
              "    .dataframe tbody tr th {\n",
              "        vertical-align: top;\n",
              "    }\n",
              "\n",
              "    .dataframe thead th {\n",
              "        text-align: right;\n",
              "    }\n",
              "</style>\n",
              "<table border=\"1\" class=\"dataframe\">\n",
              "  <thead>\n",
              "    <tr style=\"text-align: right;\">\n",
              "      <th></th>\n",
              "      <th>order_id</th>\n",
              "      <th>payment_sequential</th>\n",
              "      <th>payment_type</th>\n",
              "      <th>payment_installments</th>\n",
              "      <th>payment_value</th>\n",
              "    </tr>\n",
              "  </thead>\n",
              "  <tbody>\n",
              "    <tr>\n",
              "      <th>0</th>\n",
              "      <td>00010242fe8c5a6d1ba2dd792cb16214</td>\n",
              "      <td>1</td>\n",
              "      <td>1</td>\n",
              "      <td>1</td>\n",
              "      <td>1</td>\n",
              "    </tr>\n",
              "    <tr>\n",
              "      <th>1</th>\n",
              "      <td>00018f77f2f0320c557190d7a144bdd3</td>\n",
              "      <td>1</td>\n",
              "      <td>1</td>\n",
              "      <td>1</td>\n",
              "      <td>1</td>\n",
              "    </tr>\n",
              "    <tr>\n",
              "      <th>2</th>\n",
              "      <td>000229ec398224ef6ca0657da4fc703e</td>\n",
              "      <td>1</td>\n",
              "      <td>1</td>\n",
              "      <td>1</td>\n",
              "      <td>1</td>\n",
              "    </tr>\n",
              "    <tr>\n",
              "      <th>3</th>\n",
              "      <td>00024acbcdf0a6daa1e931b038114c75</td>\n",
              "      <td>1</td>\n",
              "      <td>1</td>\n",
              "      <td>1</td>\n",
              "      <td>1</td>\n",
              "    </tr>\n",
              "    <tr>\n",
              "      <th>4</th>\n",
              "      <td>00042b26cf59d7ce69dfabb4e55b4fd9</td>\n",
              "      <td>1</td>\n",
              "      <td>1</td>\n",
              "      <td>1</td>\n",
              "      <td>1</td>\n",
              "    </tr>\n",
              "    <tr>\n",
              "      <th>...</th>\n",
              "      <td>...</td>\n",
              "      <td>...</td>\n",
              "      <td>...</td>\n",
              "      <td>...</td>\n",
              "      <td>...</td>\n",
              "    </tr>\n",
              "    <tr>\n",
              "      <th>99435</th>\n",
              "      <td>fffc94f6ce00a00581880bf54a75a037</td>\n",
              "      <td>1</td>\n",
              "      <td>1</td>\n",
              "      <td>1</td>\n",
              "      <td>1</td>\n",
              "    </tr>\n",
              "    <tr>\n",
              "      <th>99436</th>\n",
              "      <td>fffcd46ef2263f404302a634eb57f7eb</td>\n",
              "      <td>1</td>\n",
              "      <td>1</td>\n",
              "      <td>1</td>\n",
              "      <td>1</td>\n",
              "    </tr>\n",
              "    <tr>\n",
              "      <th>99437</th>\n",
              "      <td>fffce4705a9662cd70adb13d4a31832d</td>\n",
              "      <td>1</td>\n",
              "      <td>1</td>\n",
              "      <td>1</td>\n",
              "      <td>1</td>\n",
              "    </tr>\n",
              "    <tr>\n",
              "      <th>99438</th>\n",
              "      <td>fffe18544ffabc95dfada21779c9644f</td>\n",
              "      <td>1</td>\n",
              "      <td>1</td>\n",
              "      <td>1</td>\n",
              "      <td>1</td>\n",
              "    </tr>\n",
              "    <tr>\n",
              "      <th>99439</th>\n",
              "      <td>fffe41c64501cc87c801fd61db3f6244</td>\n",
              "      <td>1</td>\n",
              "      <td>1</td>\n",
              "      <td>1</td>\n",
              "      <td>1</td>\n",
              "    </tr>\n",
              "  </tbody>\n",
              "</table>\n",
              "<p>99440 rows × 5 columns</p>\n",
              "</div>"
            ],
            "text/plain": [
              "                               order_id  payment_sequential  payment_type  \\\n",
              "0      00010242fe8c5a6d1ba2dd792cb16214                   1             1   \n",
              "1      00018f77f2f0320c557190d7a144bdd3                   1             1   \n",
              "2      000229ec398224ef6ca0657da4fc703e                   1             1   \n",
              "3      00024acbcdf0a6daa1e931b038114c75                   1             1   \n",
              "4      00042b26cf59d7ce69dfabb4e55b4fd9                   1             1   \n",
              "...                                 ...                 ...           ...   \n",
              "99435  fffc94f6ce00a00581880bf54a75a037                   1             1   \n",
              "99436  fffcd46ef2263f404302a634eb57f7eb                   1             1   \n",
              "99437  fffce4705a9662cd70adb13d4a31832d                   1             1   \n",
              "99438  fffe18544ffabc95dfada21779c9644f                   1             1   \n",
              "99439  fffe41c64501cc87c801fd61db3f6244                   1             1   \n",
              "\n",
              "       payment_installments  payment_value  \n",
              "0                         1              1  \n",
              "1                         1              1  \n",
              "2                         1              1  \n",
              "3                         1              1  \n",
              "4                         1              1  \n",
              "...                     ...            ...  \n",
              "99435                     1              1  \n",
              "99436                     1              1  \n",
              "99437                     1              1  \n",
              "99438                     1              1  \n",
              "99439                     1              1  \n",
              "\n",
              "[99440 rows x 5 columns]"
            ]
          },
          "execution_count": 154,
          "metadata": {},
          "output_type": "execute_result"
        }
      ],
      "source": [
        "payments_group_df = payments_df.groupby(by='order_id').agg({\n",
        "    'payment_sequential': 'nunique',\n",
        "    'payment_type': 'nunique',\n",
        "    'payment_installments': 'nunique',\n",
        "    'payment_value': 'nunique'\n",
        "}).reset_index()\n",
        "\n",
        "payments_group_df"
      ]
    },
    {
      "cell_type": "code",
      "execution_count": 155,
      "metadata": {},
      "outputs": [
        {
          "data": {
            "application/vnd.microsoft.datawrangler.viewer.v0+json": {
              "columns": [
                {
                  "name": "index",
                  "rawType": "int64",
                  "type": "integer"
                },
                {
                  "name": "order_id",
                  "rawType": "object",
                  "type": "string"
                },
                {
                  "name": "payment_sequential",
                  "rawType": "int64",
                  "type": "integer"
                },
                {
                  "name": "payment_type",
                  "rawType": "int64",
                  "type": "integer"
                },
                {
                  "name": "payment_installments",
                  "rawType": "int64",
                  "type": "integer"
                },
                {
                  "name": "payment_value",
                  "rawType": "int64",
                  "type": "integer"
                }
              ],
              "conversionMethod": "pd.DataFrame",
              "ref": "2e2f734c-cd8b-47b4-9972-d508f9312a86",
              "rows": [
                [
                  "36",
                  "0016dfedd97fc2950e388d2971d718c7",
                  "2",
                  "2",
                  "2",
                  "2"
                ],
                [
                  "73",
                  "002f19a65a2ddd70a090297872e6d64e",
                  "2",
                  "1",
                  "1",
                  "2"
                ],
                [
                  "161",
                  "0071ee2429bc1efdc43aa3e073a5290e",
                  "2",
                  "1",
                  "1",
                  "2"
                ],
                [
                  "215",
                  "009ac365164f8e06f59d18a08045f6c4",
                  "6",
                  "2",
                  "1",
                  "6"
                ],
                [
                  "258",
                  "00b4a910f64f24dbcac04fe54088a443",
                  "2",
                  "2",
                  "1",
                  "2"
                ],
                [
                  "274",
                  "00bd50cdd31bd22e9081e6e2d5b3577b",
                  "3",
                  "2",
                  "1",
                  "2"
                ],
                [
                  "282",
                  "00c405bd71187154a7846862f585a9d4",
                  "7",
                  "2",
                  "1",
                  "5"
                ],
                [
                  "295",
                  "00c95282163553a982f38481f9488481",
                  "4",
                  "2",
                  "1",
                  "2"
                ],
                [
                  "338",
                  "00e6bc6b166eb28b4502c1cad4457248",
                  "2",
                  "2",
                  "2",
                  "2"
                ],
                [
                  "464",
                  "013037c3f1773cc8fdbaf8ff54d8013b",
                  "2",
                  "2",
                  "1",
                  "2"
                ],
                [
                  "476",
                  "01358622f65717728b3b2ec2cf4e8812",
                  "2",
                  "1",
                  "1",
                  "2"
                ],
                [
                  "484",
                  "013bc77d3ca5fba084a241fdcb307393",
                  "2",
                  "1",
                  "1",
                  "2"
                ],
                [
                  "803",
                  "0216ea85f929ce4795f933573c6bb055",
                  "2",
                  "1",
                  "1",
                  "2"
                ],
                [
                  "806",
                  "0218c7a4fb8d5b1bd22c82b783b8359c",
                  "2",
                  "2",
                  "1",
                  "2"
                ],
                [
                  "939",
                  "02725851051698269253f0823e7824b6",
                  "2",
                  "2",
                  "1",
                  "2"
                ],
                [
                  "961",
                  "028369515408fa864cfe50091d4e76c5",
                  "2",
                  "2",
                  "1",
                  "2"
                ],
                [
                  "990",
                  "02950daa1214da108fb29cb5a0a3f74e",
                  "2",
                  "1",
                  "1",
                  "2"
                ],
                [
                  "1080",
                  "02d0cd05f04ab2e3c1acc473b0abc865",
                  "2",
                  "1",
                  "2",
                  "2"
                ],
                [
                  "1097",
                  "02dbd29bc7a490d582762fae9f0fd997",
                  "2",
                  "2",
                  "1",
                  "2"
                ],
                [
                  "1123",
                  "02ec4da9d03014f06d711d60eb37cc22",
                  "2",
                  "2",
                  "2",
                  "2"
                ],
                [
                  "1239",
                  "033a7061d514534d3459c3f1f06fe341",
                  "2",
                  "2",
                  "1",
                  "2"
                ],
                [
                  "1248",
                  "033ccfbdfc4d29677b7e1e6df3a82820",
                  "2",
                  "1",
                  "1",
                  "2"
                ],
                [
                  "1294",
                  "035678e70978296fb0e7469a611c322e",
                  "2",
                  "2",
                  "1",
                  "2"
                ],
                [
                  "1302",
                  "035ab6fc3b7f9d16f714a337ee63b7be",
                  "2",
                  "2",
                  "1",
                  "2"
                ],
                [
                  "1310",
                  "03604d9c184f9290e997c49fb585b2b5",
                  "2",
                  "1",
                  "1",
                  "2"
                ],
                [
                  "1347",
                  "037556f936da90c5f9504956ff286860",
                  "2",
                  "1",
                  "1",
                  "2"
                ],
                [
                  "1383",
                  "0392bc239ce28b0377e6b3073df2c674",
                  "2",
                  "2",
                  "1",
                  "2"
                ],
                [
                  "1402",
                  "039f61edec89c6f0edf8dd1a0bdea1fe",
                  "3",
                  "2",
                  "2",
                  "3"
                ],
                [
                  "1410",
                  "03a10721769c7d8f2fefab105e64fbef",
                  "2",
                  "2",
                  "2",
                  "2"
                ],
                [
                  "1470",
                  "03c968d10d8c63bd2388245d02579fde",
                  "2",
                  "2",
                  "2",
                  "2"
                ],
                [
                  "1513",
                  "03e5d6a8dd520898f86f8429ccd07c21",
                  "3",
                  "1",
                  "1",
                  "2"
                ],
                [
                  "1526",
                  "03ecec245220b63fd7f68c1737ba99ba",
                  "2",
                  "2",
                  "2",
                  "2"
                ],
                [
                  "1543",
                  "03f51c9adce893f63936c5146701aa2f",
                  "2",
                  "2",
                  "2",
                  "2"
                ],
                [
                  "1621",
                  "041f09bbcd85d178903f5bb71f11a02e",
                  "2",
                  "1",
                  "1",
                  "2"
                ],
                [
                  "1624",
                  "0420dbc50fc554e303e4b2d6b39063f6",
                  "2",
                  "2",
                  "2",
                  "2"
                ],
                [
                  "1632",
                  "042649285cd08ef7c546445419b43407",
                  "2",
                  "2",
                  "1",
                  "2"
                ],
                [
                  "1768",
                  "0484f1d11d891ff86fcc2d225ce7094e",
                  "2",
                  "2",
                  "1",
                  "2"
                ],
                [
                  "1795",
                  "04915529f622f4b069fb4501085fd905",
                  "2",
                  "2",
                  "1",
                  "2"
                ],
                [
                  "1856",
                  "04b8c60eb3cceaecde917716daa30bde",
                  "2",
                  "2",
                  "1",
                  "2"
                ],
                [
                  "1870",
                  "04c3465b312fdf85de8e4cf4dc186600",
                  "2",
                  "2",
                  "2",
                  "2"
                ],
                [
                  "1872",
                  "04c35d9b971c2df38635b6c4a1983c35",
                  "2",
                  "2",
                  "1",
                  "2"
                ],
                [
                  "1886",
                  "04d3e9115c05c6494aa7c1063f96db5e",
                  "2",
                  "2",
                  "2",
                  "2"
                ],
                [
                  "1933",
                  "04f2e760bb583d5d2f8b88e247d58d09",
                  "2",
                  "2",
                  "1",
                  "2"
                ],
                [
                  "1980",
                  "0516c22655fe1e1f0b3390f4ee3fc5f6",
                  "2",
                  "1",
                  "1",
                  "2"
                ],
                [
                  "2098",
                  "055bef2dbc886956379d21a556e11ff9",
                  "2",
                  "2",
                  "1",
                  "2"
                ],
                [
                  "2143",
                  "0572c996d9b4a7645bb071a158a64bbb",
                  "2",
                  "2",
                  "1",
                  "2"
                ],
                [
                  "2166",
                  "0580cfd05da4901cede805697f39a632",
                  "2",
                  "2",
                  "1",
                  "2"
                ],
                [
                  "2167",
                  "0581cc006c5d0b4351b5435336828add",
                  "2",
                  "2",
                  "1",
                  "2"
                ],
                [
                  "2230",
                  "05aac5a18dcd77932007f57de8650622",
                  "2",
                  "2",
                  "2",
                  "2"
                ],
                [
                  "2254",
                  "05bd0df2a2f8b3719b66372a66b8f5ec",
                  "2",
                  "2",
                  "1",
                  "2"
                ]
              ],
              "shape": {
                "columns": 5,
                "rows": 2961
              }
            },
            "text/html": [
              "<div>\n",
              "<style scoped>\n",
              "    .dataframe tbody tr th:only-of-type {\n",
              "        vertical-align: middle;\n",
              "    }\n",
              "\n",
              "    .dataframe tbody tr th {\n",
              "        vertical-align: top;\n",
              "    }\n",
              "\n",
              "    .dataframe thead th {\n",
              "        text-align: right;\n",
              "    }\n",
              "</style>\n",
              "<table border=\"1\" class=\"dataframe\">\n",
              "  <thead>\n",
              "    <tr style=\"text-align: right;\">\n",
              "      <th></th>\n",
              "      <th>order_id</th>\n",
              "      <th>payment_sequential</th>\n",
              "      <th>payment_type</th>\n",
              "      <th>payment_installments</th>\n",
              "      <th>payment_value</th>\n",
              "    </tr>\n",
              "  </thead>\n",
              "  <tbody>\n",
              "    <tr>\n",
              "      <th>36</th>\n",
              "      <td>0016dfedd97fc2950e388d2971d718c7</td>\n",
              "      <td>2</td>\n",
              "      <td>2</td>\n",
              "      <td>2</td>\n",
              "      <td>2</td>\n",
              "    </tr>\n",
              "    <tr>\n",
              "      <th>73</th>\n",
              "      <td>002f19a65a2ddd70a090297872e6d64e</td>\n",
              "      <td>2</td>\n",
              "      <td>1</td>\n",
              "      <td>1</td>\n",
              "      <td>2</td>\n",
              "    </tr>\n",
              "    <tr>\n",
              "      <th>161</th>\n",
              "      <td>0071ee2429bc1efdc43aa3e073a5290e</td>\n",
              "      <td>2</td>\n",
              "      <td>1</td>\n",
              "      <td>1</td>\n",
              "      <td>2</td>\n",
              "    </tr>\n",
              "    <tr>\n",
              "      <th>215</th>\n",
              "      <td>009ac365164f8e06f59d18a08045f6c4</td>\n",
              "      <td>6</td>\n",
              "      <td>2</td>\n",
              "      <td>1</td>\n",
              "      <td>6</td>\n",
              "    </tr>\n",
              "    <tr>\n",
              "      <th>258</th>\n",
              "      <td>00b4a910f64f24dbcac04fe54088a443</td>\n",
              "      <td>2</td>\n",
              "      <td>2</td>\n",
              "      <td>1</td>\n",
              "      <td>2</td>\n",
              "    </tr>\n",
              "    <tr>\n",
              "      <th>...</th>\n",
              "      <td>...</td>\n",
              "      <td>...</td>\n",
              "      <td>...</td>\n",
              "      <td>...</td>\n",
              "      <td>...</td>\n",
              "    </tr>\n",
              "    <tr>\n",
              "      <th>99241</th>\n",
              "      <td>ff7400d904161b62b6e830b3988f5cbd</td>\n",
              "      <td>2</td>\n",
              "      <td>2</td>\n",
              "      <td>1</td>\n",
              "      <td>2</td>\n",
              "    </tr>\n",
              "    <tr>\n",
              "      <th>99293</th>\n",
              "      <td>ff978de32e717acd3b5abe1fb069d2b6</td>\n",
              "      <td>4</td>\n",
              "      <td>1</td>\n",
              "      <td>1</td>\n",
              "      <td>4</td>\n",
              "    </tr>\n",
              "    <tr>\n",
              "      <th>99304</th>\n",
              "      <td>ffa1dd97810de91a03abd7bd76d2fed1</td>\n",
              "      <td>2</td>\n",
              "      <td>2</td>\n",
              "      <td>1</td>\n",
              "      <td>2</td>\n",
              "    </tr>\n",
              "    <tr>\n",
              "      <th>99308</th>\n",
              "      <td>ffa39020fe7c8a3e907320e1bec4b985</td>\n",
              "      <td>2</td>\n",
              "      <td>2</td>\n",
              "      <td>1</td>\n",
              "      <td>2</td>\n",
              "    </tr>\n",
              "    <tr>\n",
              "      <th>99360</th>\n",
              "      <td>ffc730a0615d28ec19f9cad02cb41442</td>\n",
              "      <td>2</td>\n",
              "      <td>1</td>\n",
              "      <td>1</td>\n",
              "      <td>2</td>\n",
              "    </tr>\n",
              "  </tbody>\n",
              "</table>\n",
              "<p>2961 rows × 5 columns</p>\n",
              "</div>"
            ],
            "text/plain": [
              "                               order_id  payment_sequential  payment_type  \\\n",
              "36     0016dfedd97fc2950e388d2971d718c7                   2             2   \n",
              "73     002f19a65a2ddd70a090297872e6d64e                   2             1   \n",
              "161    0071ee2429bc1efdc43aa3e073a5290e                   2             1   \n",
              "215    009ac365164f8e06f59d18a08045f6c4                   6             2   \n",
              "258    00b4a910f64f24dbcac04fe54088a443                   2             2   \n",
              "...                                 ...                 ...           ...   \n",
              "99241  ff7400d904161b62b6e830b3988f5cbd                   2             2   \n",
              "99293  ff978de32e717acd3b5abe1fb069d2b6                   4             1   \n",
              "99304  ffa1dd97810de91a03abd7bd76d2fed1                   2             2   \n",
              "99308  ffa39020fe7c8a3e907320e1bec4b985                   2             2   \n",
              "99360  ffc730a0615d28ec19f9cad02cb41442                   2             1   \n",
              "\n",
              "       payment_installments  payment_value  \n",
              "36                        2              2  \n",
              "73                        1              2  \n",
              "161                       1              2  \n",
              "215                       1              6  \n",
              "258                       1              2  \n",
              "...                     ...            ...  \n",
              "99241                     1              2  \n",
              "99293                     1              4  \n",
              "99304                     1              2  \n",
              "99308                     1              2  \n",
              "99360                     1              2  \n",
              "\n",
              "[2961 rows x 5 columns]"
            ]
          },
          "execution_count": 155,
          "metadata": {},
          "output_type": "execute_result"
        }
      ],
      "source": [
        "payments_group_df[(payments_group_df.payment_sequential > 1)]"
      ]
    },
    {
      "cell_type": "markdown",
      "metadata": {},
      "source": [
        "Dalam 1 pesanan (*order_id*), pelanggan bisa melakukan transaksi dengan urutan pembayaran (*payment_sequential*) yang beragam. Jika urutan pembayarannya lebih dari 1, maka nilai pembayaran (*payment_value*) pada masing-masing urutan bisa berbeda."
      ]
    },
    {
      "cell_type": "markdown",
      "metadata": {},
      "source": [
        "Sebagai contoh pada pesanan dengan *order_id : 00c405bd71187154a7846862f585a9d4* berikut."
      ]
    },
    {
      "cell_type": "code",
      "execution_count": 156,
      "metadata": {},
      "outputs": [
        {
          "data": {
            "application/vnd.microsoft.datawrangler.viewer.v0+json": {
              "columns": [
                {
                  "name": "index",
                  "rawType": "int64",
                  "type": "integer"
                },
                {
                  "name": "order_id",
                  "rawType": "object",
                  "type": "string"
                },
                {
                  "name": "payment_sequential",
                  "rawType": "int64",
                  "type": "integer"
                },
                {
                  "name": "payment_type",
                  "rawType": "object",
                  "type": "string"
                },
                {
                  "name": "payment_installments",
                  "rawType": "int64",
                  "type": "integer"
                },
                {
                  "name": "payment_value",
                  "rawType": "float64",
                  "type": "float"
                }
              ],
              "conversionMethod": "pd.DataFrame",
              "ref": "02e3936c-67c5-4d6f-9848-6a8e99ae08d8",
              "rows": [
                [
                  "67123",
                  "00c405bd71187154a7846862f585a9d4",
                  "1",
                  "credit_card",
                  "1",
                  "6.03"
                ],
                [
                  "54653",
                  "00c405bd71187154a7846862f585a9d4",
                  "2",
                  "voucher",
                  "1",
                  "0.21"
                ],
                [
                  "60979",
                  "00c405bd71187154a7846862f585a9d4",
                  "3",
                  "voucher",
                  "1",
                  "0.1"
                ],
                [
                  "76930",
                  "00c405bd71187154a7846862f585a9d4",
                  "4",
                  "voucher",
                  "1",
                  "0.25"
                ],
                [
                  "52049",
                  "00c405bd71187154a7846862f585a9d4",
                  "5",
                  "voucher",
                  "1",
                  "0.1"
                ],
                [
                  "26391",
                  "00c405bd71187154a7846862f585a9d4",
                  "6",
                  "voucher",
                  "1",
                  "20.0"
                ],
                [
                  "20594",
                  "00c405bd71187154a7846862f585a9d4",
                  "7",
                  "voucher",
                  "1",
                  "20.0"
                ]
              ],
              "shape": {
                "columns": 5,
                "rows": 7
              }
            },
            "text/html": [
              "<div>\n",
              "<style scoped>\n",
              "    .dataframe tbody tr th:only-of-type {\n",
              "        vertical-align: middle;\n",
              "    }\n",
              "\n",
              "    .dataframe tbody tr th {\n",
              "        vertical-align: top;\n",
              "    }\n",
              "\n",
              "    .dataframe thead th {\n",
              "        text-align: right;\n",
              "    }\n",
              "</style>\n",
              "<table border=\"1\" class=\"dataframe\">\n",
              "  <thead>\n",
              "    <tr style=\"text-align: right;\">\n",
              "      <th></th>\n",
              "      <th>order_id</th>\n",
              "      <th>payment_sequential</th>\n",
              "      <th>payment_type</th>\n",
              "      <th>payment_installments</th>\n",
              "      <th>payment_value</th>\n",
              "    </tr>\n",
              "  </thead>\n",
              "  <tbody>\n",
              "    <tr>\n",
              "      <th>67123</th>\n",
              "      <td>00c405bd71187154a7846862f585a9d4</td>\n",
              "      <td>1</td>\n",
              "      <td>credit_card</td>\n",
              "      <td>1</td>\n",
              "      <td>6.03</td>\n",
              "    </tr>\n",
              "    <tr>\n",
              "      <th>54653</th>\n",
              "      <td>00c405bd71187154a7846862f585a9d4</td>\n",
              "      <td>2</td>\n",
              "      <td>voucher</td>\n",
              "      <td>1</td>\n",
              "      <td>0.21</td>\n",
              "    </tr>\n",
              "    <tr>\n",
              "      <th>60979</th>\n",
              "      <td>00c405bd71187154a7846862f585a9d4</td>\n",
              "      <td>3</td>\n",
              "      <td>voucher</td>\n",
              "      <td>1</td>\n",
              "      <td>0.10</td>\n",
              "    </tr>\n",
              "    <tr>\n",
              "      <th>76930</th>\n",
              "      <td>00c405bd71187154a7846862f585a9d4</td>\n",
              "      <td>4</td>\n",
              "      <td>voucher</td>\n",
              "      <td>1</td>\n",
              "      <td>0.25</td>\n",
              "    </tr>\n",
              "    <tr>\n",
              "      <th>52049</th>\n",
              "      <td>00c405bd71187154a7846862f585a9d4</td>\n",
              "      <td>5</td>\n",
              "      <td>voucher</td>\n",
              "      <td>1</td>\n",
              "      <td>0.10</td>\n",
              "    </tr>\n",
              "    <tr>\n",
              "      <th>26391</th>\n",
              "      <td>00c405bd71187154a7846862f585a9d4</td>\n",
              "      <td>6</td>\n",
              "      <td>voucher</td>\n",
              "      <td>1</td>\n",
              "      <td>20.00</td>\n",
              "    </tr>\n",
              "    <tr>\n",
              "      <th>20594</th>\n",
              "      <td>00c405bd71187154a7846862f585a9d4</td>\n",
              "      <td>7</td>\n",
              "      <td>voucher</td>\n",
              "      <td>1</td>\n",
              "      <td>20.00</td>\n",
              "    </tr>\n",
              "  </tbody>\n",
              "</table>\n",
              "</div>"
            ],
            "text/plain": [
              "                               order_id  payment_sequential payment_type  \\\n",
              "67123  00c405bd71187154a7846862f585a9d4                   1  credit_card   \n",
              "54653  00c405bd71187154a7846862f585a9d4                   2      voucher   \n",
              "60979  00c405bd71187154a7846862f585a9d4                   3      voucher   \n",
              "76930  00c405bd71187154a7846862f585a9d4                   4      voucher   \n",
              "52049  00c405bd71187154a7846862f585a9d4                   5      voucher   \n",
              "26391  00c405bd71187154a7846862f585a9d4                   6      voucher   \n",
              "20594  00c405bd71187154a7846862f585a9d4                   7      voucher   \n",
              "\n",
              "       payment_installments  payment_value  \n",
              "67123                     1           6.03  \n",
              "54653                     1           0.21  \n",
              "60979                     1           0.10  \n",
              "76930                     1           0.25  \n",
              "52049                     1           0.10  \n",
              "26391                     1          20.00  \n",
              "20594                     1          20.00  "
            ]
          },
          "execution_count": 156,
          "metadata": {},
          "output_type": "execute_result"
        }
      ],
      "source": [
        "payments_df[payments_df.order_id == '00c405bd71187154a7846862f585a9d4'].sort_values(by='payment_sequential')"
      ]
    },
    {
      "cell_type": "code",
      "execution_count": 157,
      "metadata": {},
      "outputs": [
        {
          "data": {
            "application/vnd.microsoft.datawrangler.viewer.v0+json": {
              "columns": [
                {
                  "name": "index",
                  "rawType": "int64",
                  "type": "integer"
                },
                {
                  "name": "order_id",
                  "rawType": "object",
                  "type": "string"
                },
                {
                  "name": "order_item_id",
                  "rawType": "int64",
                  "type": "integer"
                },
                {
                  "name": "product_id",
                  "rawType": "object",
                  "type": "string"
                },
                {
                  "name": "seller_id",
                  "rawType": "object",
                  "type": "string"
                },
                {
                  "name": "shipping_limit_date",
                  "rawType": "datetime64[ns]",
                  "type": "datetime"
                },
                {
                  "name": "price",
                  "rawType": "float64",
                  "type": "float"
                },
                {
                  "name": "freight_value",
                  "rawType": "float64",
                  "type": "float"
                }
              ],
              "conversionMethod": "pd.DataFrame",
              "ref": "94295c7f-00e5-41e9-a1f8-75af34fc8a49",
              "rows": [
                [
                  "34554",
                  "00c405bd71187154a7846862f585a9d4",
                  "1",
                  "c4cf7c2e1f190d51517eba7e8211c8e6",
                  "f3295428338a40977a03f555246a70f4",
                  "2017-10-27 15:14:13",
                  "29.9",
                  "16.79"
                ]
              ],
              "shape": {
                "columns": 7,
                "rows": 1
              }
            },
            "text/html": [
              "<div>\n",
              "<style scoped>\n",
              "    .dataframe tbody tr th:only-of-type {\n",
              "        vertical-align: middle;\n",
              "    }\n",
              "\n",
              "    .dataframe tbody tr th {\n",
              "        vertical-align: top;\n",
              "    }\n",
              "\n",
              "    .dataframe thead th {\n",
              "        text-align: right;\n",
              "    }\n",
              "</style>\n",
              "<table border=\"1\" class=\"dataframe\">\n",
              "  <thead>\n",
              "    <tr style=\"text-align: right;\">\n",
              "      <th></th>\n",
              "      <th>order_id</th>\n",
              "      <th>order_item_id</th>\n",
              "      <th>product_id</th>\n",
              "      <th>seller_id</th>\n",
              "      <th>shipping_limit_date</th>\n",
              "      <th>price</th>\n",
              "      <th>freight_value</th>\n",
              "    </tr>\n",
              "  </thead>\n",
              "  <tbody>\n",
              "    <tr>\n",
              "      <th>34554</th>\n",
              "      <td>00c405bd71187154a7846862f585a9d4</td>\n",
              "      <td>1</td>\n",
              "      <td>c4cf7c2e1f190d51517eba7e8211c8e6</td>\n",
              "      <td>f3295428338a40977a03f555246a70f4</td>\n",
              "      <td>2017-10-27 15:14:13</td>\n",
              "      <td>29.9</td>\n",
              "      <td>16.79</td>\n",
              "    </tr>\n",
              "  </tbody>\n",
              "</table>\n",
              "</div>"
            ],
            "text/plain": [
              "                               order_id  order_item_id  \\\n",
              "34554  00c405bd71187154a7846862f585a9d4              1   \n",
              "\n",
              "                             product_id                         seller_id  \\\n",
              "34554  c4cf7c2e1f190d51517eba7e8211c8e6  f3295428338a40977a03f555246a70f4   \n",
              "\n",
              "      shipping_limit_date  price  freight_value  \n",
              "34554 2017-10-27 15:14:13   29.9          16.79  "
            ]
          },
          "execution_count": 157,
          "metadata": {},
          "output_type": "execute_result"
        }
      ],
      "source": [
        "items_df[items_df.order_id == '00c405bd71187154a7846862f585a9d4']"
      ]
    },
    {
      "cell_type": "code",
      "execution_count": 158,
      "metadata": {},
      "outputs": [
        {
          "name": "stdout",
          "output_type": "stream",
          "text": [
            "Total Harga\t\t= 46.69\n",
            "Total Pembayaran\t= 46.69\n"
          ]
        }
      ],
      "source": [
        "print(f\"Total Harga\\t\\t= {29.9 + 16.79}\")\n",
        "print(f\"Total Pembayaran\\t= {(payments_df[payments_df.order_id == '00c405bd71187154a7846862f585a9d4'].payment_value.sum()):.2f}\")"
      ]
    },
    {
      "cell_type": "markdown",
      "metadata": {},
      "source": [
        "Total harga dari pesanan tersebut adalah R$ 46.29. Harga tersebut sama dengan yang dibayarkan oleh pelanggan yaitu total penjumlahan dari kolom *payment_value*"
      ]
    },
    {
      "cell_type": "markdown",
      "metadata": {},
      "source": [
        "Untuk menyederhanakan analisis, kolom yang digunakan pada `order_payments_df` hanyalah kolom *order_id* dan *payment_value*."
      ]
    },
    {
      "cell_type": "code",
      "execution_count": 159,
      "metadata": {},
      "outputs": [],
      "source": [
        "payments_df.drop(columns=['payment_sequential', 'payment_type', 'payment_installments'], inplace=True)"
      ]
    },
    {
      "cell_type": "code",
      "execution_count": 160,
      "metadata": {},
      "outputs": [
        {
          "data": {
            "application/vnd.microsoft.datawrangler.viewer.v0+json": {
              "columns": [
                {
                  "name": "index",
                  "rawType": "int64",
                  "type": "integer"
                },
                {
                  "name": "order_id",
                  "rawType": "object",
                  "type": "string"
                },
                {
                  "name": "payment_value",
                  "rawType": "float64",
                  "type": "float"
                }
              ],
              "conversionMethod": "pd.DataFrame",
              "ref": "0bbecb84-bde5-49fe-86eb-b4ac6a03ccc7",
              "rows": [
                [
                  "0",
                  "00010242fe8c5a6d1ba2dd792cb16214",
                  "72.19"
                ],
                [
                  "1",
                  "00018f77f2f0320c557190d7a144bdd3",
                  "259.83"
                ],
                [
                  "2",
                  "000229ec398224ef6ca0657da4fc703e",
                  "216.87"
                ],
                [
                  "3",
                  "00024acbcdf0a6daa1e931b038114c75",
                  "25.78"
                ],
                [
                  "4",
                  "00042b26cf59d7ce69dfabb4e55b4fd9",
                  "218.04"
                ],
                [
                  "5",
                  "00048cc3ae777c65dbb7d2a0634bc1ea",
                  "34.59"
                ],
                [
                  "6",
                  "00054e8431b9d7675808bcb819fb4a32",
                  "31.75"
                ],
                [
                  "7",
                  "000576fe39319847cbb9d288c5617fa6",
                  "880.75"
                ],
                [
                  "8",
                  "0005a1a1728c9d785b8e2b08b904576c",
                  "157.6"
                ],
                [
                  "9",
                  "0005f50442cb953dcd1d21e1fb923495",
                  "65.39"
                ],
                [
                  "10",
                  "00061f2a7bc09da83e415a52dc8a4af1",
                  "68.87"
                ],
                [
                  "11",
                  "00063b381e2406b52ad429470734ebd5",
                  "57.98"
                ],
                [
                  "12",
                  "0006ec9db01a64e59a68b2c340bf65a7",
                  "97.32"
                ],
                [
                  "13",
                  "0008288aa423d2a3f00fcb17cd7d8719",
                  "126.54"
                ],
                [
                  "14",
                  "0009792311464db532ff765bf7b182ae",
                  "127.55"
                ],
                [
                  "15",
                  "0009c9a17f916a706d71784483a5d643",
                  "650.34"
                ],
                [
                  "16",
                  "000aed2e25dbad2f9ddb70584c5a2ded",
                  "152.77"
                ],
                [
                  "17",
                  "000c3e6612759851cc3cbb4b83257986",
                  "112.71"
                ],
                [
                  "18",
                  "000e562887b1f2006d75e0be9558292e",
                  "41.11"
                ],
                [
                  "19",
                  "000e63d38ae8c00bbcb5a30573b99628",
                  "56.78"
                ],
                [
                  "20",
                  "000e906b789b55f64edcb1f84030f90d",
                  "33.84"
                ],
                [
                  "21",
                  "000f25f4d72195062c040b12dce9a18a",
                  "164.39"
                ],
                [
                  "22",
                  "001021efaa8636c29475e7734483457d",
                  "64.1"
                ],
                [
                  "23",
                  "0010b2e5201cc5f1ae7e9c6cc8f5bd00",
                  "65.5"
                ],
                [
                  "24",
                  "0010dedd556712d7bb69a19cb7bbd37a",
                  "111.12"
                ],
                [
                  "25",
                  "00119ff934e539cf26f92b9ef0cdfed8",
                  "236.88"
                ],
                [
                  "26",
                  "0011d82c4b53e22e84023405fb467e57",
                  "315.33"
                ],
                [
                  "27",
                  "00125cb692d04887809806618a2a145f",
                  "135.41"
                ],
                [
                  "28",
                  "00130c0eee84a3d909e75bc08c5c3ca1",
                  "35.84"
                ],
                [
                  "29",
                  "0013503b13da1eac686219390b7d641b",
                  "137.22"
                ],
                [
                  "30",
                  "00137e170939bba5a3134e2386413108",
                  "421.65"
                ],
                [
                  "31",
                  "001427c0ec99cf8af737bd88e92fd444",
                  "83.25"
                ],
                [
                  "32",
                  "00143d0f86d6fbd9f9b38ab440ac16f5",
                  "109.29"
                ],
                [
                  "33",
                  "0014ae671de39511f7575066200733b7",
                  "30.6"
                ],
                [
                  "34",
                  "0015ebb40fb17286bea51d4607c4733c",
                  "37.0"
                ],
                [
                  "35",
                  "00169e31ef4b29deaae414f9a5e95929",
                  "55.11"
                ],
                [
                  "36",
                  "0016dfedd97fc2950e388d2971d718c7",
                  "70.55000000000001"
                ],
                [
                  "37",
                  "0017afd5076e074a48f1f1a4c7bac9c5",
                  "853.39"
                ],
                [
                  "38",
                  "001862358bf858722e1e2ae000cfed8b",
                  "113.71"
                ],
                [
                  "39",
                  "0019c29108428acffd089c36103c9440",
                  "79.85"
                ],
                [
                  "40",
                  "001ab0a7578dd66cd4b0a71f5b6e1e41",
                  "127.56"
                ],
                [
                  "41",
                  "001ac194d4a326a6fa99b581e9a3d963",
                  "62.54"
                ],
                [
                  "42",
                  "001b76dd48a5b1eee3e87778daa40df8",
                  "95.0"
                ],
                [
                  "43",
                  "001c85b5f68d2be0cb0797afc9e8ce9a",
                  "112.71"
                ],
                [
                  "44",
                  "001d8f0e34a38c37f7dba2a37d4eba8b",
                  "53.54"
                ],
                [
                  "45",
                  "001daeb0eddc45b999bad0801ad9d273",
                  "55.12"
                ],
                [
                  "46",
                  "001dbc16dc51075e987543d23a0507c7",
                  "87.9"
                ],
                [
                  "47",
                  "001e7ba991be1b19605ca0316e7130f9",
                  "213.21"
                ],
                [
                  "48",
                  "001e7cf2ad6bef3ade12ebc56ceaf0f3",
                  "51.1"
                ],
                [
                  "49",
                  "0020262c8a370bd5a174ea6a2a267321",
                  "100.55"
                ]
              ],
              "shape": {
                "columns": 2,
                "rows": 99440
              }
            },
            "text/html": [
              "<div>\n",
              "<style scoped>\n",
              "    .dataframe tbody tr th:only-of-type {\n",
              "        vertical-align: middle;\n",
              "    }\n",
              "\n",
              "    .dataframe tbody tr th {\n",
              "        vertical-align: top;\n",
              "    }\n",
              "\n",
              "    .dataframe thead th {\n",
              "        text-align: right;\n",
              "    }\n",
              "</style>\n",
              "<table border=\"1\" class=\"dataframe\">\n",
              "  <thead>\n",
              "    <tr style=\"text-align: right;\">\n",
              "      <th></th>\n",
              "      <th>order_id</th>\n",
              "      <th>payment_value</th>\n",
              "    </tr>\n",
              "  </thead>\n",
              "  <tbody>\n",
              "    <tr>\n",
              "      <th>0</th>\n",
              "      <td>00010242fe8c5a6d1ba2dd792cb16214</td>\n",
              "      <td>72.19</td>\n",
              "    </tr>\n",
              "    <tr>\n",
              "      <th>1</th>\n",
              "      <td>00018f77f2f0320c557190d7a144bdd3</td>\n",
              "      <td>259.83</td>\n",
              "    </tr>\n",
              "    <tr>\n",
              "      <th>2</th>\n",
              "      <td>000229ec398224ef6ca0657da4fc703e</td>\n",
              "      <td>216.87</td>\n",
              "    </tr>\n",
              "    <tr>\n",
              "      <th>3</th>\n",
              "      <td>00024acbcdf0a6daa1e931b038114c75</td>\n",
              "      <td>25.78</td>\n",
              "    </tr>\n",
              "    <tr>\n",
              "      <th>4</th>\n",
              "      <td>00042b26cf59d7ce69dfabb4e55b4fd9</td>\n",
              "      <td>218.04</td>\n",
              "    </tr>\n",
              "    <tr>\n",
              "      <th>...</th>\n",
              "      <td>...</td>\n",
              "      <td>...</td>\n",
              "    </tr>\n",
              "    <tr>\n",
              "      <th>99435</th>\n",
              "      <td>fffc94f6ce00a00581880bf54a75a037</td>\n",
              "      <td>343.40</td>\n",
              "    </tr>\n",
              "    <tr>\n",
              "      <th>99436</th>\n",
              "      <td>fffcd46ef2263f404302a634eb57f7eb</td>\n",
              "      <td>386.53</td>\n",
              "    </tr>\n",
              "    <tr>\n",
              "      <th>99437</th>\n",
              "      <td>fffce4705a9662cd70adb13d4a31832d</td>\n",
              "      <td>116.85</td>\n",
              "    </tr>\n",
              "    <tr>\n",
              "      <th>99438</th>\n",
              "      <td>fffe18544ffabc95dfada21779c9644f</td>\n",
              "      <td>64.71</td>\n",
              "    </tr>\n",
              "    <tr>\n",
              "      <th>99439</th>\n",
              "      <td>fffe41c64501cc87c801fd61db3f6244</td>\n",
              "      <td>55.79</td>\n",
              "    </tr>\n",
              "  </tbody>\n",
              "</table>\n",
              "<p>99440 rows × 2 columns</p>\n",
              "</div>"
            ],
            "text/plain": [
              "                               order_id  payment_value\n",
              "0      00010242fe8c5a6d1ba2dd792cb16214          72.19\n",
              "1      00018f77f2f0320c557190d7a144bdd3         259.83\n",
              "2      000229ec398224ef6ca0657da4fc703e         216.87\n",
              "3      00024acbcdf0a6daa1e931b038114c75          25.78\n",
              "4      00042b26cf59d7ce69dfabb4e55b4fd9         218.04\n",
              "...                                 ...            ...\n",
              "99435  fffc94f6ce00a00581880bf54a75a037         343.40\n",
              "99436  fffcd46ef2263f404302a634eb57f7eb         386.53\n",
              "99437  fffce4705a9662cd70adb13d4a31832d         116.85\n",
              "99438  fffe18544ffabc95dfada21779c9644f          64.71\n",
              "99439  fffe41c64501cc87c801fd61db3f6244          55.79\n",
              "\n",
              "[99440 rows x 2 columns]"
            ]
          },
          "execution_count": 160,
          "metadata": {},
          "output_type": "execute_result"
        }
      ],
      "source": [
        "payments_df = payments_df.groupby(by='order_id').agg({\n",
        "    'payment_value': 'sum'\n",
        "}).reset_index()\n",
        "\n",
        "payments_df"
      ]
    },
    {
      "cell_type": "markdown",
      "metadata": {
        "id": "gp-Y6wU38DC1"
      },
      "source": [
        "## Exploratory Data Analysis (EDA)"
      ]
    },
    {
      "cell_type": "markdown",
      "metadata": {},
      "source": [
        "### `orders_df`"
      ]
    },
    {
      "cell_type": "code",
      "execution_count": 166,
      "metadata": {},
      "outputs": [
        {
          "data": {
            "application/vnd.microsoft.datawrangler.viewer.v0+json": {
              "columns": [
                {
                  "name": "index",
                  "rawType": "int64",
                  "type": "integer"
                },
                {
                  "name": "order_id",
                  "rawType": "object",
                  "type": "string"
                },
                {
                  "name": "customer_id",
                  "rawType": "object",
                  "type": "string"
                },
                {
                  "name": "order_status",
                  "rawType": "object",
                  "type": "string"
                },
                {
                  "name": "order_purchase_timestamp",
                  "rawType": "datetime64[ns]",
                  "type": "datetime"
                },
                {
                  "name": "order_approved_at",
                  "rawType": "datetime64[ns]",
                  "type": "datetime"
                },
                {
                  "name": "order_delivered_carrier_date",
                  "rawType": "datetime64[ns]",
                  "type": "datetime"
                },
                {
                  "name": "order_delivered_customer_date",
                  "rawType": "datetime64[ns]",
                  "type": "datetime"
                },
                {
                  "name": "order_estimated_delivery_date",
                  "rawType": "datetime64[ns]",
                  "type": "datetime"
                }
              ],
              "conversionMethod": "pd.DataFrame",
              "ref": "97b9efa9-cd6d-4fc0-8413-81e69fc32ee3",
              "rows": [
                [
                  "0",
                  "2e7a8482f6fb09756ca50c10d7bfc047",
                  "08c5351a6aca1c1589a38f244edeee9d",
                  "shipped",
                  "2016-09-04 21:15:19",
                  "2016-10-07 13:18:03",
                  "2016-10-18 13:14:51",
                  null,
                  "2016-10-20 00:00:00"
                ],
                [
                  "1",
                  "e5fa5a7210941f7d56d0208e4e071d35",
                  "683c54fc24d40ee9f8a6fc179fd9856c",
                  "canceled",
                  "2016-09-05 00:15:34",
                  "2016-10-07 13:17:15",
                  null,
                  null,
                  "2016-10-28 00:00:00"
                ],
                [
                  "2",
                  "809a282bbd5dbcabb6f2f724fca862ec",
                  "622e13439d6b5a0b486c435618b2679e",
                  "canceled",
                  "2016-09-13 15:24:19",
                  "2016-10-07 13:16:46",
                  null,
                  null,
                  "2016-09-30 00:00:00"
                ],
                [
                  "3",
                  "bfbd0f9bdef84302105ad712db648a6c",
                  "86dc2ffce2dfff336de2f386a786e574",
                  "delivered",
                  "2016-09-15 12:16:38",
                  "2016-09-15 12:16:38",
                  "2016-11-07 17:11:53",
                  "2016-11-09 07:47:38",
                  "2016-10-04 00:00:00"
                ],
                [
                  "4",
                  "71303d7e93b399f5bcd537d124c0bcfa",
                  "b106b360fe2ef8849fbbd056f777b4d5",
                  "canceled",
                  "2016-10-02 22:07:52",
                  "2016-10-06 15:50:56",
                  null,
                  null,
                  "2016-10-25 00:00:00"
                ]
              ],
              "shape": {
                "columns": 8,
                "rows": 5
              }
            },
            "text/html": [
              "<div>\n",
              "<style scoped>\n",
              "    .dataframe tbody tr th:only-of-type {\n",
              "        vertical-align: middle;\n",
              "    }\n",
              "\n",
              "    .dataframe tbody tr th {\n",
              "        vertical-align: top;\n",
              "    }\n",
              "\n",
              "    .dataframe thead th {\n",
              "        text-align: right;\n",
              "    }\n",
              "</style>\n",
              "<table border=\"1\" class=\"dataframe\">\n",
              "  <thead>\n",
              "    <tr style=\"text-align: right;\">\n",
              "      <th></th>\n",
              "      <th>order_id</th>\n",
              "      <th>customer_id</th>\n",
              "      <th>order_status</th>\n",
              "      <th>order_purchase_timestamp</th>\n",
              "      <th>order_approved_at</th>\n",
              "      <th>order_delivered_carrier_date</th>\n",
              "      <th>order_delivered_customer_date</th>\n",
              "      <th>order_estimated_delivery_date</th>\n",
              "    </tr>\n",
              "  </thead>\n",
              "  <tbody>\n",
              "    <tr>\n",
              "      <th>0</th>\n",
              "      <td>2e7a8482f6fb09756ca50c10d7bfc047</td>\n",
              "      <td>08c5351a6aca1c1589a38f244edeee9d</td>\n",
              "      <td>shipped</td>\n",
              "      <td>2016-09-04 21:15:19</td>\n",
              "      <td>2016-10-07 13:18:03</td>\n",
              "      <td>2016-10-18 13:14:51</td>\n",
              "      <td>NaT</td>\n",
              "      <td>2016-10-20</td>\n",
              "    </tr>\n",
              "    <tr>\n",
              "      <th>1</th>\n",
              "      <td>e5fa5a7210941f7d56d0208e4e071d35</td>\n",
              "      <td>683c54fc24d40ee9f8a6fc179fd9856c</td>\n",
              "      <td>canceled</td>\n",
              "      <td>2016-09-05 00:15:34</td>\n",
              "      <td>2016-10-07 13:17:15</td>\n",
              "      <td>NaT</td>\n",
              "      <td>NaT</td>\n",
              "      <td>2016-10-28</td>\n",
              "    </tr>\n",
              "    <tr>\n",
              "      <th>2</th>\n",
              "      <td>809a282bbd5dbcabb6f2f724fca862ec</td>\n",
              "      <td>622e13439d6b5a0b486c435618b2679e</td>\n",
              "      <td>canceled</td>\n",
              "      <td>2016-09-13 15:24:19</td>\n",
              "      <td>2016-10-07 13:16:46</td>\n",
              "      <td>NaT</td>\n",
              "      <td>NaT</td>\n",
              "      <td>2016-09-30</td>\n",
              "    </tr>\n",
              "    <tr>\n",
              "      <th>3</th>\n",
              "      <td>bfbd0f9bdef84302105ad712db648a6c</td>\n",
              "      <td>86dc2ffce2dfff336de2f386a786e574</td>\n",
              "      <td>delivered</td>\n",
              "      <td>2016-09-15 12:16:38</td>\n",
              "      <td>2016-09-15 12:16:38</td>\n",
              "      <td>2016-11-07 17:11:53</td>\n",
              "      <td>2016-11-09 07:47:38</td>\n",
              "      <td>2016-10-04</td>\n",
              "    </tr>\n",
              "    <tr>\n",
              "      <th>4</th>\n",
              "      <td>71303d7e93b399f5bcd537d124c0bcfa</td>\n",
              "      <td>b106b360fe2ef8849fbbd056f777b4d5</td>\n",
              "      <td>canceled</td>\n",
              "      <td>2016-10-02 22:07:52</td>\n",
              "      <td>2016-10-06 15:50:56</td>\n",
              "      <td>NaT</td>\n",
              "      <td>NaT</td>\n",
              "      <td>2016-10-25</td>\n",
              "    </tr>\n",
              "  </tbody>\n",
              "</table>\n",
              "</div>"
            ],
            "text/plain": [
              "                           order_id                       customer_id  \\\n",
              "0  2e7a8482f6fb09756ca50c10d7bfc047  08c5351a6aca1c1589a38f244edeee9d   \n",
              "1  e5fa5a7210941f7d56d0208e4e071d35  683c54fc24d40ee9f8a6fc179fd9856c   \n",
              "2  809a282bbd5dbcabb6f2f724fca862ec  622e13439d6b5a0b486c435618b2679e   \n",
              "3  bfbd0f9bdef84302105ad712db648a6c  86dc2ffce2dfff336de2f386a786e574   \n",
              "4  71303d7e93b399f5bcd537d124c0bcfa  b106b360fe2ef8849fbbd056f777b4d5   \n",
              "\n",
              "  order_status order_purchase_timestamp   order_approved_at  \\\n",
              "0      shipped      2016-09-04 21:15:19 2016-10-07 13:18:03   \n",
              "1     canceled      2016-09-05 00:15:34 2016-10-07 13:17:15   \n",
              "2     canceled      2016-09-13 15:24:19 2016-10-07 13:16:46   \n",
              "3    delivered      2016-09-15 12:16:38 2016-09-15 12:16:38   \n",
              "4     canceled      2016-10-02 22:07:52 2016-10-06 15:50:56   \n",
              "\n",
              "  order_delivered_carrier_date order_delivered_customer_date  \\\n",
              "0          2016-10-18 13:14:51                           NaT   \n",
              "1                          NaT                           NaT   \n",
              "2                          NaT                           NaT   \n",
              "3          2016-11-07 17:11:53           2016-11-09 07:47:38   \n",
              "4                          NaT                           NaT   \n",
              "\n",
              "  order_estimated_delivery_date  \n",
              "0                    2016-10-20  \n",
              "1                    2016-10-28  \n",
              "2                    2016-09-30  \n",
              "3                    2016-10-04  \n",
              "4                    2016-10-25  "
            ]
          },
          "execution_count": 166,
          "metadata": {},
          "output_type": "execute_result"
        }
      ],
      "source": [
        "orders_df.head()"
      ]
    },
    {
      "cell_type": "code",
      "execution_count": 167,
      "metadata": {},
      "outputs": [
        {
          "data": {
            "text/plain": [
              "order_id                         99418\n",
              "customer_id                      99418\n",
              "order_status                         8\n",
              "order_purchase_timestamp         98852\n",
              "order_approved_at                90725\n",
              "order_delivered_carrier_date     81006\n",
              "order_delivered_customer_date    95649\n",
              "order_estimated_delivery_date      459\n",
              "dtype: int64"
            ]
          },
          "execution_count": 167,
          "metadata": {},
          "output_type": "execute_result"
        }
      ],
      "source": [
        "orders_df.nunique()"
      ]
    },
    {
      "cell_type": "code",
      "execution_count": 170,
      "metadata": {},
      "outputs": [
        {
          "data": {
            "text/plain": [
              "order_status\n",
              "delivered      96455\n",
              "shipped         1107\n",
              "canceled         625\n",
              "unavailable      609\n",
              "invoiced         314\n",
              "processing       301\n",
              "created            5\n",
              "approved           2\n",
              "Name: count, dtype: int64"
            ]
          },
          "execution_count": 170,
          "metadata": {},
          "output_type": "execute_result"
        }
      ],
      "source": [
        "orders_df.order_status.value_counts()"
      ]
    },
    {
      "cell_type": "code",
      "execution_count": 173,
      "metadata": {},
      "outputs": [
        {
          "data": {
            "application/vnd.microsoft.datawrangler.viewer.v0+json": {
              "columns": [
                {
                  "name": "index",
                  "rawType": "object",
                  "type": "string"
                },
                {
                  "name": "order_purchase_timestamp",
                  "rawType": "object",
                  "type": "unknown"
                },
                {
                  "name": "order_approved_at",
                  "rawType": "object",
                  "type": "unknown"
                },
                {
                  "name": "order_delivered_carrier_date",
                  "rawType": "object",
                  "type": "unknown"
                },
                {
                  "name": "order_delivered_customer_date",
                  "rawType": "object",
                  "type": "unknown"
                },
                {
                  "name": "order_estimated_delivery_date",
                  "rawType": "object",
                  "type": "unknown"
                }
              ],
              "conversionMethod": "pd.DataFrame",
              "ref": "d36212fe-e8d0-49f4-90c9-e8354d3de1ec",
              "rows": [
                [
                  "count",
                  "99418",
                  "99272",
                  "97637",
                  "96461",
                  "99418"
                ],
                [
                  "min",
                  "2016-09-04 21:15:19",
                  "2016-09-15 12:16:38",
                  "2016-10-08 10:34:01",
                  "2016-10-11 13:46:32",
                  "2016-09-30 00:00:00"
                ],
                [
                  "max",
                  "2018-10-17 17:30:18",
                  "2018-09-03 17:40:06",
                  "2018-09-11 19:48:28",
                  "2018-10-17 13:22:46",
                  "2018-11-12 00:00:00"
                ]
              ],
              "shape": {
                "columns": 5,
                "rows": 3
              }
            },
            "text/html": [
              "<div>\n",
              "<style scoped>\n",
              "    .dataframe tbody tr th:only-of-type {\n",
              "        vertical-align: middle;\n",
              "    }\n",
              "\n",
              "    .dataframe tbody tr th {\n",
              "        vertical-align: top;\n",
              "    }\n",
              "\n",
              "    .dataframe thead th {\n",
              "        text-align: right;\n",
              "    }\n",
              "</style>\n",
              "<table border=\"1\" class=\"dataframe\">\n",
              "  <thead>\n",
              "    <tr style=\"text-align: right;\">\n",
              "      <th></th>\n",
              "      <th>order_purchase_timestamp</th>\n",
              "      <th>order_approved_at</th>\n",
              "      <th>order_delivered_carrier_date</th>\n",
              "      <th>order_delivered_customer_date</th>\n",
              "      <th>order_estimated_delivery_date</th>\n",
              "    </tr>\n",
              "  </thead>\n",
              "  <tbody>\n",
              "    <tr>\n",
              "      <th>count</th>\n",
              "      <td>99418</td>\n",
              "      <td>99272</td>\n",
              "      <td>97637</td>\n",
              "      <td>96461</td>\n",
              "      <td>99418</td>\n",
              "    </tr>\n",
              "    <tr>\n",
              "      <th>min</th>\n",
              "      <td>2016-09-04 21:15:19</td>\n",
              "      <td>2016-09-15 12:16:38</td>\n",
              "      <td>2016-10-08 10:34:01</td>\n",
              "      <td>2016-10-11 13:46:32</td>\n",
              "      <td>2016-09-30 00:00:00</td>\n",
              "    </tr>\n",
              "    <tr>\n",
              "      <th>max</th>\n",
              "      <td>2018-10-17 17:30:18</td>\n",
              "      <td>2018-09-03 17:40:06</td>\n",
              "      <td>2018-09-11 19:48:28</td>\n",
              "      <td>2018-10-17 13:22:46</td>\n",
              "      <td>2018-11-12 00:00:00</td>\n",
              "    </tr>\n",
              "  </tbody>\n",
              "</table>\n",
              "</div>"
            ],
            "text/plain": [
              "      order_purchase_timestamp    order_approved_at  \\\n",
              "count                    99418                99272   \n",
              "min        2016-09-04 21:15:19  2016-09-15 12:16:38   \n",
              "max        2018-10-17 17:30:18  2018-09-03 17:40:06   \n",
              "\n",
              "      order_delivered_carrier_date order_delivered_customer_date  \\\n",
              "count                        97637                         96461   \n",
              "min            2016-10-08 10:34:01           2016-10-11 13:46:32   \n",
              "max            2018-09-11 19:48:28           2018-10-17 13:22:46   \n",
              "\n",
              "      order_estimated_delivery_date  \n",
              "count                         99418  \n",
              "min             2016-09-30 00:00:00  \n",
              "max             2018-11-12 00:00:00  "
            ]
          },
          "execution_count": 173,
          "metadata": {},
          "output_type": "execute_result"
        }
      ],
      "source": [
        "orders_df.describe().loc[['count', 'min', 'max']]"
      ]
    },
    {
      "cell_type": "code",
      "execution_count": 214,
      "metadata": {},
      "outputs": [
        {
          "name": "stdout",
          "output_type": "stream",
          "text": [
            "Pesanan 2016\n",
            "Q3\t: 4\n",
            "Q4\t: 325\n",
            "Total\t: 329\n"
          ]
        }
      ],
      "source": [
        "print(\"Pesanan 2016\")\n",
        "print(f\"Q3\\t: {orders_df[orders_df.order_purchase_timestamp.dt.year==2016].order_purchase_timestamp.dt.quarter.value_counts().loc[3]}\")\n",
        "print(f\"Q4\\t: {orders_df[orders_df.order_purchase_timestamp.dt.year==2016].order_purchase_timestamp.dt.quarter.value_counts().loc[4]}\")\n",
        "print(f\"Total\\t: {orders_df[orders_df.order_purchase_timestamp.dt.year == 2016].order_id.nunique()}\")"
      ]
    },
    {
      "cell_type": "code",
      "execution_count": 215,
      "metadata": {},
      "outputs": [
        {
          "name": "stdout",
          "output_type": "stream",
          "text": [
            "Pesanan 2017\n",
            "Q1: 5248\n",
            "Q2: 9348\n",
            "Q3: 12641\n",
            "Q4: 17847\n",
            "Total: 45084\n"
          ]
        }
      ],
      "source": [
        "print(\"Pesanan 2017\")\n",
        "print(f\"Q1: {orders_df[orders_df.order_purchase_timestamp.dt.year==2017].order_purchase_timestamp.dt.quarter.value_counts().loc[1]}\")\n",
        "print(f\"Q2: {orders_df[orders_df.order_purchase_timestamp.dt.year==2017].order_purchase_timestamp.dt.quarter.value_counts().loc[2]}\")\n",
        "print(f\"Q3: {orders_df[orders_df.order_purchase_timestamp.dt.year==2017].order_purchase_timestamp.dt.quarter.value_counts().loc[3]}\")\n",
        "print(f\"Q4: {orders_df[orders_df.order_purchase_timestamp.dt.year==2017].order_purchase_timestamp.dt.quarter.value_counts().loc[4]}\")\n",
        "print(f\"Total: {orders_df[orders_df.order_purchase_timestamp.dt.year == 2017].order_id.nunique()}\")"
      ]
    },
    {
      "cell_type": "code",
      "execution_count": 216,
      "metadata": {},
      "outputs": [
        {
          "name": "stdout",
          "output_type": "stream",
          "text": [
            "Pesanan 2018\n",
            "Q1: 21208\n",
            "Q2: 19976\n",
            "Q3: 12817\n",
            "Q4: 4\n",
            "Total: 54005\n"
          ]
        }
      ],
      "source": [
        "print(\"Pesanan 2018\")\n",
        "print(f\"Q1: {orders_df[orders_df.order_purchase_timestamp.dt.year==2018].order_purchase_timestamp.dt.quarter.value_counts().loc[1]}\")\n",
        "print(f\"Q2: {orders_df[orders_df.order_purchase_timestamp.dt.year==2018].order_purchase_timestamp.dt.quarter.value_counts().loc[2]}\")\n",
        "print(f\"Q3: {orders_df[orders_df.order_purchase_timestamp.dt.year==2018].order_purchase_timestamp.dt.quarter.value_counts().loc[3]}\")\n",
        "print(f\"Q4: {orders_df[orders_df.order_purchase_timestamp.dt.year==2018].order_purchase_timestamp.dt.quarter.value_counts().loc[4]}\")\n",
        "print(f\"Total: {orders_df[orders_df.order_purchase_timestamp.dt.year == 2018].order_id.nunique()}\")"
      ]
    },
    {
      "cell_type": "code",
      "execution_count": 194,
      "metadata": {},
      "outputs": [
        {
          "name": "stdout",
          "output_type": "stream",
          "text": [
            "Hari\tTotal Pesanan\n",
            "Senin\t: 16196\n",
            "Selasa\t: 15962\n",
            "Rabu\t: 15550\n",
            "Kamis\t: 14758\n",
            "Jumat\t: 14117\n",
            "Sabtu\t: 10879\n",
            "Minggu\t: 11956\n"
          ]
        }
      ],
      "source": [
        "print(\"Hari\\tTotal Pesanan\")\n",
        "print(f\"Senin\\t: {orders_df.order_purchase_timestamp.dt.day_of_week.value_counts().loc[0]}\")\n",
        "print(f\"Selasa\\t: {orders_df.order_purchase_timestamp.dt.day_of_week.value_counts().loc[1]}\")\n",
        "print(f\"Rabu\\t: {orders_df.order_purchase_timestamp.dt.day_of_week.value_counts().loc[2]}\")\n",
        "print(f\"Kamis\\t: {orders_df.order_purchase_timestamp.dt.day_of_week.value_counts().loc[3]}\")\n",
        "print(f\"Jumat\\t: {orders_df.order_purchase_timestamp.dt.day_of_week.value_counts().loc[4]}\")\n",
        "print(f\"Sabtu\\t: {orders_df.order_purchase_timestamp.dt.day_of_week.value_counts().loc[5]}\")\n",
        "print(f\"Minggu\\t: {orders_df.order_purchase_timestamp.dt.day_of_week.value_counts().loc[6]}\")"
      ]
    },
    {
      "cell_type": "code",
      "execution_count": 198,
      "metadata": {},
      "outputs": [
        {
          "data": {
            "text/plain": [
              "order_purchase_timestamp\n",
              "0     2394\n",
              "1     1169\n",
              "2      510\n",
              "3      272\n",
              "4      206\n",
              "5      188\n",
              "6      501\n",
              "7     1231\n",
              "8     2966\n",
              "9     4785\n",
              "10    6177\n",
              "11    6577\n",
              "12    5992\n",
              "13    6516\n",
              "14    6568\n",
              "15    6452\n",
              "16    6673\n",
              "17    6146\n",
              "18    5769\n",
              "19    5982\n",
              "20    6193\n",
              "21    6216\n",
              "22    5813\n",
              "23    4122\n",
              "Name: count, dtype: int64"
            ]
          },
          "execution_count": 198,
          "metadata": {},
          "output_type": "execute_result"
        }
      ],
      "source": [
        "orders_df.order_purchase_timestamp.dt.hour.value_counts().sort_index()"
      ]
    },
    {
      "cell_type": "markdown",
      "metadata": {},
      "source": [
        "### `orders_df` & `items_df`"
      ]
    },
    {
      "cell_type": "code",
      "execution_count": 161,
      "metadata": {},
      "outputs": [],
      "source": [
        "order_items_df = pd.merge(left=orders_df, right=items_df, on='order_id', how='left')"
      ]
    },
    {
      "cell_type": "code",
      "execution_count": 162,
      "metadata": {},
      "outputs": [
        {
          "data": {
            "text/plain": [
              "order_id                            0\n",
              "customer_id                         0\n",
              "order_status                        0\n",
              "order_purchase_timestamp            0\n",
              "order_approved_at                 146\n",
              "order_delivered_carrier_date     1966\n",
              "order_delivered_customer_date    3221\n",
              "order_estimated_delivery_date       0\n",
              "order_item_id                     775\n",
              "product_id                        775\n",
              "seller_id                         775\n",
              "shipping_limit_date               775\n",
              "price                             775\n",
              "freight_value                     775\n",
              "dtype: int64"
            ]
          },
          "execution_count": 162,
          "metadata": {},
          "output_type": "execute_result"
        }
      ],
      "source": [
        "order_items_df.isnull().sum()"
      ]
    },
    {
      "cell_type": "markdown",
      "metadata": {},
      "source": [
        "### `orders_df` & `payments_df`"
      ]
    },
    {
      "cell_type": "code",
      "execution_count": 163,
      "metadata": {},
      "outputs": [
        {
          "data": {
            "text/plain": [
              "order_id                            0\n",
              "customer_id                         0\n",
              "order_status                        0\n",
              "order_purchase_timestamp            0\n",
              "order_approved_at                 146\n",
              "order_delivered_carrier_date     1781\n",
              "order_delivered_customer_date    2957\n",
              "order_estimated_delivery_date       0\n",
              "payment_value                       1\n",
              "dtype: int64"
            ]
          },
          "execution_count": 163,
          "metadata": {},
          "output_type": "execute_result"
        }
      ],
      "source": [
        "pd.merge(left=orders_df, right=payments_df, on='order_id', how='left').isnull().sum()"
      ]
    },
    {
      "cell_type": "markdown",
      "metadata": {},
      "source": [
        "### `order_items_df` & `products_df`"
      ]
    },
    {
      "cell_type": "code",
      "execution_count": 164,
      "metadata": {},
      "outputs": [
        {
          "data": {
            "application/vnd.microsoft.datawrangler.viewer.v0+json": {
              "columns": [
                {
                  "name": "index",
                  "rawType": "int64",
                  "type": "integer"
                },
                {
                  "name": "order_id",
                  "rawType": "object",
                  "type": "string"
                },
                {
                  "name": "customer_id",
                  "rawType": "object",
                  "type": "string"
                },
                {
                  "name": "order_status",
                  "rawType": "object",
                  "type": "string"
                },
                {
                  "name": "order_purchase_timestamp",
                  "rawType": "datetime64[ns]",
                  "type": "datetime"
                },
                {
                  "name": "order_approved_at",
                  "rawType": "datetime64[ns]",
                  "type": "datetime"
                },
                {
                  "name": "order_delivered_carrier_date",
                  "rawType": "datetime64[ns]",
                  "type": "datetime"
                },
                {
                  "name": "order_delivered_customer_date",
                  "rawType": "datetime64[ns]",
                  "type": "datetime"
                },
                {
                  "name": "order_estimated_delivery_date",
                  "rawType": "datetime64[ns]",
                  "type": "datetime"
                },
                {
                  "name": "order_item_id",
                  "rawType": "float64",
                  "type": "float"
                },
                {
                  "name": "product_id",
                  "rawType": "object",
                  "type": "unknown"
                },
                {
                  "name": "seller_id",
                  "rawType": "object",
                  "type": "unknown"
                },
                {
                  "name": "shipping_limit_date",
                  "rawType": "datetime64[ns]",
                  "type": "datetime"
                },
                {
                  "name": "price",
                  "rawType": "float64",
                  "type": "float"
                },
                {
                  "name": "freight_value",
                  "rawType": "float64",
                  "type": "float"
                },
                {
                  "name": "product_category_name",
                  "rawType": "object",
                  "type": "unknown"
                },
                {
                  "name": "product_name_lenght",
                  "rawType": "float64",
                  "type": "float"
                },
                {
                  "name": "product_description_lenght",
                  "rawType": "float64",
                  "type": "float"
                },
                {
                  "name": "product_photos_qty",
                  "rawType": "float64",
                  "type": "float"
                },
                {
                  "name": "product_weight_g",
                  "rawType": "float64",
                  "type": "float"
                },
                {
                  "name": "product_length_cm",
                  "rawType": "float64",
                  "type": "float"
                },
                {
                  "name": "product_height_cm",
                  "rawType": "float64",
                  "type": "float"
                },
                {
                  "name": "product_width_cm",
                  "rawType": "float64",
                  "type": "float"
                }
              ],
              "conversionMethod": "pd.DataFrame",
              "ref": "0751e48d-cff8-4fbc-96e0-9df5086cc3b6",
              "rows": [
                [
                  "0",
                  "2e7a8482f6fb09756ca50c10d7bfc047",
                  "08c5351a6aca1c1589a38f244edeee9d",
                  "shipped",
                  "2016-09-04 21:15:19",
                  "2016-10-07 13:18:03",
                  "2016-10-18 13:14:51",
                  null,
                  "2016-10-20 00:00:00",
                  "1.0",
                  "c1488892604e4ba5cff5b4eb4d595400",
                  "1554a68530182680ad5c8b042c3ab563",
                  "2016-10-26 18:25:19",
                  "39.99",
                  "31.67",
                  "furniture_decor",
                  "59.0",
                  "426.0",
                  "2.0",
                  "1400.0",
                  "32.0",
                  "6.0",
                  "28.0"
                ],
                [
                  "1",
                  "2e7a8482f6fb09756ca50c10d7bfc047",
                  "08c5351a6aca1c1589a38f244edeee9d",
                  "shipped",
                  "2016-09-04 21:15:19",
                  "2016-10-07 13:18:03",
                  "2016-10-18 13:14:51",
                  null,
                  "2016-10-20 00:00:00",
                  "2.0",
                  "f293394c72c9b5fafd7023301fc21fc2",
                  "1554a68530182680ad5c8b042c3ab563",
                  "2016-10-26 18:25:19",
                  "32.9",
                  "31.67",
                  "furniture_decor",
                  "41.0",
                  "754.0",
                  "3.0",
                  "1800.0",
                  "32.0",
                  "6.0",
                  "28.0"
                ],
                [
                  "2",
                  "e5fa5a7210941f7d56d0208e4e071d35",
                  "683c54fc24d40ee9f8a6fc179fd9856c",
                  "canceled",
                  "2016-09-05 00:15:34",
                  "2016-10-07 13:17:15",
                  null,
                  null,
                  "2016-10-28 00:00:00",
                  "1.0",
                  "f3c2d01a84c947b078e32bbef0718962",
                  "a425f92c199eb576938df686728acd20",
                  "2016-09-19 00:15:34",
                  "59.5",
                  "15.56",
                  "telephony",
                  "42.0",
                  "381.0",
                  "1.0",
                  "700.0",
                  "25.0",
                  "2.0",
                  "25.0"
                ],
                [
                  "3",
                  "809a282bbd5dbcabb6f2f724fca862ec",
                  "622e13439d6b5a0b486c435618b2679e",
                  "canceled",
                  "2016-09-13 15:24:19",
                  "2016-10-07 13:16:46",
                  null,
                  null,
                  "2016-09-30 00:00:00",
                  null,
                  null,
                  null,
                  null,
                  null,
                  null,
                  null,
                  null,
                  null,
                  null,
                  null,
                  null,
                  null,
                  null
                ],
                [
                  "4",
                  "bfbd0f9bdef84302105ad712db648a6c",
                  "86dc2ffce2dfff336de2f386a786e574",
                  "delivered",
                  "2016-09-15 12:16:38",
                  "2016-09-15 12:16:38",
                  "2016-11-07 17:11:53",
                  "2016-11-09 07:47:38",
                  "2016-10-04 00:00:00",
                  "1.0",
                  "5a6b04657a4c5ee34285d1e4619a96b4",
                  "ecccfa2bb93b34a3bf033cc5d1dcdc69",
                  "2016-09-19 23:11:33",
                  "44.99",
                  "2.83",
                  "health_beauty",
                  "34.0",
                  "1036.0",
                  "1.0",
                  "1000.0",
                  "16.0",
                  "16.0",
                  "16.0"
                ],
                [
                  "5",
                  "bfbd0f9bdef84302105ad712db648a6c",
                  "86dc2ffce2dfff336de2f386a786e574",
                  "delivered",
                  "2016-09-15 12:16:38",
                  "2016-09-15 12:16:38",
                  "2016-11-07 17:11:53",
                  "2016-11-09 07:47:38",
                  "2016-10-04 00:00:00",
                  "2.0",
                  "5a6b04657a4c5ee34285d1e4619a96b4",
                  "ecccfa2bb93b34a3bf033cc5d1dcdc69",
                  "2016-09-19 23:11:33",
                  "44.99",
                  "2.83",
                  "health_beauty",
                  "34.0",
                  "1036.0",
                  "1.0",
                  "1000.0",
                  "16.0",
                  "16.0",
                  "16.0"
                ],
                [
                  "6",
                  "bfbd0f9bdef84302105ad712db648a6c",
                  "86dc2ffce2dfff336de2f386a786e574",
                  "delivered",
                  "2016-09-15 12:16:38",
                  "2016-09-15 12:16:38",
                  "2016-11-07 17:11:53",
                  "2016-11-09 07:47:38",
                  "2016-10-04 00:00:00",
                  "3.0",
                  "5a6b04657a4c5ee34285d1e4619a96b4",
                  "ecccfa2bb93b34a3bf033cc5d1dcdc69",
                  "2016-09-19 23:11:33",
                  "44.99",
                  "2.83",
                  "health_beauty",
                  "34.0",
                  "1036.0",
                  "1.0",
                  "1000.0",
                  "16.0",
                  "16.0",
                  "16.0"
                ],
                [
                  "7",
                  "71303d7e93b399f5bcd537d124c0bcfa",
                  "b106b360fe2ef8849fbbd056f777b4d5",
                  "canceled",
                  "2016-10-02 22:07:52",
                  "2016-10-06 15:50:56",
                  null,
                  null,
                  "2016-10-25 00:00:00",
                  "1.0",
                  "d2998d7ced12f83f9b832f33cf6507b6",
                  "25e6ffe976bd75618accfe16cefcbd0d",
                  "2016-10-21 16:19:54",
                  "100.0",
                  "9.34",
                  "baby",
                  "32.0",
                  "561.0",
                  "1.0",
                  "500.0",
                  "18.0",
                  "18.0",
                  "18.0"
                ],
                [
                  "8",
                  "3b697a20d9e427646d92567910af6d57",
                  "355077684019f7f60a031656bd7262b8",
                  "delivered",
                  "2016-10-03 09:44:50",
                  "2016-10-06 15:50:54",
                  "2016-10-23 14:02:13",
                  "2016-10-26 14:02:13",
                  "2016-10-27 00:00:00",
                  "1.0",
                  "3ae08df6bcbfe23586dd431c40bddbb7",
                  "522620dcb18a6b31cd7bdf73665113a9",
                  "2016-10-21 16:27:20",
                  "29.9",
                  "15.56",
                  "watches_gifts",
                  "63.0",
                  "1642.0",
                  "3.0",
                  "300.0",
                  "16.0",
                  "16.0",
                  "16.0"
                ],
                [
                  "9",
                  "be5bc2f0da14d8071e2d45451ad119d9",
                  "7ec40b22510fdbea1b08921dd39e63d8",
                  "delivered",
                  "2016-10-03 16:56:50",
                  "2016-10-06 16:03:44",
                  "2016-10-21 16:33:46",
                  "2016-10-27 18:19:38",
                  "2016-11-07 00:00:00",
                  "1.0",
                  "fd7fd78fd3cbc1b0a6370a7909c0a629",
                  "f09b760d23495ac9a7e00d29b769007c",
                  "2016-10-21 16:33:46",
                  "21.9",
                  "17.19",
                  "sports_leisure",
                  "39.0",
                  "518.0",
                  "1.0",
                  "400.0",
                  "16.0",
                  "16.0",
                  "16.0"
                ],
                [
                  "10",
                  "65d1e226dfaeb8cdc42f665422522d14",
                  "70fc57eeae292675927697fe03ad3ff5",
                  "canceled",
                  "2016-10-03 21:01:41",
                  "2016-10-04 10:18:57",
                  "2016-10-25 12:14:28",
                  "2016-11-08 10:58:34",
                  "2016-11-25 00:00:00",
                  "1.0",
                  "9c7bdf67b06b419aefb93cfdfc96c55d",
                  "ed49da7cadefc454d6a67de249eab240",
                  "2016-10-21 16:24:43",
                  "21.5",
                  "14.11",
                  "sports_leisure",
                  "25.0",
                  "823.0",
                  "1.0",
                  "476.0",
                  "17.0",
                  "14.0",
                  "14.0"
                ],
                [
                  "11",
                  "a41c8759fbe7aab36ea07e038b2d4465",
                  "6f989332712d3222b6571b1cf5b835ce",
                  "delivered",
                  "2016-10-03 21:13:36",
                  "2016-10-05 03:11:49",
                  "2016-10-25 11:57:59",
                  "2016-11-03 10:58:07",
                  "2016-11-29 00:00:00",
                  "1.0",
                  "b72b39418216e944bb34e35f4d3ea8c7",
                  "45d33f715e24d15a6ccf5c17b3a23e3c",
                  "2016-10-21 16:18:26",
                  "36.49",
                  "17.24",
                  "sports_leisure",
                  "39.0",
                  "141.0",
                  "1.0",
                  "767.0",
                  "26.0",
                  "8.0",
                  "20.0"
                ],
                [
                  "12",
                  "d207cc272675637bfed0062edffd0818",
                  "b8cf418e97ae795672d326288dfab7a7",
                  "delivered",
                  "2016-10-03 22:06:03",
                  "2016-10-04 10:28:07",
                  "2016-10-21 14:23:37",
                  "2016-10-31 11:07:42",
                  "2016-11-23 00:00:00",
                  "1.0",
                  "107177bf61755f05c604fe57e02467d6",
                  "cca3071e3e9bb7d12640c9fbe2301306",
                  "2016-10-21 16:23:06",
                  "119.9",
                  "13.56",
                  "furniture_decor",
                  "55.0",
                  "130.0",
                  "1.0",
                  "2050.0",
                  "40.0",
                  "11.0",
                  "34.0"
                ],
                [
                  "13",
                  "cd3b8574c82b42fc8129f6d502690c3e",
                  "7812fcebfc5e8065d31e1bb5f0017dae",
                  "delivered",
                  "2016-10-03 22:31:31",
                  "2016-10-04 10:19:23",
                  "2016-10-08 10:34:01",
                  "2016-10-14 16:08:00",
                  "2016-11-23 00:00:00",
                  "1.0",
                  "e2a1d45a73dc7f5a7f9236b043431b89",
                  "b499c00f28f4b7069ff6550af8c1348a",
                  "2016-10-08 10:34:01",
                  "29.99",
                  "10.96",
                  "fashion_shoes",
                  "56.0",
                  "459.0",
                  "2.0",
                  "9000.0",
                  "16.0",
                  "5.0",
                  "33.0"
                ],
                [
                  "14",
                  "ae8a60e4b03c5a4ba9ca0672c164b181",
                  "e6f959bf384d1d53b6d68826699bba12",
                  "delivered",
                  "2016-10-03 22:44:10",
                  "2016-10-04 10:28:25",
                  "2016-10-30 14:22:04",
                  "2016-11-03 14:04:50",
                  "2016-12-01 00:00:00",
                  "1.0",
                  "a5c3ddb1a400f50d1cf7138727aec136",
                  "817f85dbb65aa3e70831d90fe75cdf89",
                  "2016-10-21 16:27:42",
                  "128.9",
                  "25.67",
                  "toys",
                  "49.0",
                  "485.0",
                  "1.0",
                  "7811.0",
                  "45.0",
                  "28.0",
                  "46.0"
                ],
                [
                  "15",
                  "ef1b29b591d31d57c0d7337460dd83c9",
                  "dc607dc98d6a11d5d04d9f2a70aa6c34",
                  "delivered",
                  "2016-10-03 22:51:30",
                  "2016-10-04 10:28:19",
                  "2016-10-21 14:23:36",
                  "2016-11-01 15:14:45",
                  "2016-11-25 00:00:00",
                  "1.0",
                  "bfce5e847034e1fbbc1ed0bff6a372c7",
                  "cca3071e3e9bb7d12640c9fbe2301306",
                  "2016-10-21 16:22:33",
                  "74.9",
                  "17.37",
                  "furniture_decor",
                  "55.0",
                  "248.0",
                  "1.0",
                  "1800.0",
                  "40.0",
                  "8.0",
                  "30.0"
                ],
                [
                  "16",
                  "0a0837a5eee9e7a9ce2b1fa831944d27",
                  "4f3f778022aefa22b9f9e52d2c47edf3",
                  "delivered",
                  "2016-10-04 09:06:10",
                  "2016-10-06 11:43:20",
                  "2016-10-15 10:33:08",
                  "2016-10-22 14:51:18",
                  "2016-11-24 00:00:00",
                  "1.0",
                  "583916a5dae918f5e89baec139141c54",
                  "3481aa57cd91f9f9d3fa1fa12d9a3bf7",
                  "2016-10-10 11:43:22",
                  "49.99",
                  "15.51",
                  null,
                  null,
                  null,
                  null,
                  null,
                  null,
                  null,
                  null
                ],
                [
                  "17",
                  "1ff217aa612f6cd7c4255c9bfe931c8b",
                  "b3a9bf200375f53cc5c6991919c356fd",
                  "delivered",
                  "2016-10-04 09:16:33",
                  "2016-10-04 09:43:32",
                  "2016-10-21 16:33:45",
                  "2016-10-24 16:33:45",
                  "2016-11-24 00:00:00",
                  "1.0",
                  "33430c5c1027d812b5c62f778e5ee7f7",
                  "4b1eaadf791bdbbad8c4a35b65236d52",
                  "2016-10-21 16:33:45",
                  "32.49",
                  "11.74",
                  "consoles_games",
                  "41.0",
                  "309.0",
                  "1.0",
                  "200.0",
                  "21.0",
                  "21.0",
                  "21.0"
                ],
                [
                  "18",
                  "ed8c7b1b3eb256c70ce0c74231e1da88",
                  "da0ba2a9935bca5b4610b0e3bca9d3b4",
                  "delivered",
                  "2016-10-04 09:59:03",
                  "2016-10-04 10:25:46",
                  "2016-11-11 15:29:14",
                  "2016-11-18 08:51:07",
                  "2016-11-24 00:00:00",
                  "1.0",
                  "29bedbfbe73ea473396306b4f0c010ec",
                  "5b179e9e8cc7ab6fd113a46ca584da81",
                  "2016-10-21 16:21:45",
                  "89.9",
                  "24.87",
                  "housewares",
                  "47.0",
                  "187.0",
                  "1.0",
                  "7600.0",
                  "55.0",
                  "33.0",
                  "40.0"
                ],
                [
                  "19",
                  "1aecadf4362edaca7fa033e882076c8d",
                  "e81a9f176936e3124dfd90c483bf3289",
                  "canceled",
                  "2016-10-04 10:05:45",
                  "2016-10-04 10:26:40",
                  null,
                  null,
                  "2016-11-24 00:00:00",
                  null,
                  null,
                  null,
                  null,
                  null,
                  null,
                  null,
                  null,
                  null,
                  null,
                  null,
                  null,
                  null,
                  null
                ],
                [
                  "20",
                  "c3d9e402b6a0fbe2a5f7fc5b41117c38",
                  "5720a15d022c09d2634c71c80c8d4102",
                  "delivered",
                  "2016-10-04 10:16:04",
                  "2016-10-04 10:45:33",
                  "2016-10-28 15:34:00",
                  "2016-11-08 10:41:54",
                  "2016-12-08 00:00:00",
                  "1.0",
                  "817e1c2d22418c36386406ccacfa53e8",
                  "624f4ece8da4aafb77699233d480f8ef",
                  "2016-10-08 10:45:33",
                  "189.0",
                  "48.45",
                  "furniture_decor",
                  "37.0",
                  "267.0",
                  "1.0",
                  "2750.0",
                  "50.0",
                  "50.0",
                  "16.0"
                ],
                [
                  "21",
                  "46046adea0e222a29259bad3d922fee8",
                  "e9722ab28655e07763e0ca2751c61c90",
                  "delivered",
                  "2016-10-04 10:41:17",
                  "2016-10-04 11:06:07",
                  "2016-10-21 16:29:32",
                  "2016-10-24 16:29:32",
                  "2016-11-28 00:00:00",
                  "1.0",
                  "79bcd1f7f00535c801244eb999d8d290",
                  "99eaacc9e6046db1c82b163c5f84869f",
                  "2016-10-21 16:29:32",
                  "199.0",
                  "15.98",
                  "fixed_telephony",
                  "47.0",
                  "607.0",
                  "3.0",
                  "300.0",
                  "17.0",
                  "8.0",
                  "13.0"
                ],
                [
                  "22",
                  "80606b26965c5ed21e85a085e0667b63",
                  "9e241a9965210ac822859a94c0f33162",
                  "delivered",
                  "2016-10-04 11:03:14",
                  "2016-10-06 07:46:47",
                  "2016-11-17 11:21:15",
                  "2016-11-17 19:14:41",
                  "2016-12-08 00:00:00",
                  "1.0",
                  "c3b7e4d83e530c27a8e6368296aece48",
                  "77530e9772f57a62c906e1c21538ab82",
                  "2016-10-10 07:46:47",
                  "148.0",
                  "30.11",
                  "furniture_decor",
                  "60.0",
                  "1972.0",
                  "2.0",
                  "850.0",
                  "69.0",
                  "11.0",
                  "11.0"
                ],
                [
                  "23",
                  "620b0acb9258b51defbc51804c5298d5",
                  "9012f48ac2c416c82819101da4e4b75e",
                  "canceled",
                  "2016-10-04 11:44:01",
                  "2016-10-05 08:45:09",
                  null,
                  null,
                  "2016-12-06 00:00:00",
                  null,
                  null,
                  null,
                  null,
                  null,
                  null,
                  null,
                  null,
                  null,
                  null,
                  null,
                  null,
                  null,
                  null
                ],
                [
                  "24",
                  "79ffdd52a918bbe867895a4b183d6457",
                  "f9808148a262b51d20e2d777eee6676c",
                  "delivered",
                  "2016-10-04 12:06:11",
                  "2016-10-04 12:25:20",
                  "2016-10-25 14:16:48",
                  "2016-10-26 16:41:21",
                  "2016-11-24 00:00:00",
                  "1.0",
                  "5691a536d459e5cb326b7bedce928067",
                  "c7dcd301ecfe5ab7f778ac172cf74be7",
                  "2016-10-21 16:35:09",
                  "299.99",
                  "19.01",
                  "air_conditioning",
                  "41.0",
                  "775.0",
                  "4.0",
                  "8600.0",
                  "29.0",
                  "50.0",
                  "25.0"
                ],
                [
                  "25",
                  "c4b41c36dd589e901f6879f25a74ec1d",
                  "4bb880cac21c7a9e1371ab1ebd601706",
                  "delivered",
                  "2016-10-04 12:53:17",
                  "2016-10-04 13:26:11",
                  "2016-11-07 16:21:26",
                  "2016-11-09 13:37:38",
                  "2016-11-24 00:00:00",
                  "1.0",
                  "9e93b2c4cb5eea05e75a481c129b104d",
                  "ce27a3cc3c8cc1ea79d11e561e9bebb6",
                  "2016-10-08 13:26:12",
                  "9.9",
                  "8.72",
                  "auto",
                  "42.0",
                  "291.0",
                  "2.0",
                  "300.0",
                  "16.0",
                  "3.0",
                  "11.0"
                ],
                [
                  "26",
                  "dd359d3c294458c6d642b2eea9212bf5",
                  "5c58d1ea5a893380ecdd96dd6dfd5ec5",
                  "invoiced",
                  "2016-10-04 13:02:10",
                  "2016-10-05 03:08:27",
                  null,
                  null,
                  "2016-11-24 00:00:00",
                  "1.0",
                  "f9bcf9d8e89d012d7dc24fe4de0abd80",
                  "897060da8b9a21f655304d50fd935913",
                  "2016-10-09 03:08:28",
                  "164.0",
                  "13.2",
                  "computers_accessories",
                  "36.0",
                  "398.0",
                  "1.0",
                  "900.0",
                  "28.0",
                  "18.0",
                  "14.0"
                ],
                [
                  "27",
                  "36989eb07a0de2d3d3129eea35553875",
                  "aadd27185177fc7ac9b364898ac09343",
                  "delivered",
                  "2016-10-04 13:11:29",
                  "2016-10-04 13:46:31",
                  "2016-10-08 13:46:32",
                  "2016-10-11 13:46:32",
                  "2016-12-06 00:00:00",
                  "1.0",
                  "43bb8825dd6838251606e5e4130cfff4",
                  "939f6e231201f26803cb5c3a3d2940b3",
                  "2016-10-08 13:46:32",
                  "23.9",
                  "26.82",
                  "furniture_decor",
                  "33.0",
                  "259.0",
                  "2.0",
                  "1500.0",
                  "65.0",
                  "15.0",
                  "15.0"
                ],
                [
                  "28",
                  "36989eb07a0de2d3d3129eea35553875",
                  "aadd27185177fc7ac9b364898ac09343",
                  "delivered",
                  "2016-10-04 13:11:29",
                  "2016-10-04 13:46:31",
                  "2016-10-08 13:46:32",
                  "2016-10-11 13:46:32",
                  "2016-12-06 00:00:00",
                  "2.0",
                  "43bb8825dd6838251606e5e4130cfff4",
                  "939f6e231201f26803cb5c3a3d2940b3",
                  "2016-10-08 13:46:32",
                  "23.9",
                  "26.82",
                  "furniture_decor",
                  "33.0",
                  "259.0",
                  "2.0",
                  "1500.0",
                  "65.0",
                  "15.0",
                  "15.0"
                ],
                [
                  "29",
                  "3f72d2b757e725cd48a4726f831c7789",
                  "e0de521fbb397bd7e83d079fe66357b5",
                  "delivered",
                  "2016-10-04 13:15:46",
                  "2016-10-04 13:47:04",
                  "2016-10-10 16:45:50",
                  "2016-10-17 11:25:59",
                  "2016-11-28 00:00:00",
                  "1.0",
                  "eba7488e1c67729f045ab43fac426f2e",
                  "620c87c171fb2a6dd6e8bb4dec959fc6",
                  "2016-10-10 16:45:50",
                  "249.9",
                  "17.59",
                  "perfumery",
                  "43.0",
                  "259.0",
                  "1.0",
                  "610.0",
                  "22.0",
                  "14.0",
                  "16.0"
                ],
                [
                  "30",
                  "f3f12fc90564a9b036680a887cd64668",
                  "3c521eac04e2dca4702dcc69789618c2",
                  "delivered",
                  "2016-10-04 13:15:52",
                  "2016-10-04 13:47:06",
                  "2016-10-30 13:37:48",
                  "2016-11-01 18:07:25",
                  "2016-11-24 00:00:00",
                  "1.0",
                  "4e0946aebc8e1d7521219ec1e7380aed",
                  "817f85dbb65aa3e70831d90fe75cdf89",
                  "2016-10-21 16:36:21",
                  "128.9",
                  "16.04",
                  "toys",
                  "48.0",
                  "485.0",
                  "1.0",
                  "5470.0",
                  "48.0",
                  "27.0",
                  "42.0"
                ],
                [
                  "31",
                  "5b1376fe61863fe3508011db309e35fe",
                  "b9c504b633cd3d85d4128856a67209c2",
                  "delivered",
                  "2016-10-04 13:16:57",
                  "2016-10-05 03:11:34",
                  "2016-10-14 23:20:15",
                  "2016-10-17 20:24:25",
                  "2016-12-08 00:00:00",
                  "1.0",
                  "2235d08138bfce7801a73463a3168ea5",
                  "440dd6ab244315c632130ecfb63827b1",
                  "2016-10-09 03:11:34",
                  "149.9",
                  "27.38",
                  "sports_leisure",
                  "63.0",
                  "923.0",
                  "3.0",
                  "1200.0",
                  "70.0",
                  "8.0",
                  "15.0"
                ],
                [
                  "32",
                  "63638a6806d67773f3adba8534553fff",
                  "16e14c1e6e050fe6730c961ff638ca23",
                  "delivered",
                  "2016-10-04 13:22:56",
                  "2016-10-04 13:47:45",
                  "2016-11-17 15:53:01",
                  "2016-11-25 13:17:37",
                  "2016-11-28 00:00:00",
                  "1.0",
                  "85b99d83c60cab5b4d8f927ad35212a1",
                  "b335c59ab742f751a85db9c411a86739",
                  "2016-10-08 13:47:45",
                  "67.9",
                  "18.98",
                  "furniture_decor",
                  "50.0",
                  "1017.0",
                  "1.0",
                  "2100.0",
                  "30.0",
                  "24.0",
                  "25.0"
                ],
                [
                  "33",
                  "fbbc9a4fa88f1ccd651790df665b3e57",
                  "eba930c3950c6964961c7c72f7f6a461",
                  "delivered",
                  "2016-10-04 13:30:13",
                  "2016-10-05 02:45:16",
                  "2016-10-09 02:45:17",
                  "2016-10-28 17:05:47",
                  "2016-12-02 00:00:00",
                  "1.0",
                  "44377a26f7c80dbf0a9b2b300604e6bf",
                  "ecccfa2bb93b34a3bf033cc5d1dcdc69",
                  "2016-10-09 02:45:17",
                  "99.9",
                  "19.53",
                  "health_beauty",
                  "45.0",
                  "1634.0",
                  "1.0",
                  "1400.0",
                  "20.0",
                  "20.0",
                  "20.0"
                ],
                [
                  "34",
                  "711b9be9c346d9ecdb9d38a5e1e7e39b",
                  "81e4aed5ab4253757305267b80712689",
                  "invoiced",
                  "2016-10-04 13:38:37",
                  "2016-10-04 14:08:38",
                  null,
                  null,
                  "2016-11-24 00:00:00",
                  "1.0",
                  "d6f3bd7b1fc04fb1a2effb51ae44ab17",
                  "4b1eaadf791bdbbad8c4a35b65236d52",
                  "2016-10-21 16:33:27",
                  "189.9",
                  "12.87",
                  "consoles_games",
                  "47.0",
                  "348.0",
                  "4.0",
                  "400.0",
                  "19.0",
                  "7.0",
                  "17.0"
                ],
                [
                  "35",
                  "4d66b3a9d12facad48a3b23cc9fe7898",
                  "bd6048a0960b15881f1ae5dca277fb52",
                  "delivered",
                  "2016-10-04 13:40:43",
                  "2016-10-04 14:09:08",
                  "2016-10-15 10:33:12",
                  "2016-10-17 19:41:12",
                  "2016-11-28 00:00:00",
                  "1.0",
                  "0c5801458e74f9b6c23b44c331426e30",
                  "e8f6dc8e6a1dcde89d20e3995c8d90b3",
                  "2016-10-08 14:09:08",
                  "89.9",
                  "17.51",
                  "cool_stuff",
                  "56.0",
                  "1383.0",
                  "6.0",
                  "1850.0",
                  "18.0",
                  "23.0",
                  "26.0"
                ],
                [
                  "36",
                  "22613579f7d11cc59c4347526fc3c79e",
                  "53cc5d344077104b59d4f6836a90eb0b",
                  "delivered",
                  "2016-10-04 13:45:08",
                  "2016-10-04 14:27:49",
                  "2016-10-15 10:12:47",
                  "2016-10-18 22:35:47",
                  "2016-11-28 00:00:00",
                  "1.0",
                  "3ff81cd0e0861e991bb0106c03c113ca",
                  "86bb7c4b535e49a541baf3266b1c95b1",
                  "2016-10-08 14:27:50",
                  "379.9",
                  "18.22",
                  "toys",
                  "63.0",
                  "2314.0",
                  "8.0",
                  "600.0",
                  "21.0",
                  "14.0",
                  "21.0"
                ],
                [
                  "37",
                  "7033745709b7cf1bac7d2533663592de",
                  "7f0ca17bb33b230b47459437cf0682c7",
                  "delivered",
                  "2016-10-04 14:13:22",
                  "2016-10-04 14:46:48",
                  "2016-10-08 14:46:49",
                  "2016-10-11 14:46:49",
                  "2016-11-30 00:00:00",
                  "1.0",
                  "35084deab9603bbb6035bb8638b1df89",
                  "df560393f3a51e74553ab94004ba5c87",
                  "2016-10-08 14:46:49",
                  "93.9",
                  "17.61",
                  "furniture_decor",
                  "49.0",
                  "100.0",
                  "1.0",
                  "1200.0",
                  "25.0",
                  "25.0",
                  "20.0"
                ],
                [
                  "38",
                  "35d3a51724a47ef1d0b89911e39cc4ff",
                  "27ab53f26192510ff85872aeb3759dcc",
                  "delivered",
                  "2016-10-04 14:23:50",
                  "2016-10-05 02:44:29",
                  "2016-10-14 02:44:30",
                  "2016-10-26 15:03:52",
                  "2016-12-20 00:00:00",
                  "1.0",
                  "c1488892604e4ba5cff5b4eb4d595400",
                  "1554a68530182680ad5c8b042c3ab563",
                  "2016-10-14 02:44:30",
                  "39.99",
                  "22.34",
                  "furniture_decor",
                  "59.0",
                  "426.0",
                  "2.0",
                  "1400.0",
                  "32.0",
                  "6.0",
                  "28.0"
                ],
                [
                  "39",
                  "356b492aba2d1a7da886e54e0b6212b7",
                  "68c74d748a55f9d29e6698f4b01a0df7",
                  "delivered",
                  "2016-10-04 14:44:33",
                  "2016-10-06 16:05:43",
                  "2016-10-30 14:23:50",
                  "2016-10-31 14:23:50",
                  "2016-11-28 00:00:00",
                  "1.0",
                  "eba7488e1c67729f045ab43fac426f2e",
                  "620c87c171fb2a6dd6e8bb4dec959fc6",
                  "2016-10-21 16:35:37",
                  "249.9",
                  "17.59",
                  "perfumery",
                  "43.0",
                  "259.0",
                  "1.0",
                  "610.0",
                  "22.0",
                  "14.0",
                  "16.0"
                ],
                [
                  "40",
                  "60762802b48bb6d256d55b013d115013",
                  "01be2c0c2d55c597b5ec011e26e4b0d1",
                  "delivered",
                  "2016-10-04 14:49:13",
                  "2016-10-06 16:03:34",
                  "2016-10-30 10:04:46",
                  "2016-10-31 23:13:42",
                  "2016-11-24 00:00:00",
                  "1.0",
                  "eba7488e1c67729f045ab43fac426f2e",
                  "620c87c171fb2a6dd6e8bb4dec959fc6",
                  "2016-10-21 16:35:08",
                  "249.9",
                  "14.03",
                  "perfumery",
                  "43.0",
                  "259.0",
                  "1.0",
                  "610.0",
                  "22.0",
                  "14.0",
                  "16.0"
                ],
                [
                  "41",
                  "bfd31c6f76ff82a41e7beb05565aec4d",
                  "6c65055adfbc0007dbb4c5a22ea5ba8c",
                  "canceled",
                  "2016-10-04 14:51:15",
                  "2016-10-06 15:56:40",
                  null,
                  null,
                  "2016-12-14 00:00:00",
                  "1.0",
                  "b4b1c13bd539cdda68bd9a5e899767fb",
                  "b7ba853e9551f4558440881fd3e5c815",
                  "2016-10-17 16:56:40",
                  "239.9",
                  "12.29",
                  "telephony",
                  "63.0",
                  "1548.0",
                  "3.0",
                  "400.0",
                  "18.0",
                  "16.0",
                  "16.0"
                ],
                [
                  "42",
                  "5cb8558cbb7c0c2f00f43468579d3e3c",
                  "2ff5a6455514da421bd25d6e4ceb1d12",
                  "shipped",
                  "2016-10-04 15:02:37",
                  "2016-10-05 03:10:59",
                  "2016-10-15 10:14:10",
                  null,
                  "2016-12-02 00:00:00",
                  "1.0",
                  "ad5396bf96af6ede77130e54ad266c61",
                  "184a67a8f9f63234d3a92340bbdb727f",
                  "2016-10-09 03:10:59",
                  "22.37",
                  "17.78",
                  "furniture_decor",
                  "39.0",
                  "252.0",
                  "1.0",
                  "900.0",
                  "16.0",
                  "34.0",
                  "34.0"
                ],
                [
                  "43",
                  "51725d3e4bdfc97e28b40543310da8a3",
                  "a0f95ab56c6d3a5ba0036b7fdfeda07f",
                  "delivered",
                  "2016-10-04 15:02:53",
                  "2016-10-05 17:06:51",
                  "2016-10-09 17:06:52",
                  "2016-10-26 13:21:41",
                  "2016-11-28 00:00:00",
                  "2.0",
                  "8f1e43e0e3374ed8c84df748034d6179",
                  "ecccfa2bb93b34a3bf033cc5d1dcdc69",
                  "2016-10-09 17:06:52",
                  "59.9",
                  "14.87",
                  "health_beauty",
                  "59.0",
                  "2710.0",
                  "1.0",
                  "1000.0",
                  "20.0",
                  "20.0",
                  "20.0"
                ],
                [
                  "44",
                  "51725d3e4bdfc97e28b40543310da8a3",
                  "a0f95ab56c6d3a5ba0036b7fdfeda07f",
                  "delivered",
                  "2016-10-04 15:02:53",
                  "2016-10-05 17:06:51",
                  "2016-10-09 17:06:52",
                  "2016-10-26 13:21:41",
                  "2016-11-28 00:00:00",
                  "1.0",
                  "79938780eb7ffb7289f59a9a283bc06b",
                  "ecccfa2bb93b34a3bf033cc5d1dcdc69",
                  "2016-10-09 17:06:52",
                  "59.9",
                  "14.87",
                  "health_beauty",
                  "54.0",
                  "1739.0",
                  "1.0",
                  "1300.0",
                  "20.0",
                  "20.0",
                  "20.0"
                ],
                [
                  "45",
                  "83812118bb682267a9880ea1b261ac4b",
                  "6b4acd0818e5852c5271cb061ccbb493",
                  "delivered",
                  "2016-10-04 15:07:21",
                  "2016-10-07 10:12:10",
                  "2016-10-11 10:12:10",
                  "2016-10-31 21:57:07",
                  "2016-12-08 00:00:00",
                  "1.0",
                  "eba7488e1c67729f045ab43fac426f2e",
                  "620c87c171fb2a6dd6e8bb4dec959fc6",
                  "2016-10-11 10:12:10",
                  "249.9",
                  "27.91",
                  "perfumery",
                  "43.0",
                  "259.0",
                  "1.0",
                  "610.0",
                  "22.0",
                  "14.0",
                  "16.0"
                ],
                [
                  "46",
                  "a041155864e5141116458291313b35c2",
                  "8fbab2ff4df1a7cc9531b14a686bb3ce",
                  "delivered",
                  "2016-10-04 15:10:15",
                  "2016-10-06 15:56:27",
                  "2016-10-10 15:56:28",
                  "2016-10-13 15:56:28",
                  "2016-11-24 00:00:00",
                  "1.0",
                  "29bedbfbe73ea473396306b4f0c010ec",
                  "5b179e9e8cc7ab6fd113a46ca584da81",
                  "2016-10-10 15:56:28",
                  "89.9",
                  "27.96",
                  "housewares",
                  "47.0",
                  "187.0",
                  "1.0",
                  "7600.0",
                  "55.0",
                  "33.0",
                  "40.0"
                ],
                [
                  "47",
                  "de1404a068c6c8c909897886a314bad7",
                  "5116eacd8d620b734c26a0f04e19b60a",
                  "delivered",
                  "2016-10-04 15:12:18",
                  "2016-10-06 16:05:04",
                  "2016-10-18 16:13:50",
                  "2016-10-24 20:35:44",
                  "2016-12-16 00:00:00",
                  "1.0",
                  "f422d0d9f8b5f7c27289382b14b61248",
                  "1554a68530182680ad5c8b042c3ab563",
                  "2016-10-28 16:27:21",
                  "69.99",
                  "17.58",
                  "toys",
                  "63.0",
                  "361.0",
                  "3.0",
                  "1800.0",
                  "38.0",
                  "12.0",
                  "35.0"
                ],
                [
                  "48",
                  "985db56d4cabd2577d0960194dd2cd5a",
                  "93b0959b3704e65ceaf6cd4bcdfea834",
                  "delivered",
                  "2016-10-04 15:35:35",
                  "2016-10-06 15:57:13",
                  "2016-10-21 16:33:54",
                  "2016-10-28 15:03:48",
                  "2016-11-30 00:00:00",
                  "1.0",
                  "062619359d5f9a664606cb2a6ccb477a",
                  "b1fecf4da1fa2689bccffa0121953643",
                  "2016-10-21 16:33:54",
                  "136.9",
                  "17.39",
                  "health_beauty",
                  "64.0",
                  "1394.0",
                  "1.0",
                  "2000.0",
                  "20.0",
                  "20.0",
                  "20.0"
                ],
                [
                  "49",
                  "98974b076b01553d49ee6467905675a7",
                  "dc7cdb748679fb6f280f66d7582c5e59",
                  "delivered",
                  "2016-10-04 15:44:44",
                  "2016-10-06 15:57:59",
                  "2016-11-11 15:29:15",
                  "2016-11-17 08:38:57",
                  "2016-11-24 00:00:00",
                  "1.0",
                  "ecf23a6c1689e2bed38171ececac6138",
                  "5b179e9e8cc7ab6fd113a46ca584da81",
                  "2016-10-21 16:20:21",
                  "109.9",
                  "11.23",
                  "housewares",
                  "56.0",
                  "1688.0",
                  "4.0",
                  "1700.0",
                  "16.0",
                  "17.0",
                  "17.0"
                ]
              ],
              "shape": {
                "columns": 22,
                "rows": 113401
              }
            },
            "text/html": [
              "<div>\n",
              "<style scoped>\n",
              "    .dataframe tbody tr th:only-of-type {\n",
              "        vertical-align: middle;\n",
              "    }\n",
              "\n",
              "    .dataframe tbody tr th {\n",
              "        vertical-align: top;\n",
              "    }\n",
              "\n",
              "    .dataframe thead th {\n",
              "        text-align: right;\n",
              "    }\n",
              "</style>\n",
              "<table border=\"1\" class=\"dataframe\">\n",
              "  <thead>\n",
              "    <tr style=\"text-align: right;\">\n",
              "      <th></th>\n",
              "      <th>order_id</th>\n",
              "      <th>customer_id</th>\n",
              "      <th>order_status</th>\n",
              "      <th>order_purchase_timestamp</th>\n",
              "      <th>order_approved_at</th>\n",
              "      <th>order_delivered_carrier_date</th>\n",
              "      <th>order_delivered_customer_date</th>\n",
              "      <th>order_estimated_delivery_date</th>\n",
              "      <th>order_item_id</th>\n",
              "      <th>product_id</th>\n",
              "      <th>...</th>\n",
              "      <th>price</th>\n",
              "      <th>freight_value</th>\n",
              "      <th>product_category_name</th>\n",
              "      <th>product_name_lenght</th>\n",
              "      <th>product_description_lenght</th>\n",
              "      <th>product_photos_qty</th>\n",
              "      <th>product_weight_g</th>\n",
              "      <th>product_length_cm</th>\n",
              "      <th>product_height_cm</th>\n",
              "      <th>product_width_cm</th>\n",
              "    </tr>\n",
              "  </thead>\n",
              "  <tbody>\n",
              "    <tr>\n",
              "      <th>0</th>\n",
              "      <td>2e7a8482f6fb09756ca50c10d7bfc047</td>\n",
              "      <td>08c5351a6aca1c1589a38f244edeee9d</td>\n",
              "      <td>shipped</td>\n",
              "      <td>2016-09-04 21:15:19</td>\n",
              "      <td>2016-10-07 13:18:03</td>\n",
              "      <td>2016-10-18 13:14:51</td>\n",
              "      <td>NaT</td>\n",
              "      <td>2016-10-20</td>\n",
              "      <td>1.0</td>\n",
              "      <td>c1488892604e4ba5cff5b4eb4d595400</td>\n",
              "      <td>...</td>\n",
              "      <td>39.99</td>\n",
              "      <td>31.67</td>\n",
              "      <td>furniture_decor</td>\n",
              "      <td>59.0</td>\n",
              "      <td>426.0</td>\n",
              "      <td>2.0</td>\n",
              "      <td>1400.0</td>\n",
              "      <td>32.0</td>\n",
              "      <td>6.0</td>\n",
              "      <td>28.0</td>\n",
              "    </tr>\n",
              "    <tr>\n",
              "      <th>1</th>\n",
              "      <td>2e7a8482f6fb09756ca50c10d7bfc047</td>\n",
              "      <td>08c5351a6aca1c1589a38f244edeee9d</td>\n",
              "      <td>shipped</td>\n",
              "      <td>2016-09-04 21:15:19</td>\n",
              "      <td>2016-10-07 13:18:03</td>\n",
              "      <td>2016-10-18 13:14:51</td>\n",
              "      <td>NaT</td>\n",
              "      <td>2016-10-20</td>\n",
              "      <td>2.0</td>\n",
              "      <td>f293394c72c9b5fafd7023301fc21fc2</td>\n",
              "      <td>...</td>\n",
              "      <td>32.90</td>\n",
              "      <td>31.67</td>\n",
              "      <td>furniture_decor</td>\n",
              "      <td>41.0</td>\n",
              "      <td>754.0</td>\n",
              "      <td>3.0</td>\n",
              "      <td>1800.0</td>\n",
              "      <td>32.0</td>\n",
              "      <td>6.0</td>\n",
              "      <td>28.0</td>\n",
              "    </tr>\n",
              "    <tr>\n",
              "      <th>2</th>\n",
              "      <td>e5fa5a7210941f7d56d0208e4e071d35</td>\n",
              "      <td>683c54fc24d40ee9f8a6fc179fd9856c</td>\n",
              "      <td>canceled</td>\n",
              "      <td>2016-09-05 00:15:34</td>\n",
              "      <td>2016-10-07 13:17:15</td>\n",
              "      <td>NaT</td>\n",
              "      <td>NaT</td>\n",
              "      <td>2016-10-28</td>\n",
              "      <td>1.0</td>\n",
              "      <td>f3c2d01a84c947b078e32bbef0718962</td>\n",
              "      <td>...</td>\n",
              "      <td>59.50</td>\n",
              "      <td>15.56</td>\n",
              "      <td>telephony</td>\n",
              "      <td>42.0</td>\n",
              "      <td>381.0</td>\n",
              "      <td>1.0</td>\n",
              "      <td>700.0</td>\n",
              "      <td>25.0</td>\n",
              "      <td>2.0</td>\n",
              "      <td>25.0</td>\n",
              "    </tr>\n",
              "    <tr>\n",
              "      <th>3</th>\n",
              "      <td>809a282bbd5dbcabb6f2f724fca862ec</td>\n",
              "      <td>622e13439d6b5a0b486c435618b2679e</td>\n",
              "      <td>canceled</td>\n",
              "      <td>2016-09-13 15:24:19</td>\n",
              "      <td>2016-10-07 13:16:46</td>\n",
              "      <td>NaT</td>\n",
              "      <td>NaT</td>\n",
              "      <td>2016-09-30</td>\n",
              "      <td>NaN</td>\n",
              "      <td>NaN</td>\n",
              "      <td>...</td>\n",
              "      <td>NaN</td>\n",
              "      <td>NaN</td>\n",
              "      <td>NaN</td>\n",
              "      <td>NaN</td>\n",
              "      <td>NaN</td>\n",
              "      <td>NaN</td>\n",
              "      <td>NaN</td>\n",
              "      <td>NaN</td>\n",
              "      <td>NaN</td>\n",
              "      <td>NaN</td>\n",
              "    </tr>\n",
              "    <tr>\n",
              "      <th>4</th>\n",
              "      <td>bfbd0f9bdef84302105ad712db648a6c</td>\n",
              "      <td>86dc2ffce2dfff336de2f386a786e574</td>\n",
              "      <td>delivered</td>\n",
              "      <td>2016-09-15 12:16:38</td>\n",
              "      <td>2016-09-15 12:16:38</td>\n",
              "      <td>2016-11-07 17:11:53</td>\n",
              "      <td>2016-11-09 07:47:38</td>\n",
              "      <td>2016-10-04</td>\n",
              "      <td>1.0</td>\n",
              "      <td>5a6b04657a4c5ee34285d1e4619a96b4</td>\n",
              "      <td>...</td>\n",
              "      <td>44.99</td>\n",
              "      <td>2.83</td>\n",
              "      <td>health_beauty</td>\n",
              "      <td>34.0</td>\n",
              "      <td>1036.0</td>\n",
              "      <td>1.0</td>\n",
              "      <td>1000.0</td>\n",
              "      <td>16.0</td>\n",
              "      <td>16.0</td>\n",
              "      <td>16.0</td>\n",
              "    </tr>\n",
              "    <tr>\n",
              "      <th>...</th>\n",
              "      <td>...</td>\n",
              "      <td>...</td>\n",
              "      <td>...</td>\n",
              "      <td>...</td>\n",
              "      <td>...</td>\n",
              "      <td>...</td>\n",
              "      <td>...</td>\n",
              "      <td>...</td>\n",
              "      <td>...</td>\n",
              "      <td>...</td>\n",
              "      <td>...</td>\n",
              "      <td>...</td>\n",
              "      <td>...</td>\n",
              "      <td>...</td>\n",
              "      <td>...</td>\n",
              "      <td>...</td>\n",
              "      <td>...</td>\n",
              "      <td>...</td>\n",
              "      <td>...</td>\n",
              "      <td>...</td>\n",
              "      <td>...</td>\n",
              "    </tr>\n",
              "    <tr>\n",
              "      <th>113396</th>\n",
              "      <td>392ed9afd714e3c74767d0c4d3e3f477</td>\n",
              "      <td>2823ffda607a2316375088e0d00005ec</td>\n",
              "      <td>canceled</td>\n",
              "      <td>2018-09-29 09:13:03</td>\n",
              "      <td>NaT</td>\n",
              "      <td>NaT</td>\n",
              "      <td>NaT</td>\n",
              "      <td>2018-10-15</td>\n",
              "      <td>NaN</td>\n",
              "      <td>NaN</td>\n",
              "      <td>...</td>\n",
              "      <td>NaN</td>\n",
              "      <td>NaN</td>\n",
              "      <td>NaN</td>\n",
              "      <td>NaN</td>\n",
              "      <td>NaN</td>\n",
              "      <td>NaN</td>\n",
              "      <td>NaN</td>\n",
              "      <td>NaN</td>\n",
              "      <td>NaN</td>\n",
              "      <td>NaN</td>\n",
              "    </tr>\n",
              "    <tr>\n",
              "      <th>113397</th>\n",
              "      <td>616fa7d4871b87832197b2a137a115d2</td>\n",
              "      <td>bf6181a85bbb4115736c0a8db1a53be3</td>\n",
              "      <td>canceled</td>\n",
              "      <td>2018-10-01 15:30:09</td>\n",
              "      <td>NaT</td>\n",
              "      <td>NaT</td>\n",
              "      <td>NaT</td>\n",
              "      <td>2018-10-23</td>\n",
              "      <td>NaN</td>\n",
              "      <td>NaN</td>\n",
              "      <td>...</td>\n",
              "      <td>NaN</td>\n",
              "      <td>NaN</td>\n",
              "      <td>NaN</td>\n",
              "      <td>NaN</td>\n",
              "      <td>NaN</td>\n",
              "      <td>NaN</td>\n",
              "      <td>NaN</td>\n",
              "      <td>NaN</td>\n",
              "      <td>NaN</td>\n",
              "      <td>NaN</td>\n",
              "    </tr>\n",
              "    <tr>\n",
              "      <th>113398</th>\n",
              "      <td>a2ac6dad85cf8af5b0afb510a240fe8c</td>\n",
              "      <td>4c2ec60c29d10c34bd49cb88aa85cfc4</td>\n",
              "      <td>canceled</td>\n",
              "      <td>2018-10-03 18:55:29</td>\n",
              "      <td>NaT</td>\n",
              "      <td>NaT</td>\n",
              "      <td>NaT</td>\n",
              "      <td>2018-10-16</td>\n",
              "      <td>NaN</td>\n",
              "      <td>NaN</td>\n",
              "      <td>...</td>\n",
              "      <td>NaN</td>\n",
              "      <td>NaN</td>\n",
              "      <td>NaN</td>\n",
              "      <td>NaN</td>\n",
              "      <td>NaN</td>\n",
              "      <td>NaN</td>\n",
              "      <td>NaN</td>\n",
              "      <td>NaN</td>\n",
              "      <td>NaN</td>\n",
              "      <td>NaN</td>\n",
              "    </tr>\n",
              "    <tr>\n",
              "      <th>113399</th>\n",
              "      <td>b059ee4de278302d550a3035c4cdb740</td>\n",
              "      <td>856336203359aa6a61bf3826f7d84c49</td>\n",
              "      <td>canceled</td>\n",
              "      <td>2018-10-16 20:16:02</td>\n",
              "      <td>NaT</td>\n",
              "      <td>NaT</td>\n",
              "      <td>NaT</td>\n",
              "      <td>2018-11-12</td>\n",
              "      <td>NaN</td>\n",
              "      <td>NaN</td>\n",
              "      <td>...</td>\n",
              "      <td>NaN</td>\n",
              "      <td>NaN</td>\n",
              "      <td>NaN</td>\n",
              "      <td>NaN</td>\n",
              "      <td>NaN</td>\n",
              "      <td>NaN</td>\n",
              "      <td>NaN</td>\n",
              "      <td>NaN</td>\n",
              "      <td>NaN</td>\n",
              "      <td>NaN</td>\n",
              "    </tr>\n",
              "    <tr>\n",
              "      <th>113400</th>\n",
              "      <td>10a045cdf6a5650c21e9cfeb60384c16</td>\n",
              "      <td>a4b417188addbc05b26b72d5e44837a1</td>\n",
              "      <td>canceled</td>\n",
              "      <td>2018-10-17 17:30:18</td>\n",
              "      <td>NaT</td>\n",
              "      <td>NaT</td>\n",
              "      <td>NaT</td>\n",
              "      <td>2018-10-30</td>\n",
              "      <td>NaN</td>\n",
              "      <td>NaN</td>\n",
              "      <td>...</td>\n",
              "      <td>NaN</td>\n",
              "      <td>NaN</td>\n",
              "      <td>NaN</td>\n",
              "      <td>NaN</td>\n",
              "      <td>NaN</td>\n",
              "      <td>NaN</td>\n",
              "      <td>NaN</td>\n",
              "      <td>NaN</td>\n",
              "      <td>NaN</td>\n",
              "      <td>NaN</td>\n",
              "    </tr>\n",
              "  </tbody>\n",
              "</table>\n",
              "<p>113401 rows × 22 columns</p>\n",
              "</div>"
            ],
            "text/plain": [
              "                                order_id                       customer_id  \\\n",
              "0       2e7a8482f6fb09756ca50c10d7bfc047  08c5351a6aca1c1589a38f244edeee9d   \n",
              "1       2e7a8482f6fb09756ca50c10d7bfc047  08c5351a6aca1c1589a38f244edeee9d   \n",
              "2       e5fa5a7210941f7d56d0208e4e071d35  683c54fc24d40ee9f8a6fc179fd9856c   \n",
              "3       809a282bbd5dbcabb6f2f724fca862ec  622e13439d6b5a0b486c435618b2679e   \n",
              "4       bfbd0f9bdef84302105ad712db648a6c  86dc2ffce2dfff336de2f386a786e574   \n",
              "...                                  ...                               ...   \n",
              "113396  392ed9afd714e3c74767d0c4d3e3f477  2823ffda607a2316375088e0d00005ec   \n",
              "113397  616fa7d4871b87832197b2a137a115d2  bf6181a85bbb4115736c0a8db1a53be3   \n",
              "113398  a2ac6dad85cf8af5b0afb510a240fe8c  4c2ec60c29d10c34bd49cb88aa85cfc4   \n",
              "113399  b059ee4de278302d550a3035c4cdb740  856336203359aa6a61bf3826f7d84c49   \n",
              "113400  10a045cdf6a5650c21e9cfeb60384c16  a4b417188addbc05b26b72d5e44837a1   \n",
              "\n",
              "       order_status order_purchase_timestamp   order_approved_at  \\\n",
              "0           shipped      2016-09-04 21:15:19 2016-10-07 13:18:03   \n",
              "1           shipped      2016-09-04 21:15:19 2016-10-07 13:18:03   \n",
              "2          canceled      2016-09-05 00:15:34 2016-10-07 13:17:15   \n",
              "3          canceled      2016-09-13 15:24:19 2016-10-07 13:16:46   \n",
              "4         delivered      2016-09-15 12:16:38 2016-09-15 12:16:38   \n",
              "...             ...                      ...                 ...   \n",
              "113396     canceled      2018-09-29 09:13:03                 NaT   \n",
              "113397     canceled      2018-10-01 15:30:09                 NaT   \n",
              "113398     canceled      2018-10-03 18:55:29                 NaT   \n",
              "113399     canceled      2018-10-16 20:16:02                 NaT   \n",
              "113400     canceled      2018-10-17 17:30:18                 NaT   \n",
              "\n",
              "       order_delivered_carrier_date order_delivered_customer_date  \\\n",
              "0               2016-10-18 13:14:51                           NaT   \n",
              "1               2016-10-18 13:14:51                           NaT   \n",
              "2                               NaT                           NaT   \n",
              "3                               NaT                           NaT   \n",
              "4               2016-11-07 17:11:53           2016-11-09 07:47:38   \n",
              "...                             ...                           ...   \n",
              "113396                          NaT                           NaT   \n",
              "113397                          NaT                           NaT   \n",
              "113398                          NaT                           NaT   \n",
              "113399                          NaT                           NaT   \n",
              "113400                          NaT                           NaT   \n",
              "\n",
              "       order_estimated_delivery_date  order_item_id  \\\n",
              "0                         2016-10-20            1.0   \n",
              "1                         2016-10-20            2.0   \n",
              "2                         2016-10-28            1.0   \n",
              "3                         2016-09-30            NaN   \n",
              "4                         2016-10-04            1.0   \n",
              "...                              ...            ...   \n",
              "113396                    2018-10-15            NaN   \n",
              "113397                    2018-10-23            NaN   \n",
              "113398                    2018-10-16            NaN   \n",
              "113399                    2018-11-12            NaN   \n",
              "113400                    2018-10-30            NaN   \n",
              "\n",
              "                              product_id  ...  price freight_value  \\\n",
              "0       c1488892604e4ba5cff5b4eb4d595400  ...  39.99         31.67   \n",
              "1       f293394c72c9b5fafd7023301fc21fc2  ...  32.90         31.67   \n",
              "2       f3c2d01a84c947b078e32bbef0718962  ...  59.50         15.56   \n",
              "3                                    NaN  ...    NaN           NaN   \n",
              "4       5a6b04657a4c5ee34285d1e4619a96b4  ...  44.99          2.83   \n",
              "...                                  ...  ...    ...           ...   \n",
              "113396                               NaN  ...    NaN           NaN   \n",
              "113397                               NaN  ...    NaN           NaN   \n",
              "113398                               NaN  ...    NaN           NaN   \n",
              "113399                               NaN  ...    NaN           NaN   \n",
              "113400                               NaN  ...    NaN           NaN   \n",
              "\n",
              "        product_category_name  product_name_lenght product_description_lenght  \\\n",
              "0             furniture_decor                 59.0                      426.0   \n",
              "1             furniture_decor                 41.0                      754.0   \n",
              "2                   telephony                 42.0                      381.0   \n",
              "3                         NaN                  NaN                        NaN   \n",
              "4               health_beauty                 34.0                     1036.0   \n",
              "...                       ...                  ...                        ...   \n",
              "113396                    NaN                  NaN                        NaN   \n",
              "113397                    NaN                  NaN                        NaN   \n",
              "113398                    NaN                  NaN                        NaN   \n",
              "113399                    NaN                  NaN                        NaN   \n",
              "113400                    NaN                  NaN                        NaN   \n",
              "\n",
              "        product_photos_qty  product_weight_g  product_length_cm  \\\n",
              "0                      2.0            1400.0               32.0   \n",
              "1                      3.0            1800.0               32.0   \n",
              "2                      1.0             700.0               25.0   \n",
              "3                      NaN               NaN                NaN   \n",
              "4                      1.0            1000.0               16.0   \n",
              "...                    ...               ...                ...   \n",
              "113396                 NaN               NaN                NaN   \n",
              "113397                 NaN               NaN                NaN   \n",
              "113398                 NaN               NaN                NaN   \n",
              "113399                 NaN               NaN                NaN   \n",
              "113400                 NaN               NaN                NaN   \n",
              "\n",
              "        product_height_cm  product_width_cm  \n",
              "0                     6.0              28.0  \n",
              "1                     6.0              28.0  \n",
              "2                     2.0              25.0  \n",
              "3                     NaN               NaN  \n",
              "4                    16.0              16.0  \n",
              "...                   ...               ...  \n",
              "113396                NaN               NaN  \n",
              "113397                NaN               NaN  \n",
              "113398                NaN               NaN  \n",
              "113399                NaN               NaN  \n",
              "113400                NaN               NaN  \n",
              "\n",
              "[113401 rows x 22 columns]"
            ]
          },
          "execution_count": 164,
          "metadata": {},
          "output_type": "execute_result"
        }
      ],
      "source": [
        "order_products_df = pd.merge(left=order_items_df, right=products_df, on='product_id', how='left')\n",
        "order_products_df"
      ]
    },
    {
      "cell_type": "markdown",
      "metadata": {
        "id": "zsyZjqak8DC2"
      },
      "source": [
        "## Visualization & Explanatory Analysis"
      ]
    },
    {
      "cell_type": "markdown",
      "metadata": {},
      "source": [
        "### Pertanyaan 1: Bagaimana perkembangan total penjualan seluruh produk tiap bulannya pada periode 2018?"
      ]
    },
    {
      "cell_type": "code",
      "execution_count": null,
      "metadata": {},
      "outputs": [],
      "source": [
        "order_items"
      ]
    },
    {
      "cell_type": "code",
      "execution_count": null,
      "metadata": {},
      "outputs": [],
      "source": [
        "orders = order_items.groupby(by='order_id').agg({\n",
        "    'order_purchase_timestamp': 'first',\n",
        "    'order_item_id': 'max',\n",
        "    'price': 'sum',\n",
        "    'freight_value': 'sum'\n",
        "}).sort_values(by='order_purchase_timestamp').reset_index()"
      ]
    },
    {
      "cell_type": "code",
      "execution_count": null,
      "metadata": {},
      "outputs": [],
      "source": [
        "orders"
      ]
    },
    {
      "cell_type": "code",
      "execution_count": null,
      "metadata": {},
      "outputs": [],
      "source": [
        "monthly_orders_df = orders.resample(rule='ME', on='order_purchase_timestamp').agg({\n",
        "    \"order_item_id\": \"sum\",\n",
        "})\n",
        "monthly_orders_df.index = monthly_orders_df.index.strftime('%Y-%m')\n",
        "monthly_orders_df = monthly_orders_df.reset_index()\n",
        "monthly_orders_df.rename(columns={\n",
        "    \"order_purchase_timestamp\": \"order_date\",\n",
        "    \"order_item_id\": \"order_count\",\n",
        "}, inplace=True)\n",
        "monthly_orders_df"
      ]
    },
    {
      "cell_type": "code",
      "execution_count": null,
      "metadata": {},
      "outputs": [],
      "source": [
        "monthly_orders_df.sort_values(by='order_count', ascending=False)"
      ]
    },
    {
      "cell_type": "code",
      "execution_count": null,
      "metadata": {},
      "outputs": [],
      "source": [
        "import matplotlib.pyplot as plt\n",
        "\n",
        "plt.figure(figsize=(12, 6))\n",
        "\n",
        "# Plot data untuk 2016\n",
        "plt.plot(\n",
        "    monthly_orders_df[\"order_date\"][:5], \n",
        "    monthly_orders_df[\"order_count\"][:5], \n",
        "    marker='o', linewidth=2, color=\"#72BCD4\", label=\"2016\"\n",
        ")\n",
        "\n",
        "# Plot data untuk 2017\n",
        "plt.plot(\n",
        "    monthly_orders_df[\"order_date\"][4:17], \n",
        "    monthly_orders_df[\"order_count\"][4:17], \n",
        "    marker='s', linewidth=2, color=\"#FF6F61\", label=\"2017\"\n",
        ")\n",
        "\n",
        "# Plot data untuk 2018\n",
        "plt.plot(\n",
        "    monthly_orders_df[\"order_date\"][16:], \n",
        "    monthly_orders_df[\"order_count\"][16:], \n",
        "    marker='D', linewidth=2, color=\"#2E8B57\", label=\"2018\"\n",
        ")\n",
        "\n",
        "# Judul dan label\n",
        "plt.title(\"Total Penjualan per Bulan (2016-2018)\", loc=\"center\", fontsize=20)\n",
        "plt.xlabel(\"Bulan\", fontsize=12)\n",
        "plt.ylabel(\"Total Penjualan\", fontsize=12)\n",
        "\n",
        "# Rotasi label sumbu X agar mudah dibaca\n",
        "plt.xticks(rotation=45, fontsize=10)\n",
        "plt.yticks(fontsize=10)\n",
        "\n",
        "# Menampilkan legend\n",
        "plt.legend()\n",
        "\n",
        "# Menampilkan grid\n",
        "plt.grid(True, linestyle=\"--\", alpha=0.7)\n",
        "\n",
        "# Menampilkan plot\n",
        "plt.show()"
      ]
    },
    {
      "cell_type": "markdown",
      "metadata": {},
      "source": [
        "**Insight:**\n",
        "- Tren penjualan dari tahun 2016 menuju tahun 2018 terlihat meningkat.\n",
        "- Peningkatan penjualan paling signifikan terjadi di tahun 2017 tepatnya di bulan ke-11 (November) yakni meningkat 62,52% dari pesanan di bulan ke-10 (Oktober).\n",
        "- Puncak penjualan terjadi pada tahun 2017 di bulan ke-11 yang jumlahnya mencapai 7000 pesanan.\n",
        "- Penjualan pada Q1 dan Q2 di tahun 2018 cenderung stagnan."
      ]
    },
    {
      "cell_type": "markdown",
      "metadata": {},
      "source": [
        "### Pertanyaan 2: Kategori produk apa yang mendapatkan hasil penjualan tertinggi selama periode 2016-2018?"
      ]
    },
    {
      "cell_type": "code",
      "execution_count": null,
      "metadata": {},
      "outputs": [],
      "source": [
        "orders_products"
      ]
    },
    {
      "cell_type": "code",
      "execution_count": null,
      "metadata": {},
      "outputs": [],
      "source": [
        "orders_products[orders_products.product_category_name.isnull()]"
      ]
    },
    {
      "cell_type": "code",
      "execution_count": null,
      "metadata": {},
      "outputs": [],
      "source": [
        "orders_products.dropna(inplace=True)"
      ]
    },
    {
      "cell_type": "code",
      "execution_count": null,
      "metadata": {},
      "outputs": [],
      "source": [
        "orders_products_counts = orders_products.product_category_name.value_counts().reset_index()\n",
        "orders_products_counts.head()"
      ]
    },
    {
      "cell_type": "code",
      "execution_count": null,
      "metadata": {},
      "outputs": [],
      "source": [
        "colors = [\"#72BCD4\", \"#D3D3D3\", \"#D3D3D3\", \"#D3D3D3\", \"#D3D3D3\"]\n",
        "\n",
        "sns.barplot(\n",
        "    x=\"count\", \n",
        "    y=\"product_category_name\",\n",
        "    data=orders_products_counts.head(),\n",
        "    hue=\"product_category_name\",\n",
        "    palette=colors,\n",
        "    legend=False\n",
        ")\n",
        "plt.title(\"5 Kategori Produk dengan Penjualan Tertinggi (2016-2018)\", loc=\"center\", fontsize=15)\n",
        "plt.ylabel(None)\n",
        "plt.xlabel('Total Penjualan')\n",
        "plt.show()"
      ]
    },
    {
      "cell_type": "markdown",
      "metadata": {},
      "source": [
        "**Insight:**\n",
        "- Kategori produk yang mendapatkan penjualan tertinggi pada periode 2016-2018 ditempati oleh bed_bath_table."
      ]
    },
    {
      "cell_type": "markdown",
      "metadata": {},
      "source": [
        "### Pertanyaan 3: Kategori produk apa yang mendapatkan hasil penjualan terendah selama periode 2016-2018?"
      ]
    },
    {
      "cell_type": "code",
      "execution_count": null,
      "metadata": {},
      "outputs": [],
      "source": [
        "colors = [\"#D3D3D3\", \"#D3D3D3\", \"#D3D3D3\", \"#D3D3D3\", \"#72BCD4\"]\n",
        "\n",
        "sns.barplot(\n",
        "    x=\"count\", \n",
        "    y=\"product_category_name\",\n",
        "    data=orders_products_counts.tail(),\n",
        "    hue=\"product_category_name\",\n",
        "    palette=colors,\n",
        "    legend=False\n",
        ")\n",
        "plt.title(\"5 Kategori Produk dengan Penjualan Terendah (2016-2018)\", loc=\"center\", fontsize=15)\n",
        "plt.ylabel(None)\n",
        "plt.xlabel('Total Penjualan')\n",
        "plt.show()"
      ]
    },
    {
      "cell_type": "markdown",
      "metadata": {},
      "source": [
        "**Insight:**\n",
        "- Kategori produk yang mendapatkan penjualan terendah pada periode 2016-2018 ditempati oleh security_and_services."
      ]
    },
    {
      "cell_type": "markdown",
      "metadata": {},
      "source": [
        "### Pertanyaan 4: Kategori produk apa yang mendapatkan rata-rata skor review terendah dan tertinggi dari pelanggan pada periode 2016-2018?"
      ]
    },
    {
      "cell_type": "code",
      "execution_count": null,
      "metadata": {},
      "outputs": [],
      "source": [
        "orders_df"
      ]
    },
    {
      "cell_type": "code",
      "execution_count": null,
      "metadata": {},
      "outputs": [],
      "source": [
        "order_reviews_df"
      ]
    },
    {
      "cell_type": "code",
      "execution_count": null,
      "metadata": {},
      "outputs": [],
      "source": [
        "order_reviews = pd.merge(left=orders_products, right=order_reviews_df, on='order_id', how='left')"
      ]
    },
    {
      "cell_type": "code",
      "execution_count": null,
      "metadata": {},
      "outputs": [],
      "source": [
        "order_reviews"
      ]
    },
    {
      "cell_type": "code",
      "execution_count": null,
      "metadata": {},
      "outputs": [],
      "source": [
        "product_score = order_reviews.groupby(by='product_category_name').agg({\n",
        "    'review_score': 'mean'\n",
        "}).sort_values(by='review_score', ascending=False).reset_index()"
      ]
    },
    {
      "cell_type": "code",
      "execution_count": null,
      "metadata": {},
      "outputs": [],
      "source": [
        "product_score.head()"
      ]
    },
    {
      "cell_type": "code",
      "execution_count": null,
      "metadata": {},
      "outputs": [],
      "source": [
        "product_score.tail()"
      ]
    },
    {
      "cell_type": "code",
      "execution_count": null,
      "metadata": {},
      "outputs": [],
      "source": [
        "order_reviews[order_reviews.product_category_name=='security_and_services']"
      ]
    },
    {
      "cell_type": "markdown",
      "metadata": {},
      "source": [
        "**Insight:**\n",
        "- Kategori produk yang mendapatkan skor review tertinggi pada periode 2016-2018 ditempati oleh fashion_childrens_clothes.\n",
        "- Kategori produk yang mendapatkan skor review terendah pada periode 2016-2018 ditempati oleh security_and_services.\n",
        "- Kategori produk 'security_and_services' mendapatkan rata-rata skor terendah dikarenakan produk ini hanya terpesan 2 kali dan salah satunya mendapatkan skor review 1."
      ]
    },
    {
      "cell_type": "markdown",
      "metadata": {},
      "source": [
        "### Pertanyaan 5: Faktor apa yang menyebabkan kategori produk tertentu mendapatkan rata-rata skor review terendah dari pelanggan pada periode tersebut?"
      ]
    },
    {
      "cell_type": "code",
      "execution_count": null,
      "metadata": {},
      "outputs": [],
      "source": [
        "order_reviews"
      ]
    },
    {
      "cell_type": "code",
      "execution_count": null,
      "metadata": {},
      "outputs": [],
      "source": [
        "order_reviews[order_reviews.product_category_name=='diapers_and_hygiene']"
      ]
    },
    {
      "cell_type": "markdown",
      "metadata": {},
      "source": [
        "#### Berdasarkan Keterlambatan Pengiriman"
      ]
    },
    {
      "cell_type": "code",
      "execution_count": null,
      "metadata": {},
      "outputs": [],
      "source": [
        "order_reviews_time = order_reviews.groupby(by='order_id').agg({\n",
        "    'order_purchase_timestamp': 'first',\n",
        "    'order_approved_at': 'first',\n",
        "    'order_delivered_carrier_date': 'first',\n",
        "    'shipping_limit_date': 'first',\n",
        "    'order_delivered_customer_date': 'first',\n",
        "    'order_estimated_delivery_date': 'first',\n",
        "    'review_score': 'first'\n",
        "}).sort_values(by='order_purchase_timestamp').reset_index()"
      ]
    },
    {
      "cell_type": "code",
      "execution_count": null,
      "metadata": {},
      "outputs": [],
      "source": [
        "order_reviews_time"
      ]
    },
    {
      "cell_type": "code",
      "execution_count": null,
      "metadata": {},
      "outputs": [],
      "source": [
        "order_reviews_time['delivery_delay_days'] =  (order_reviews_time['order_delivered_customer_date'] - order_reviews_time['order_estimated_delivery_date']).apply(pd.Timedelta).dt.total_seconds() / 86400\n",
        "order_reviews_time['shipping_delay_days'] = (order_reviews_time['order_delivered_carrier_date'] - order_reviews_time['shipping_limit_date']).apply(pd.Timedelta).dt.total_seconds() / 86400\n",
        "order_reviews_time['approval_time_hours'] = (order_reviews_time['order_approved_at'] - order_reviews_time['order_purchase_timestamp']).apply(pd.Timedelta).dt.total_seconds() / 3600"
      ]
    },
    {
      "cell_type": "code",
      "execution_count": null,
      "metadata": {},
      "outputs": [],
      "source": [
        "order_reviews_time"
      ]
    },
    {
      "cell_type": "code",
      "execution_count": null,
      "metadata": {},
      "outputs": [],
      "source": [
        "order_reviews_time = order_reviews_time.groupby(by='review_score').agg({\n",
        "    'delivery_delay_days': 'mean',\n",
        "    'shipping_delay_days': 'mean',\n",
        "    'approval_time_hours': 'mean'\n",
        "}).sort_values(by='review_score', ascending=False).reset_index()"
      ]
    },
    {
      "cell_type": "code",
      "execution_count": null,
      "metadata": {},
      "outputs": [],
      "source": [
        "order_reviews_time"
      ]
    },
    {
      "cell_type": "code",
      "execution_count": null,
      "metadata": {},
      "outputs": [],
      "source": [
        "import matplotlib.pyplot as plt\n",
        "import seaborn as sns\n",
        "\n",
        "# Set style\n",
        "sns.set(style=\"whitegrid\")\n",
        "\n",
        "# Scatter plot Review Score vs Delivery Delay\n",
        "plt.figure(figsize=(8, 5))\n",
        "sns.scatterplot(x=order_reviews_time[\"delivery_delay_days\"], y=order_reviews_time[\"review_score\"], color=\"blue\", s=100)\n",
        "plt.axvline(0, color=\"red\", linestyle=\"--\", label=\"On-time delivery\")\n",
        "plt.xlabel(\"Delivery Delay (days)\")\n",
        "plt.ylabel(\"Review Score\")\n",
        "plt.title(\"Hubungan Keterlambatan Pengiriman dengan Review Score\")\n",
        "plt.legend()\n",
        "plt.show()\n",
        "\n",
        "# Scatter plot Review Score vs Shipping Delay\n",
        "plt.figure(figsize=(8, 5))\n",
        "sns.scatterplot(x=order_reviews_time[\"shipping_delay_days\"], y=order_reviews_time[\"review_score\"], color=\"green\", s=100)\n",
        "plt.axvline(0, color=\"red\", linestyle=\"--\", label=\"On-time shipping\")\n",
        "plt.xlabel(\"Shipping Delay (days)\")\n",
        "plt.ylabel(\"Review Score\")\n",
        "plt.title(\"Hubungan Keterlambatan Pengantaran dengan Review Score\")\n",
        "plt.legend()\n",
        "plt.show()"
      ]
    },
    {
      "cell_type": "code",
      "execution_count": null,
      "metadata": {},
      "outputs": [],
      "source": [
        "import seaborn as sns\n",
        "\n",
        "corr_matrix = order_reviews_time[['review_score', 'delivery_delay_days', 'shipping_delay_days', 'approval_time_hours']].corr()\n",
        "plt.figure(figsize=(10,6))\n",
        "sns.heatmap(corr_matrix, annot=True, cmap='coolwarm')\n",
        "plt.title('Heatmap Korelasi Faktor dengan Review Score')\n",
        "plt.show()"
      ]
    },
    {
      "cell_type": "markdown",
      "metadata": {},
      "source": [
        "**Insight:**\n",
        "- Semakin lama keterlambatan pengiriman (delivery_delays_days), semakin rendah skor ulasan pelanggan.\n",
        "- Keterlambatan pengiriman juga sedikit berpengaruh pada skor ulasan, meskipun dampaknya lebih kecil dibandingkan `delivery_delay`.\n",
        "- Waktu persetujuan pesanan memiliki pengaruh yang sangat kecil terhadap skor ulasan.\n",
        "- Semakin lama keterlambatan pengiriman, semakin besar kemungkinan keterlambatan pengantaran."
      ]
    },
    {
      "cell_type": "markdown",
      "metadata": {},
      "source": [
        "#### diapers_and_hygine"
      ]
    },
    {
      "cell_type": "code",
      "execution_count": null,
      "metadata": {},
      "outputs": [],
      "source": [
        "diapers_and_hygine_df = order_reviews[order_reviews.product_category_name=='diapers_and_hygiene'].reset_index(drop=True)"
      ]
    },
    {
      "cell_type": "code",
      "execution_count": null,
      "metadata": {},
      "outputs": [],
      "source": [
        "diapers_and_hygine_df"
      ]
    },
    {
      "cell_type": "code",
      "execution_count": null,
      "metadata": {},
      "outputs": [],
      "source": [
        "diapers_and_hygine_time = diapers_and_hygine_df.groupby(by='order_id').agg({\n",
        "    'order_purchase_timestamp': 'first',\n",
        "    'order_approved_at': 'first',\n",
        "    'order_delivered_carrier_date': 'first',\n",
        "    'shipping_limit_date': 'first',\n",
        "    'order_delivered_customer_date': 'first',\n",
        "    'order_estimated_delivery_date': 'first',\n",
        "    'review_score': 'first'\n",
        "}).sort_values(by='order_purchase_timestamp').reset_index()"
      ]
    },
    {
      "cell_type": "code",
      "execution_count": null,
      "metadata": {},
      "outputs": [],
      "source": [
        "diapers_and_hygine_time"
      ]
    },
    {
      "cell_type": "code",
      "execution_count": null,
      "metadata": {},
      "outputs": [],
      "source": [
        "diapers_and_hygine_time['delivery_delay'] =  diapers_and_hygine_time['order_delivered_customer_date'] - diapers_and_hygine_time['order_estimated_delivery_date']"
      ]
    },
    {
      "cell_type": "code",
      "execution_count": null,
      "metadata": {},
      "outputs": [],
      "source": [
        "diapers_and_hygine_time['shipping_delay'] = diapers_and_hygine_time['order_delivered_carrier_date'] - diapers_and_hygine_time['shipping_limit_date']"
      ]
    },
    {
      "cell_type": "code",
      "execution_count": null,
      "metadata": {},
      "outputs": [],
      "source": [
        "diapers_and_hygine_time['approval_time'] = diapers_and_hygine_time['order_approved_at'] - diapers_and_hygine_time['order_purchase_timestamp']"
      ]
    },
    {
      "cell_type": "code",
      "execution_count": null,
      "metadata": {},
      "outputs": [],
      "source": [
        "diapers_and_hygine_time"
      ]
    },
    {
      "cell_type": "code",
      "execution_count": null,
      "metadata": {},
      "outputs": [],
      "source": [
        "diapers_and_hygine_time.describe()"
      ]
    },
    {
      "cell_type": "code",
      "execution_count": null,
      "metadata": {},
      "outputs": [],
      "source": [
        "diapers_and_hygine_time.groupby(by='review_score').agg({\n",
        "    'delivery_delay': 'mean',\n",
        "    'shipping_delay': 'mean',\n",
        "    'approval_time': 'mean'\n",
        "}).sort_values(by='review_score', ascending=False).reset_index()"
      ]
    },
    {
      "cell_type": "markdown",
      "metadata": {},
      "source": [
        "**Insight:**\n",
        "- ...\n",
        "- ..."
      ]
    },
    {
      "cell_type": "markdown",
      "metadata": {},
      "source": [
        "### Pertanyaan 5: Faktor apa yang menyebabkan kategori produk tertentu mendapatkan rata-rata skor review terendah dari pelanggan pada periode tersebut?"
      ]
    },
    {
      "cell_type": "markdown",
      "metadata": {},
      "source": [
        "Berdasarkan informasi sebelumnya,  \n",
        "Kategori produk yang mendapatkan skor review tertinggi:\n",
        "- fashion_childrens_clothes\n",
        "- cds_dvds_musicals\n",
        "- books_general_interest\n",
        "- food_drink\n",
        "- books_imported  \n",
        "  \n",
        "Kategori produk yang mendapatkan skor review terendah:\n",
        "- security_and_services\n",
        "- pc_gamer\n",
        "- portable_kitchen_and_food_preparers\n",
        "- office_furniture\n",
        "- fashion_male_clothing"
      ]
    },
    {
      "cell_type": "code",
      "execution_count": null,
      "metadata": {},
      "outputs": [],
      "source": [
        "df5_1 = df5[df5.order_status == 'delivered'].reset_index(drop=True)\n",
        "df5_1"
      ]
    },
    {
      "cell_type": "code",
      "execution_count": null,
      "metadata": {},
      "outputs": [],
      "source": [
        "df5_1.columns"
      ]
    },
    {
      "cell_type": "code",
      "execution_count": null,
      "metadata": {},
      "outputs": [],
      "source": [
        "df5_1[df5_1.duplicated(subset=['order_id', 'product_id'],keep=False)].sort_values(by='order_id')"
      ]
    },
    {
      "cell_type": "markdown",
      "metadata": {},
      "source": [
        "1 jenis order_id -> x jenis order_item_id\n",
        "    if jenis order_id == order_item_id -> 1 jenis product_id\n",
        "\n",
        "1 jenis product_id -> x jenis product_category_name"
      ]
    },
    {
      "cell_type": "code",
      "execution_count": null,
      "metadata": {},
      "outputs": [],
      "source": [
        "# df5_1[df5_1.duplicated(subset=['order_id', 'order_item_id', 'payment_sequential'],keep=False)].sort_values(by='order_id')\n",
        "\n",
        "# df5_1[df5_1.duplicated(subset=['order_id'],keep=False)].sort_values(by='order_id')\n",
        "# df5_1[df5_1.duplicated(subset=['order_id', 'product_id'],keep=False)].sort_values(by='order_id')\n",
        "df5_1[df5_1.duplicated(subset=['order_id','order_item_id', 'payment_sequential','review_id'],keep=False)].sort_values(by=['order_id','payment_sequential'])\n",
        "# df5_1[(df5_1.duplicated(subset=['order_id', 'order_item_id'],keep=False))].sort_values(by='order_id')\n",
        "# df5_1[df5_1.duplicated(subset=['order_id', 'order_item_id', 'product_id'],keep=False)].sort_values(by='order_id')"
      ]
    },
    {
      "cell_type": "code",
      "execution_count": null,
      "metadata": {},
      "outputs": [],
      "source": [
        "df5_1 = df5_1.sort_values(by=['order_id', 'order_item_id', 'review_creation_date'], ascending=[True, True, False])\n",
        "\n",
        "df5_latest_review = df5_1.drop_duplicates(subset=['order_id', 'order_item_id'], keep='first')"
      ]
    },
    {
      "cell_type": "code",
      "execution_count": null,
      "metadata": {},
      "outputs": [],
      "source": [
        "df5_1.sort_values(by='order_id')"
      ]
    },
    {
      "cell_type": "code",
      "execution_count": null,
      "metadata": {},
      "outputs": [],
      "source": [
        "df5_latest_review"
      ]
    },
    {
      "cell_type": "code",
      "execution_count": null,
      "metadata": {},
      "outputs": [],
      "source": [
        "df5_latest_review2[df5_latest_review2.duplicated(subset=['order_id','order_item_id'], keep=False)].sort_values(by=['order_id','payment_sequential'])"
      ]
    },
    {
      "cell_type": "code",
      "execution_count": null,
      "metadata": {},
      "outputs": [],
      "source": [
        "49.75+20.8"
      ]
    },
    {
      "cell_type": "code",
      "execution_count": null,
      "metadata": {},
      "outputs": [],
      "source": [
        "52.63+17.92"
      ]
    },
    {
      "cell_type": "code",
      "execution_count": null,
      "metadata": {},
      "outputs": [],
      "source": [
        "df5_latest_review2[df5_latest_review2.order_id == '0035246a40f520710769010f752e7507']"
      ]
    },
    {
      "cell_type": "code",
      "execution_count": null,
      "metadata": {},
      "outputs": [],
      "source": [
        "df5_latest_review2[df5_latest_review2.order_id == '009ac365164f8e06f59d18a08045f6c4'].sort_values(by='payment_sequential')"
      ]
    },
    {
      "cell_type": "code",
      "execution_count": null,
      "metadata": {},
      "outputs": [],
      "source": [
        "df5_fix = df5_latest_review2.groupby(by=['order_id']).agg({\n",
        "    'order_item_id': 'nunique',\n",
        "    'product_id': 'nunique',\n",
        "    'price': 'sum',\n",
        "    'freight_value': 'sum',\n",
        "    'payment_sequential':'nunique',\n",
        "    'payment_value':'first'\n",
        "}).reset_index()\n",
        "\n",
        "df5_fix[['payment_value','price','freight_value']] = df5_fix[['payment_value','price','freight_value']].round(2)\n",
        "df5_fix[df5_fix.order_item_id > 1]"
      ]
    },
    {
      "cell_type": "code",
      "execution_count": null,
      "metadata": {},
      "outputs": [],
      "source": [
        "df5_latest_review2[df5_latest_review2.order_id == '03f51c9adce893f63936c5146701aa2f']"
      ]
    },
    {
      "cell_type": "code",
      "execution_count": null,
      "metadata": {},
      "outputs": [],
      "source": [
        "(155.9+45.01)"
      ]
    },
    {
      "cell_type": "code",
      "execution_count": null,
      "metadata": {},
      "outputs": [],
      "source": [
        "df5_1[df5_1.duplicated(subset=['order_id','order_item_id'],keep=False)].sort_values(by=['order_id','payment_sequential'])"
      ]
    },
    {
      "cell_type": "code",
      "execution_count": null,
      "metadata": {},
      "outputs": [],
      "source": [
        "# Urutkan berdasarkan order_id, order_item_id, payment_sequential, dan review_creation_date (dari terbaru ke lama)\n",
        "df5_12 = df5_1.sort_values(by=['order_id', 'order_item_id', 'payment_sequential', 'review_creation_date'], ascending=[True, True, True, False])\n",
        "\n",
        "# Hapus duplikasi berdasarkan order_id, order_item_id, dan payment_sequential, hanya menyimpan review terbaru\n",
        "df5_latest_review2 = df5_12.drop_duplicates(subset=['order_id', 'order_item_id', 'payment_sequential'], keep='first')"
      ]
    },
    {
      "cell_type": "code",
      "execution_count": null,
      "metadata": {},
      "outputs": [],
      "source": [
        "df5_1[df5_1.sort_values(by=['order_id', 'order_item_id', 'payment_sequential', 'review_creation_date'], ascending=[True, True, True, False]).duplicated(subset=['order_id', 'order_item_id', 'payment_sequential'], keep=False)]"
      ]
    },
    {
      "cell_type": "code",
      "execution_count": null,
      "metadata": {},
      "outputs": [],
      "source": [
        "products_df"
      ]
    },
    {
      "cell_type": "code",
      "execution_count": null,
      "metadata": {},
      "outputs": [],
      "source": [
        "df5_1[(df5_1.order_id == '001ab0a7578dd66cd4b0a71f5b6e1e41') & (df5_1.product_id == '0b0172eb0fd18479d29c3bc122c058c2')]"
      ]
    },
    {
      "cell_type": "code",
      "execution_count": null,
      "metadata": {},
      "outputs": [],
      "source": [
        "df5_2 = df5_1.groupby(by=['order_id']).agg({\n",
        "    'product_id':'nunique',\n",
        "    'order_item_id':'nunique',\n",
        "    'price':'sum',\n",
        "    'freight_value':'sum',\n",
        "    'payment_value'\n",
        "}).reset_index().sort_values(by='order_id')\n",
        "\n",
        "df5_2"
      ]
    },
    {
      "cell_type": "code",
      "execution_count": null,
      "metadata": {},
      "outputs": [],
      "source": []
    },
    {
      "cell_type": "code",
      "execution_count": null,
      "metadata": {},
      "outputs": [],
      "source": [
        "df5_1['delivery_late_in_days'] = (df5_1['order_delivered_customer_date'] - df5_1['order_estimated_delivery_date']).dt.days.clip(lower=0)"
      ]
    },
    {
      "cell_type": "code",
      "execution_count": null,
      "metadata": {},
      "outputs": [],
      "source": [
        "df5_1[df5_1.delivery_late_in_days != 0]"
      ]
    },
    {
      "cell_type": "code",
      "execution_count": null,
      "metadata": {},
      "outputs": [],
      "source": [
        "df5_1['total_price'] = df5_1['price'] + df5_1['freight_value']\n",
        "df5_1['total_price'] = df5_1['total_price'].round(2)\n",
        "df5_1"
      ]
    },
    {
      "cell_type": "code",
      "execution_count": null,
      "metadata": {},
      "outputs": [],
      "source": [
        "# df5_2 = df5_1.groupby(by=['order_id', 'product_id']).agg({\n",
        "#     'review_score': 'mean',\n",
        "#     'product_category_name_english': 'first',\n",
        "#     'order_item_id': 'nunique',\n",
        "#     'delivery_late_in_days': 'first',\n",
        "#     'price': 'sum',\n",
        "#     'freight_value': 'sum',\n",
        "#     'total_price': 'first',\n",
        "#     'payment_value': 'max'\n",
        "# }).reset_index()\n",
        "# df5_2"
      ]
    },
    {
      "cell_type": "code",
      "execution_count": null,
      "metadata": {},
      "outputs": [],
      "source": [
        "df5_2[df5_2.order_id.duplicated(keep=False)]"
      ]
    },
    {
      "cell_type": "code",
      "execution_count": null,
      "metadata": {},
      "outputs": [],
      "source": [
        "df5_2[['price', 'freight_value', 'total_price']] = df5_2[['price', 'freight_value', 'total_price']].round(2)"
      ]
    },
    {
      "cell_type": "code",
      "execution_count": null,
      "metadata": {},
      "outputs": [],
      "source": [
        "df5_2.review_score[(df5_2.payment_value < df5_2.total_price)].value_counts()"
      ]
    },
    {
      "cell_type": "code",
      "execution_count": null,
      "metadata": {},
      "outputs": [],
      "source": [
        "df5_3 = df5_2[(df5_2.product_category_name_english == 'fashion_childrens_clothes') | (df5_2.product_category_name_english == 'cds_dvds_musicals')  | (df5_2.product_category_name_english == 'books_general_interest') | (df5_2.product_category_name_english == 'food_drink') | (df5_2.product_category_name_english == 'books_imported')].reset_index(drop=True)\n",
        "df5_3"
      ]
    },
    {
      "cell_type": "code",
      "execution_count": null,
      "metadata": {},
      "outputs": [],
      "source": [
        "df5_1[(df5_1.order_id=='8b353b3ac8bd5c8a07201989bdcb8f93') & (df5_1.product_id =='992197904e1d4f0bf3994652373188e4')]"
      ]
    },
    {
      "cell_type": "code",
      "execution_count": null,
      "metadata": {},
      "outputs": [],
      "source": [
        "df5_1[df5_1.payment_installments>1]"
      ]
    },
    {
      "cell_type": "code",
      "execution_count": null,
      "metadata": {},
      "outputs": [],
      "source": [
        "189.57 + 33.99 + 13.91"
      ]
    },
    {
      "cell_type": "code",
      "execution_count": null,
      "metadata": {},
      "outputs": [],
      "source": [
        "df5_3.review_score.mean()"
      ]
    },
    {
      "cell_type": "code",
      "execution_count": null,
      "metadata": {},
      "outputs": [],
      "source": [
        "corr_matrix = df5_3[['review_score', 'delivery_late_in_days', 'price', 'freight_value']].corr()\n",
        "plt.figure(figsize=(10,6))\n",
        "sns.heatmap(corr_matrix, annot=True, cmap='coolwarm')\n",
        "plt.title('Heatmap Korelasi Faktor dengan Review Score')\n",
        "plt.show()"
      ]
    },
    {
      "cell_type": "code",
      "execution_count": null,
      "metadata": {},
      "outputs": [],
      "source": [
        "df5_4 = df5_2[(df5_2.product_category_name_english == 'security_and_services') | (df5_2.product_category_name_english == 'pc_gamer')  | (df5_2.product_category_name_english == 'portable_kitchen_and_food_preparers') | (df5_2.product_category_name_english == 'office_furniture') | (df5_2.product_category_name_english == 'fashion_male_clothing')].reset_index(drop=True)\n",
        "df5_4"
      ]
    },
    {
      "cell_type": "code",
      "execution_count": null,
      "metadata": {},
      "outputs": [],
      "source": [
        "df5_4.review_score.mean()"
      ]
    },
    {
      "cell_type": "code",
      "execution_count": null,
      "metadata": {},
      "outputs": [],
      "source": [
        "corr_matrix = df5_4[['review_score', 'delivery_late_in_days', 'price', 'freight_value']].corr()\n",
        "plt.figure(figsize=(10,6))\n",
        "sns.heatmap(corr_matrix, annot=True, cmap='coolwarm')\n",
        "plt.title('Heatmap Korelasi Faktor dengan Review Score')\n",
        "plt.show()"
      ]
    },
    {
      "cell_type": "code",
      "execution_count": null,
      "metadata": {},
      "outputs": [],
      "source": [
        "df5_2.product_category_name_english[df5_2.review_score == 5].value_counts()"
      ]
    },
    {
      "cell_type": "code",
      "execution_count": null,
      "metadata": {},
      "outputs": [],
      "source": [
        "df5_5 = df5_2[df5_2.product_category_name_english == 'health_beauty'].sort_values(by='review_score', ascending=False).reset_index(drop=True)\n",
        "df5_5"
      ]
    },
    {
      "cell_type": "code",
      "execution_count": null,
      "metadata": {},
      "outputs": [],
      "source": [
        "df5_5['total_price'] = df5_5['price'] + df5_5['freight_value']\n",
        "df5_5"
      ]
    },
    {
      "cell_type": "code",
      "execution_count": null,
      "metadata": {},
      "outputs": [],
      "source": [
        "from sklearn.preprocessing import MinMaxScaler\n",
        "\n",
        "scaler = MinMaxScaler()\n",
        "scaled_values = scaler.fit_transform(category_analysis[['total_sales', 'price', 'freight_value', 'delivery_late_in_days']])\n",
        "\n",
        "# Masukkan kembali ke dataframe\n",
        "category_scaled = category_analysis.copy()\n",
        "category_scaled[['total_sales', 'price', 'freight_value', 'delivery_late_in_days']] = scaled_values"
      ]
    },
    {
      "cell_type": "markdown",
      "metadata": {},
      "source": [
        "**Insight:**\n",
        "- Kategori produk yang mendapatkan skor review tertinggi pada periode 2016-2018 ditempati oleh fashion_childrens_clothes disusul cds_dvds_musicals kemudian books_general_interest.\n",
        "- Kategori produk yang mendapatkan skor review terendah pada periode 2016-2018 ditempati oleh security_and_services disusul pc_gamer kemudian portable_kitchen_and_food_preparers."
      ]
    },
    {
      "cell_type": "markdown",
      "metadata": {},
      "source": [
        "#### GPT"
      ]
    },
    {
      "cell_type": "markdown",
      "metadata": {},
      "source": [
        "##### Keterlambatan Pengiriman"
      ]
    },
    {
      "cell_type": "code",
      "execution_count": null,
      "metadata": {},
      "outputs": [],
      "source": [
        "category_late = df5_1.groupby('product_category_name_english')['delivery_late_in_days'].mean().sort_values(ascending=False)\n",
        "print(category_late.head(10))"
      ]
    },
    {
      "cell_type": "code",
      "execution_count": null,
      "metadata": {},
      "outputs": [],
      "source": [
        "plt.figure(figsize=(12,6))\n",
        "sns.scatterplot(x=df5_1['delivery_late_in_days'], y=df5_1['review_score'], hue=df5_1['product_category_name_english'])\n",
        "plt.xlabel('Keterlambatan Pengiriman (hari)')\n",
        "plt.ylabel('Skor Review')\n",
        "plt.title('Hubungan Keterlambatan Pengiriman dan Skor Review per Kategori')\n",
        "plt.show()\n"
      ]
    },
    {
      "cell_type": "markdown",
      "metadata": {},
      "source": [
        "##### Harga Produk"
      ]
    },
    {
      "cell_type": "code",
      "execution_count": null,
      "metadata": {},
      "outputs": [],
      "source": [
        "category_price = df5_1.groupby('product_category_name_english')['price'].mean().sort_values()\n",
        "print(category_price.head(10))"
      ]
    },
    {
      "cell_type": "markdown",
      "metadata": {},
      "source": [
        "##### Biaya Pengiriman"
      ]
    },
    {
      "cell_type": "code",
      "execution_count": null,
      "metadata": {},
      "outputs": [],
      "source": [
        "df5_1.groupby('product_category_name_english')['freight_value'].mean().sort_values()"
      ]
    },
    {
      "cell_type": "markdown",
      "metadata": {},
      "source": [
        "##### Atribut Produk"
      ]
    },
    {
      "cell_type": "code",
      "execution_count": null,
      "metadata": {},
      "outputs": [],
      "source": [
        "product_factors = df5_1.groupby('product_category_name_english')[['product_name_lenght', 'product_description_lenght', 'product_photos_qty']].mean()\n",
        "print(product_factors.sort_values(by='product_description_lenght').head(10))"
      ]
    },
    {
      "cell_type": "markdown",
      "metadata": {},
      "source": [
        "##### Metode Pembayaran"
      ]
    },
    {
      "cell_type": "code",
      "execution_count": null,
      "metadata": {},
      "outputs": [],
      "source": [
        "df5_1.groupby('payment_type')['review_score'].mean().sort_values()"
      ]
    },
    {
      "cell_type": "markdown",
      "metadata": {},
      "source": [
        "##### Visualisasi"
      ]
    },
    {
      "cell_type": "code",
      "execution_count": null,
      "metadata": {},
      "outputs": [],
      "source": [
        "import seaborn as sns\n",
        "\n",
        "corr_matrix = df5_1[['review_score', 'delivery_late_in_days', 'price', 'freight_value', 'product_name_lenght', 'product_description_lenght', 'product_photos_qty']].corr()\n",
        "plt.figure(figsize=(10,6))\n",
        "sns.heatmap(corr_matrix, annot=True, cmap='coolwarm')\n",
        "plt.title('Heatmap Korelasi Faktor dengan Review Score')\n",
        "plt.show()\n"
      ]
    },
    {
      "cell_type": "code",
      "execution_count": null,
      "metadata": {},
      "outputs": [],
      "source": [
        "\n",
        "\n",
        "# Pilih kolom yang ingin dianalisis korelasinya\n",
        "corr_columns = ['review_score', 'price', 'freight_value', 'delivery_late_in_days']\n",
        "\n",
        "# Hitung matriks korelasi\n",
        "corr_matrix = df5_1[corr_columns].corr()\n",
        "\n",
        "# Plot heatmap\n",
        "plt.figure(figsize=(8, 6))\n",
        "sns.heatmap(corr_matrix, annot=True, cmap='coolwarm', fmt=\".2f\", linewidths=0.5)\n",
        "plt.title('Heatmap Korelasi Review Score dengan Harga, Ongkir, dan Keterlambatan Pengiriman')\n",
        "plt.show()\n"
      ]
    },
    {
      "cell_type": "markdown",
      "metadata": {},
      "source": [
        "##### Berdasarkan Total Penjualan"
      ]
    },
    {
      "cell_type": "code",
      "execution_count": null,
      "metadata": {},
      "outputs": [],
      "source": [
        "category_sales = df5_1.groupby('product_category_name_english')['price'].sum().reset_index()\n",
        "category_sales.rename(columns={'price': 'total_sales'}, inplace=True)\n"
      ]
    },
    {
      "cell_type": "code",
      "execution_count": null,
      "metadata": {},
      "outputs": [],
      "source": [
        "category_factors = df5_1.groupby('product_category_name_english').agg({\n",
        "    'price': 'mean',  \n",
        "    'freight_value': 'mean',  \n",
        "    'delivery_late_in_days': 'mean'\n",
        "}).reset_index()\n",
        "\n",
        "# Gabungkan dengan total penjualan\n",
        "category_analysis = category_sales.merge(category_factors, on='product_category_name_english')\n"
      ]
    },
    {
      "cell_type": "code",
      "execution_count": null,
      "metadata": {},
      "outputs": [],
      "source": [
        "category_analysis"
      ]
    },
    {
      "cell_type": "code",
      "execution_count": null,
      "metadata": {},
      "outputs": [],
      "source": [
        "from sklearn.preprocessing import MinMaxScaler\n",
        "\n",
        "scaler = MinMaxScaler()\n",
        "scaled_values = scaler.fit_transform(category_analysis[['total_sales', 'price', 'freight_value', 'delivery_late_in_days']])\n",
        "\n",
        "# Masukkan kembali ke dataframe\n",
        "category_scaled = category_analysis.copy()\n",
        "category_scaled[['total_sales', 'price', 'freight_value', 'delivery_late_in_days']] = scaled_values"
      ]
    },
    {
      "cell_type": "code",
      "execution_count": null,
      "metadata": {},
      "outputs": [],
      "source": [
        "import seaborn as sns\n",
        "import matplotlib.pyplot as plt\n",
        "\n",
        "# Hitung korelasi\n",
        "corr_matrix = category_analysis[['total_sales', 'price', 'freight_value', 'delivery_late_in_days']].corr()\n",
        "\n",
        "# Plot heatmap korelasi\n",
        "plt.figure(figsize=(8, 6))\n",
        "sns.heatmap(corr_matrix, annot=True, cmap='coolwarm', fmt=\".2f\", linewidths=0.5)\n",
        "plt.title('Korelasi Total Penjualan dengan Faktor Lain')\n",
        "plt.show()\n"
      ]
    },
    {
      "cell_type": "markdown",
      "metadata": {},
      "source": [
        "## Versi 2 Exploratory Data Analysis (EDA)"
      ]
    },
    {
      "cell_type": "markdown",
      "metadata": {},
      "source": [
        "## Versi 2 Visualization & Explanatory Analysis"
      ]
    },
    {
      "cell_type": "markdown",
      "metadata": {
        "id": "9y4VUsmcYNZ5"
      },
      "source": [
        "## Analisis Lanjutan (Opsional)"
      ]
    },
    {
      "cell_type": "code",
      "execution_count": null,
      "metadata": {
        "id": "iWhnzsJGYUCO"
      },
      "outputs": [],
      "source": []
    },
    {
      "cell_type": "markdown",
      "metadata": {
        "id": "_WeHlCeX8DC2"
      },
      "source": [
        "## Conclusion"
      ]
    },
    {
      "cell_type": "markdown",
      "metadata": {
        "id": "ZTcyR48Y8DC2"
      },
      "source": [
        "- Conclution pertanyaan 1\n",
        "- Conclution pertanyaan 2"
      ]
    }
  ],
  "metadata": {
    "colab": {
      "provenance": []
    },
    "kernelspec": {
      "display_name": "main-ds",
      "language": "python",
      "name": "python3"
    },
    "language_info": {
      "codemirror_mode": {
        "name": "ipython",
        "version": 3
      },
      "file_extension": ".py",
      "mimetype": "text/x-python",
      "name": "python",
      "nbconvert_exporter": "python",
      "pygments_lexer": "ipython3",
      "version": "3.11.11"
    },
    "orig_nbformat": 4
  },
  "nbformat": 4,
  "nbformat_minor": 0
}
